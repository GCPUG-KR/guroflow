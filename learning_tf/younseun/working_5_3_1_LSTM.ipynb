{
 "cells": [
  {
   "cell_type": "code",
   "execution_count": 1,
   "metadata": {},
   "outputs": [],
   "source": [
    "import numpy as np\n",
    "import tensorflow as tf"
   ]
  },
  {
   "cell_type": "code",
   "execution_count": 2,
   "metadata": {},
   "outputs": [],
   "source": [
    "batch_size = 2;\n",
    "embedding_dimension = 64;\n",
    "num_classes = 2;\n",
    "hidden_layer_size = 32;\n",
    "times_steps = 6;\n",
    "element_size = 1;"
   ]
  },
  {
   "cell_type": "code",
   "execution_count": 3,
   "metadata": {},
   "outputs": [],
   "source": [
    "digit_to_word_map = {1:\"One\",2:\"Two\",3:\"Three\",4:\"Four\",5:\"Five\",\n",
    "                    6:\"Six\",7:\"Seven\",8:\"Eight\",9:\"Nine\",}\n",
    "digit_to_word_map[0]=\"PAD\""
   ]
  },
  {
   "cell_type": "code",
   "execution_count": 4,
   "metadata": {},
   "outputs": [
    {
     "data": {
      "text/plain": [
       "(['Nine Five Seven Five Seven Three',\n",
       "  'Five Nine Nine One Nine PAD',\n",
       "  'Three Three Five Seven Nine PAD',\n",
       "  'One Nine Seven PAD PAD PAD',\n",
       "  'Five Nine One Seven Seven Seven'],\n",
       " ['Six Two Six Eight Two Six',\n",
       "  'Four Six Two Four Six PAD',\n",
       "  'Two Four Four Two Four PAD',\n",
       "  'Two Eight Two PAD PAD PAD',\n",
       "  'Four Eight Two Two Two Six'],\n",
       " [6, 5, 5, 3, 6])"
      ]
     },
     "execution_count": 4,
     "metadata": {},
     "output_type": "execute_result"
    }
   ],
   "source": [
    "Sample_cnt = 10\n",
    "odd_sentences=[]\n",
    "even_sentences=[]\n",
    "seqlens=[]\n",
    "for i in range(Sample_cnt):\n",
    "    rand_seq_len = np.random.choice(range(3,7))\n",
    "    seqlens.append(rand_seq_len)\n",
    "    rand_odd_ints = np.random.choice(range(1,10,2), rand_seq_len)\n",
    "    rand_even_ints = np.random.choice(range(2,10,2), rand_seq_len)\n",
    "    #print('rand_seq_len:{} rand_odd_ints:{} rand_even_ints:{}'.format(rand_seq_len, rand_odd_ints, rand_even_ints))\n",
    "\n",
    "    # 패딩\n",
    "    if rand_seq_len < 6:\n",
    "        rand_odd_ints = np.append(rand_odd_ints, [0]*(6-rand_seq_len))\n",
    "        rand_even_ints = np.append(rand_even_ints, [0]*(6-rand_seq_len))\n",
    "    #print('  >> rand_seq_len:{} rand_odd_ints:{} rand_even_ints:{}'.format(rand_seq_len, rand_odd_ints, rand_even_ints))\n",
    "    odd_sentences.append(\" \".join([digit_to_word_map[r] for r in rand_odd_ints]))\n",
    "    even_sentences.append(\" \".join([digit_to_word_map[r] for r in rand_even_ints]))\n",
    "    # print(\" \".join([digit_to_word_map[r] for r in rand_odd_ints]))\n",
    "    # print(\" \".join([digit_to_word_map[r] for r in rand_even_ints]))\n",
    "    # print('*'*100)\n",
    "data = odd_sentences + even_sentences\n",
    "len(odd_sentences),len(even_sentences),len(data)\n",
    "\n",
    "# 홀수, 짝수 시퀀스의 seq 길이(2배 증폭)\n",
    "seqlens*=2\n",
    "odd_sentences[:5], even_sentences[:5], seqlens[:5]"
   ]
  },
  {
   "cell_type": "code",
   "execution_count": 5,
   "metadata": {},
   "outputs": [
    {
     "name": "stdout",
     "output_type": "stream",
     "text": [
      "word2index_map :{'nine': 0, 'five': 1, 'seven': 2, 'three': 3, 'one': 4, 'pad': 5, 'six': 6, 'two': 7, 'eight': 8, 'four': 9}\n",
      "index2word_map :{0: 'nine', 1: 'five', 2: 'seven', 3: 'three', 4: 'one', 5: 'pad', 6: 'six', 7: 'two', 8: 'eight', 9: 'four'}\n",
      "vocabulary_size :10\n"
     ]
    }
   ],
   "source": [
    "# 단어를 인덱스에 매핑\n",
    "word2index_map = {}\n",
    "index = 0\n",
    "for sent in data:\n",
    "    #print(sent)\n",
    "    for word in sent.lower().split():\n",
    "        #print(word)\n",
    "        if word not in word2index_map:\n",
    "            word2index_map[word] = index\n",
    "            index += 1\n",
    "        #print(word2index_map)\n",
    "\n",
    "# 역방향 매핑\n",
    "index2word_map = {index: word for word, index in word2index_map.items()}\n",
    "vocabulary_size = len(index2word_map)\n",
    "\n",
    "print('word2index_map :{}'.format(word2index_map))\n",
    "print('index2word_map :{}'.format(index2word_map))\n",
    "print('vocabulary_size :{}'.format(vocabulary_size))\n"
   ]
  },
  {
   "cell_type": "code",
   "execution_count": 6,
   "metadata": {},
   "outputs": [
    {
     "name": "stdout",
     "output_type": "stream",
     "text": [
      "앞쪽\n",
      "   >>> date : ['Nine Five Seven Five Seven Three', 'Five Nine Nine One Nine PAD', 'Three Three Five Seven Nine PAD']\n",
      "   >>> one-hot-encoding : [[0, 1], [0, 1], [0, 1]]\n",
      "뒤쪽\n",
      "   >>> date : ['Eight Six Eight Six PAD PAD', 'Six Eight Six Eight Four PAD', 'Six Six Two Eight PAD PAD']\n",
      "   >>> one-hot-encoding : [[1, 0], [1, 0], [1, 0]]\n"
     ]
    }
   ],
   "source": [
    "# one hot encoding : 짝수=[1,0], 홀수=[0,1]\n",
    "labels = [1]*Sample_cnt + [0]*Sample_cnt\n",
    "for i in range(len(labels)):\n",
    "    label = labels[i]\n",
    "    one_hot_encoding = [0]*2\n",
    "    one_hot_encoding[label] = 1\n",
    "    labels[i] = one_hot_encoding\n",
    "    #print(i, label, one_hot_encoding)\n",
    "print('앞쪽')\n",
    "print('   >>> date : {}'.format(data[:3]))\n",
    "print('   >>> one-hot-encoding : {}'.format(labels[:3]))\n",
    "print('뒤쪽')\n",
    "print('   >>> date : {}'.format(data[Sample_cnt*2-4:-1]))\n",
    "print('   >>> one-hot-encoding : {}'.format(labels[Sample_cnt*2-4:-1]))"
   ]
  },
  {
   "cell_type": "code",
   "execution_count": 7,
   "metadata": {},
   "outputs": [
    {
     "name": "stdout",
     "output_type": "stream",
     "text": [
      "Train Length : 10 10 10\n",
      "Test  Length : 10 10 10\n"
     ]
    }
   ],
   "source": [
    "# Train Set, Test Set 만들기\n",
    "data_indices = list(range(len(data)))\n",
    "np.random.shuffle(data_indices)\n",
    "data_shuffle = np.array(data)[data_indices]\n",
    "labels_shuffle = np.array(labels)[data_indices]\n",
    "seqlens_shuffle = np.array(seqlens)[data_indices]\n",
    "#print('data_shuffle : {}'.format(data_shuffle[:5]))\n",
    "#print('labels_shuffle : {}'.format(labels_shuffle[:5]))\n",
    "#print('seqlens_shuffle : {}'.format(seqlens_shuffle[:5]))\n",
    "\n",
    "train_x = data_shuffle[:Sample_cnt]\n",
    "train_y = labels_shuffle[:Sample_cnt]\n",
    "train_seqlens = seqlens_shuffle[:Sample_cnt]\n",
    "\n",
    "test_x = data_shuffle[Sample_cnt:]\n",
    "test_y = labels_shuffle[Sample_cnt:]\n",
    "test_seqlens = seqlens_shuffle[Sample_cnt:]\n",
    "\n",
    "print('Train Length : {} {} {}'.format(len(train_x),len(train_y),len(train_seqlens),))\n",
    "print('Test  Length : {} {} {}'.format(len(test_x),len(test_y),len(test_seqlens),))\n"
   ]
  },
  {
   "cell_type": "code",
   "execution_count": 8,
   "metadata": {},
   "outputs": [],
   "source": [
    "# bath_size만큼 데이터를 Random하게 제공\n",
    "def get_sentence_batch(batch_size, data_x,\n",
    "                       data_y, data_seqlens):\n",
    "    instance_indices = list(range(len(data_x)))\n",
    "    np.random.shuffle(instance_indices)\n",
    "    batch = instance_indices[:batch_size]\n",
    "    x = [[word2index_map[word] for word in data_x[i].lower().split()]\n",
    "         for i in batch]\n",
    "    y = [data_y[i] for i in batch]\n",
    "    seqlens = [data_seqlens[i] for i in batch]\n",
    "    return x, y, seqlens"
   ]
  },
  {
   "cell_type": "code",
   "execution_count": 9,
   "metadata": {},
   "outputs": [],
   "source": [
    "# train data의 placeholder\n",
    "_inputs = tf.placeholder(tf.int32, shape=[batch_size, times_steps])\n",
    "_labels = tf.placeholder(tf.int32, shape=[batch_size, num_classes])\n",
    "_seqlens = tf.placeholder(tf.int32, shape=[batch_size])"
   ]
  },
  {
   "cell_type": "code",
   "execution_count": 10,
   "metadata": {},
   "outputs": [],
   "source": [
    "# embedding\n",
    "# 고차원의 vocabulary Sequence를 저차원의 vector로 변형한다.\n",
    "with tf.name_scope(\"embeddings\"):\n",
    "    # embeddings : <tf.Variable 'embeddings/embedding:0' shape=(10, 64) dtype=float32_ref>\n",
    "    embeddings = tf.Variable(tf.random_uniform([vocabulary_size, embedding_dimension], -1.0, 1.0), name='embedding')\n",
    "    # embed : <tf.Tensor 'embeddings/embedding_lookup:0' shape=(2, 6, 64) dtype=float32>\n",
    "    embed = tf.nn.embedding_lookup(embeddings, _inputs)"
   ]
  },
  {
   "cell_type": "code",
   "execution_count": 18,
   "metadata": {},
   "outputs": [],
   "source": [
    "with tf.name_scope(\"lstm\"):\n",
    "    lstm_cell = tf.contrib.rnn.BasicLSTMCell(hidden_layer_size, forget_bias=1.0)\n",
    "    with tf.variable_scope(\"lstm_kernel\", reuse=tf.AUTO_REUSE):\n",
    "        outputs, states = tf.nn.dynamic_rnn(lstm_cell, embed, sequence_length = _seqlens, dtype=tf.float32)"
   ]
  },
  {
   "cell_type": "code",
   "execution_count": 19,
   "metadata": {},
   "outputs": [],
   "source": [
    "weights = {'linear_layer' : tf.Variable(tf.truncated_normal([hidden_layer_size, num_classes], mean=0, stddev=.01))}\n",
    "biases = {'linear_layer' : tf.Variable(tf.truncated_normal([num_classes], mean=0, stddev=.01))}"
   ]
  },
  {
   "cell_type": "code",
   "execution_count": 20,
   "metadata": {},
   "outputs": [],
   "source": [
    "# 최종상태를 뽑아서 선형계측에 적용\n",
    "final_output = tf.matmul(states[1], weights[\"linear_layer\"]) + biases[\"linear_layer\"]\n",
    "cross_entropy = tf.reduce_mean(tf.nn.softmax_cross_entropy_with_logits(logits=final_output, labels=_labels))\n",
    "train_step = tf.train.RMSPropOptimizer(0.001, 0.9).minimize(cross_entropy)"
   ]
  },
  {
   "cell_type": "code",
   "execution_count": 22,
   "metadata": {},
   "outputs": [],
   "source": [
    "# Accuracy Define\n",
    "with tf.name_scope(\"accuracy\"):\n",
    "    correct_prediction = tf.equal(tf.argmax(_labels, 1), tf.argmax(final_output, 1))\n",
    "    accuracy = (tf.reduce_mean(tf.cast(correct_prediction, tf.float32)))*100"
   ]
  },
  {
   "cell_type": "code",
   "execution_count": 31,
   "metadata": {},
   "outputs": [
    {
     "name": "stdout",
     "output_type": "stream",
     "text": [
      "Iter 1, Minibatch Loss= 0.688230, Training Accuracy= 50.00000\n",
      "Iter 100, Minibatch Loss= 0.489999, Training Accuracy= 100.00000\n",
      "Iter 200, Minibatch Loss= 0.009160, Training Accuracy= 100.00000\n",
      "Iter 300, Minibatch Loss= 0.000277, Training Accuracy= 100.00000\n",
      "Iter 400, Minibatch Loss= 0.000023, Training Accuracy= 100.00000\n",
      "Iter 500, Minibatch Loss= 0.000004, Training Accuracy= 100.00000\n",
      "Iter 600, Minibatch Loss= 0.000001, Training Accuracy= 100.00000\n",
      "Iter 700, Minibatch Loss= 0.000001, Training Accuracy= 100.00000\n",
      "Iter 800, Minibatch Loss= 0.000001, Training Accuracy= 100.00000\n",
      "Iter 900, Minibatch Loss= 0.000001, Training Accuracy= 100.00000\n",
      "Iter 1000, Minibatch Loss= 0.000000, Training Accuracy= 100.00000\n",
      "Iter 1100, Minibatch Loss= 0.000001, Training Accuracy= 100.00000\n",
      "Iter 1200, Minibatch Loss= 0.000000, Training Accuracy= 100.00000\n",
      "Iter 1300, Minibatch Loss= 0.000000, Training Accuracy= 100.00000\n",
      "Iter 1400, Minibatch Loss= 0.000000, Training Accuracy= 100.00000\n",
      "Iter 1500, Minibatch Loss= 0.000000, Training Accuracy= 100.00000\n",
      "Iter 1600, Minibatch Loss= 0.000000, Training Accuracy= 100.00000\n",
      "Iter 1700, Minibatch Loss= 0.000000, Training Accuracy= 100.00000\n",
      "Iter 1800, Minibatch Loss= 0.000000, Training Accuracy= 100.00000\n",
      "Iter 1900, Minibatch Loss= 0.000000, Training Accuracy= 100.00000\n",
      "Iter 2000, Minibatch Loss= 0.000000, Training Accuracy= 100.00000\n",
      "Test batch accuracy 0: 100.00000\n",
      "Test batch accuracy 1: 100.00000\n",
      "Test batch accuracy 2: 100.00000\n",
      "Test batch accuracy 3: 100.00000\n",
      "Test batch accuracy 4: 100.00000\n",
      "Complete\n"
     ]
    }
   ],
   "source": [
    "with tf.Session() as sess:\n",
    "    sess.run(tf.global_variables_initializer())\n",
    "    for i in range(2000):\n",
    "        batch_x, batch_y, batch_seqlen = get_sentence_batch(batch_size, train_x, train_y, train_seqlens)\n",
    "        sess.run(train_step, feed_dict={_inputs: batch_x, _labels: batch_y, _seqlens: batch_seqlen})\n",
    "\n",
    "        if i == 0 or (i+1) % 100 == 0:\n",
    "            acc, loss, = sess.run([accuracy, cross_entropy], feed_dict={_inputs: batch_x, _labels: batch_y, _seqlens: batch_seqlen})\n",
    "            print(\"Iter \" + str(i+1) + \", Minibatch Loss= \" +\n",
    "                  \"{:.6f}\".format(loss) + \", Training Accuracy= \" +\n",
    "                  \"{:.5f}\".format(acc))\n",
    "    for test_batch in range(5):\n",
    "        x_test, y_test, seqlen_test = get_sentence_batch(batch_size,\n",
    "                                                         test_x, test_y,\n",
    "                                                         test_seqlens)\n",
    "        batch_pred, batch_acc = sess.run([tf.argmax(final_output, 1), accuracy],\n",
    "                                         feed_dict={_inputs: x_test,\n",
    "                                                    _labels: y_test,\n",
    "                                                    _seqlens: seqlen_test})\n",
    "        print(\"Test batch accuracy %d: %.5f\" % (test_batch, batch_acc))\n",
    "    output_example = sess.run([outputs], feed_dict={_inputs: x_test,\n",
    "                                                    _labels: y_test,\n",
    "                                                    _seqlens: seqlen_test})\n",
    "    states_example = sess.run([states[1]], feed_dict={_inputs: x_test,\n",
    "                                                      _labels: y_test,\n",
    "                                                      _seqlens: seqlen_test})\n",
    "print(\"Complete\")"
   ]
  },
  {
   "cell_type": "code",
   "execution_count": 32,
   "metadata": {},
   "outputs": [
    {
     "data": {
      "text/plain": [
       "3"
      ]
     },
     "execution_count": 32,
     "metadata": {},
     "output_type": "execute_result"
    }
   ],
   "source": [
    "seqlen_test[1]"
   ]
  },
  {
   "cell_type": "code",
   "execution_count": 34,
   "metadata": {},
   "outputs": [
    {
     "data": {
      "text/plain": [
       "(6, 32)"
      ]
     },
     "execution_count": 34,
     "metadata": {},
     "output_type": "execute_result"
    }
   ],
   "source": [
    "output_example[0][1].shape"
   ]
  },
  {
   "cell_type": "code",
   "execution_count": 35,
   "metadata": {},
   "outputs": [
    {
     "data": {
      "text/plain": [
       "array([[ 0.22331347, -0.37323153, -0.3433471 ],\n",
       "       [ 0.20004728, -0.6278947 , -0.39442393],\n",
       "       [ 0.54009116, -0.8781068 , -0.7132257 ],\n",
       "       [ 0.        ,  0.        ,  0.        ],\n",
       "       [ 0.        ,  0.        ,  0.        ],\n",
       "       [ 0.        ,  0.        ,  0.        ]], dtype=float32)"
      ]
     },
     "execution_count": 35,
     "metadata": {},
     "output_type": "execute_result"
    }
   ],
   "source": [
    "output_example[0][1][:6, 0:3]"
   ]
  },
  {
   "cell_type": "code",
   "execution_count": 36,
   "metadata": {},
   "outputs": [
    {
     "data": {
      "text/plain": [
       "array([ 0.54009116, -0.8781068 , -0.7132257 , -0.6708282 ,  0.52035964,\n",
       "       -0.5300188 ,  0.3662656 ,  0.69210154,  0.70479906,  0.7512799 ,\n",
       "       -0.6687325 , -0.77752405, -0.7351899 , -0.70108056,  0.10196386,\n",
       "        0.7488536 ,  0.79772615, -0.6986146 ,  0.74761444,  0.05446304,\n",
       "        0.784926  ,  0.65671957,  0.81676793, -0.808161  ,  0.5800958 ,\n",
       "        0.67228836, -0.7515435 , -0.75366104, -0.69474894], dtype=float32)"
      ]
     },
     "execution_count": 36,
     "metadata": {},
     "output_type": "execute_result"
    }
   ],
   "source": [
    "states_example[0][1][:-3]"
   ]
  },
  {
   "cell_type": "markdown",
   "metadata": {},
   "source": [
    "# 2개의 LSTM 쌓아올리기 "
   ]
  },
  {
   "cell_type": "code",
   "execution_count": 55,
   "metadata": {},
   "outputs": [],
   "source": [
    "num_LSTM_layers = 2\n",
    "# 최종상태를 뽑아서 선형계측에 적용\n",
    "final_output = tf.matmul(states[num_LSTM_layers-1],\n",
    "                         weights[\"linear_layer\"]) + biases[\"linear_layer\"]\n",
    "\n",
    "with tf.variable_scope(\"lstm\"):\n",
    "    lstm_cell_list = [tf.contrib.rnn.BasicLSTMCell(hidden_layer_size, forget_bias=1.0)\n",
    "                for i in range(num_LSTM_layers)]\n",
    "    cell = tf.contrib.rnn.MultiRNNCell(cells=lstm_cell_list, state_is_tuple=True)\n",
    "    with tf.variable_scope(\"lstm_kernel\", reuse=tf.AUTO_REUSE):\n",
    "        outputs, states = tf.nn.dynamic_rnn(cell, embed, sequence_length = _seqlens, dtype=tf.float32)"
   ]
  },
  {
   "cell_type": "code",
   "execution_count": 56,
   "metadata": {},
   "outputs": [
    {
     "name": "stdout",
     "output_type": "stream",
     "text": [
      "Iter 1, Minibatch Loss= 0.681468, Training Accuracy= 100.00000\n",
      "Iter 100, Minibatch Loss= 0.504305, Training Accuracy= 100.00000\n",
      "Iter 200, Minibatch Loss= 0.012689, Training Accuracy= 100.00000\n",
      "Iter 300, Minibatch Loss= 0.000761, Training Accuracy= 100.00000\n",
      "Iter 400, Minibatch Loss= 0.000012, Training Accuracy= 100.00000\n",
      "Iter 500, Minibatch Loss= 0.000003, Training Accuracy= 100.00000\n",
      "Iter 600, Minibatch Loss= 0.000001, Training Accuracy= 100.00000\n",
      "Iter 700, Minibatch Loss= 0.000000, Training Accuracy= 100.00000\n",
      "Iter 800, Minibatch Loss= 0.000001, Training Accuracy= 100.00000\n",
      "Iter 900, Minibatch Loss= 0.000001, Training Accuracy= 100.00000\n",
      "Iter 1000, Minibatch Loss= 0.000000, Training Accuracy= 100.00000\n",
      "Iter 1100, Minibatch Loss= 0.000001, Training Accuracy= 100.00000\n",
      "Iter 1200, Minibatch Loss= 0.000000, Training Accuracy= 100.00000\n",
      "Iter 1300, Minibatch Loss= 0.000000, Training Accuracy= 100.00000\n",
      "Iter 1400, Minibatch Loss= 0.000000, Training Accuracy= 100.00000\n",
      "Iter 1500, Minibatch Loss= 0.000000, Training Accuracy= 100.00000\n",
      "Iter 1600, Minibatch Loss= 0.000000, Training Accuracy= 100.00000\n",
      "Iter 1700, Minibatch Loss= 0.000000, Training Accuracy= 100.00000\n",
      "Iter 1800, Minibatch Loss= 0.000000, Training Accuracy= 100.00000\n",
      "Iter 1900, Minibatch Loss= 0.000000, Training Accuracy= 100.00000\n",
      "Iter 2000, Minibatch Loss= 0.000000, Training Accuracy= 100.00000\n",
      "Test batch accuracy 0: 100.00000\n",
      "Test batch accuracy 1: 100.00000\n",
      "Test batch accuracy 2: 100.00000\n",
      "Test batch accuracy 3: 100.00000\n",
      "Test batch accuracy 4: 100.00000\n",
      "Complete\n"
     ]
    }
   ],
   "source": [
    "with tf.Session() as sess:\n",
    "    sess.run(tf.global_variables_initializer())\n",
    "    for i in range(2000):\n",
    "        batch_x, batch_y, batch_seqlen = get_sentence_batch(batch_size, train_x, train_y, train_seqlens)\n",
    "        sess.run(train_step, feed_dict={_inputs: batch_x, _labels: batch_y, _seqlens: batch_seqlen})\n",
    "\n",
    "        if i == 0 or (i+1) % 100 == 0:\n",
    "            acc, loss, = sess.run([accuracy, cross_entropy], feed_dict={_inputs: batch_x, _labels: batch_y, _seqlens: batch_seqlen})\n",
    "            print(\"Iter \" + str(i+1) + \", Minibatch Loss= \" +\n",
    "                  \"{:.6f}\".format(loss) + \", Training Accuracy= \" +\n",
    "                  \"{:.5f}\".format(acc))\n",
    "    for test_batch in range(5):\n",
    "        x_test, y_test, seqlen_test = get_sentence_batch(batch_size,\n",
    "                                                         test_x, test_y,\n",
    "                                                         test_seqlens)\n",
    "        batch_pred, batch_acc = sess.run([tf.argmax(final_output, 1), accuracy],\n",
    "                                         feed_dict={_inputs: x_test,\n",
    "                                                    _labels: y_test,\n",
    "                                                    _seqlens: seqlen_test})\n",
    "        print(\"Test batch accuracy %d: %.5f\" % (test_batch, batch_acc))\n",
    "    output_example = sess.run([outputs], feed_dict={_inputs: x_test,\n",
    "                                                    _labels: y_test,\n",
    "                                                    _seqlens: seqlen_test})\n",
    "    states_example = sess.run([states[1]], feed_dict={_inputs: x_test,\n",
    "                                                      _labels: y_test,\n",
    "                                                      _seqlens: seqlen_test})\n",
    "print(\"Complete\")"
   ]
  },
  {
   "cell_type": "code",
   "execution_count": null,
   "metadata": {},
   "outputs": [],
   "source": []
  }
 ],
 "metadata": {
  "kernelspec": {
   "display_name": "Python 3",
   "language": "python",
   "name": "python3"
  },
  "language_info": {
   "codemirror_mode": {
    "name": "ipython",
    "version": 3
   },
   "file_extension": ".py",
   "mimetype": "text/x-python",
   "name": "python",
   "nbconvert_exporter": "python",
   "pygments_lexer": "ipython3",
   "version": "3.6.5"
  }
 },
 "nbformat": 4,
 "nbformat_minor": 2
}
