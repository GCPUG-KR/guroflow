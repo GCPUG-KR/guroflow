{
 "cells": [
  {
   "cell_type": "code",
   "execution_count": 27,
   "metadata": {},
   "outputs": [
    {
     "name": "stdout",
     "output_type": "stream",
     "text": [
      "Extracting /tmp/data/train-images-idx3-ubyte.gz\n",
      "Extracting /tmp/data/train-labels-idx1-ubyte.gz\n",
      "Extracting /tmp/data/t10k-images-idx3-ubyte.gz\n",
      "Extracting /tmp/data/t10k-labels-idx1-ubyte.gz\n",
      "epoch(  0) NUM_STEPS(  999) Accuracy: 0.8799999952316284\n",
      "epoch(  1) NUM_STEPS(  999) Accuracy: 0.9100000262260437\n",
      "epoch(  2) NUM_STEPS(  999) Accuracy: 0.8600000143051147\n",
      "epoch(  3) NUM_STEPS(  999) Accuracy: 0.9200000166893005\n",
      "epoch(  4) NUM_STEPS(  999) Accuracy: 0.8899999856948853\n",
      "epoch(  5) NUM_STEPS(  999) Accuracy: 0.8999999761581421\n",
      "epoch(  6) NUM_STEPS(  999) Accuracy: 0.9100000262260437\n",
      "epoch(  7) NUM_STEPS(  999) Accuracy: 0.9200000166893005\n",
      "epoch(  8) NUM_STEPS(  999) Accuracy: 0.9100000262260437\n",
      "epoch(  9) NUM_STEPS(  999) Accuracy: 0.9399999976158142\n",
      "Complete !!!\n"
     ]
    }
   ],
   "source": [
    "import tensorflow as tf\n",
    "from tensorflow.examples.tutorials.mnist import input_data\n",
    "\n",
    "DATA_DIR = '/tmp/data'\n",
    "NUM_STEPS = 1000\n",
    "MINIBATCH_SIZE = 100\n",
    "epochs=10\n",
    "\n",
    "data = input_data.read_data_sets(DATA_DIR, one_hot=True)\n",
    "\n",
    "x = tf.placeholder(tf.float32, [None, 784])\n",
    "W = tf.Variable(tf.zeros([784, 10]))\n",
    "b = tf.Variable(tf.zeros([10]))\n",
    "\n",
    "y_true = tf.placeholder(tf.float32, [None, 10])\n",
    "y_pred = tf.matmul(x, W) + b\n",
    "\n",
    "cross_entropy = tf.reduce_mean(tf.nn.softmax_cross_entropy_with_logits(\n",
    "    logits=y_pred, labels=y_true))\n",
    "\n",
    "\n",
    "gd_step = tf.train.GradientDescentOptimizer(0.01).minimize(cross_entropy)\n",
    "\n",
    "correct_mask = tf.equal(tf.argmax(y_pred, 1), tf.argmax(y_true, 1))\n",
    "accuracy = tf.reduce_mean(tf.cast(correct_mask, tf.float32))\n",
    "\n",
    "with tf.Session() as sess:\n",
    "\n",
    "    # Train\n",
    "    sess.run(tf.global_variables_initializer())\n",
    "    for ep in range(epochs):\n",
    "        for i in range(NUM_STEPS):\n",
    "            batch_xs, batch_ys = data.train.next_batch(MINIBATCH_SIZE)\n",
    "            _, accuracy_out = sess.run([gd_step, accuracy], feed_dict={x: batch_xs, y_true: batch_ys})\n",
    "        print('epoch({:3}) NUM_STEPS({:5}) Accuracy: {}'.format(ep, i, accuracy_out))\n",
    "    weights, bias = sess.run([W,b])\n",
    "\n",
    "print(\"Complete !!!\")"
   ]
  },
  {
   "cell_type": "markdown",
   "metadata": {},
   "source": [
    "# 학습모델 저장"
   ]
  },
  {
   "cell_type": "code",
   "execution_count": 68,
   "metadata": {},
   "outputs": [],
   "source": [
    "import os \n",
    "import numpy as np \n",
    "MODEL_PATH = './model/' \n",
    "np.savez(os.path.join(MODEL_PATH, 'softmax_weight_storage'), weights, bias)"
   ]
  },
  {
   "cell_type": "markdown",
   "metadata": {},
   "source": [
    "# 저장된 가중치 불러오기"
   ]
  },
  {
   "cell_type": "code",
   "execution_count": 69,
   "metadata": {},
   "outputs": [
    {
     "name": "stdout",
     "output_type": "stream",
     "text": [
      "loaded_w type:<class 'numpy.ndarray'>\n",
      "value:[[0. 0. 0. ... 0. 0. 0.]\n",
      " [0. 0. 0. ... 0. 0. 0.]\n",
      " [0. 0. 0. ... 0. 0. 0.]\n",
      " ...\n",
      " [0. 0. 0. ... 0. 0. 0.]\n",
      " [0. 0. 0. ... 0. 0. 0.]\n",
      " [0. 0. 0. ... 0. 0. 0.]]\n",
      "****************************************************************************************************\n",
      "loaded_b type:<class 'numpy.ndarray'>\n",
      "value:[-0.14281042  0.24421299 -0.02739764 -0.11435637  0.06186947  0.43335503\n",
      " -0.02909385  0.2356379  -0.57750654 -0.0839086 ]\n"
     ]
    }
   ],
   "source": [
    "import numpy as np \n",
    "import tensorflow as tf \n",
    "# 학습된 가중치 불러오기 \n",
    "MODEL_PATH = './model/' \n",
    "loaded_W = np.load(MODEL_PATH + 'softmax_weight_storage.npz') \n",
    "loaded_w = loaded_W.items()[0][1] \n",
    "loaded_b = loaded_W.items()[1][1] \n",
    "print('loaded_w type:{}\\nvalue:{}'.format(type(loaded_w), loaded_w))\n",
    "print('*'*100)\n",
    "print('loaded_b type:{}\\nvalue:{}'.format(type(loaded_b), loaded_b))"
   ]
  },
  {
   "cell_type": "markdown",
   "metadata": {},
   "source": [
    "# 로딩한 가중치 적용하여 accuracy 확인하기"
   ]
  },
  {
   "cell_type": "code",
   "execution_count": 70,
   "metadata": {},
   "outputs": [
    {
     "name": "stdout",
     "output_type": "stream",
     "text": [
      "Accuracy : 0.910099983215332\n"
     ]
    }
   ],
   "source": [
    "x = tf.placeholder(tf.float32, [None, 784])\n",
    "W = tf.Variable(tf.zeros([784, 10]))\n",
    "b = tf.Variable(tf.zeros([10]))\n",
    "\n",
    "y_true = tf.placeholder(tf.float32, [None, 10])\n",
    "y_pred = tf.matmul(x, W) + b\n",
    "\n",
    "cross_entropy = tf.reduce_mean(tf.nn.softmax_cross_entropy_with_logits(\n",
    "    logits=y_pred, labels=y_true))\n",
    "\n",
    "\n",
    "gd_step = tf.train.GradientDescentOptimizer(0.01).minimize(cross_entropy)\n",
    "\n",
    "correct_mask = tf.equal(tf.argmax(y_pred, 1), tf.argmax(y_true, 1))\n",
    "accuracy = tf.reduce_mean(tf.cast(correct_mask, tf.float32))\n",
    "\n",
    "with tf.Session() as sess:\n",
    "    # 로딩한 가중치 적용\n",
    "    sess.run(W.assign(loaded_w))\n",
    "    sess.run(b.assign(loaded_b))\n",
    "    acc = sess.run(accuracy, feed_dict={x:data.test.images, y_true: data.test.labels})\n",
    "print('Accuracy : {}'.format(acc))"
   ]
  },
  {
   "cell_type": "code",
   "execution_count": null,
   "metadata": {},
   "outputs": [],
   "source": []
  },
  {
   "cell_type": "code",
   "execution_count": null,
   "metadata": {},
   "outputs": [],
   "source": []
  },
  {
   "cell_type": "code",
   "execution_count": null,
   "metadata": {},
   "outputs": [],
   "source": []
  },
  {
   "cell_type": "code",
   "execution_count": null,
   "metadata": {},
   "outputs": [],
   "source": []
  },
  {
   "cell_type": "code",
   "execution_count": null,
   "metadata": {},
   "outputs": [],
   "source": []
  },
  {
   "cell_type": "code",
   "execution_count": null,
   "metadata": {},
   "outputs": [],
   "source": []
  },
  {
   "cell_type": "code",
   "execution_count": null,
   "metadata": {},
   "outputs": [],
   "source": []
  },
  {
   "cell_type": "code",
   "execution_count": null,
   "metadata": {},
   "outputs": [],
   "source": []
  },
  {
   "cell_type": "code",
   "execution_count": null,
   "metadata": {},
   "outputs": [],
   "source": []
  },
  {
   "cell_type": "code",
   "execution_count": null,
   "metadata": {},
   "outputs": [],
   "source": []
  },
  {
   "cell_type": "code",
   "execution_count": null,
   "metadata": {},
   "outputs": [],
   "source": []
  },
  {
   "cell_type": "code",
   "execution_count": null,
   "metadata": {},
   "outputs": [],
   "source": []
  },
  {
   "cell_type": "code",
   "execution_count": null,
   "metadata": {},
   "outputs": [],
   "source": []
  }
 ],
 "metadata": {
  "kernelspec": {
   "display_name": "Python 3",
   "language": "python",
   "name": "python3"
  },
  "language_info": {
   "codemirror_mode": {
    "name": "ipython",
    "version": 3
   },
   "file_extension": ".py",
   "mimetype": "text/x-python",
   "name": "python",
   "nbconvert_exporter": "python",
   "pygments_lexer": "ipython3",
   "version": "3.6.5"
  }
 },
 "nbformat": 4,
 "nbformat_minor": 2
}
