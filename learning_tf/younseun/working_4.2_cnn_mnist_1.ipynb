{
 "cells": [
  {
   "cell_type": "code",
   "execution_count": 1,
   "metadata": {},
   "outputs": [],
   "source": [
    "from tensorflow.examples.tutorials.mnist import input_data\n",
    "import tensorflow as tf\n",
    "import numpy as np\n",
    "import pandas as pd\n",
    "from layers import conv_layer, max_pool_2x2, full_layer\n",
    "from layers_1 import conv_layer_1, max_pool_2x2_1, full_layer_1\n",
    "\n",
    "import datetime"
   ]
  },
  {
   "cell_type": "code",
   "execution_count": 2,
   "metadata": {},
   "outputs": [],
   "source": [
    "DATA_DIR = '/tmp/data'\n",
    "MINIBATCH_SIZE = 50\n",
    "STEPS = 5000"
   ]
  },
  {
   "cell_type": "code",
   "execution_count": 3,
   "metadata": {},
   "outputs": [
    {
     "name": "stdout",
     "output_type": "stream",
     "text": [
      "WARNING:tensorflow:From <ipython-input-3-263d54db0205>:2: read_data_sets (from tensorflow.contrib.learn.python.learn.datasets.mnist) is deprecated and will be removed in a future version.\n",
      "Instructions for updating:\n",
      "Please use alternatives such as official/mnist/dataset.py from tensorflow/models.\n",
      "WARNING:tensorflow:From /usr/local/lib/python3.6/dist-packages/tensorflow/contrib/learn/python/learn/datasets/mnist.py:260: maybe_download (from tensorflow.contrib.learn.python.learn.datasets.base) is deprecated and will be removed in a future version.\n",
      "Instructions for updating:\n",
      "Please write your own downloading logic.\n",
      "WARNING:tensorflow:From /usr/local/lib/python3.6/dist-packages/tensorflow/contrib/learn/python/learn/datasets/base.py:252: _internal_retry.<locals>.wrap.<locals>.wrapped_fn (from tensorflow.contrib.learn.python.learn.datasets.base) is deprecated and will be removed in a future version.\n",
      "Instructions for updating:\n",
      "Please use urllib or similar directly.\n",
      "Successfully downloaded train-images-idx3-ubyte.gz 9912422 bytes.\n",
      "WARNING:tensorflow:From /usr/local/lib/python3.6/dist-packages/tensorflow/contrib/learn/python/learn/datasets/mnist.py:262: extract_images (from tensorflow.contrib.learn.python.learn.datasets.mnist) is deprecated and will be removed in a future version.\n",
      "Instructions for updating:\n",
      "Please use tf.data to implement this functionality.\n",
      "Extracting /tmp/data/train-images-idx3-ubyte.gz\n",
      "Successfully downloaded train-labels-idx1-ubyte.gz 28881 bytes.\n",
      "WARNING:tensorflow:From /usr/local/lib/python3.6/dist-packages/tensorflow/contrib/learn/python/learn/datasets/mnist.py:267: extract_labels (from tensorflow.contrib.learn.python.learn.datasets.mnist) is deprecated and will be removed in a future version.\n",
      "Instructions for updating:\n",
      "Please use tf.data to implement this functionality.\n",
      "Extracting /tmp/data/train-labels-idx1-ubyte.gz\n",
      "WARNING:tensorflow:From /usr/local/lib/python3.6/dist-packages/tensorflow/contrib/learn/python/learn/datasets/mnist.py:110: dense_to_one_hot (from tensorflow.contrib.learn.python.learn.datasets.mnist) is deprecated and will be removed in a future version.\n",
      "Instructions for updating:\n",
      "Please use tf.one_hot on tensors.\n",
      "Successfully downloaded t10k-images-idx3-ubyte.gz 1648877 bytes.\n",
      "Extracting /tmp/data/t10k-images-idx3-ubyte.gz\n",
      "Successfully downloaded t10k-labels-idx1-ubyte.gz 4542 bytes.\n",
      "Extracting /tmp/data/t10k-labels-idx1-ubyte.gz\n",
      "WARNING:tensorflow:From /usr/local/lib/python3.6/dist-packages/tensorflow/contrib/learn/python/learn/datasets/mnist.py:290: DataSet.__init__ (from tensorflow.contrib.learn.python.learn.datasets.mnist) is deprecated and will be removed in a future version.\n",
      "Instructions for updating:\n",
      "Please use alternatives such as official/mnist/dataset.py from tensorflow/models.\n"
     ]
    }
   ],
   "source": [
    "# mnist[0]은 이미지, mnist[1]은 숫자값 ont Hot\n",
    "mnist = input_data.read_data_sets(DATA_DIR, one_hot=True)"
   ]
  },
  {
   "cell_type": "code",
   "execution_count": 4,
   "metadata": {},
   "outputs": [
    {
     "name": "stdout",
     "output_type": "stream",
     "text": [
      "WARNING:tensorflow:From <ipython-input-4-7056b2330f72>:20: softmax_cross_entropy_with_logits (from tensorflow.python.ops.nn_ops) is deprecated and will be removed in a future version.\n",
      "Instructions for updating:\n",
      "\n",
      "Future major versions of TensorFlow will allow gradients to flow\n",
      "into the labels input on backprop by default.\n",
      "\n",
      "See @{tf.nn.softmax_cross_entropy_with_logits_v2}.\n",
      "\n"
     ]
    }
   ],
   "source": [
    "x = tf.placeholder(tf.float32, shape=[None, 784])\n",
    "y_ = tf.placeholder(tf.float32, shape=[None, 10])\n",
    "x_image = tf.reshape(x, [-1, 28, 28, 1])\n",
    "\n",
    "conv1 = conv_layer(x_image, shape=[5, 5, 1, 32])\n",
    "conv1_pool = max_pool_2x2(conv1)\n",
    "\n",
    "conv2 = conv_layer(conv1_pool, shape=[5, 5, 32, 64])\n",
    "conv2_pool = max_pool_2x2(conv2)\n",
    "\n",
    "conv2_flat = tf.reshape(conv2_pool, [-1, 7*7*64])\n",
    "full_1 = tf.nn.relu(full_layer(conv2_flat, 1024))\n",
    "\n",
    "keep_prob = tf.placeholder(tf.float32)\n",
    "full1_drop = tf.nn.dropout(full_1, keep_prob=keep_prob)\n",
    "\n",
    "y_conv = full_layer(full1_drop, 10)\n",
    "\n",
    "# Loss Function과 Train\n",
    "cross_entropy = tf.reduce_mean(tf.nn.softmax_cross_entropy_with_logits(logits=y_conv, labels=y_))\n",
    "train_step = tf.train.AdamOptimizer(1e-4).minimize(cross_entropy)\n",
    "\n",
    "# Accuracy 평가\n",
    "correct_prediction = tf.equal(tf.argmax(y_conv, 1), tf.argmax(y_, 1))\n",
    "accuracy = tf.reduce_mean(tf.cast(correct_prediction, tf.float32))"
   ]
  },
  {
   "cell_type": "code",
   "execution_count": 17,
   "metadata": {},
   "outputs": [
    {
     "name": "stdout",
     "output_type": "stream",
     "text": [
      "100 [2018-08-26 16:24:42.756835][0:00:03.580773] : Accuracy : 0.8356000185012817 \n",
      "200 [2018-08-26 16:25:00.002358][0:00:05.895004] : Accuracy : 0.9018999934196472 \n",
      "300 [2018-08-26 16:25:16.295746][0:00:05.405705] : Accuracy : 0.9316999316215515 \n",
      "400 [2018-08-26 16:25:32.623030][0:00:05.550139] : Accuracy : 0.9383000135421753 \n",
      "500 [2018-08-26 16:25:48.800627][0:00:05.406442] : Accuracy : 0.9475000500679016 \n",
      "600 [2018-08-26 16:26:04.860909][0:00:05.393317] : Accuracy : 0.9538999795913696 \n",
      "700 [2018-08-26 16:26:20.823937][0:00:05.436744] : Accuracy : 0.9573000073432922 \n",
      "800 [2018-08-26 16:26:37.205744][0:00:05.625662] : Accuracy : 0.9624000787734985 \n",
      "900 [2018-08-26 16:26:53.703914][0:00:05.636479] : Accuracy : 0.9629000425338745 \n",
      "1000 [2018-08-26 16:27:10.220526][0:00:05.905634] : Accuracy : 0.9648000001907349 \n",
      "1100 [2018-08-26 16:27:26.574502][0:00:05.817028] : Accuracy : 0.9668000340461731 \n",
      "1200 [2018-08-26 16:27:42.993062][0:00:05.895458] : Accuracy : 0.9684000015258789 \n",
      "1300 [2018-08-26 16:27:59.359627][0:00:05.958272] : Accuracy : 0.9713999629020691 \n",
      "1400 [2018-08-26 16:28:15.552738][0:00:05.889006] : Accuracy : 0.9706999659538269 \n",
      "1500 [2018-08-26 16:28:31.861816][0:00:05.926014] : Accuracy : 0.972000002861023 \n",
      "1600 [2018-08-26 16:28:48.213180][0:00:05.771725] : Accuracy : 0.9718000292778015 \n",
      "1700 [2018-08-26 16:29:04.414807][0:00:05.840743] : Accuracy : 0.9750000238418579 \n",
      "1800 [2018-08-26 16:29:20.699741][0:00:05.650371] : Accuracy : 0.9753999710083008 \n",
      "1900 [2018-08-26 16:29:36.899798][0:00:05.709386] : Accuracy : 0.9760000109672546 \n",
      "2000 [2018-08-26 16:29:53.214676][0:00:05.602003] : Accuracy : 0.9757999181747437 \n",
      "2100 [2018-08-26 16:30:10.493119][0:00:05.864659] : Accuracy : 0.977400004863739 \n",
      "2200 [2018-08-26 16:30:26.736888][0:00:05.465450] : Accuracy : 0.9786999821662903 \n",
      "2300 [2018-08-26 16:30:43.055741][0:00:05.501057] : Accuracy : 0.9782999753952026 \n",
      "2400 [2018-08-26 16:30:59.368189][0:00:05.555753] : Accuracy : 0.9788999557495117 \n",
      "2500 [2018-08-26 16:31:15.624798][0:00:05.387626] : Accuracy : 0.9789999723434448 \n",
      "2600 [2018-08-26 16:31:32.128205][0:00:05.488010] : Accuracy : 0.9805999994277954 \n",
      "2700 [2018-08-26 16:31:48.499752][0:00:05.495911] : Accuracy : 0.9799000024795532 \n",
      "2800 [2018-08-26 16:32:04.683809][0:00:05.415516] : Accuracy : 0.9811000823974609 \n",
      "2900 [2018-08-26 16:32:20.913065][0:00:05.580054] : Accuracy : 0.9821001291275024 \n",
      "3000 [2018-08-26 16:32:37.125226][0:00:05.442432] : Accuracy : 0.9833999872207642 \n",
      "3100 [2018-08-26 16:32:53.485334][0:00:05.533610] : Accuracy : 0.9834998846054077 \n",
      "3200 [2018-08-26 16:33:10.078718][0:00:05.714896] : Accuracy : 0.9829000234603882 \n",
      "3300 [2018-08-26 16:33:26.429446][0:00:05.616181] : Accuracy : 0.9823999404907227 \n",
      "3400 [2018-08-26 16:33:42.704187][0:00:05.636826] : Accuracy : 0.9823999404907227 \n",
      "3500 [2018-08-26 16:33:58.885914][0:00:05.595505] : Accuracy : 0.984000027179718 \n",
      "3600 [2018-08-26 16:34:14.911752][0:00:05.599181] : Accuracy : 0.9842000007629395 \n",
      "3700 [2018-08-26 16:34:31.304964][0:00:05.882538] : Accuracy : 0.9832000732421875 \n",
      "3800 [2018-08-26 16:34:47.871717][0:00:05.851325] : Accuracy : 0.9828001260757446 \n",
      "3900 [2018-08-26 16:35:04.317669][0:00:05.827799] : Accuracy : 0.9852999448776245 \n",
      "4000 [2018-08-26 16:35:21.550523][0:00:05.971456] : Accuracy : 0.9839000701904297 \n",
      "4100 [2018-08-26 16:35:37.991318][0:00:05.751130] : Accuracy : 0.985200047492981 \n",
      "4200 [2018-08-26 16:35:54.275683][0:00:05.432391] : Accuracy : 0.9859000444412231 \n",
      "4300 [2018-08-26 16:36:10.407809][0:00:05.467972] : Accuracy : 0.9859999418258667 \n",
      "4400 [2018-08-26 16:36:26.759950][0:00:05.604635] : Accuracy : 0.9864000082015991 \n",
      "4500 [2018-08-26 16:36:43.190251][0:00:05.541545] : Accuracy : 0.9856001138687134 \n",
      "4600 [2018-08-26 16:36:59.418495][0:00:05.481739] : Accuracy : 0.9873000979423523 \n",
      "4700 [2018-08-26 16:37:15.876832][0:00:05.546711] : Accuracy : 0.9869999885559082 \n",
      "4800 [2018-08-26 16:37:32.005252][0:00:05.327963] : Accuracy : 0.9865999221801758 \n",
      "4900 [2018-08-26 16:37:48.474027][0:00:05.510642] : Accuracy : 0.9869999885559082 \n",
      "5000 [2018-08-26 16:38:02.238965][0:00:03.925264] : Accuracy : 0.984700083732605 \n",
      "Completed !!\n"
     ]
    }
   ],
   "source": [
    "# 완전 연결 계측에서 편향을 적용한 결과\n",
    "STEPS = 5000\n",
    "X = mnist.test.images.reshape(10, 1000, 784)\n",
    "Y = mnist.test.labels.reshape(10, 1000, 10)\n",
    "\n",
    "with tf.Session() as sess:\n",
    "    sess.run(tf.global_variables_initializer())\n",
    "    \n",
    "    for i in range(STEPS):\n",
    "        batch = mnist.train.next_batch(MINIBATCH_SIZE)\n",
    "        train = sess.run([x,y_, x_image, conv1, conv1_pool, conv2, conv2_pool, conv2_flat, full_1, train_step], feed_dict={x: batch[0], y_: batch[1], keep_prob:0.5})\n",
    "        if (i+1) % 100 == 0:\n",
    "            accuracy_datetime = datetime.datetime.now()\n",
    "            #print('{}[{}] : Accuracy Start '.format(i, datetime.datetime.now()))\n",
    "            train_accuracy = np.mean([sess.run([accuracy], feed_dict={x: X[j], y_: Y[j], keep_prob: 1.0}) for j in range(10)])\n",
    "            print('{} [{}][{}] : Accuracy : {} '.format(i+1, datetime.datetime.now(), datetime.datetime.now() - accuracy_datetime, train_accuracy))\n",
    "    print('Completed !!')"
   ]
  },
  {
   "cell_type": "code",
   "execution_count": null,
   "metadata": {},
   "outputs": [],
   "source": []
  },
  {
   "cell_type": "code",
   "execution_count": null,
   "metadata": {},
   "outputs": [],
   "source": []
  },
  {
   "cell_type": "code",
   "execution_count": null,
   "metadata": {},
   "outputs": [],
   "source": []
  },
  {
   "cell_type": "code",
   "execution_count": null,
   "metadata": {},
   "outputs": [],
   "source": []
  },
  {
   "cell_type": "code",
   "execution_count": null,
   "metadata": {},
   "outputs": [],
   "source": []
  },
  {
   "cell_type": "code",
   "execution_count": null,
   "metadata": {},
   "outputs": [],
   "source": []
  },
  {
   "cell_type": "code",
   "execution_count": null,
   "metadata": {},
   "outputs": [],
   "source": []
  }
 ],
 "metadata": {
  "kernelspec": {
   "display_name": "Python 3",
   "language": "python",
   "name": "python3"
  },
  "language_info": {
   "codemirror_mode": {
    "name": "ipython",
    "version": 3
   },
   "file_extension": ".py",
   "mimetype": "text/x-python",
   "name": "python",
   "nbconvert_exporter": "python",
   "pygments_lexer": "ipython3",
   "version": "3.6.5"
  }
 },
 "nbformat": 4,
 "nbformat_minor": 2
}
