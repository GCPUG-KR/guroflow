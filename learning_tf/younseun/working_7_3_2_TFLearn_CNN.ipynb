{
 "cells": [
  {
   "cell_type": "code",
   "execution_count": 17,
   "metadata": {},
   "outputs": [],
   "source": [
    "import tflearn\n",
    "from tflearn.layers.core import input_data, dropout, fully_connected\n",
    "from tflearn.layers.conv import conv_2d, max_pool_2d\n",
    "from tflearn.layers.normalization import local_response_normalization\n",
    "from tflearn.layers.estimator import regression\n",
    "import numpy as np"
   ]
  },
  {
   "cell_type": "code",
   "execution_count": 12,
   "metadata": {},
   "outputs": [
    {
     "name": "stdout",
     "output_type": "stream",
     "text": [
      "Extracting mnist/train-images-idx3-ubyte.gz\n",
      "Extracting mnist/train-labels-idx1-ubyte.gz\n",
      "Extracting mnist/t10k-images-idx3-ubyte.gz\n",
      "Extracting mnist/t10k-labels-idx1-ubyte.gz\n"
     ]
    }
   ],
   "source": [
    "# Data loading and basic trasformations\n",
    "import tflearn.datasets.mnist as mnist\n",
    "X, Y, X_test, Y_test = mnist.load_data(one_hot=True)\n",
    "X = X.reshape([-1,28,28,1])\n",
    "X_test = X_test.reshape([-1,28,28,1])"
   ]
  },
  {
   "cell_type": "code",
   "execution_count": 13,
   "metadata": {},
   "outputs": [
    {
     "name": "stdout",
     "output_type": "stream",
     "text": [
      "WARNING:tensorflow:From /usr/local/lib/python3.6/dist-packages/tflearn/initializations.py:119: UniformUnitScaling.__init__ (from tensorflow.python.ops.init_ops) is deprecated and will be removed in a future version.\n",
      "Instructions for updating:\n",
      "Use tf.initializers.variance_scaling instead with distribution=uniform to get equivalent behavior.\n",
      "WARNING:tensorflow:From /usr/local/lib/python3.6/dist-packages/tflearn/objectives.py:66: calling reduce_sum (from tensorflow.python.ops.math_ops) with keep_dims is deprecated and will be removed in a future version.\n",
      "Instructions for updating:\n",
      "keep_dims is deprecated, use keepdims instead\n"
     ]
    }
   ],
   "source": [
    "# Building the network\n",
    "CNN = input_data(shape=[None, 28, 28, 1], name='input')                 # Input\n",
    "CNN = conv_2d(CNN, 32, 5, activation='relu', regularizer=\"L2\")          # 합성곱 계층1\n",
    "CNN = max_pool_2d(CNN, 2)                                               # Pooling 1\n",
    "CNN = local_response_normalization(CNN)                                 # LRN 처리 1(local response normalization)\n",
    "CNN = conv_2d(CNN, 64, 5, activation='relu', regularizer=\"L2\")          # 합성곱 계층2\n",
    "CNN = max_pool_2d(CNN, 2)                                               # Pooling 2\n",
    "CNN = local_response_normalization(CNN)                                 # LRN 처리 2(local response normalization)\n",
    "CNN = fully_connected(CNN, 1024, activation=None)                       # 완전연결계층\n",
    "CNN = dropout(CNN, 0.5)                                                 # Drop Out\n",
    "CNN = fully_connected(CNN, 10, activation='softmax')                    # 판독 계층\n",
    "CNN = regression(CNN, optimizer='adam', learning_rate=0.0001,           # 회귀모형 모델\n",
    "                     loss='categorical_crossentropy', name='target')"
   ]
  },
  {
   "cell_type": "code",
   "execution_count": 14,
   "metadata": {},
   "outputs": [
    {
     "name": "stdout",
     "output_type": "stream",
     "text": [
      "Training Step: 2579  | total loss: \u001b[1m\u001b[32m0.04970\u001b[0m\u001b[0m | time: 160.532s\n",
      "| Adam | epoch: 003 | loss: 0.04970 - acc: 0.9863 -- iter: 54976/55000\n",
      "Training Step: 2580  | total loss: \u001b[1m\u001b[32m0.05050\u001b[0m\u001b[0m | time: 168.781s\n",
      "| Adam | epoch: 003 | loss: 0.05050 - acc: 0.9845 | val_loss: 0.04389 - val_acc: 0.9857 -- iter: 55000/55000\n",
      "--\n",
      "INFO:tensorflow:/home/younseun/columbus_study/04_learning_tensorflow/07__abstractions/MNIST_tflearn_checkpoint/checkpoint-2580 is not in all_model_checkpoint_paths. Manually adding it.\n",
      "INFO:tensorflow:/home/younseun/columbus_study/04_learning_tensorflow/07__abstractions/MNIST_tflearn_checkpoint/checkpoint-2580 is not in all_model_checkpoint_paths. Manually adding it.\n"
     ]
    }
   ],
   "source": [
    "# 네트워크 학습\n",
    "model = tflearn.DNN(CNN, tensorboard_verbose=0,\n",
    "                   tensorboard_dir = 'MNIST_tflearn_board/',\n",
    "                   checkpoint_path = 'MNIST_tflearn_checkpoint/checkpoint')\n",
    "model.fit({'input': X}, {'target': Y}, n_epoch=3, \n",
    "           validation_set=({'input': X_test}, {'target': Y_test}),\n",
    "           snapshot_step=1000,show_metric=True, run_id='convnet_mnist')"
   ]
  },
  {
   "cell_type": "code",
   "execution_count": 15,
   "metadata": {},
   "outputs": [
    {
     "name": "stdout",
     "output_type": "stream",
     "text": [
      "[0.9857]\n"
     ]
    }
   ],
   "source": [
    "evaluation = model.evaluate({'input': X_test},{'target': Y_test})\n",
    "print(evaluation)"
   ]
  },
  {
   "cell_type": "code",
   "execution_count": 19,
   "metadata": {},
   "outputs": [
    {
     "name": "stdout",
     "output_type": "stream",
     "text": [
      "0.9857\n"
     ]
    }
   ],
   "source": [
    "pred = model.predict({'input': X_test})\n",
    "print((np.argmax(Y_test,1)==np.argmax(pred,1)).mean())"
   ]
  },
  {
   "cell_type": "code",
   "execution_count": 20,
   "metadata": {},
   "outputs": [
    {
     "data": {
      "text/plain": [
       "array([[0., 0., 0., ..., 1., 0., 0.],\n",
       "       [0., 0., 1., ..., 0., 0., 0.],\n",
       "       [0., 1., 0., ..., 0., 0., 0.],\n",
       "       ...,\n",
       "       [0., 0., 0., ..., 0., 0., 0.],\n",
       "       [0., 0., 0., ..., 0., 0., 0.],\n",
       "       [0., 0., 0., ..., 0., 0., 0.]])"
      ]
     },
     "execution_count": 20,
     "metadata": {},
     "output_type": "execute_result"
    }
   ],
   "source": [
    "Y_test"
   ]
  },
  {
   "cell_type": "code",
   "execution_count": 23,
   "metadata": {},
   "outputs": [
    {
     "data": {
      "text/plain": [
       "array([7, 2, 1, ..., 4, 5, 6])"
      ]
     },
     "execution_count": 23,
     "metadata": {},
     "output_type": "execute_result"
    }
   ],
   "source": [
    "np.argmax(Y_test,1)"
   ]
  },
  {
   "cell_type": "code",
   "execution_count": null,
   "metadata": {},
   "outputs": [],
   "source": []
  }
 ],
 "metadata": {
  "kernelspec": {
   "display_name": "Python 3",
   "language": "python",
   "name": "python3"
  },
  "language_info": {
   "codemirror_mode": {
    "name": "ipython",
    "version": 3
   },
   "file_extension": ".py",
   "mimetype": "text/x-python",
   "name": "python",
   "nbconvert_exporter": "python",
   "pygments_lexer": "ipython3",
   "version": "3.6.5"
  }
 },
 "nbformat": 4,
 "nbformat_minor": 2
}
