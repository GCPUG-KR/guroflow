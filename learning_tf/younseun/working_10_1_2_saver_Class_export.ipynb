{
 "cells": [
  {
   "cell_type": "code",
   "execution_count": 1,
   "metadata": {},
   "outputs": [
    {
     "name": "stdout",
     "output_type": "stream",
     "text": [
      "WARNING:tensorflow:From <ipython-input-1-0370c6e9e443>:12: read_data_sets (from tensorflow.contrib.learn.python.learn.datasets.mnist) is deprecated and will be removed in a future version.\n",
      "Instructions for updating:\n",
      "Please use alternatives such as official/mnist/dataset.py from tensorflow/models.\n",
      "WARNING:tensorflow:From /usr/local/lib/python3.6/dist-packages/tensorflow/contrib/learn/python/learn/datasets/mnist.py:260: maybe_download (from tensorflow.contrib.learn.python.learn.datasets.base) is deprecated and will be removed in a future version.\n",
      "Instructions for updating:\n",
      "Please write your own downloading logic.\n",
      "WARNING:tensorflow:From /usr/local/lib/python3.6/dist-packages/tensorflow/contrib/learn/python/learn/datasets/mnist.py:262: extract_images (from tensorflow.contrib.learn.python.learn.datasets.mnist) is deprecated and will be removed in a future version.\n",
      "Instructions for updating:\n",
      "Please use tf.data to implement this functionality.\n",
      "Extracting /tmp/data/train-images-idx3-ubyte.gz\n",
      "WARNING:tensorflow:From /usr/local/lib/python3.6/dist-packages/tensorflow/contrib/learn/python/learn/datasets/mnist.py:267: extract_labels (from tensorflow.contrib.learn.python.learn.datasets.mnist) is deprecated and will be removed in a future version.\n",
      "Instructions for updating:\n",
      "Please use tf.data to implement this functionality.\n",
      "Extracting /tmp/data/train-labels-idx1-ubyte.gz\n",
      "WARNING:tensorflow:From /usr/local/lib/python3.6/dist-packages/tensorflow/contrib/learn/python/learn/datasets/mnist.py:110: dense_to_one_hot (from tensorflow.contrib.learn.python.learn.datasets.mnist) is deprecated and will be removed in a future version.\n",
      "Instructions for updating:\n",
      "Please use tf.one_hot on tensors.\n",
      "Extracting /tmp/data/t10k-images-idx3-ubyte.gz\n",
      "Extracting /tmp/data/t10k-labels-idx1-ubyte.gz\n",
      "WARNING:tensorflow:From /usr/local/lib/python3.6/dist-packages/tensorflow/contrib/learn/python/learn/datasets/mnist.py:290: DataSet.__init__ (from tensorflow.contrib.learn.python.learn.datasets.mnist) is deprecated and will be removed in a future version.\n",
      "Instructions for updating:\n",
      "Please use alternatives such as official/mnist/dataset.py from tensorflow/models.\n"
     ]
    }
   ],
   "source": [
    "import tensorflow as tf\n",
    "import numpy as np\n",
    "import os \n",
    "from tensorflow.examples.tutorials.mnist import input_data\n",
    "\n",
    "DATA_DIR = '/tmp/data'\n",
    "SAVER_DIR = 'saved_model1'\n",
    "DIR = 'saved_model1'\n",
    "NUM_STEPS = 1000\n",
    "MINIBATCH_SIZE = 100\n",
    "\n",
    "data = input_data.read_data_sets(DATA_DIR, one_hot=True)"
   ]
  },
  {
   "cell_type": "code",
   "execution_count": 7,
   "metadata": {},
   "outputs": [
    {
     "name": "stdout",
     "output_type": "stream",
     "text": [
      "INFO:tensorflow:Restoring parameters from saved_model1/model_ckpt-1000\n",
      "테스트 데이터 정확도 (Restored) : 0.871100\n",
      "Accuracy: 87.11%\n"
     ]
    }
   ],
   "source": [
    "tf.reset_default_graph() \n",
    "x      = tf.placeholder(tf.float32, [None, 784],name='x')\n",
    "y_true = tf.placeholder(tf.float32, [None, 10])\n",
    "W = tf.Variable(tf.zeros([784, 10]),name='W')\n",
    "y_pred = tf.matmul(x, W)\n",
    "cross_entropy = tf.reduce_mean(\n",
    "             tf.nn.softmax_cross_entropy_with_logits(logits=y_pred,labels=y_true))\n",
    "gd_step = tf.train.GradientDescentOptimizer(0.5).minimize(cross_entropy)\n",
    "correct_mask = tf.equal(tf.argmax(y_pred, 1), tf.argmax(y_true, 1))\n",
    "accuracy = tf.reduce_mean(tf.cast(correct_mask, tf.float32))\n",
    "saver = tf.train.Saver()\n",
    "with tf.Session() as sess:\n",
    "    sess.run(tf.global_variables_initializer())    \n",
    "    saver.restore(sess, os.path.join(SAVER_DIR,\"model_ckpt-1000\")) \n",
    "    ans, pred, out_w = sess.run([accuracy, y_pred, W], feed_dict={x: data.test.images, y_true: data.test.labels})\n",
    "    print(\"테스트 데이터 정확도 (Restored) : %f\" % accuracy.eval(feed_dict={x: data.test.images, y_true: data.test.labels}))\n",
    "    print(\"Accuracy: {:.4}%\".format(ans*100))"
   ]
  },
  {
   "cell_type": "code",
   "execution_count": 8,
   "metadata": {},
   "outputs": [
    {
     "name": "stdout",
     "output_type": "stream",
     "text": [
      "true:[0. 0. 0. 0. 0. 0. 0. 1. 0. 0.]  pred:[-0.3024718  -2.4043725  -0.59930736  0.15354705 -0.25673893 -0.65945685\n",
      " -1.9741974   4.924059   -0.3892661   1.5082045 ]\n",
      "true:[0. 0. 1. 0. 0. 0. 0. 0. 0. 0.]  pred:[ 0.8621389  -0.40310863  2.9798      1.638452   -3.3302116   1.4230283\n",
      "  2.1995516  -3.384433    0.8187288  -2.8039465 ]\n",
      "true:[0. 1. 0. 0. 0. 0. 0. 0. 0. 0.]  pred:[-1.5293918   3.4856048   0.3592752   0.17442136 -1.1094943  -0.5209206\n",
      " -0.23922533 -0.3463064   0.33787555 -0.61183804]\n",
      "true:[1. 0. 0. 0. 0. 0. 0. 0. 0. 0.]  pred:[ 4.9290686  -4.369219   -0.10228848 -0.61924577 -2.0533636   1.2709112\n",
      "  1.7069877   0.53159845 -0.85255337 -0.4418952 ]\n",
      "true:[0. 0. 0. 0. 1. 0. 0. 0. 0. 0.]  pred:[-0.28224754 -3.3971071   0.5395232  -1.2355746   2.8677416  -0.7779082\n",
      "  0.19535995  0.60194725  0.19299427  1.295271  ]\n"
     ]
    }
   ],
   "source": [
    "print('true:{}  pred:{}'.format(data.test.labels[0], pred[0]))\n",
    "print('true:{}  pred:{}'.format(data.test.labels[1], pred[1]))\n",
    "print('true:{}  pred:{}'.format(data.test.labels[2], pred[2]))\n",
    "print('true:{}  pred:{}'.format(data.test.labels[3], pred[3]))\n",
    "print('true:{}  pred:{}'.format(data.test.labels[4], pred[4]))"
   ]
  },
  {
   "cell_type": "code",
   "execution_count": null,
   "metadata": {},
   "outputs": [],
   "source": []
  },
  {
   "cell_type": "code",
   "execution_count": null,
   "metadata": {},
   "outputs": [],
   "source": []
  },
  {
   "cell_type": "code",
   "execution_count": null,
   "metadata": {},
   "outputs": [],
   "source": []
  },
  {
   "cell_type": "code",
   "execution_count": null,
   "metadata": {},
   "outputs": [],
   "source": []
  },
  {
   "cell_type": "code",
   "execution_count": null,
   "metadata": {},
   "outputs": [],
   "source": []
  },
  {
   "cell_type": "code",
   "execution_count": null,
   "metadata": {},
   "outputs": [],
   "source": []
  },
  {
   "cell_type": "code",
   "execution_count": null,
   "metadata": {},
   "outputs": [],
   "source": []
  },
  {
   "cell_type": "code",
   "execution_count": null,
   "metadata": {},
   "outputs": [],
   "source": []
  },
  {
   "cell_type": "code",
   "execution_count": null,
   "metadata": {},
   "outputs": [],
   "source": []
  },
  {
   "cell_type": "code",
   "execution_count": null,
   "metadata": {},
   "outputs": [],
   "source": []
  },
  {
   "cell_type": "code",
   "execution_count": null,
   "metadata": {},
   "outputs": [],
   "source": []
  }
 ],
 "metadata": {
  "kernelspec": {
   "display_name": "Python 3",
   "language": "python",
   "name": "python3"
  },
  "language_info": {
   "codemirror_mode": {
    "name": "ipython",
    "version": 3
   },
   "file_extension": ".py",
   "mimetype": "text/x-python",
   "name": "python",
   "nbconvert_exporter": "python",
   "pygments_lexer": "ipython3",
   "version": "3.6.5"
  }
 },
 "nbformat": 4,
 "nbformat_minor": 2
}
