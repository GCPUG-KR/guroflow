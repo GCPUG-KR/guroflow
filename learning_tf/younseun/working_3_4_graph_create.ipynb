{
 "cells": [
  {
   "cell_type": "code",
   "execution_count": 1,
   "metadata": {},
   "outputs": [],
   "source": [
    "import tensorflow as tf\n",
    "import numpy as np\n",
    "\n",
    "# 맷플롯립 설정\n",
    "%matplotlib inline\n",
    "import matplotlib\n",
    "import matplotlib.pyplot as plt\n",
    "plt.rcParams['axes.labelsize'] = 14\n",
    "plt.rcParams['xtick.labelsize'] = 12\n",
    "plt.rcParams['ytick.labelsize'] = 12"
   ]
  },
  {
   "cell_type": "markdown",
   "metadata": {},
   "source": [
    "## 3.4.1 변수"
   ]
  },
  {
   "cell_type": "code",
   "execution_count": 7,
   "metadata": {},
   "outputs": [
    {
     "name": "stdout",
     "output_type": "stream",
     "text": [
      "Tensor(\"random_normal_5:0\", shape=(1, 5), dtype=float32)\n",
      "[[-0.13504158  0.13214399 -0.44238895  0.17887208  0.5146913 ]]\n"
     ]
    }
   ],
   "source": [
    "init_val = tf.random_normal((1,5), 0,1)\n",
    "print('{}'.format(init_val))\n",
    "with tf.Session() as sess:\n",
    "    a = sess.run(init_val)\n",
    "    print(a)"
   ]
  },
  {
   "cell_type": "code",
   "execution_count": 8,
   "metadata": {},
   "outputs": [
    {
     "name": "stdout",
     "output_type": "stream",
     "text": [
      "pre run : <tf.Variable 'var_1:0' shape=(1, 5) dtype=float32_ref>\n",
      "****************************************************************************************************\n",
      "post run var shape : (1, 5)\n",
      "post run : [[-0.20539847  0.0871382  -0.7979707  -1.8239903   1.0691137 ]]\n"
     ]
    }
   ],
   "source": [
    "init_val = tf.random_normal((1,5), 0,1)\n",
    "var = tf.Variable(init_val, name='var')\n",
    "print('pre run : {}'.format(var));print('*'*100)\n",
    "\n",
    "init = tf.global_variables_initializer()\n",
    "with tf.Session() as sess:\n",
    "    sess.run(init)\n",
    "    out_var = sess.run(var)\n",
    "print('post run var shape : {}'.format(var.get_shape()))\n",
    "print('post run : {}'.format(out_var))"
   ]
  },
  {
   "cell_type": "markdown",
   "metadata": {},
   "source": [
    "## 3.4.2 플레이스홀더"
   ]
  },
  {
   "cell_type": "code",
   "execution_count": 70,
   "metadata": {},
   "outputs": [
    {
     "name": "stdout",
     "output_type": "stream",
     "text": [
      "[[0.6242332  0.9534483  0.33723328 0.85872185 0.3230448  0.2473943\n",
      "  0.07375263 0.43505386 0.0208752  0.8227298 ]\n",
      " [0.0273001  0.84034646 0.1342392  0.2202513  0.17745961 0.48527142\n",
      "  0.01971153 0.24546838 0.7863715  0.82952845]\n",
      " [0.8752797  0.29017118 0.6722601  0.9021337  0.07447148 0.07579491\n",
      "  0.9301329  0.00837442 0.8698672  0.3346498 ]]\n"
     ]
    }
   ],
   "source": [
    "X_data = np.random.rand(3, 10)\n",
    "\n",
    "ph = tf.placeholder(tf.float32, shape=(None, 10))\n",
    "\n",
    "with tf.Session() as sess:\n",
    "    post_X_data = sess.run(ph, feed_dict={ph: X_data})\n",
    "    \n",
    "print(post_X_data)"
   ]
  },
  {
   "cell_type": "code",
   "execution_count": 85,
   "metadata": {},
   "outputs": [
    {
     "name": "stdout",
     "output_type": "stream",
     "text": [
      "[[3.5560033]\n",
      " [2.5210829]\n",
      " [2.7346659]\n",
      " [3.845648 ]\n",
      " [3.1896462]]\n",
      "[[2.5560033]\n",
      " [1.5210829]\n",
      " [1.7346659]\n",
      " [2.845648 ]\n",
      " [2.1896462]]\n",
      "2.845648\n"
     ]
    }
   ],
   "source": [
    "x_data = np.random.rand(5, 10)\n",
    "w_data = np.random.rand(10,1)\n",
    "\n",
    "with tf.Graph().as_default():\n",
    "    x = tf.placeholder(tf.float32, shape=(5,10))\n",
    "    w = tf.placeholder(tf.float32, shape=(10,1))\n",
    "    b = tf.fill((5,1),-1.)\n",
    "    xw = tf.matmul(x,w)\n",
    "    xwb = xw + b\n",
    "    s = tf.reduce_max(xwb)\n",
    "    with tf.Session() as sess:\n",
    "        outs = sess.run([x,w,b,xw,xwb,s], feed_dict={x:x_data, w:w_data})\n",
    "print(outs[3])\n",
    "print(outs[4])\n",
    "print(outs[5])"
   ]
  },
  {
   "cell_type": "markdown",
   "metadata": {},
   "source": [
    "## 3.4.3 최적화"
   ]
  },
  {
   "cell_type": "code",
   "execution_count": 111,
   "metadata": {},
   "outputs": [
    {
     "name": "stdout",
     "output_type": "stream",
     "text": [
      "(?, 3) (3, 1)\n"
     ]
    }
   ],
   "source": [
    "learning_rate = 0.01\n",
    "x = tf.placeholder(tf.float32, shape=[None,3])\n",
    "y_true = tf.placeholder(tf.float32, shape=None)\n",
    "w = tf.Variable([[0,0,0]], dtype=tf.float32, name='weight')\n",
    "b = tf.Variable(0, dtype=tf.float32, name='bias')\n",
    "\n",
    "# 적용 모델\n",
    "print(x.get_shape(), tf.transpose(w).get_shape())\n",
    "y_pred = tf.matmul(x, tf.transpose(w)) + b\n",
    "\n",
    "# Loss Function : MSE방식\n",
    "loss = tf.reduce_mean(tf.square(y_true- y_pred))\n",
    "\n",
    "#Loss Function : 크로스엔트로피(Cross Entropy)\n",
    "loss = tf.nn.sigmoid_cross_entropy_with_logits(labels=y_true, logits=y_pred)\n",
    "loss = tf.reduce_mean(loss)\n",
    "\n",
    "#경사하강법 Optimizer\n",
    "optimizer = tf.train.GradientDescentOptimizer(learning_rate)\n",
    "train = optimizer.minimize(loss)"
   ]
  },
  {
   "cell_type": "code",
   "execution_count": 98,
   "metadata": {},
   "outputs": [],
   "source": [
    "    x = tf.placeholder(tf.float32,shape=[None,3])\n",
    "    y_true = tf.placeholder(tf.float32,shape=None)\n",
    "    \n",
    "    with tf.name_scope('inference') as scope:\n",
    "        w = tf.Variable([[0,0,0]],dtype=tf.float32,name='weights')\n",
    "        b = tf.Variable(0,dtype=tf.float32,name='bias')\n",
    "        y_pred = tf.matmul(w,tf.transpose(x)) + b\n"
   ]
  },
  {
   "cell_type": "markdown",
   "metadata": {},
   "source": [
    "# 예제1 선형회귀분석 "
   ]
  },
  {
   "cell_type": "code",
   "execution_count": 9,
   "metadata": {},
   "outputs": [
    {
     "name": "stdout",
     "output_type": "stream",
     "text": [
      "x_data : <class 'numpy.ndarray'>  Dimension : (2000, 3)\n",
      "w_real : <class 'list'>           Dimension : 3\n",
      "b_real : <class 'float'> \n",
      "noise : <class 'numpy.ndarray'>   Dimension : (1, 2000)\n",
      "y_data : <class 'numpy.ndarray'>  Dimension : (1, 2000)\n"
     ]
    }
   ],
   "source": [
    "import numpy as np\n",
    "\n",
    "#데이터를 생성하고 결과를 시뮬레이션\n",
    "x_data = np.random.randn(2000,3)\n",
    "w_real =[0.3,0.5,0.1]\n",
    "b_real = -0.2\n",
    "noise = np.random.randn(1,2000) * 0.1\n",
    "y_data = np.matmul(w_real, x_data.T) + b_real + noise\n",
    "print('x_data : {}  Dimension : {}'.format(type(x_data), x_data.shape))\n",
    "print('w_real : {}           Dimension : {}'.format(type(w_real), len(w_real)))\n",
    "print('b_real : {} '.format(type(b_real)))\n",
    "print('noise : {}   Dimension : {}'.format(type(noise), noise.shape))\n",
    "print('y_data : {}  Dimension : {}'.format(type(y_data), y_data.shape))"
   ]
  },
  {
   "cell_type": "code",
   "execution_count": 11,
   "metadata": {},
   "outputs": [],
   "source": [
    "# Training Data와 Label\n",
    "x = tf.placeholder(tf.float32, shape=[None,3])\n",
    "y_true = tf.placeholder(tf.float32, shape=None)\n",
    "\n",
    "# 모델 생성\n",
    "w = tf.Variable([[0,0,0]], dtype=tf.float32, name='weight')\n",
    "b = tf.Variable(0, dtype=tf.float32, name='bias')\n",
    "y_pred = tf.matmul(w,tf.transpose(x)) + b\n",
    "\n",
    "# Loss Function\n",
    "loss = tf.reduce_mean(tf.square(y_true - y_pred))\n",
    "\n",
    "# Optimizer\n",
    "learning_rate = 0.5\n",
    "optimizer = tf.train.GradientDescentOptimizer(learning_rate)\n",
    "train = optimizer.minimize(loss)\n"
   ]
  },
  {
   "cell_type": "code",
   "execution_count": 12,
   "metadata": {},
   "outputs": [
    {
     "name": "stdout",
     "output_type": "stream",
     "text": [
      "0  >>>  [array([[0.30394915, 0.5321585 , 0.10993923]], dtype=float32), -0.1928032, 0.41996437, None]\n",
      "10  >>>  [array([[0.30083358, 0.5038404 , 0.10220541]], dtype=float32), -0.20049982, 0.010510023, None]\n",
      "20  >>>  [array([[0.30083358, 0.5038404 , 0.10220541]], dtype=float32), -0.20049982, 0.010510023, None]\n",
      "30  >>>  [array([[0.30083358, 0.5038404 , 0.10220541]], dtype=float32), -0.20049982, 0.010510023, None]\n",
      "40  >>>  [array([[0.30083358, 0.5038404 , 0.10220541]], dtype=float32), -0.20049982, 0.010510023, None]\n",
      "50  >>>  [array([[0.30083358, 0.5038404 , 0.10220541]], dtype=float32), -0.20049982, 0.010510023, None]\n",
      "60  >>>  [array([[0.30083358, 0.5038404 , 0.10220541]], dtype=float32), -0.20049982, 0.010510023, None]\n",
      "70  >>>  [array([[0.30083358, 0.5038404 , 0.10220541]], dtype=float32), -0.20049982, 0.010510023, None]\n",
      "80  >>>  [array([[0.30083358, 0.5038404 , 0.10220541]], dtype=float32), -0.20049982, 0.010510023, None]\n",
      "90  >>>  [array([[0.30083358, 0.5038404 , 0.10220541]], dtype=float32), -0.20049982, 0.010510023, None]\n"
     ]
    }
   ],
   "source": [
    "# Run\n",
    "NUM_STEPS = 100\n",
    "wb_ = []\n",
    "init = tf.global_variables_initializer()\n",
    "with tf.Session() as sess:\n",
    "    sess.run(init)\n",
    "    for i in range(NUM_STEPS):\n",
    "        post_train = sess.run([w,b,loss, train], feed_dict={x:x_data, y_true:y_data})\n",
    "        if i % 10 == 0:\n",
    "            print(i,' >>> ',post_train)\n",
    "        wb_.append(post_train)"
   ]
  },
  {
   "cell_type": "code",
   "execution_count": 216,
   "metadata": {},
   "outputs": [],
   "source": []
  },
  {
   "cell_type": "code",
   "execution_count": 217,
   "metadata": {},
   "outputs": [],
   "source": []
  },
  {
   "cell_type": "code",
   "execution_count": 233,
   "metadata": {},
   "outputs": [
    {
     "name": "stdout",
     "output_type": "stream",
     "text": [
      "0  >>>  [array([[0.33213407, 0.52931863, 0.07295376]], dtype=float32), -0.19206549, 0.42126128, None]\n",
      "10  >>>  [array([[0.29984197, 0.504546  , 0.09622026]], dtype=float32), -0.1966802, 0.009812853, None]\n",
      "20  >>>  [array([[0.29984197, 0.504546  , 0.09622026]], dtype=float32), -0.1966802, 0.009812853, None]\n",
      "30  >>>  [array([[0.29984197, 0.504546  , 0.09622026]], dtype=float32), -0.1966802, 0.009812853, None]\n",
      "40  >>>  [array([[0.29984197, 0.504546  , 0.09622026]], dtype=float32), -0.1966802, 0.009812853, None]\n",
      "50  >>>  [array([[0.29984197, 0.504546  , 0.09622026]], dtype=float32), -0.1966802, 0.009812853, None]\n",
      "60  >>>  [array([[0.29984197, 0.504546  , 0.09622026]], dtype=float32), -0.1966802, 0.009812853, None]\n",
      "70  >>>  [array([[0.29984197, 0.504546  , 0.09622026]], dtype=float32), -0.1966802, 0.009812853, None]\n",
      "80  >>>  [array([[0.29984197, 0.504546  , 0.09622026]], dtype=float32), -0.1966802, 0.009812853, None]\n",
      "90  >>>  [array([[0.29984197, 0.504546  , 0.09622026]], dtype=float32), -0.1966802, 0.009812853, None]\n"
     ]
    }
   ],
   "source": []
  },
  {
   "cell_type": "markdown",
   "metadata": {},
   "source": [
    "# 예제 2 로지스틱 회귀"
   ]
  },
  {
   "cell_type": "code",
   "execution_count": 238,
   "metadata": {},
   "outputs": [],
   "source": [
    "N = 20000\n",
    "\n",
    "def sigmoid(x):\n",
    "    return 1 / (1+np.exp(-x))\n",
    "\n",
    "#데이터를 생성하고 결과를 시뮬레이션\n",
    "x_data = np.random.randn(2000,3)\n",
    "w_real =[0.3,0.5,0.1]\n",
    "b_real = -0.2\n",
    "wxb = np.matmul(w_real, x_data.T) + b_real\n",
    "\n",
    "y_data_pre_noise = sigmoid(wxb)\n",
    "y_data = np.random.binomial(1, y_data_pre_noise)\n"
   ]
  },
  {
   "cell_type": "code",
   "execution_count": 242,
   "metadata": {},
   "outputs": [],
   "source": [
    "# Train Data\n",
    "x = tf.placeholder(tf.float32,shape=[None,3])\n",
    "y_true = tf.placeholder(tf.float32,shape=None)\n",
    "\n",
    "# MODEL\n",
    "w = tf.Variable([[0,0,0]],dtype=tf.float32,name='weights')\n",
    "b = tf.Variable(0,dtype=tf.float32,name='bias')\n",
    "y_pred = tf.matmul(w,tf.transpose(x)) + b\n",
    "\n",
    "# LOss Function\n",
    "loss = tf.nn.sigmoid_cross_entropy_with_logits(labels=y_true, logits=y_pred)\n",
    "loss = tf.reduce_mean(loss)\n",
    "\n",
    "# MODEL Training\n",
    "learning_rate = 0.5\n",
    "optimizer = tf.train.GradientDescentOptimizer(learning_rate)\n",
    "train = optimizer.minimize(loss)"
   ]
  },
  {
   "cell_type": "code",
   "execution_count": 248,
   "metadata": {},
   "outputs": [
    {
     "name": "stdout",
     "output_type": "stream",
     "text": [
      "0  >>>  [array([[0.03451659, 0.06489068, 0.00570381]], dtype=float32), -0.021999998, 0.6931461, None]\n",
      "100  >>>  [array([[0.30871144, 0.5553856 , 0.02656855]], dtype=float32), -0.20468087, 0.64421684, None]\n",
      "200  >>>  [array([[0.30872285, 0.5554024 , 0.0265665 ]], dtype=float32), -0.20468955, 0.6442168, None]\n",
      "300  >>>  [array([[0.30872285, 0.5554024 , 0.0265665 ]], dtype=float32), -0.20468955, 0.6442168, None]\n",
      "400  >>>  [array([[0.30872285, 0.5554024 , 0.0265665 ]], dtype=float32), -0.20468955, 0.6442168, None]\n",
      "500  >>>  [array([[0.30872285, 0.5554024 , 0.0265665 ]], dtype=float32), -0.20468955, 0.6442168, None]\n",
      "600  >>>  [array([[0.30872285, 0.5554024 , 0.0265665 ]], dtype=float32), -0.20468955, 0.6442168, None]\n",
      "700  >>>  [array([[0.30872285, 0.5554024 , 0.0265665 ]], dtype=float32), -0.20468955, 0.6442168, None]\n",
      "800  >>>  [array([[0.30872285, 0.5554024 , 0.0265665 ]], dtype=float32), -0.20468955, 0.6442168, None]\n",
      "900  >>>  [array([[0.30872285, 0.5554024 , 0.0265665 ]], dtype=float32), -0.20468955, 0.6442168, None]\n"
     ]
    }
   ],
   "source": [
    "# Run\n",
    "NUM_STEPS = 1000\n",
    "wb_ = []\n",
    "init = tf.global_variables_initializer()\n",
    "with tf.Session() as sess:\n",
    "    sess.run(init)\n",
    "    for i in range(NUM_STEPS):\n",
    "        post_train = sess.run([w,b,loss, train], feed_dict={x:x_data, y_true:y_data})\n",
    "        if i % 100 == 0:\n",
    "            print(i,' >>> ',post_train)\n",
    "        wb_.append(post_train)"
   ]
  },
  {
   "cell_type": "code",
   "execution_count": null,
   "metadata": {},
   "outputs": [],
   "source": []
  }
 ],
 "metadata": {
  "kernelspec": {
   "display_name": "Python 3",
   "language": "python",
   "name": "python3"
  },
  "language_info": {
   "codemirror_mode": {
    "name": "ipython",
    "version": 3
   },
   "file_extension": ".py",
   "mimetype": "text/x-python",
   "name": "python",
   "nbconvert_exporter": "python",
   "pygments_lexer": "ipython3",
   "version": "3.6.5"
  }
 },
 "nbformat": 4,
 "nbformat_minor": 2
}
