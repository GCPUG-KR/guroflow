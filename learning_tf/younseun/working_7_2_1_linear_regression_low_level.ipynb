{
 "cells": [
  {
   "cell_type": "code",
   "execution_count": 7,
   "metadata": {},
   "outputs": [],
   "source": [
    "import tensorflow as tf\n",
    "from sklearn import datasets, metrics, preprocessing\n",
    "boston = datasets.load_boston()\n",
    "x_data = preprocessing.StandardScaler().fit_transform(boston.data)\n",
    "y_data = boston.target"
   ]
  },
  {
   "cell_type": "code",
   "execution_count": 16,
   "metadata": {},
   "outputs": [],
   "source": [
    "x = tf.placeholder(tf.float64, shape=[None,13])\n",
    "y_true = tf.placeholder(tf.float64, shape=[None])"
   ]
  },
  {
   "cell_type": "code",
   "execution_count": 17,
   "metadata": {},
   "outputs": [],
   "source": [
    "with tf.name_scope(\"inference\") as scope:\n",
    "    w = tf.Variable(tf.zeros([1,13], dtype=tf.float64, name=\"weight\"))\n",
    "    b = tf.Variable(0, dtype = tf.float64, name=\"bias\")\n",
    "    y_pred = tf.matmul(w, tf.transpose(x)) + b"
   ]
  },
  {
   "cell_type": "code",
   "execution_count": 23,
   "metadata": {},
   "outputs": [],
   "source": [
    "with tf.name_scope(\"loss\") as scope:\n",
    "    loss = tf.reduce_mean(tf.square(y_true - y_pred))"
   ]
  },
  {
   "cell_type": "code",
   "execution_count": 26,
   "metadata": {},
   "outputs": [],
   "source": [
    "with tf.name_scope(\"train\") as scope:\n",
    "    learning_rate = 0.1\n",
    "    optimizer = tf.train.GradientDescentOptimizer(learning_rate)\n",
    "    train = optimizer.minimize(loss)"
   ]
  },
  {
   "cell_type": "code",
   "execution_count": 40,
   "metadata": {},
   "outputs": [
    {
     "name": "stdout",
     "output_type": "stream",
     "text": [
      "10 29.68598786295589\n",
      "20 22.948248850292195\n",
      "30 22.496532617759904\n",
      "40 22.285725111768993\n",
      "50 22.162075973852346\n",
      "60 22.08484849368048\n",
      "70 22.034010721994104\n",
      "80 21.99902358447104\n",
      "90 21.974081714944443\n",
      "100 21.95582750265467\n",
      "110 21.9422156443183\n",
      "120 21.93193422190739\n",
      "130 21.92410108876595\n",
      "140 21.918099122959205\n",
      "150 21.913483066466654\n",
      "160 21.909924282373083\n",
      "170 21.907176298817536\n",
      "180 21.905052235964195\n",
      "190 21.903409358690183\n",
      "200 21.902138121879428\n"
     ]
    }
   ],
   "source": [
    "with tf.Session() as sess:\n",
    "    sess.run(tf.global_variables_initializer())\n",
    "    for step in range(200):\n",
    "        sess.run(train, feed_dict={x:x_data, y_true:y_data})\n",
    "        if (step+1) % 10 == 0:\n",
    "            print(step+1, sess.run(loss, feed_dict={x:x_data, y_true:y_data}))\n",
    "    MSE = sess.run(loss, feed_dict={x:x_data, y_true:y_data})"
   ]
  },
  {
   "cell_type": "code",
   "execution_count": null,
   "metadata": {},
   "outputs": [],
   "source": []
  }
 ],
 "metadata": {
  "kernelspec": {
   "display_name": "Python 3",
   "language": "python",
   "name": "python3"
  },
  "language_info": {
   "codemirror_mode": {
    "name": "ipython",
    "version": 3
   },
   "file_extension": ".py",
   "mimetype": "text/x-python",
   "name": "python",
   "nbconvert_exporter": "python",
   "pygments_lexer": "ipython3",
   "version": "3.6.5"
  }
 },
 "nbformat": 4,
 "nbformat_minor": 2
}
