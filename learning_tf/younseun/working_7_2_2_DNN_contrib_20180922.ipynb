{
 "cells": [
  {
   "cell_type": "code",
   "execution_count": 1,
   "metadata": {},
   "outputs": [],
   "source": [
    "import tensorflow as tf\n",
    "from tensorflow.contrib import learn\n",
    "import sys\n",
    "import numpy as np\n",
    "from tensorflow.examples.tutorials.mnist import input_data\n",
    "DATA_DIR = '/tmp/data'"
   ]
  },
  {
   "cell_type": "code",
   "execution_count": 3,
   "metadata": {},
   "outputs": [
    {
     "name": "stdout",
     "output_type": "stream",
     "text": [
      "Extracting /tmp/data/train-images-idx3-ubyte.gz\n",
      "Extracting /tmp/data/train-labels-idx1-ubyte.gz\n",
      "Extracting /tmp/data/t10k-images-idx3-ubyte.gz\n",
      "Extracting /tmp/data/t10k-labels-idx1-ubyte.gz\n"
     ]
    }
   ],
   "source": [
    "data = input_data.read_data_sets(DATA_DIR, one_hot=False)"
   ]
  },
  {
   "cell_type": "code",
   "execution_count": 14,
   "metadata": {},
   "outputs": [
    {
     "name": "stdout",
     "output_type": "stream",
     "text": [
      "data.train >> images:(55000, 784) labels:(55000,)\n",
      "data.test  >> images:(10000, 784) labels:(10000,)\n"
     ]
    }
   ],
   "source": [
    "x_data, y_data = data.train.images, data.train.labels.astype(np.int32)\n",
    "x_test, y_test = data.test.images, data.test.labels.astype(np.int32)\n",
    "print('data.train >> images:{} labels:{}'.format(data.train.images.shape, data.train.labels.shape))\n",
    "print('data.test  >> images:{} labels:{}'.format(data.test.images.shape, data.test.labels.shape))"
   ]
  },
  {
   "cell_type": "code",
   "execution_count": 19,
   "metadata": {},
   "outputs": [
    {
     "name": "stdout",
     "output_type": "stream",
     "text": [
      "INFO:tensorflow:Using default config.\n",
      "WARNING:tensorflow:Using temporary folder as model directory: /tmp/tmpxtkvznhv\n",
      "INFO:tensorflow:Using config: {'_task_type': None, '_task_id': 0, '_cluster_spec': <tensorflow.python.training.server_lib.ClusterSpec object at 0x7fd463e2dfd0>, '_master': '', '_num_ps_replicas': 0, '_num_worker_replicas': 0, '_environment': 'local', '_is_chief': True, '_evaluation_master': '', '_train_distribute': None, '_device_fn': None, '_tf_config': gpu_options {\n",
      "  per_process_gpu_memory_fraction: 1.0\n",
      "}\n",
      ", '_tf_random_seed': None, '_save_summary_steps': 100, '_save_checkpoints_secs': 600, '_log_step_count_steps': 100, '_session_config': None, '_save_checkpoints_steps': None, '_keep_checkpoint_max': 5, '_keep_checkpoint_every_n_hours': 10000, '_model_dir': '/tmp/tmpxtkvznhv'}\n",
      "INFO:tensorflow:Create CheckpointSaverHook.\n",
      "INFO:tensorflow:Graph was finalized.\n",
      "INFO:tensorflow:Running local_init_op.\n",
      "INFO:tensorflow:Done running local_init_op.\n",
      "INFO:tensorflow:Saving checkpoints for 0 into /tmp/tmpxtkvznhv/model.ckpt.\n",
      "INFO:tensorflow:loss = 2.3847647, step = 1\n",
      "INFO:tensorflow:global_step/sec: 342.451\n",
      "INFO:tensorflow:loss = 0.20173258, step = 101 (0.296 sec)\n",
      "INFO:tensorflow:global_step/sec: 354.146\n",
      "INFO:tensorflow:loss = 0.20763832, step = 201 (0.281 sec)\n",
      "INFO:tensorflow:global_step/sec: 345.62\n",
      "INFO:tensorflow:loss = 0.14392833, step = 301 (0.289 sec)\n",
      "INFO:tensorflow:global_step/sec: 405.488\n",
      "INFO:tensorflow:loss = 0.23314285, step = 401 (0.246 sec)\n",
      "INFO:tensorflow:global_step/sec: 398.228\n",
      "INFO:tensorflow:loss = 0.29115438, step = 501 (0.253 sec)\n",
      "INFO:tensorflow:global_step/sec: 359.026\n",
      "INFO:tensorflow:loss = 0.16153386, step = 601 (0.277 sec)\n",
      "INFO:tensorflow:global_step/sec: 355.831\n",
      "INFO:tensorflow:loss = 0.0655289, step = 701 (0.281 sec)\n",
      "INFO:tensorflow:global_step/sec: 357.903\n",
      "INFO:tensorflow:loss = 0.20646584, step = 801 (0.281 sec)\n",
      "INFO:tensorflow:global_step/sec: 348.721\n",
      "INFO:tensorflow:loss = 0.115743846, step = 901 (0.285 sec)\n",
      "INFO:tensorflow:global_step/sec: 356.554\n",
      "INFO:tensorflow:loss = 0.22903883, step = 1001 (0.282 sec)\n",
      "INFO:tensorflow:global_step/sec: 399.485\n",
      "INFO:tensorflow:loss = 0.17016917, step = 1101 (0.249 sec)\n",
      "INFO:tensorflow:global_step/sec: 433.977\n",
      "INFO:tensorflow:loss = 0.03664242, step = 1201 (0.232 sec)\n",
      "INFO:tensorflow:global_step/sec: 447.835\n",
      "INFO:tensorflow:loss = 0.14746734, step = 1301 (0.221 sec)\n",
      "INFO:tensorflow:global_step/sec: 451.795\n",
      "INFO:tensorflow:loss = 0.042408522, step = 1401 (0.223 sec)\n",
      "INFO:tensorflow:global_step/sec: 450.748\n",
      "INFO:tensorflow:loss = 0.07492412, step = 1501 (0.220 sec)\n",
      "INFO:tensorflow:global_step/sec: 457.245\n",
      "INFO:tensorflow:loss = 0.096658796, step = 1601 (0.219 sec)\n",
      "INFO:tensorflow:global_step/sec: 448.265\n",
      "INFO:tensorflow:loss = 0.14831576, step = 1701 (0.223 sec)\n",
      "INFO:tensorflow:global_step/sec: 428.457\n",
      "INFO:tensorflow:loss = 0.07911687, step = 1801 (0.233 sec)\n",
      "INFO:tensorflow:global_step/sec: 446.14\n",
      "INFO:tensorflow:loss = 0.071627736, step = 1901 (0.224 sec)\n",
      "INFO:tensorflow:Saving checkpoints for 2000 into /tmp/tmpxtkvznhv/model.ckpt.\n",
      "INFO:tensorflow:Loss for final step: 0.03658296.\n",
      "INFO:tensorflow:Starting evaluation at 2018-09-22-07:42:14\n",
      "INFO:tensorflow:Graph was finalized.\n",
      "INFO:tensorflow:Restoring parameters from /tmp/tmpxtkvznhv/model.ckpt-2000\n",
      "INFO:tensorflow:Running local_init_op.\n",
      "INFO:tensorflow:Done running local_init_op.\n",
      "INFO:tensorflow:Evaluation [1/1]\n",
      "INFO:tensorflow:Finished evaluation at 2018-09-22-07:42:15\n",
      "INFO:tensorflow:Saving dict for global step 2000: accuracy = 0.9693, global_step = 2000, loss = 0.10465732\n",
      "test accuracy: 0.9692999720573425\n"
     ]
    }
   ],
   "source": [
    "NUM_STEPS = 2000\n",
    "MINIBATCH_SIZE = 128\n",
    "\n",
    "feature_columns = learn.infer_real_valued_columns_from_input(x_data)\n",
    "\n",
    "# 모델 생성\n",
    "dnn = learn.DNNClassifier(\n",
    "    feature_columns=feature_columns,\n",
    "    hidden_units=[50],\n",
    "    n_classes=10,\n",
    "    optimizer=tf.train.ProximalAdagradOptimizer(\n",
    "    learning_rate=0.2)\n",
    "    )\n",
    "\n",
    "# 모델 적합\n",
    "dnn.fit(x=x_data,y=y_data, steps=NUM_STEPS,\n",
    "        batch_size=MINIBATCH_SIZE)\n",
    "\n",
    "# 모델 평가\n",
    "test_acc = dnn.evaluate(x=x_test,y=y_test, steps=1)[\"accuracy\"]\n",
    "print('test accuracy: {}'.format(test_acc))"
   ]
  },
  {
   "cell_type": "code",
   "execution_count": 20,
   "metadata": {},
   "outputs": [
    {
     "name": "stdout",
     "output_type": "stream",
     "text": [
      "INFO:tensorflow:Using default config.\n",
      "WARNING:tensorflow:Using temporary folder as model directory: /tmp/tmp97agmkc2\n",
      "INFO:tensorflow:Using config: {'_task_type': None, '_task_id': 0, '_cluster_spec': <tensorflow.python.training.server_lib.ClusterSpec object at 0x7fd46381cda0>, '_master': '', '_num_ps_replicas': 0, '_num_worker_replicas': 0, '_environment': 'local', '_is_chief': True, '_evaluation_master': '', '_train_distribute': None, '_device_fn': None, '_tf_config': gpu_options {\n",
      "  per_process_gpu_memory_fraction: 1.0\n",
      "}\n",
      ", '_tf_random_seed': None, '_save_summary_steps': 100, '_save_checkpoints_secs': 600, '_log_step_count_steps': 100, '_session_config': None, '_save_checkpoints_steps': None, '_keep_checkpoint_max': 5, '_keep_checkpoint_every_n_hours': 10000, '_model_dir': '/tmp/tmp97agmkc2'}\n",
      "INFO:tensorflow:Create CheckpointSaverHook.\n",
      "INFO:tensorflow:Graph was finalized.\n",
      "INFO:tensorflow:Running local_init_op.\n",
      "INFO:tensorflow:Done running local_init_op.\n",
      "INFO:tensorflow:Saving checkpoints for 0 into /tmp/tmp97agmkc2/model.ckpt.\n",
      "INFO:tensorflow:loss = 2.3652172, step = 1\n",
      "INFO:tensorflow:global_step/sec: 337.191\n",
      "INFO:tensorflow:loss = 0.21024899, step = 101 (0.298 sec)\n",
      "INFO:tensorflow:global_step/sec: 367.889\n",
      "INFO:tensorflow:loss = 0.203998, step = 201 (0.272 sec)\n",
      "INFO:tensorflow:global_step/sec: 371.167\n",
      "INFO:tensorflow:loss = 0.11510399, step = 301 (0.269 sec)\n",
      "INFO:tensorflow:global_step/sec: 376.53\n",
      "INFO:tensorflow:loss = 0.21691051, step = 401 (0.265 sec)\n",
      "INFO:tensorflow:global_step/sec: 374.646\n",
      "INFO:tensorflow:loss = 0.22792965, step = 501 (0.267 sec)\n",
      "INFO:tensorflow:global_step/sec: 359.763\n",
      "INFO:tensorflow:loss = 0.12538835, step = 601 (0.278 sec)\n",
      "INFO:tensorflow:global_step/sec: 373.052\n",
      "INFO:tensorflow:loss = 0.07399433, step = 701 (0.268 sec)\n",
      "INFO:tensorflow:global_step/sec: 372.635\n",
      "INFO:tensorflow:loss = 0.21660346, step = 801 (0.270 sec)\n",
      "INFO:tensorflow:global_step/sec: 363.448\n",
      "INFO:tensorflow:loss = 0.07648135, step = 901 (0.273 sec)\n",
      "INFO:tensorflow:global_step/sec: 364.433\n",
      "INFO:tensorflow:loss = 0.21743485, step = 1001 (0.276 sec)\n",
      "INFO:tensorflow:global_step/sec: 368.141\n",
      "INFO:tensorflow:loss = 0.14871737, step = 1101 (0.270 sec)\n",
      "INFO:tensorflow:global_step/sec: 374.276\n",
      "INFO:tensorflow:loss = 0.024783788, step = 1201 (0.269 sec)\n",
      "INFO:tensorflow:global_step/sec: 363.972\n",
      "INFO:tensorflow:loss = 0.10797508, step = 1301 (0.273 sec)\n",
      "INFO:tensorflow:global_step/sec: 372.475\n",
      "INFO:tensorflow:loss = 0.025217403, step = 1401 (0.269 sec)\n",
      "INFO:tensorflow:global_step/sec: 365.441\n",
      "INFO:tensorflow:loss = 0.041946758, step = 1501 (0.273 sec)\n",
      "INFO:tensorflow:global_step/sec: 380.443\n",
      "INFO:tensorflow:loss = 0.088970795, step = 1601 (0.263 sec)\n",
      "INFO:tensorflow:global_step/sec: 369.706\n",
      "INFO:tensorflow:loss = 0.09166709, step = 1701 (0.270 sec)\n",
      "INFO:tensorflow:global_step/sec: 365.315\n",
      "INFO:tensorflow:loss = 0.063579425, step = 1801 (0.274 sec)\n",
      "INFO:tensorflow:global_step/sec: 358.481\n",
      "INFO:tensorflow:loss = 0.042787544, step = 1901 (0.279 sec)\n",
      "INFO:tensorflow:Saving checkpoints for 2000 into /tmp/tmp97agmkc2/model.ckpt.\n",
      "INFO:tensorflow:Loss for final step: 0.018416718.\n",
      "INFO:tensorflow:Starting evaluation at 2018-09-22-07:42:23\n",
      "INFO:tensorflow:Graph was finalized.\n",
      "INFO:tensorflow:Restoring parameters from /tmp/tmp97agmkc2/model.ckpt-2000\n",
      "INFO:tensorflow:Running local_init_op.\n",
      "INFO:tensorflow:Done running local_init_op.\n",
      "INFO:tensorflow:Evaluation [1/1]\n",
      "INFO:tensorflow:Finished evaluation at 2018-09-22-07:42:23\n",
      "INFO:tensorflow:Saving dict for global step 2000: accuracy = 0.9745, global_step = 2000, loss = 0.08823756\n",
      "test accuracy: 0.9745000004768372\n"
     ]
    }
   ],
   "source": [
    "NUM_STEPS = 2000\n",
    "MINIBATCH_SIZE = 128\n",
    "\n",
    "feature_columns = learn.infer_real_valued_columns_from_input(x_data)\n",
    "\n",
    "dnn = learn.DNNClassifier(\n",
    "    feature_columns=feature_columns,\n",
    "    hidden_units=[100],\n",
    "    n_classes=10,\n",
    "    optimizer=tf.train.ProximalAdagradOptimizer(\n",
    "    learning_rate=0.2)\n",
    "    )\n",
    "\n",
    "dnn.fit(x=x_data,y=y_data, steps=NUM_STEPS,\n",
    "        batch_size=MINIBATCH_SIZE)\n",
    "\n",
    "test_acc = dnn.evaluate(x=x_test,y=y_test, steps=1)[\"accuracy\"]\n",
    "print('test accuracy: {}'.format(test_acc))"
   ]
  },
  {
   "cell_type": "code",
   "execution_count": 21,
   "metadata": {},
   "outputs": [
    {
     "name": "stdout",
     "output_type": "stream",
     "text": [
      "INFO:tensorflow:Using default config.\n",
      "WARNING:tensorflow:Using temporary folder as model directory: /tmp/tmpb7rfkvy8\n",
      "INFO:tensorflow:Using config: {'_task_type': None, '_task_id': 0, '_cluster_spec': <tensorflow.python.training.server_lib.ClusterSpec object at 0x7fd463e27f60>, '_master': '', '_num_ps_replicas': 0, '_num_worker_replicas': 0, '_environment': 'local', '_is_chief': True, '_evaluation_master': '', '_train_distribute': None, '_device_fn': None, '_tf_config': gpu_options {\n",
      "  per_process_gpu_memory_fraction: 1.0\n",
      "}\n",
      ", '_tf_random_seed': None, '_save_summary_steps': 100, '_save_checkpoints_secs': 600, '_log_step_count_steps': 100, '_session_config': None, '_save_checkpoints_steps': None, '_keep_checkpoint_max': 5, '_keep_checkpoint_every_n_hours': 10000, '_model_dir': '/tmp/tmpb7rfkvy8'}\n",
      "INFO:tensorflow:Create CheckpointSaverHook.\n",
      "INFO:tensorflow:Graph was finalized.\n",
      "INFO:tensorflow:Running local_init_op.\n",
      "INFO:tensorflow:Done running local_init_op.\n",
      "INFO:tensorflow:Saving checkpoints for 0 into /tmp/tmpb7rfkvy8/model.ckpt.\n",
      "INFO:tensorflow:loss = 2.428152, step = 1\n",
      "INFO:tensorflow:global_step/sec: 288.066\n",
      "INFO:tensorflow:loss = 0.17820257, step = 101 (0.348 sec)\n",
      "INFO:tensorflow:global_step/sec: 320.583\n",
      "INFO:tensorflow:loss = 0.1665129, step = 201 (0.312 sec)\n",
      "INFO:tensorflow:global_step/sec: 317.178\n",
      "INFO:tensorflow:loss = 0.09943721, step = 301 (0.316 sec)\n",
      "INFO:tensorflow:global_step/sec: 314.721\n",
      "INFO:tensorflow:loss = 0.21196342, step = 401 (0.318 sec)\n",
      "INFO:tensorflow:global_step/sec: 306.716\n",
      "INFO:tensorflow:loss = 0.22552404, step = 501 (0.326 sec)\n",
      "INFO:tensorflow:global_step/sec: 310.138\n",
      "INFO:tensorflow:loss = 0.115980744, step = 601 (0.323 sec)\n",
      "INFO:tensorflow:global_step/sec: 308.488\n",
      "INFO:tensorflow:loss = 0.06401189, step = 701 (0.325 sec)\n",
      "INFO:tensorflow:global_step/sec: 311.945\n",
      "INFO:tensorflow:loss = 0.2265443, step = 801 (0.319 sec)\n",
      "INFO:tensorflow:global_step/sec: 317.674\n",
      "INFO:tensorflow:loss = 0.083053246, step = 901 (0.315 sec)\n",
      "INFO:tensorflow:global_step/sec: 315.644\n",
      "INFO:tensorflow:loss = 0.18080164, step = 1001 (0.317 sec)\n",
      "INFO:tensorflow:global_step/sec: 307.168\n",
      "INFO:tensorflow:loss = 0.11721269, step = 1101 (0.327 sec)\n",
      "INFO:tensorflow:global_step/sec: 315.375\n",
      "INFO:tensorflow:loss = 0.028076265, step = 1201 (0.315 sec)\n",
      "INFO:tensorflow:global_step/sec: 305.257\n",
      "INFO:tensorflow:loss = 0.08744308, step = 1301 (0.328 sec)\n",
      "INFO:tensorflow:global_step/sec: 310.329\n",
      "INFO:tensorflow:loss = 0.0274657, step = 1401 (0.330 sec)\n",
      "INFO:tensorflow:global_step/sec: 291.431\n",
      "INFO:tensorflow:loss = 0.030293005, step = 1501 (0.335 sec)\n",
      "INFO:tensorflow:global_step/sec: 314.862\n",
      "INFO:tensorflow:loss = 0.07349828, step = 1601 (0.318 sec)\n",
      "INFO:tensorflow:global_step/sec: 314.174\n",
      "INFO:tensorflow:loss = 0.09383013, step = 1701 (0.318 sec)\n",
      "INFO:tensorflow:global_step/sec: 316.272\n",
      "INFO:tensorflow:loss = 0.026939578, step = 1801 (0.316 sec)\n",
      "INFO:tensorflow:global_step/sec: 325.043\n",
      "INFO:tensorflow:loss = 0.056959804, step = 1901 (0.307 sec)\n",
      "INFO:tensorflow:Saving checkpoints for 2000 into /tmp/tmpb7rfkvy8/model.ckpt.\n",
      "INFO:tensorflow:Loss for final step: 0.017890217.\n",
      "INFO:tensorflow:Starting evaluation at 2018-09-22-07:42:32\n",
      "INFO:tensorflow:Graph was finalized.\n",
      "INFO:tensorflow:Restoring parameters from /tmp/tmpb7rfkvy8/model.ckpt-2000\n",
      "INFO:tensorflow:Running local_init_op.\n",
      "INFO:tensorflow:Done running local_init_op.\n",
      "INFO:tensorflow:Evaluation [1/1]\n",
      "INFO:tensorflow:Finished evaluation at 2018-09-22-07:42:33\n",
      "INFO:tensorflow:Saving dict for global step 2000: accuracy = 0.9763, global_step = 2000, loss = 0.0783516\n",
      "test accuracy: 0.9763000011444092\n"
     ]
    }
   ],
   "source": [
    "NUM_STEPS = 2000\n",
    "MINIBATCH_SIZE = 128\n",
    "\n",
    "feature_columns = learn.infer_real_valued_columns_from_input(x_data)\n",
    "\n",
    "dnn = learn.DNNClassifier(\n",
    "    feature_columns=feature_columns,\n",
    "    hidden_units=[150],\n",
    "    n_classes=10,\n",
    "    optimizer=tf.train.ProximalAdagradOptimizer(\n",
    "    learning_rate=0.2)\n",
    "    )\n",
    "\n",
    "dnn.fit(x=x_data,y=y_data, steps=NUM_STEPS,\n",
    "        batch_size=MINIBATCH_SIZE)\n",
    "\n",
    "test_acc = dnn.evaluate(x=x_test,y=y_test, steps=1)[\"accuracy\"]\n",
    "print('test accuracy: {}'.format(test_acc))"
   ]
  },
  {
   "cell_type": "code",
   "execution_count": 22,
   "metadata": {},
   "outputs": [
    {
     "name": "stdout",
     "output_type": "stream",
     "text": [
      "INFO:tensorflow:Using default config.\n",
      "WARNING:tensorflow:Using temporary folder as model directory: /tmp/tmpig_u96mx\n",
      "INFO:tensorflow:Using config: {'_task_type': None, '_task_id': 0, '_cluster_spec': <tensorflow.python.training.server_lib.ClusterSpec object at 0x7fd463ac20b8>, '_master': '', '_num_ps_replicas': 0, '_num_worker_replicas': 0, '_environment': 'local', '_is_chief': True, '_evaluation_master': '', '_train_distribute': None, '_device_fn': None, '_tf_config': gpu_options {\n",
      "  per_process_gpu_memory_fraction: 1.0\n",
      "}\n",
      ", '_tf_random_seed': None, '_save_summary_steps': 100, '_save_checkpoints_secs': 600, '_log_step_count_steps': 100, '_session_config': None, '_save_checkpoints_steps': None, '_keep_checkpoint_max': 5, '_keep_checkpoint_every_n_hours': 10000, '_model_dir': '/tmp/tmpig_u96mx'}\n",
      "INFO:tensorflow:Create CheckpointSaverHook.\n",
      "INFO:tensorflow:Graph was finalized.\n",
      "INFO:tensorflow:Running local_init_op.\n",
      "INFO:tensorflow:Done running local_init_op.\n",
      "INFO:tensorflow:Saving checkpoints for 0 into /tmp/tmpig_u96mx/model.ckpt.\n",
      "INFO:tensorflow:loss = 2.3161764, step = 1\n",
      "INFO:tensorflow:global_step/sec: 254.502\n",
      "INFO:tensorflow:loss = 0.18738027, step = 101 (0.395 sec)\n",
      "INFO:tensorflow:global_step/sec: 259.401\n",
      "INFO:tensorflow:loss = 0.17998728, step = 201 (0.386 sec)\n",
      "INFO:tensorflow:global_step/sec: 265.5\n",
      "INFO:tensorflow:loss = 0.10525659, step = 301 (0.377 sec)\n",
      "INFO:tensorflow:global_step/sec: 257.054\n",
      "INFO:tensorflow:loss = 0.17892055, step = 401 (0.389 sec)\n",
      "INFO:tensorflow:global_step/sec: 272.785\n",
      "INFO:tensorflow:loss = 0.22528087, step = 501 (0.368 sec)\n",
      "INFO:tensorflow:global_step/sec: 273.027\n",
      "INFO:tensorflow:loss = 0.09516685, step = 601 (0.364 sec)\n",
      "INFO:tensorflow:global_step/sec: 284.47\n",
      "INFO:tensorflow:loss = 0.05606591, step = 701 (0.352 sec)\n",
      "INFO:tensorflow:global_step/sec: 275.806\n",
      "INFO:tensorflow:loss = 0.19013408, step = 801 (0.362 sec)\n",
      "INFO:tensorflow:global_step/sec: 276.905\n",
      "INFO:tensorflow:loss = 0.07534768, step = 901 (0.361 sec)\n",
      "INFO:tensorflow:global_step/sec: 280.672\n",
      "INFO:tensorflow:loss = 0.16705911, step = 1001 (0.357 sec)\n",
      "INFO:tensorflow:global_step/sec: 276.835\n",
      "INFO:tensorflow:loss = 0.113987066, step = 1101 (0.361 sec)\n",
      "INFO:tensorflow:global_step/sec: 284.301\n",
      "INFO:tensorflow:loss = 0.023467068, step = 1201 (0.352 sec)\n",
      "INFO:tensorflow:global_step/sec: 271.182\n",
      "INFO:tensorflow:loss = 0.10126339, step = 1301 (0.369 sec)\n",
      "INFO:tensorflow:global_step/sec: 286.063\n",
      "INFO:tensorflow:loss = 0.022860251, step = 1401 (0.350 sec)\n",
      "INFO:tensorflow:global_step/sec: 283.49\n",
      "INFO:tensorflow:loss = 0.023606041, step = 1501 (0.353 sec)\n",
      "INFO:tensorflow:global_step/sec: 270.068\n",
      "INFO:tensorflow:loss = 0.0910766, step = 1601 (0.370 sec)\n",
      "INFO:tensorflow:global_step/sec: 270.971\n",
      "INFO:tensorflow:loss = 0.1220085, step = 1701 (0.369 sec)\n",
      "INFO:tensorflow:global_step/sec: 268.733\n",
      "INFO:tensorflow:loss = 0.030793803, step = 1801 (0.372 sec)\n",
      "INFO:tensorflow:global_step/sec: 275.595\n",
      "INFO:tensorflow:loss = 0.046754822, step = 1901 (0.362 sec)\n",
      "INFO:tensorflow:Saving checkpoints for 2000 into /tmp/tmpig_u96mx/model.ckpt.\n",
      "INFO:tensorflow:Loss for final step: 0.021125821.\n",
      "INFO:tensorflow:Starting evaluation at 2018-09-22-07:42:43\n",
      "INFO:tensorflow:Graph was finalized.\n",
      "INFO:tensorflow:Restoring parameters from /tmp/tmpig_u96mx/model.ckpt-2000\n",
      "INFO:tensorflow:Running local_init_op.\n",
      "INFO:tensorflow:Done running local_init_op.\n",
      "INFO:tensorflow:Evaluation [1/1]\n",
      "INFO:tensorflow:Finished evaluation at 2018-09-22-07:42:43\n",
      "INFO:tensorflow:Saving dict for global step 2000: accuracy = 0.9776, global_step = 2000, loss = 0.07459757\n",
      "test accuracy: 0.9775999784469604\n"
     ]
    }
   ],
   "source": [
    "NUM_STEPS = 2000\n",
    "MINIBATCH_SIZE = 128\n",
    "\n",
    "feature_columns = learn.infer_real_valued_columns_from_input(x_data)\n",
    "\n",
    "dnn = learn.DNNClassifier(\n",
    "    feature_columns=feature_columns,\n",
    "    hidden_units=[200],\n",
    "    n_classes=10,\n",
    "    optimizer=tf.train.ProximalAdagradOptimizer(\n",
    "    learning_rate=0.2)\n",
    "    )\n",
    "\n",
    "dnn.fit(x=x_data,y=y_data, steps=NUM_STEPS,\n",
    "        batch_size=MINIBATCH_SIZE)\n",
    "\n",
    "test_acc = dnn.evaluate(x=x_test,y=y_test, steps=1)[\"accuracy\"]\n",
    "print('test accuracy: {}'.format(test_acc))"
   ]
  },
  {
   "cell_type": "code",
   "execution_count": 16,
   "metadata": {},
   "outputs": [],
   "source": [
    "import matplotlib.pyplot as plt\n",
    "def plot_confusion_matrix(cm, classes,\n",
    "                          normalize=False,\n",
    "                          title='Confusion matrix',\n",
    "                          cmap=plt.cm.Blues):\n",
    "    \"\"\"\n",
    "    This function prints and plots the confusion matrix.\n",
    "    Normalization can be applied by setting `normalize=True`.\n",
    "    \"\"\"\n",
    "    plt.imshow(cm, interpolation='nearest', cmap=cmap,aspect='auto')\n",
    "    plt.title(title)\n",
    "    plt.colorbar()\n",
    "    tick_marks = np.arange(len(classes))\n",
    "    plt.xticks(tick_marks, classes, rotation=45)\n",
    "    plt.yticks(tick_marks, classes)\n",
    "\n",
    "    thresh = cm.max() / 2.\n",
    "    for i, j in itertools.product(range(cm.shape[0]), range(cm.shape[1])):\n",
    "        plt.text(j, i, cm[i, j],\n",
    "                 horizontalalignment=\"center\",\n",
    "                 color=\"white\" if cm[i, j] > thresh else \"black\")\n",
    "\n",
    "    plt.tight_layout()\n",
    "    plt.ylabel('True label')\n",
    "    plt.xlabel('Predicted label')\n",
    "    \n",
    "    \n",
    "    plt.savefig('confusion_mat.png', bbox_inches='tight', format='png', dpi=300, pad_inches=0,transparent=True)\n",
    "\n",
    "    \n",
    "    plt.show()"
   ]
  },
  {
   "cell_type": "code",
   "execution_count": 17,
   "metadata": {},
   "outputs": [
    {
     "name": "stdout",
     "output_type": "stream",
     "text": [
      "x_test shape(10000, 784)\n",
      "WARNING:tensorflow:From <ipython-input-17-f849981343d6>:5: calling DNNClassifier.predict (from tensorflow.contrib.learn.python.learn.estimators.dnn) with as_iterable=False is deprecated and will be removed after 2016-09-15.\n",
      "Instructions for updating:\n",
      "The default behavior of predict() is changing. The default value for\n",
      "as_iterable will change to True, and then the flag will be removed\n",
      "altogether. The behavior of this flag is described below.\n",
      "WARNING:tensorflow:From /usr/local/lib/python3.6/dist-packages/tensorflow/python/util/deprecation.py:519: calling DNNClassifier.predict (from tensorflow.contrib.learn.python.learn.estimators.dnn) with outputs=None is deprecated and will be removed after 2017-03-01.\n",
      "Instructions for updating:\n",
      "Please switch to predict_classes, or set `outputs` argument.\n",
      "WARNING:tensorflow:From /usr/local/lib/python3.6/dist-packages/tensorflow/contrib/learn/python/learn/estimators/dnn.py:427: calling DNNClassifier.predict_classes (from tensorflow.contrib.learn.python.learn.estimators.dnn) with as_iterable=False is deprecated and will be removed after 2016-09-15.\n",
      "Instructions for updating:\n",
      "The default behavior of predict() is changing. The default value for\n",
      "as_iterable will change to True, and then the flag will be removed\n",
      "altogether. The behavior of this flag is described below.\n",
      "WARNING:tensorflow:From /usr/local/lib/python3.6/dist-packages/tensorflow/contrib/learn/python/learn/estimators/dnn.py:463: calling BaseEstimator.predict (from tensorflow.contrib.learn.python.learn.estimators.estimator) with x is deprecated and will be removed after 2016-12-01.\n",
      "Instructions for updating:\n",
      "Estimator is decoupled from Scikit Learn interface by moving into\n",
      "separate class SKCompat. Arguments x, y and batch_size are only\n",
      "available in the SKCompat class, Estimator will only accept input_fn.\n",
      "Example conversion:\n",
      "  est = Estimator(...) -> est = SKCompat(Estimator(...))\n",
      "WARNING:tensorflow:From /usr/local/lib/python3.6/dist-packages/tensorflow/contrib/learn/python/learn/estimators/dnn.py:463: calling BaseEstimator.predict (from tensorflow.contrib.learn.python.learn.estimators.estimator) with as_iterable is deprecated and will be removed after 2016-12-01.\n",
      "Instructions for updating:\n",
      "Estimator is decoupled from Scikit Learn interface by moving into\n",
      "separate class SKCompat. Arguments x, y and batch_size are only\n",
      "available in the SKCompat class, Estimator will only accept input_fn.\n",
      "Example conversion:\n",
      "  est = Estimator(...) -> est = SKCompat(Estimator(...))\n",
      "INFO:tensorflow:Graph was finalized.\n",
      "INFO:tensorflow:Restoring parameters from /tmp/tmp7tbe1e92/model.ckpt-2000\n",
      "INFO:tensorflow:Running local_init_op.\n",
      "INFO:tensorflow:Done running local_init_op.\n"
     ]
    },
    {
     "data": {
      "image/png": "[encoded data removed]",
      "text/plain": [
       "<Figure size 432x288 with 2 Axes>"
      ]
     },
     "metadata": {},
     "output_type": "display_data"
    }
   ],
   "source": [
    "from sklearn.metrics import confusion_matrix\n",
    "import itertools\n",
    "\n",
    "print('x_test shape{}'.format(x_test.shape))\n",
    "y_pred = dnn.predict(x=x_test,as_iterable=False)\n",
    "class_names = ['0','1','2','3','4','5','6','7','8','9']    \n",
    "cnf_matrix = confusion_matrix(y_test, y_pred)\n",
    "\n",
    "plot_confusion_matrix(cnf_matrix, class_names)"
   ]
  },
  {
   "cell_type": "code",
   "execution_count": 28,
   "metadata": {},
   "outputs": [
    {
     "name": "stdout",
     "output_type": "stream",
     "text": [
      "x_test shape(10000, 784)\n",
      "INFO:tensorflow:Graph was finalized.\n",
      "INFO:tensorflow:Restoring parameters from /tmp/tmpig_u96mx/model.ckpt-2000\n",
      "INFO:tensorflow:Running local_init_op.\n",
      "INFO:tensorflow:Done running local_init_op.\n"
     ]
    },
    {
     "data": {
      "image/png": "[encoded data removed]",
      "text/plain": [
       "<Figure size 432x288 with 2 Axes>"
      ]
     },
     "metadata": {},
     "output_type": "display_data"
    }
   ],
   "source": [
    "from sklearn.metrics import confusion_matrix\n",
    "import itertools\n",
    "\n",
    "print('x_test shape{}'.format(x_test.shape))\n",
    "y_pred = dnn.predict(x=x_test,as_iterable=False)\n",
    "class_names = ['0','1','2','3','4','5','6','7','8','9']    \n",
    "cnf_matrix = confusion_matrix(y_test, y_pred)\n",
    "\n",
    "plot_confusion_matrix(cnf_matrix, class_names)"
   ]
  },
  {
   "cell_type": "code",
   "execution_count": 23,
   "metadata": {},
   "outputs": [],
   "source": [
    "from sklearn.metrics import confusion_matrix\n",
    "import itertools"
   ]
  },
  {
   "cell_type": "code",
   "execution_count": 24,
   "metadata": {},
   "outputs": [
    {
     "name": "stdout",
     "output_type": "stream",
     "text": [
      "x_test shape(10000, 784)\n"
     ]
    }
   ],
   "source": [
    "print('x_test shape{}'.format(x_test.shape))"
   ]
  },
  {
   "cell_type": "code",
   "execution_count": 25,
   "metadata": {},
   "outputs": [
    {
     "name": "stdout",
     "output_type": "stream",
     "text": [
      "INFO:tensorflow:Graph was finalized.\n",
      "INFO:tensorflow:Restoring parameters from /tmp/tmpig_u96mx/model.ckpt-2000\n",
      "INFO:tensorflow:Running local_init_op.\n",
      "INFO:tensorflow:Done running local_init_op.\n"
     ]
    }
   ],
   "source": [
    "y_pred = dnn.predict(x=x_test,as_iterable=False)"
   ]
  },
  {
   "cell_type": "code",
   "execution_count": 26,
   "metadata": {},
   "outputs": [],
   "source": [
    "class_names = ['0','1','2','3','4','5','6','7','8','9']    \n",
    "cnf_matrix = confusion_matrix(y_test, y_pred)"
   ]
  },
  {
   "cell_type": "code",
   "execution_count": 27,
   "metadata": {},
   "outputs": [
    {
     "data": {
      "text/plain": [
       "array([[ 973,    1,    0,    1,    0,    0,    2,    1,    2,    0],\n",
       "       [   0, 1126,    3,    1,    0,    1,    2,    0,    2,    0],\n",
       "       [   8,    3,  999,    3,    3,    0,    6,    6,    4,    0],\n",
       "       [   1,    0,    4,  994,    0,    1,    0,    6,    2,    2],\n",
       "       [   0,    0,    3,    1,  965,    0,    4,    2,    0,    7],\n",
       "       [   2,    1,    0,   17,    1,  855,    8,    1,    3,    4],\n",
       "       [   6,    3,    0,    1,    4,    1,  943,    0,    0,    0],\n",
       "       [   1,    5,    7,    3,    0,    0,    0, 1005,    1,    6],\n",
       "       [   3,    1,    4,    4,    6,    3,    5,    4,  940,    4],\n",
       "       [   4,    5,    0,    6,   11,    0,    0,    7,    0,  976]])"
      ]
     },
     "execution_count": 27,
     "metadata": {},
     "output_type": "execute_result"
    }
   ],
   "source": [
    "cnf_matrix"
   ]
  },
  {
   "cell_type": "code",
   "execution_count": null,
   "metadata": {},
   "outputs": [],
   "source": []
  }
 ],
 "metadata": {
  "kernelspec": {
   "display_name": "Python 3",
   "language": "python",
   "name": "python3"
  },
  "language_info": {
   "codemirror_mode": {
    "name": "ipython",
    "version": 3
   },
   "file_extension": ".py",
   "mimetype": "text/x-python",
   "name": "python",
   "nbconvert_exporter": "python",
   "pygments_lexer": "ipython3",
   "version": "3.6.5"
  }
 },
 "nbformat": 4,
 "nbformat_minor": 2
}
