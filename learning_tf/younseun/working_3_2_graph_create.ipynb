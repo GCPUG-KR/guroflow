{
 "cells": [
  {
   "cell_type": "markdown",
   "metadata": {},
   "source": [
    "# 3.2.1 그래프 만들기"
   ]
  },
  {
   "cell_type": "code",
   "execution_count": 1,
   "metadata": {},
   "outputs": [],
   "source": [
    "import tensorflow as tf"
   ]
  },
  {
   "cell_type": "code",
   "execution_count": 2,
   "metadata": {},
   "outputs": [],
   "source": [
    "a = tf.constant(5)\n",
    "b = tf.constant(2)\n",
    "c = tf.constant(3)"
   ]
  },
  {
   "cell_type": "code",
   "execution_count": 3,
   "metadata": {},
   "outputs": [],
   "source": [
    "d = tf.multiply(a,b)   # 곱하기\n",
    "e = tf.add(c,b)        # 더하기\n",
    "f = tf.subtract(d,e)   # 빼기"
   ]
  },
  {
   "cell_type": "markdown",
   "metadata": {},
   "source": [
    "# 3.2.2 실행하기"
   ]
  },
  {
   "cell_type": "code",
   "execution_count": 4,
   "metadata": {},
   "outputs": [
    {
     "name": "stdout",
     "output_type": "stream",
     "text": [
      "a = 5\n",
      "a = 2\n",
      "a = 3\n",
      "outs(a * b) = 10\n",
      "outs(c + b) = 5\n",
      "outs(d - e) = 5\n"
     ]
    }
   ],
   "source": [
    "# 실행방법 1\n",
    "with tf.Session() as sess:\n",
    "    aa1 = sess.run(a);print(\"a = {}\".format(aa1))\n",
    "    bb1 = sess.run(b);print(\"a = {}\".format(bb1))\n",
    "    cc1 = sess.run(c);print(\"a = {}\".format(cc1))\n",
    "    dd1 = sess.run(d);print(\"outs(a * b) = {}\".format(dd1))\n",
    "    ee1 = sess.run(e);print(\"outs(c + b) = {}\".format(ee1))\n",
    "    ff1 = sess.run(f);print(\"outs(d - e) = {}\".format(ff1))"
   ]
  },
  {
   "cell_type": "code",
   "execution_count": 5,
   "metadata": {},
   "outputs": [
    {
     "name": "stdout",
     "output_type": "stream",
     "text": [
      "a = 5\n",
      "a = 2\n",
      "a = 3\n",
      "outs(a * b) = 10\n",
      "outs(c + b) = 5\n",
      "outs(d - e) = 5\n"
     ]
    }
   ],
   "source": [
    "# 실행방법 2\n",
    "sess = tf.Session()\n",
    "aa2 = sess.run(a);print(\"a = {}\".format(aa2))\n",
    "bb2 = sess.run(b);print(\"a = {}\".format(bb2))\n",
    "cc2 = sess.run(c);print(\"a = {}\".format(cc2))\n",
    "dd2 = sess.run(d);print(\"outs(a * b) = {}\".format(dd2))\n",
    "ee2 = sess.run(e);print(\"outs(c + b) = {}\".format(ee2))\n",
    "ff2 = sess.run(f);print(\"outs(d - e) = {}\".format(ff2))\n",
    "sess.close()\n",
    "    "
   ]
  },
  {
   "cell_type": "markdown",
   "metadata": {},
   "source": [
    "# 연습문제 1"
   ]
  },
  {
   "cell_type": "code",
   "execution_count": 6,
   "metadata": {},
   "outputs": [],
   "source": [
    "a1 = tf.placeholder(\"float32\", [1], name=\"a1\")\n",
    "b1 = tf.placeholder(\"float32\", [1], name=\"b1\")\n",
    "c1 = tf.multiply(b1,a1)\n",
    "d1 = tf.add(b1,a1)\n",
    "e1 = tf.subtract(d1,c1)\n",
    "f1 = tf.add(d1,c1)\n",
    "g1 = tf.divide(f1,e1)"
   ]
  },
  {
   "cell_type": "code",
   "execution_count": 8,
   "metadata": {},
   "outputs": [
    {
     "name": "stdout",
     "output_type": "stream",
     "text": [
      "a = [2.]\n",
      "b = [5.]\n",
      "c = [10.]\n",
      "d = [7.]\n",
      "e = [-3.]\n",
      "f = [17.]\n",
      "g = [-5.6666665]\n"
     ]
    }
   ],
   "source": [
    "sess = tf.Session()\n",
    "aa3, bb3, cc3, dd3, ee3, ff3, gg3 = sess.run([a1,b1,c1,d1,e1,f1,g1], feed_dict={a1: [2], b1: [5]});\n",
    "sess.close()\n",
    "print(\"a = {}\".format(aa3));\n",
    "print(\"b = {}\".format(bb3))\n",
    "print(\"c = {}\".format(cc3))\n",
    "print(\"d = {}\".format(dd3))\n",
    "print(\"e = {}\".format(ee3))\n",
    "print(\"f = {}\".format(ff3))\n",
    "print(\"g = {}\".format(gg3))"
   ]
  },
  {
   "cell_type": "markdown",
   "metadata": {},
   "source": [
    "# 연습문제 2"
   ]
  },
  {
   "cell_type": "code",
   "execution_count": 9,
   "metadata": {},
   "outputs": [],
   "source": [
    "a2 = tf.placeholder(\"float32\", [1], name=\"a2\")\n",
    "b2 = tf.placeholder(\"float32\", [1], name=\"b2\")\n",
    "c2 = tf.multiply(b2,a2)\n",
    "d2 = tf.sin(c2)\n",
    "e2 = tf.divide(b2,a2)"
   ]
  },
  {
   "cell_type": "code",
   "execution_count": 11,
   "metadata": {},
   "outputs": [
    {
     "name": "stdout",
     "output_type": "stream",
     "text": [
      "a = [3.]\n",
      "b = [4.]\n",
      "c = [12.]\n",
      "d = [-0.53657293]\n",
      "e = [1.3333334]\n"
     ]
    }
   ],
   "source": [
    "sess = tf.Session()\n",
    "aa4, bb4, cc4, dd4, ee4 = sess.run([a2, b2, c2, d2, e2], feed_dict={a2: [3], b2: [4]})\n",
    "sess.close()\n",
    "print(\"a = {}\".format(aa4));\n",
    "print(\"b = {}\".format(bb4))\n",
    "print(\"c = {}\".format(cc4))\n",
    "print(\"d = {}\".format(dd4))\n",
    "print(\"e = {}\".format(ee4))"
   ]
  },
  {
   "cell_type": "markdown",
   "metadata": {},
   "source": [
    "# 3.2.3 그래프의 생성과 관리"
   ]
  },
  {
   "cell_type": "code",
   "execution_count": 12,
   "metadata": {},
   "outputs": [
    {
     "name": "stdout",
     "output_type": "stream",
     "text": [
      "<tensorflow.python.framework.ops.Graph object at 0x7fd18debb550>\n"
     ]
    }
   ],
   "source": [
    "import tensorflow as tf\n",
    "print(tf.get_default_graph())"
   ]
  },
  {
   "cell_type": "code",
   "execution_count": 13,
   "metadata": {},
   "outputs": [
    {
     "name": "stdout",
     "output_type": "stream",
     "text": [
      "<tensorflow.python.framework.ops.Graph object at 0x7fd18de699e8>\n"
     ]
    }
   ],
   "source": [
    "# g는 Default가 아니고 특정 그래프를 나타낸다.\n",
    "g = tf.Graph()\n",
    "print(g)"
   ]
  },
  {
   "cell_type": "code",
   "execution_count": 14,
   "metadata": {},
   "outputs": [
    {
     "name": "stdout",
     "output_type": "stream",
     "text": [
      "False\n",
      "True\n"
     ]
    }
   ],
   "source": [
    "# g는 특정그래프이며, a는 Default Graph에 들어간다.\n",
    "g = tf.Graph()\n",
    "a = tf.constant(5)\n",
    "print(a.graph is g)\n",
    "print(a.graph is tf.get_default_graph())"
   ]
  },
  {
   "cell_type": "code",
   "execution_count": 15,
   "metadata": {},
   "outputs": [
    {
     "name": "stdout",
     "output_type": "stream",
     "text": [
      "True\n"
     ]
    }
   ],
   "source": [
    "# g1을 Default로 지정\n",
    "g1 = tf.get_default_graph()\n",
    "g2 = tf.Graph()\n",
    "print(g1 is tf.get_default_graph())"
   ]
  },
  {
   "cell_type": "code",
   "execution_count": 16,
   "metadata": {},
   "outputs": [
    {
     "name": "stdout",
     "output_type": "stream",
     "text": [
      "False\n",
      "False\n",
      "True\n"
     ]
    }
   ],
   "source": [
    "# with절 안에서만 g2를 Default로 정할 수 있다.\n",
    "with g2.as_default():\n",
    "    print(g1 is tf.get_default_graph())\n",
    "    print(g1 is g2)\n",
    "    print(g2 is tf.get_default_graph())"
   ]
  },
  {
   "cell_type": "code",
   "execution_count": 17,
   "metadata": {},
   "outputs": [
    {
     "name": "stdout",
     "output_type": "stream",
     "text": [
      "True\n"
     ]
    }
   ],
   "source": [
    "# with 절에서 g2를 Default로 바꾸었지만, 나오면 그 전처럼 g1이 Default로 지정됨\n",
    "print(g1 is tf.get_default_graph())"
   ]
  },
  {
   "cell_type": "markdown",
   "metadata": {},
   "source": [
    "# 3.2.4 패치(fetches)"
   ]
  },
  {
   "cell_type": "code",
   "execution_count": 18,
   "metadata": {},
   "outputs": [
    {
     "name": "stdout",
     "output_type": "stream",
     "text": [
      "outs = [5, 2, 3, 10, 5, 5]\n",
      "<class 'list'>\n",
      "5 <class 'numpy.int32'>\n",
      "2 <class 'numpy.int32'>\n",
      "3 <class 'numpy.int32'>\n",
      "10 <class 'numpy.int32'>\n",
      "5 <class 'numpy.int32'>\n",
      "5 <class 'numpy.int32'>\n"
     ]
    }
   ],
   "source": [
    "a = tf.constant(5)\n",
    "b = tf.constant(2)\n",
    "c = tf.constant(3)\n",
    "\n",
    "d = tf.multiply(a,b)   # 곱하기\n",
    "e = tf.add(c,b)        # 더하기\n",
    "f = tf.subtract(d,e)   # 빼기\n",
    "\n",
    "with tf.Session() as sess:\n",
    "    fetches = [a,b,c,d,e,f]\n",
    "    outs = sess.run(fetches)\n",
    "print(\"outs = {}\".format(outs))\n",
    "print(type(outs))\n",
    "print(outs[0], type(outs[0]))\n",
    "print(outs[1], type(outs[1]))\n",
    "print(outs[2], type(outs[2]))\n",
    "print(outs[3], type(outs[3]))\n",
    "print(outs[4], type(outs[4]))\n",
    "print(outs[5], type(outs[5]))"
   ]
  },
  {
   "cell_type": "code",
   "execution_count": null,
   "metadata": {},
   "outputs": [],
   "source": []
  },
  {
   "cell_type": "code",
   "execution_count": null,
   "metadata": {},
   "outputs": [],
   "source": []
  },
  {
   "cell_type": "code",
   "execution_count": null,
   "metadata": {},
   "outputs": [],
   "source": []
  },
  {
   "cell_type": "code",
   "execution_count": null,
   "metadata": {},
   "outputs": [],
   "source": []
  },
  {
   "cell_type": "code",
   "execution_count": null,
   "metadata": {},
   "outputs": [],
   "source": []
  },
  {
   "cell_type": "code",
   "execution_count": null,
   "metadata": {},
   "outputs": [],
   "source": []
  },
  {
   "cell_type": "code",
   "execution_count": null,
   "metadata": {},
   "outputs": [],
   "source": []
  }
 ],
 "metadata": {
  "kernelspec": {
   "display_name": "Python 3",
   "language": "python",
   "name": "python3"
  },
  "language_info": {
   "codemirror_mode": {
    "name": "ipython",
    "version": 3
   },
   "file_extension": ".py",
   "mimetype": "text/x-python",
   "name": "python",
   "nbconvert_exporter": "python",
   "pygments_lexer": "ipython3",
   "version": "3.6.5"
  }
 },
 "nbformat": 4,
 "nbformat_minor": 2
}
