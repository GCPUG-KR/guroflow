{
 "cells": [
  {
   "cell_type": "code",
   "execution_count": 2,
   "metadata": {},
   "outputs": [],
   "source": [
    "import tensorflow as tf"
   ]
  },
  {
   "cell_type": "code",
   "execution_count": 3,
   "metadata": {},
   "outputs": [],
   "source": [
    "sess = tf.InteractiveSession()"
   ]
  },
  {
   "cell_type": "code",
   "execution_count": 4,
   "metadata": {},
   "outputs": [
    {
     "data": {
      "text/plain": [
       "12"
      ]
     },
     "execution_count": 4,
     "metadata": {},
     "output_type": "execute_result"
    }
   ],
   "source": [
    "queue1 = tf.FIFOQueue(capacity=100, dtypes=[tf.string], shapes=())\n",
    "\n",
    "enque_op = queue1.enqueue([\"A\"]);enque_op.run()\n",
    "enque_op = queue1.enqueue([\"B\"]);enque_op.run()\n",
    "enque_op = queue1.enqueue([\"C\"]);enque_op.run()\n",
    "enque_op = queue1.enqueue([\"D\"]);enque_op.run()\n",
    "enque_op = queue1.enqueue([\"E\"]);enque_op.run()\n",
    "enque_op = queue1.enqueue([\"F\"]);enque_op.run()\n",
    "enque_op = queue1.enqueue([\"G\"]);enque_op.run()\n",
    "enque_op = queue1.enqueue([\"H\"]);enque_op.run()\n",
    "enque_op = queue1.enqueue([\"I\"]);enque_op.run()\n",
    "enque_op = queue1.enqueue([\"J\"]);enque_op.run()\n",
    "enque_op = queue1.enqueue([\"K\"]);enque_op.run()\n",
    "enque_op = queue1.enqueue([\"L\"]);enque_op.run()\n",
    "\n",
    "sess.run(queue1.size())"
   ]
  },
  {
   "cell_type": "markdown",
   "metadata": {},
   "source": [
    "# Queue에서 한개 추출하기"
   ]
  },
  {
   "cell_type": "code",
   "execution_count": 24,
   "metadata": {},
   "outputs": [
    {
     "name": "stdout",
     "output_type": "stream",
     "text": [
      "Before Queue Count : 12\n",
      "x.eval() : b'A'\n",
      "After  Queue Count : 11\n"
     ]
    }
   ],
   "source": [
    "print('Before Queue Count : {}'.format(sess.run(queue1.size())))\n",
    "x = queue1.dequeue()\n",
    "print('x.eval() : {}'.format(x.eval()))\n",
    "print('After  Queue Count : {}'.format(sess.run(queue1.size())))"
   ]
  },
  {
   "cell_type": "markdown",
   "metadata": {},
   "source": [
    "# Queue에서 여러개 추출하기"
   ]
  },
  {
   "cell_type": "code",
   "execution_count": 5,
   "metadata": {},
   "outputs": [
    {
     "name": "stdout",
     "output_type": "stream",
     "text": [
      "Before Queue Count : 12\n",
      "x.eval() : [b'A' b'B' b'C' b'D' b'E']\n",
      "After  Queue Count : 7\n"
     ]
    }
   ],
   "source": [
    "print('Before Queue Count : {}'.format(sess.run(queue1.size())))\n",
    "x = queue1.dequeue_many(5)\n",
    "print('x.eval() : {}'.format(x.eval()))\n",
    "print('After  Queue Count : {}'.format(sess.run(queue1.size())))"
   ]
  },
  {
   "cell_type": "code",
   "execution_count": null,
   "metadata": {},
   "outputs": [],
   "source": []
  }
 ],
 "metadata": {
  "kernelspec": {
   "display_name": "Python 3",
   "language": "python",
   "name": "python3"
  },
  "language_info": {
   "codemirror_mode": {
    "name": "ipython",
    "version": 3
   },
   "file_extension": ".py",
   "mimetype": "text/x-python",
   "name": "python",
   "nbconvert_exporter": "python",
   "pygments_lexer": "ipython3",
   "version": "3.6.5"
  }
 },
 "nbformat": 4,
 "nbformat_minor": 2
}
