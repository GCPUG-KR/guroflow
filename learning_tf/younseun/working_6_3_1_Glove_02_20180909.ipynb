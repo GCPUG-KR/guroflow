{
 "cells": [
  {
   "cell_type": "code",
   "execution_count": 19,
   "metadata": {},
   "outputs": [],
   "source": [
    "import zipfile\n",
    "import numpy as np\n",
    "import tensorflow as tf\n",
    "\n",
    "path_to_glove = \"/home/younseun/columbus_study/04_learning_tensorflow/06__word_embeddings_and_rnns/glove_data/glove.840B.300d.zip\"\n",
    "PRE_TRAINED = True\n",
    "GLOVE_SIZE = 300\n",
    "batch_size = 128\n",
    "embedding_dimension = 64\n",
    "num_classes = 2\n",
    "hidden_layer_size = 32\n",
    "times_steps = 6"
   ]
  },
  {
   "cell_type": "code",
   "execution_count": 20,
   "metadata": {
    "scrolled": true
   },
   "outputs": [
    {
     "name": "stdout",
     "output_type": "stream",
     "text": [
      "word2index_map :{'nine': 0, 'three': 1, 'five': 2, 'one': 3, 'seven': 4, 'pad': 5, 'two': 6, 'eight': 7, 'four': 8, 'six': 9}\n",
      "index2word_map :{0: 'nine', 1: 'three', 2: 'five', 3: 'one', 4: 'seven', 5: 'pad', 6: 'two', 7: 'eight', 8: 'four', 9: 'six'}\n",
      "vocabulary_size :10\n",
      "앞쪽\n",
      "   >>> data : ['Nine Nine Three Three Five One', 'Seven Five One One Five Nine', 'Nine Seven Five One Seven PAD']\n",
      "   >>> one-hot-encoding : [[0, 1], [0, 1], [0, 1]]\n",
      "뒤쪽\n",
      "   >>> data : ['Four Two Eight Eight Six Eight', 'Six Two Eight PAD PAD PAD', 'Two Four Six Two Eight PAD']\n",
      "   >>> one-hot-encoding : [[1, 0], [1, 0], [1, 0]]\n"
     ]
    }
   ],
   "source": [
    "Sample_cnt = 10000\n",
    "odd_sentences=[]\n",
    "even_sentences=[]\n",
    "seqlens=[]\n",
    "\n",
    "digit_to_word_map = {1:\"One\",2:\"Two\",3:\"Three\",4:\"Four\",5:\"Five\",6:\"Six\",7:\"Seven\",8:\"Eight\",9:\"Nine\",}\n",
    "digit_to_word_map[0]=\"PAD\"\n",
    "for i in range(Sample_cnt):\n",
    "    rand_seq_len = np.random.choice(range(3,7))\n",
    "    seqlens.append(rand_seq_len)\n",
    "    rand_odd_ints = np.random.choice(range(1,10,2), rand_seq_len)\n",
    "    rand_even_ints = np.random.choice(range(2,10,2), rand_seq_len)\n",
    "\n",
    "    # 패딩\n",
    "    if rand_seq_len < 6:\n",
    "        rand_odd_ints = np.append(rand_odd_ints, [0]*(6-rand_seq_len))\n",
    "        rand_even_ints = np.append(rand_even_ints, [0]*(6-rand_seq_len))\n",
    "    odd_sentences.append(\" \".join([digit_to_word_map[r] for r in rand_odd_ints]))\n",
    "    even_sentences.append(\" \".join([digit_to_word_map[r] for r in rand_even_ints]))\n",
    "data = odd_sentences + even_sentences\n",
    "len(odd_sentences),len(even_sentences),len(data)\n",
    "\n",
    "# 홀수, 짝수 시퀀스의 seq 길이(2배 증폭)\n",
    "seqlens*=2\n",
    "\n",
    "# 단어를 인덱스에 매핑\n",
    "word2index_map = {}\n",
    "index = 0\n",
    "for sent in data:\n",
    "    for word in sent.lower().split():\n",
    "        if word not in word2index_map:\n",
    "            word2index_map[word] = index\n",
    "            index += 1\n",
    "\n",
    "# 역방향 매핑\n",
    "index2word_map = {index: word for word, index in word2index_map.items()}\n",
    "vocabulary_size = len(index2word_map)\n",
    "print('word2index_map :{}'.format(word2index_map))\n",
    "print('index2word_map :{}'.format(index2word_map))\n",
    "print('vocabulary_size :{}'.format(vocabulary_size))\n",
    "\n",
    "# one hot encoding : 짝수=[1,0], 홀수=[0,1]\n",
    "labels = [1]*Sample_cnt + [0]*Sample_cnt\n",
    "for i in range(len(labels)):\n",
    "    label = labels[i]\n",
    "    one_hot_encoding = [0]*2\n",
    "    one_hot_encoding[label] = 1\n",
    "    labels[i] = one_hot_encoding\n",
    "print('앞쪽')\n",
    "print('   >>> data : {}'.format(data[:3]))\n",
    "print('   >>> one-hot-encoding : {}'.format(labels[:3]))\n",
    "print('뒤쪽')\n",
    "print('   >>> data : {}'.format(data[Sample_cnt*2-4:-1]))\n",
    "print('   >>> one-hot-encoding : {}'.format(labels[Sample_cnt*2-4:-1]))"
   ]
  },
  {
   "cell_type": "code",
   "execution_count": 21,
   "metadata": {},
   "outputs": [
    {
     "name": "stdout",
     "output_type": "stream",
     "text": [
      "10\n",
      "word2index_map : {'Nine': 0, 'Three': 1, 'Five': 2, 'One': 3, 'Seven': 4, 'PAD': 5, 'Two': 6, 'Eight': 7, 'Four': 8, 'Six': 9}\n",
      "index2word_map : {0: 'Nine', 1: 'Three', 2: 'Five', 3: 'One', 4: 'Seven', 5: 'PAD', 6: 'Two', 7: 'Eight', 8: 'Four', 9: 'Six'}\n"
     ]
    }
   ],
   "source": [
    "word2index_map = {}\n",
    "index = 0\n",
    "for sent in data:\n",
    "    for word in sent.split():\n",
    "        if word not in word2index_map:\n",
    "            word2index_map[word] = index\n",
    "            index += 1\n",
    "index2word_map = {index:word for word, index in word2index_map.items()}            \n",
    "vocabulary_size = len(index2word_map)        \n",
    "print('{}'.format(vocabulary_size))\n",
    "print('word2index_map : {}'.format(word2index_map))\n",
    "print('index2word_map : {}'.format(index2word_map))\n",
    "    "
   ]
  },
  {
   "cell_type": "code",
   "execution_count": 44,
   "metadata": {},
   "outputs": [],
   "source": [
    "def get_glove(path_to_glove, word2index_map):\n",
    "    first = 0\n",
    "    embedding_weights = {}\n",
    "    count_all_words = 0\n",
    "    with zipfile.ZipFile(path_to_glove) as z:\n",
    "        with z.open(\"glove.840B.300d.txt\") as f:\n",
    "            for line in f:\n",
    "                vals = line.split()\n",
    "                word = str(vals[0].decode(\"utf-8\"))\n",
    "                first += 1\n",
    "                if word in word2index_map:\n",
    "                    print('{} {} 번째'.format(word, first))\n",
    "                    count_all_words += 1\n",
    "                    coefs = np.asarray(vals[1:], dtype='float32')\n",
    "                    coefs /= np.linalg.norm(coefs)\n",
    "                    embedding_weights[word] = coefs\n",
    "                    if first == 1:\n",
    "                        print(coefs)\n",
    "                \n",
    "                if count_all_words == len(word2index_map) - 1:\n",
    "                    break\n",
    "                        \n",
    "                #if word == 'PAD' or first % 10000 == 0:\n",
    "                #    print('>>> {} {} 번째'.format(word, first))\n",
    "                #if first >= 1000000:\n",
    "                #    break\n",
    "    return embedding_weights\n",
    "\n"
   ]
  },
  {
   "cell_type": "code",
   "execution_count": 45,
   "metadata": {
    "scrolled": true
   },
   "outputs": [
    {
     "name": "stdout",
     "output_type": "stream",
     "text": [
      "One 290 번째\n",
      "Two 1054 번째\n",
      "Three 2026 번째\n",
      "Four 2954 번째\n",
      "Five 3663 번째\n",
      "Six 4937 번째\n",
      "Seven 6228 번째\n",
      "Nine 9432 번째\n",
      "Eight 10606 번째\n",
      "word2embedding_dict shape : (300,)\n"
     ]
    }
   ],
   "source": [
    "word2embedding_dict = get_glove(path_to_glove, word2index_map)\n",
    "print('word2embedding_dict shape : {}'.format(word2embedding_dict['Eight'].shape))"
   ]
  },
  {
   "cell_type": "code",
   "execution_count": 27,
   "metadata": {},
   "outputs": [
    {
     "name": "stdout",
     "output_type": "stream",
     "text": [
      "10 300\n"
     ]
    },
    {
     "data": {
      "text/plain": [
       "dict"
      ]
     },
     "execution_count": 27,
     "metadata": {},
     "output_type": "execute_result"
    }
   ],
   "source": [
    "embedding_matrix = np.zeros((vocabulary_size, GLOVE_SIZE))\n",
    "print('{} {}'.format(vocabulary_size, GLOVE_SIZE))\n",
    "embedding_matrix\n",
    "type(word2index_map)"
   ]
  },
  {
   "cell_type": "code",
   "execution_count": 28,
   "metadata": {
    "scrolled": true
   },
   "outputs": [
    {
     "name": "stdout",
     "output_type": "stream",
     "text": [
      "embedding_matrix type:<class 'numpy.ndarray'> data:[[ 0.00501343 -0.02988535 -0.0271745  ...  0.01667927  0.00738378\n",
      "  -0.10879323]\n",
      " [-0.03824107 -0.02461622 -0.07610063 ... -0.05147701  0.04443772\n",
      "  -0.075308  ]\n",
      " [-0.02271027  0.00910496 -0.03779484 ... -0.04140582  0.04717579\n",
      "  -0.06907098]\n",
      " ...\n",
      " [ 0.00242988  0.0330428  -0.01491071 ... -0.07107946  0.02411918\n",
      "  -0.09388998]\n",
      " [-0.00793781  0.0166579  -0.03776361 ... -0.04945398  0.0618212\n",
      "  -0.05904504]\n",
      " [-0.0296887   0.0435931  -0.05909128 ... -0.01779287  0.02460201\n",
      "  -0.07145758]]\n"
     ]
    }
   ],
   "source": [
    "for word, index in word2index_map.items():\n",
    "    if not word == \"PAD\":\n",
    "        word_embedding = word2embedding_dict[word]\n",
    "        embedding_matrix[index,:] = word_embedding\n",
    "print('embedding_matrix type:{} data:{}'.format(type(embedding_matrix),embedding_matrix))\n",
    "\n",
    "\n"
   ]
  },
  {
   "cell_type": "code",
   "execution_count": 46,
   "metadata": {},
   "outputs": [],
   "source": [
    "# Train Set, Test Set 만들기\n",
    "Sample_cnt = 10000\n",
    "data_indices = list(range(len(data)))\n",
    "np.random.shuffle(data_indices)\n",
    "data_shuffle = np.array(data)[data_indices]\n",
    "labels_shuffle = np.array(labels)[data_indices]\n",
    "seqlens_shuffle = np.array(seqlens)[data_indices]\n",
    "#print('data_shuffle : {}'.format(data_shuffle[:5]))\n",
    "#print('labels_shuffle : {}'.format(labels_shuffle[:5]))\n",
    "#print('seqlens_shuffle : {}'.format(seqlens_shuffle[:5]))\n",
    "\n",
    "train_x = data_shuffle[:Sample_cnt]\n",
    "train_y = labels_shuffle[:Sample_cnt]\n",
    "train_seqlens = seqlens_shuffle[:Sample_cnt]\n",
    "\n",
    "test_x = data_shuffle[Sample_cnt:]\n",
    "test_y = labels_shuffle[Sample_cnt:]\n",
    "test_seqlens = seqlens_shuffle[Sample_cnt:]\n"
   ]
  },
  {
   "cell_type": "code",
   "execution_count": 47,
   "metadata": {},
   "outputs": [],
   "source": [
    "# bath_size만큼 데이터를 Random하게 제공\n",
    "def get_sentence_batch(batch_size, data_x,\n",
    "                       data_y, data_seqlens):\n",
    "    instance_indices = list(range(len(data_x)))\n",
    "    np.random.shuffle(instance_indices)\n",
    "    batch = instance_indices[:batch_size]\n",
    "    x = [[word2index_map[word] for word in data_x[i].lower().split()]\n",
    "         for i in batch]\n",
    "    y = [data_y[i] for i in batch]\n",
    "    seqlens = [data_seqlens[i] for i in batch]\n",
    "    return x, y, seqlens"
   ]
  },
  {
   "cell_type": "code",
   "execution_count": 48,
   "metadata": {},
   "outputs": [],
   "source": [
    "# train data의 placeholder\n",
    "_inputs = tf.placeholder(tf.int32, shape=[batch_size, times_steps])\n",
    "embedding_placeholder = tf.placeholder(tf.float32, shape=[vocabulary_size, GLOVE_SIZE])\n",
    "_labels = tf.placeholder(tf.int32, shape=[batch_size, num_classes])\n",
    "_seqlens = tf.placeholder(tf.int32, shape=[batch_size])"
   ]
  },
  {
   "cell_type": "code",
   "execution_count": 57,
   "metadata": {},
   "outputs": [
    {
     "name": "stdout",
     "output_type": "stream",
     "text": [
      "embedding_placeholder:Tensor(\"Placeholder_1:0\", shape=(10, 300), dtype=float32)\n",
      "embedding_init:Tensor(\"Assign_8:0\", shape=(10, 300), dtype=float32_ref)\n",
      "embed:Tensor(\"embedding_lookup_8:0\", shape=(128, 6, 300), dtype=float32)\n"
     ]
    }
   ],
   "source": [
    "if PRE_TRAINED:\n",
    "        embeddings = tf.Variable(tf.constant(0.0, shape=[vocabulary_size, GLOVE_SIZE]),\n",
    "                                 trainable=True)\n",
    "        # if using pre-trained embeddings, assign them to the embeddings variable\n",
    "        embedding_init = embeddings.assign(embedding_placeholder)\n",
    "        embed = tf.nn.embedding_lookup(embeddings, _inputs)\n",
    "        print('embedding_placeholder:{}\\nembedding_init:{}\\nembed:{}'.format(embedding_placeholder,embedding_init,embed))\n",
    "else:\n",
    "        embeddings = tf.Variable(\n",
    "            tf.random_uniform([vocabulary_size,\n",
    "                               embedding_dimension],\n",
    "                              -1.0, 1.0))\n",
    "        embed = tf.nn.embedding_lookup(embeddings, _inputs)"
   ]
  },
  {
   "cell_type": "code",
   "execution_count": 66,
   "metadata": {},
   "outputs": [],
   "source": [
    "with tf.name_scope(\"biGRU\"):\n",
    "    with tf.variable_scope('forward'):\n",
    "        gru_fw_cell = tf.contrib.rnn.GRUCell(hidden_layer_size)\n",
    "        gru_fw_cell = tf.contrib.rnn.DropoutWrapper(gru_fw_cell)\n",
    "\n",
    "    with tf.variable_scope('backward'):\n",
    "        gru_bw_cell = tf.contrib.rnn.GRUCell(hidden_layer_size)\n",
    "        gru_bw_cell = tf.contrib.rnn.DropoutWrapper(gru_bw_cell)\n",
    "\n",
    "    with tf.variable_scope(\"biGRU\", reuse=tf.AUTO_REUSE):\n",
    "        outputs, states = tf.nn.bidirectional_dynamic_rnn(cell_fw=gru_fw_cell,\n",
    "                                                          cell_bw=gru_bw_cell,\n",
    "                                                          inputs=embed,\n",
    "                                                          sequence_length=_seqlens,\n",
    "                                                          dtype=tf.float32,\n",
    "                                                          scope=\"biGRU\")\n",
    "        states = tf.concat(values=states, axis=1)"
   ]
  },
  {
   "cell_type": "code",
   "execution_count": 71,
   "metadata": {},
   "outputs": [
    {
     "name": "stdout",
     "output_type": "stream",
     "text": [
      "{'linear_layer': <tf.Variable 'Variable_16:0' shape=(64, 2) dtype=float32_ref>}\n",
      "{'linear_layer': <tf.Variable 'Variable_17:0' shape=(2,) dtype=float32_ref>}\n"
     ]
    }
   ],
   "source": [
    "weights = {'linear_layer': tf.Variable(tf.truncated_normal([2*hidden_layer_size,\n",
    "                                                    num_classes],\n",
    "                                                    mean=0, stddev=.01))}\n",
    "biases = {'linear_layer': tf.Variable(tf.truncated_normal([num_classes],\n",
    "                                                    mean=0, stddev=.01))}\n",
    "print('{}\\n{}'.format(weights, biases))"
   ]
  },
  {
   "cell_type": "code",
   "execution_count": 73,
   "metadata": {},
   "outputs": [],
   "source": [
    "# extract the final state and use in a linear layer\n",
    "final_output = tf.matmul(states,\n",
    "                         weights[\"linear_layer\"]) + biases[\"linear_layer\"]\n",
    "\n",
    "softmax = tf.nn.softmax_cross_entropy_with_logits(logits=final_output,\n",
    "                                                  labels=_labels)\n",
    "cross_entropy = tf.reduce_mean(softmax)\n",
    "\n",
    "train_step = tf.train.RMSPropOptimizer(0.001, 0.9).minimize(cross_entropy)\n",
    "correct_prediction = tf.equal(tf.argmax(_labels, 1),\n",
    "                              tf.argmax(final_output, 1))\n",
    "accuracy = (tf.reduce_mean(tf.cast(correct_prediction,\n",
    "                                   tf.float32)))*100"
   ]
  },
  {
   "cell_type": "code",
   "execution_count": 75,
   "metadata": {},
   "outputs": [
    {
     "name": "stdout",
     "output_type": "stream",
     "text": [
      "Accuracy at 0: 47.65625\n",
      "Accuracy at 100: 100.00000\n",
      "Accuracy at 200: 100.00000\n",
      "Accuracy at 300: 100.00000\n",
      "Accuracy at 400: 100.00000\n",
      "Accuracy at 500: 100.00000\n",
      "Accuracy at 600: 100.00000\n",
      "Accuracy at 700: 100.00000\n",
      "Accuracy at 800: 100.00000\n",
      "Accuracy at 900: 100.00000\n",
      "Test batch accuracy 0: 100.00000\n",
      "Test batch accuracy 1: 100.00000\n",
      "Test batch accuracy 2: 100.00000\n",
      "Test batch accuracy 3: 100.00000\n",
      "Test batch accuracy 4: 100.00000\n",
      "Three\n",
      "1.0\n",
      "Five\n",
      "0.9507418\n",
      "Seven\n",
      "0.91235805\n",
      "Nine\n",
      "0.87779546\n",
      "One\n",
      "0.8678094\n",
      "Four\n",
      "-0.07850474\n",
      "Two\n",
      "-0.08900523\n",
      "Six\n",
      "-0.10796718\n",
      "Eight\n",
      "-0.11757462\n"
     ]
    }
   ],
   "source": [
    "with tf.Session() as sess:\n",
    "    sess.run(tf.global_variables_initializer())\n",
    "    sess.run(embedding_init,\n",
    "             feed_dict={embedding_placeholder: embedding_matrix})\n",
    "    for step in range(1000):\n",
    "        x_batch, y_batch, seqlen_batch = get_sentence_batch(batch_size,\n",
    "                                                            train_x, train_y,\n",
    "                                                            train_seqlens)\n",
    "        sess.run(train_step, feed_dict={_inputs: x_batch, _labels: y_batch,\n",
    "                                        _seqlens: seqlen_batch})\n",
    "\n",
    "        if step % 100 == 0:\n",
    "            acc = sess.run(accuracy, feed_dict={_inputs: x_batch,\n",
    "                                                _labels: y_batch,\n",
    "                                                _seqlens: seqlen_batch})\n",
    "            print(\"Accuracy at %d: %.5f\" % (step, acc))\n",
    "\n",
    "    norm = tf.sqrt(tf.reduce_sum(tf.square(embeddings),\n",
    "                                 1, keep_dims=True))\n",
    "    normalized_embeddings = embeddings / norm\n",
    "    normalized_embeddings_matrix = sess.run(normalized_embeddings)\n",
    "\n",
    "    for test_batch in range(5):\n",
    "        x_test, y_test, seqlen_test = get_sentence_batch(batch_size,\n",
    "                                                         test_x, test_y,\n",
    "                                                         test_seqlens)\n",
    "        batch_pred, batch_acc = sess.run([tf.argmax(final_output, 1), accuracy],\n",
    "                                         feed_dict={_inputs: x_test,\n",
    "                                                    _labels: y_test,\n",
    "                                                    _seqlens: seqlen_test})\n",
    "        print(\"Test batch accuracy %d: %.5f\" % (test_batch, batch_acc))\n",
    "\n",
    "ref_word = normalized_embeddings_matrix[word2index_map[\"Three\"]]\n",
    "\n",
    "cosine_dists = np.dot(normalized_embeddings_matrix, ref_word)\n",
    "ff = np.argsort(cosine_dists)[::-1][1:10]\n",
    "for f in ff:\n",
    "    print(index2word_map[f])\n",
    "    print(cosine_dists[f])\n",
    " "
   ]
  },
  {
   "cell_type": "code",
   "execution_count": null,
   "metadata": {},
   "outputs": [],
   "source": []
  },
  {
   "cell_type": "code",
   "execution_count": null,
   "metadata": {},
   "outputs": [],
   "source": []
  }
 ],
 "metadata": {
  "kernelspec": {
   "display_name": "Python 3",
   "language": "python",
   "name": "python3"
  },
  "language_info": {
   "codemirror_mode": {
    "name": "ipython",
    "version": 3
   },
   "file_extension": ".py",
   "mimetype": "text/x-python",
   "name": "python",
   "nbconvert_exporter": "python",
   "pygments_lexer": "ipython3",
   "version": "3.6.5"
  }
 },
 "nbformat": 4,
 "nbformat_minor": 2
}
