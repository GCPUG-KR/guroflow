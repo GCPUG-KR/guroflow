{
 "cells": [
  {
   "cell_type": "code",
   "execution_count": 99,
   "metadata": {},
   "outputs": [],
   "source": [
    "from sklearn import datasets, metrics, preprocessing\n",
    "import tensorflow as "
   ]
  },
  {
   "cell_type": "code",
   "execution_count": 2,
   "metadata": {},
   "outputs": [],
   "source": [
    "boston = datasets.load_boston()"
   ]
  },
  {
   "cell_type": "markdown",
   "metadata": {},
   "source": [
    "Boston House Prices dataset\n",
    "===========================\n",
    "\n",
    "Notes\n",
    "------\n",
    "Data Set Characteristics:  \n",
    "\n",
    "    :Number of Instances: 506 \n",
    "\n",
    "    :Number of Attributes: 13 numeric/categorical predictive\n",
    "    \n",
    "    :Median Value (attribute 14) is usually the target\n",
    "\n",
    "    :Attribute Information (in order):\n",
    "        - CRIM  :   per capita crime rate by town\n",
    "        - ZN     :  proportion of residential land zoned for lots over 25,000 sq.ft.\n",
    "        - INDUS :   proportion of non-retail business acres per town\n",
    "        - CHAS  :   Charles River dummy variable (= 1 if tract bounds river; 0 otherwise)\n",
    "        - NOX   :   nitric oxides concentration (parts per 10 million)\n",
    "        - RM     :  average number of rooms per dwelling\n",
    "        - AGE    :  proportion of owner-occupied units built prior to 1940\n",
    "        - DIS     : weighted distances to five Boston employment centres\n",
    "        - RAD    :  index of accessibility to radial highways\n",
    "        - TAX    :  full-value property-tax rate per $10,000\n",
    "        - PTRATIO : pupil-teacher ratio by town\n",
    "        - B       : 1000(Bk - 0.63)^2 where Bk is the proportion of blacks by town\n",
    "        - LSTAT   : % lower status of the population\n",
    "        - MEDV   :  Median value of owner-occupied homes in $1000's\n",
    "\n",
    "    :Missing Attribute Values: None\n",
    "\n",
    "    :Creator: Harrison, D. and Rubinfeld, D.L.\n",
    "\n",
    "This is a copy of UCI ML housing dataset.\n",
    "http://archive.ics.uci.edu/ml/datasets/Housing\n",
    "\n",
    "\n",
    "This dataset was taken from the StatLib library which is maintained at Carnegie Mellon University.\n",
    "\n",
    "The Boston house-price data of Harrison, D. and Rubinfeld, D.L. 'Hedonic\n",
    "prices and the demand for clean air', J. Environ. Economics & Management,\n",
    "vol.5, 81-102, 1978.   Used in Belsley, Kuh & Welsch, 'Regression diagnostics\n",
    "...', Wiley, 1980.   N.B. Various transformations are used in the table on\n",
    "pages 244-261 of the latter.\n",
    "\n",
    "The Boston house-price data has been used in many machine learning papers that address regression\n",
    "problems.   \n",
    "     \n",
    "**References**\n",
    "\n",
    "   - Belsley, Kuh & Welsch, 'Regression diagnostics: Identifying Influential Data and Sources of Collinearity', Wiley, 1980. 244-261.\n",
    "   - Quinlan,R. (1993). Combining Instance-Based and Model-Based Learning. In Proceedings on the Tenth International Conference of Machine Learning, 236-243, University of Massachusetts, Amherst. Morgan Kaufmann.\n",
    "   - many more! (see http://archive.ics.uci.edu/ml/datasets/Housing)\n"
   ]
  },
  {
   "cell_type": "markdown",
   "metadata": {},
   "source": [
    "# Data Explore"
   ]
  },
  {
   "cell_type": "code",
   "execution_count": 118,
   "metadata": {},
   "outputs": [
    {
     "name": "stdout",
     "output_type": "stream",
     "text": [
      "<class 'sklearn.utils.Bunch'> ['data', 'target', 'feature_names', 'DESCR']\n",
      "****************************************************************************************************\n",
      "['CRIM' 'ZN' 'INDUS' 'CHAS' 'NOX' 'RM' 'AGE' 'DIS' 'RAD' 'TAX' 'PTRATIO'\n",
      " 'B' 'LSTAT']\n",
      "****************************************************************************************************\n",
      "[24.  21.6 34.7 33.4 36.2 28.7 22.9 27.1 16.5 18.9]\n",
      "****************************************************************************************************\n",
      "[[6.3200e-03 1.8000e+01 2.3100e+00 0.0000e+00 5.3800e-01 6.5750e+00\n",
      "  6.5200e+01 4.0900e+00 1.0000e+00 2.9600e+02 1.5300e+01 3.9690e+02\n",
      "  4.9800e+00]\n",
      " [2.7310e-02 0.0000e+00 7.0700e+00 0.0000e+00 4.6900e-01 6.4210e+00\n",
      "  7.8900e+01 4.9671e+00 2.0000e+00 2.4200e+02 1.7800e+01 3.9690e+02\n",
      "  9.1400e+00]\n",
      " [2.7290e-02 0.0000e+00 7.0700e+00 0.0000e+00 4.6900e-01 7.1850e+00\n",
      "  6.1100e+01 4.9671e+00 2.0000e+00 2.4200e+02 1.7800e+01 3.9283e+02\n",
      "  4.0300e+00]]\n",
      "****************************************************************************************************\n",
      "<class 'numpy.ndarray'> (506, 13) (506,)\n"
     ]
    }
   ],
   "source": [
    "print(type(boston), list(boston.keys()))\n",
    "print('*'*100)\n",
    "print(boston['feature_names'])\n",
    "print('*'*100)\n",
    "print(boston['target'][:10])\n",
    "print('*'*100)\n",
    "print(boston['data'][:3])\n",
    "print('*'*100)\n",
    "print(type(boston['data']), boston['data'].shape, boston['target'].shape)\n"
   ]
  },
  {
   "cell_type": "code",
   "execution_count": 119,
   "metadata": {},
   "outputs": [],
   "source": [
    "x_data = preprocessing.StandardScaler().fit_transform(boston.data)\n",
    "y_data = boston.target"
   ]
  },
  {
   "cell_type": "code",
   "execution_count": 120,
   "metadata": {},
   "outputs": [],
   "source": [
    "x = tf.placeholder(tf.float64, shape=[None,13])\n",
    "y_true = tf.placeholder(tf.float64, shape=[None])"
   ]
  },
  {
   "cell_type": "code",
   "execution_count": 121,
   "metadata": {},
   "outputs": [],
   "source": [
    "with tf.name_scope(\"inference\") as scope:\n",
    "    w = tf.Variable(tf.zeros([1,13], dtype=tf.float64, name=\"weight\"))\n",
    "    b = tf.Variable(0, dtype = tf.float64, name=\"bias\")\n",
    "    y_pred = tf.matmul(w, tf.transpose(x)) + b"
   ]
  },
  {
   "cell_type": "code",
   "execution_count": 122,
   "metadata": {},
   "outputs": [],
   "source": [
    "loss = tf.reduce_mean(tf.square(y_pred - y_true))"
   ]
  },
  {
   "cell_type": "code",
   "execution_count": 127,
   "metadata": {},
   "outputs": [],
   "source": [
    "learning_rate =0.1\n",
    "optimizer = tf.train.GradientDescentOptimizer(learning_rate)\n",
    "train = optimizer.minimize(loss)"
   ]
  },
  {
   "cell_type": "code",
   "execution_count": 136,
   "metadata": {},
   "outputs": [
    {
     "name": "stdout",
     "output_type": "stream",
     "text": [
      "10 >> Loss : 33.199461817021394\n",
      "20 >> Loss : 23.041529160174342\n",
      "30 >> Loss : 22.525390812906767\n",
      "40 >> Loss : 22.301918208344347\n",
      "50 >> Loss : 22.171898023011074\n",
      "60 >> Loss : 22.09114956677962\n",
      "70 >> Loss : 22.038254821260214\n",
      "80 >> Loss : 22.001998766551505\n",
      "90 >> Loss : 21.976232420374274\n",
      "100 >> Loss : 21.957417354074366\n",
      "110 >> Loss : 21.9434093959962\n",
      "120 >> Loss : 21.93284010906021\n",
      "130 >> Loss : 21.924793394091235\n",
      "140 >> Loss : 21.918630661280663\n",
      "150 >> Loss : 21.913892406412685\n",
      "160 >> Loss : 21.910240135584576\n",
      "170 >> Loss : 21.907420325543992\n",
      "180 >> Loss : 21.90524092441727\n",
      "190 >> Loss : 21.903555335172882\n",
      "200 >> Loss : 21.902251093308386\n"
     ]
    }
   ],
   "source": [
    "with tf.Session() as sess:\n",
    "    sess.run(tf.global_variables_initializer())\n",
    "    for step in range(200):\n",
    "        _, out_loss = sess.run([train,loss], feed_dict={x:x_data, y_true:y_data})\n",
    "        if (step+1) % 10 == 0:\n",
    "            print('{} >> Loss : {}'.format(step+1, out_loss))"
   ]
  },
  {
   "cell_type": "code",
   "execution_count": null,
   "metadata": {},
   "outputs": [],
   "source": []
  }
 ],
 "metadata": {
  "kernelspec": {
   "display_name": "Python 3",
   "language": "python",
   "name": "python3"
  },
  "language_info": {
   "codemirror_mode": {
    "name": "ipython",
    "version": 3
   },
   "file_extension": ".py",
   "mimetype": "text/x-python",
   "name": "python",
   "nbconvert_exporter": "python",
   "pygments_lexer": "ipython3",
   "version": "3.6.5"
  }
 },
 "nbformat": 4,
 "nbformat_minor": 2
}
