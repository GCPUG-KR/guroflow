{
 "cells": [
  {
   "cell_type": "markdown",
   "metadata": {},
   "source": [
    "# 1. Library Define"
   ]
  },
  {
   "cell_type": "code",
   "execution_count": 25,
   "metadata": {},
   "outputs": [],
   "source": [
    "from __future__ import division, print_function, unicode_literals\n",
    "import tensorflow as tf\n",
    "import pandas as pd\n",
    "from datetime import datetime, date, time"
   ]
  },
  {
   "cell_type": "markdown",
   "metadata": {},
   "source": [
    "# 2. MNIST Data Import"
   ]
  },
  {
   "cell_type": "code",
   "execution_count": 6,
   "metadata": {},
   "outputs": [
    {
     "name": "stdout",
     "output_type": "stream",
     "text": [
      "Extracting /tmp/data/train-images-idx3-ubyte.gz\n",
      "Extracting /tmp/data/train-labels-idx1-ubyte.gz\n",
      "Extracting /tmp/data/t10k-images-idx3-ubyte.gz\n",
      "Extracting /tmp/data/t10k-labels-idx1-ubyte.gz\n"
     ]
    }
   ],
   "source": [
    "# MNIST 데이터 임포트\n",
    "from tensorflow.examples.tutorials.mnist import input_data\n",
    "mnist = input_data.read_data_sets(\"/tmp/data/\", one_hot=True)"
   ]
  },
  {
   "cell_type": "markdown",
   "metadata": {},
   "source": [
    "# 3. Parameter Define"
   ]
  },
  {
   "cell_type": "code",
   "execution_count": 8,
   "metadata": {},
   "outputs": [],
   "source": [
    "# Define some parameters\n",
    "element_size = 28\n",
    "time_steps = 28\n",
    "num_classes = 10\n",
    "batch_size = 128\n",
    "hidden_layer_size = 128\n",
    "\n",
    "\n",
    "# 텐서보드 모델 요약을 저장할 위치\n",
    "LOG_DIR = \"logs/RNN_with_summaries_\"+datetime.now().strftime('%Y%m%d%H%M%S')+\"/\"\n"
   ]
  },
  {
   "cell_type": "markdown",
   "metadata": {},
   "source": [
    "# 4. Create placeholders for inputs, labels"
   ]
  },
  {
   "cell_type": "code",
   "execution_count": 9,
   "metadata": {},
   "outputs": [
    {
     "data": {
      "text/plain": [
       "(TensorShape([Dimension(None), Dimension(28), Dimension(28)]),\n",
       " TensorShape([Dimension(None), Dimension(10)]))"
      ]
     },
     "execution_count": 9,
     "metadata": {},
     "output_type": "execute_result"
    }
   ],
   "source": [
    "# Create placeholders for inputs, labels\n",
    "_inputs = tf.placeholder(tf.float32,\n",
    "                         shape=[None, time_steps, element_size],\n",
    "                         name='inputs')\n",
    "y = tf.placeholder(tf.float32, shape=[None, num_classes], name='labels')\n",
    "_inputs.get_shape(), y.get_shape()"
   ]
  },
  {
   "cell_type": "markdown",
   "metadata": {},
   "source": [
    "# 5. Tensorflow에서 로깅 요약을 추가하는 작업"
   ]
  },
  {
   "cell_type": "code",
   "execution_count": 10,
   "metadata": {},
   "outputs": [],
   "source": [
    "def variable_summaries(var):\n",
    "    with tf.name_scope('summaries'):\n",
    "        mean = tf.reduce_mean(var)\n",
    "        tf.summary.scalar('mean', mean)\n",
    "        with tf.name_scope('stddev'):\n",
    "            stddev = tf.sqrt(tf.reduce_mean(tf.square(var - mean)))\n",
    "        tf.summary.scalar('stddev', stddev)\n",
    "        tf.summary.scalar('max', tf.reduce_max(var))\n",
    "        tf.summary.scalar('min', tf.reduce_min(var))\n",
    "        tf.summary.histogram('histogram', var)"
   ]
  },
  {
   "cell_type": "markdown",
   "metadata": {},
   "source": [
    "# 6. RNN작업 구성"
   ]
  },
  {
   "cell_type": "code",
   "execution_count": 11,
   "metadata": {},
   "outputs": [],
   "source": [
    "# RNN 모델 계산\n",
    "def rnn_step(previous_hidden_state, x):\n",
    "    current_hidden_state = tf.tanh(tf.matmul(previous_hidden_state, Wh) + tf.matmul(x, Wx) + b_rnn)\n",
    "    \n",
    "    return current_hidden_state"
   ]
  },
  {
   "cell_type": "code",
   "execution_count": 12,
   "metadata": {},
   "outputs": [],
   "source": [
    "# Weight X, Weights h, bias Variable Define\n",
    "with tf.name_scope('rnn_weights'):\n",
    "    with tf.name_scope(\"W_x\"):\n",
    "        Wx = tf.Variable(tf.zeros([element_size, hidden_layer_size]))\n",
    "        variable_summaries(Wx)\n",
    "    with tf.name_scope(\"W_h\"):\n",
    "        Wh = tf.Variable(tf.zeros([hidden_layer_size, hidden_layer_size]))\n",
    "        variable_summaries(Wh)\n",
    "    with tf.name_scope(\"Bias\"):\n",
    "        b_rnn = tf.Variable(tf.zeros([hidden_layer_size]))\n",
    "        variable_summaries(b_rnn)"
   ]
  },
  {
   "cell_type": "markdown",
   "metadata": {},
   "source": [
    "# 7. Input으로 RNN 실행 그래프 정의"
   ]
  },
  {
   "cell_type": "code",
   "execution_count": 13,
   "metadata": {},
   "outputs": [],
   "source": [
    "# _input shape : (batch_size, time_step, element)\n",
    "# processed_input shape : (time_steps, batch_size, element_size)\n",
    "processed_input = tf.transpose(_inputs, perm=[1, 0, 2])\n",
    "\n",
    "# hidden_layer output tensor define\n",
    "initial_hidden = tf.zeros([batch_size, hidden_layer_size])\n",
    "\n",
    "# Getting all state vectors across time\n",
    "# all_hidden_states shape : (time_step, batch_size, hidden_layer_size)\n",
    "all_hidden_states = tf.scan(rnn_step,\n",
    "                            processed_input,\n",
    "                            initializer=initial_hidden,\n",
    "                            name='states')\n"
   ]
  },
  {
   "cell_type": "markdown",
   "metadata": {},
   "source": [
    "# 8. hidden_layer output으로 각 클래스별 score 계산"
   ]
  },
  {
   "cell_type": "code",
   "execution_count": 14,
   "metadata": {},
   "outputs": [],
   "source": [
    "def get_linear_layer(hidden_state):\n",
    "    return tf.matmul(hidden_state, Wl) + bl"
   ]
  },
  {
   "cell_type": "code",
   "execution_count": 15,
   "metadata": {},
   "outputs": [],
   "source": [
    "# Weights for output layers\n",
    "with tf.name_scope('linear_layer_weights') as scope:\n",
    "    with tf.name_scope(\"W_linear\"):\n",
    "        Wl = tf.Variable(tf.truncated_normal([hidden_layer_size, num_classes], mean=0, stddev=.01))\n",
    "        variable_summaries(Wl)\n",
    "    with tf.name_scope(\"Bias_linear\"):\n",
    "        bl = tf.Variable(tf.truncated_normal([num_classes], mean=0, stddev=.01))\n",
    "        variable_summaries(bl)"
   ]
  },
  {
   "cell_type": "code",
   "execution_count": 18,
   "metadata": {},
   "outputs": [
    {
     "data": {
      "text/plain": [
       "(TensorShape([Dimension(28), Dimension(128), Dimension(10)]),\n",
       " TensorShape([Dimension(128), Dimension(10)]))"
      ]
     },
     "execution_count": 18,
     "metadata": {},
     "output_type": "execute_result"
    }
   ],
   "source": [
    "with tf.name_scope('linear_layer_weights') as scope:\n",
    "    # Iterate across time, apply linear layer to all RNN outputs\n",
    "    all_outputs = tf.map_fn(get_linear_layer, all_hidden_states)\n",
    "    output = all_outputs[-1]     # Get Last output\n",
    "    tf.summary.histogram('outputs', output)\n",
    "all_outputs.get_shape(), output.get_shape()  # 앞쪽은 모든 output, 두번째는 마지막 output(최종)"
   ]
  },
  {
   "cell_type": "markdown",
   "metadata": {},
   "source": [
    "# 9. Loss Function / Train / Accuracy Define"
   ]
  },
  {
   "cell_type": "code",
   "execution_count": 26,
   "metadata": {},
   "outputs": [],
   "source": [
    "with tf.name_scope('cross_entropy'):\n",
    "    cross_entropy = tf.reduce_mean(tf.nn.softmax_cross_entropy_with_logits(logits=output, labels=y))\n",
    "    tf.summary.scalar('cross_entropy', cross_entropy)\n",
    "\n",
    "with tf.name_scope('train'):\n",
    "    # Using RMSPropOptimizer\n",
    "    train_step = tf.train.RMSPropOptimizer(0.001, 0.9).minimize(cross_entropy)\n",
    "\n",
    "with tf.name_scope('accuracy'):\n",
    "    correct_prediction = tf.equal(tf.argmax(y, 1), tf.argmax(output, 1))\n",
    "\n",
    "    accuracy = (tf.reduce_mean(tf.cast(correct_prediction, tf.float32)))*100\n",
    "    tf.summary.scalar('accuracy', accuracy)\n",
    "    \n",
    "# Merge all the summaries\n",
    "merged = tf.summary.merge_all()"
   ]
  },
  {
   "cell_type": "markdown",
   "metadata": {},
   "source": [
    "# 10. Training Session Run"
   ]
  },
  {
   "cell_type": "code",
   "execution_count": 24,
   "metadata": {},
   "outputs": [
    {
     "name": "stdout",
     "output_type": "stream",
     "text": [
      "Iter 1, Minibatch Loss= 2.303251, Training Accuracy= 9.37500\n",
      "Test Iter 100 Accuracy: 11.71875\n",
      "Test Iter 200 Accuracy: 16.40625\n",
      "Test Iter 300 Accuracy: 27.34375\n",
      "Test Iter 400 Accuracy: 35.9375\n",
      "Test Iter 500 Accuracy: 30.46875\n",
      "Test Iter 600 Accuracy: 53.90625\n",
      "Test Iter 700 Accuracy: 55.46875\n",
      "Test Iter 800 Accuracy: 57.8125\n",
      "Test Iter 900 Accuracy: 58.59375\n",
      "Iter 1000, Minibatch Loss= 1.211384, Training Accuracy= 55.46875\n",
      "Test Iter 1000 Accuracy: 60.9375\n",
      "Test Iter 1100 Accuracy: 64.84375\n",
      "Test Iter 1200 Accuracy: 64.84375\n",
      "Test Iter 1300 Accuracy: 65.625\n",
      "Test Iter 1400 Accuracy: 66.40625\n",
      "Test Iter 1500 Accuracy: 68.75\n",
      "Test Iter 1600 Accuracy: 78.90625\n",
      "Test Iter 1700 Accuracy: 76.5625\n",
      "Test Iter 1800 Accuracy: 80.46875\n",
      "Test Iter 1900 Accuracy: 84.375\n",
      "Iter 2000, Minibatch Loss= 0.538656, Training Accuracy= 82.81250\n",
      "Test Iter 2000 Accuracy: 87.5\n",
      "Complete\n"
     ]
    }
   ],
   "source": [
    "# Get a small test set\n",
    "test_data = mnist.test.images[:batch_size].reshape((-1, time_steps, element_size))\n",
    "test_label = mnist.test.labels[:batch_size]\n",
    "\n",
    "with tf.Session() as sess:\n",
    "    # Write summaries to LOG_DIR -- used by TensorBoard\n",
    "    train_writer = tf.summary.FileWriter(LOG_DIR + '/train', graph=tf.get_default_graph())\n",
    "    test_writer = tf.summary.FileWriter(LOG_DIR + '/test', graph=tf.get_default_graph())\n",
    "\n",
    "    sess.run(tf.global_variables_initializer())\n",
    "    for i in range(2000):\n",
    "\n",
    "            batch_x, batch_y = mnist.train.next_batch(batch_size)\n",
    "            # Reshape data to get 28 sequences of 28 pixels\n",
    "            batch_x = batch_x.reshape((batch_size, time_steps, element_size))\n",
    "            summary, _ = sess.run([merged, train_step], feed_dict={_inputs: batch_x, y: batch_y})\n",
    "            # Add to summaries\n",
    "            train_writer.add_summary(summary, i)\n",
    "\n",
    "            if i == 0 or (i+1) % 1000 == 0:\n",
    "                acc, loss, = sess.run([accuracy, cross_entropy], feed_dict={_inputs: batch_x, y: batch_y})\n",
    "                print(\"Iter \" + str(i+1) + \", Minibatch Loss= \" +\n",
    "                      \"{:.6f}\".format(loss) + \", Training Accuracy= \" +\n",
    "                      \"{:.5f}\".format(acc))\n",
    "            if (i+1) % 100 == 0:\n",
    "                # Calculate accuracy for 128 mnist test images and\n",
    "                # add to summaries\n",
    "                summary, acc = sess.run([merged, accuracy], feed_dict={_inputs: test_data, y: test_label})\n",
    "                test_writer.add_summary(summary, i+1)\n",
    "                test_acc = sess.run(accuracy, feed_dict={_inputs: test_data,y: test_label})\n",
    "                print(\"Test Iter {} Accuracy: {}\".format(i+1, test_acc))\n",
    "print(\"Complete\")"
   ]
  },
  {
   "cell_type": "code",
   "execution_count": null,
   "metadata": {},
   "outputs": [],
   "source": []
  }
 ],
 "metadata": {
  "kernelspec": {
   "display_name": "Python 3",
   "language": "python",
   "name": "python3"
  },
  "language_info": {
   "codemirror_mode": {
    "name": "ipython",
    "version": 3
   },
   "file_extension": ".py",
   "mimetype": "text/x-python",
   "name": "python",
   "nbconvert_exporter": "python",
   "pygments_lexer": "ipython3",
   "version": "3.6.5"
  }
 },
 "nbformat": 4,
 "nbformat_minor": 2
}
