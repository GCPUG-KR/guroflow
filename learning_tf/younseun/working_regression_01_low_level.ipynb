{
 "cells": [
  {
   "cell_type": "code",
   "execution_count": 3,
   "metadata": {},
   "outputs": [],
   "source": [
    "from sklearn import datasets, metrics, preprocessing\n",
    "import tensorflow as tf\n",
    " \n",
    "boston = datasets.load_boston()\n",
    "x_data = preprocessing.StandardScaler().fit_transform(boston.data)\n",
    "y_data = boston.target "
   ]
  },
  {
   "cell_type": "code",
   "execution_count": 4,
   "metadata": {},
   "outputs": [],
   "source": [
    "# 학습 데이터\n",
    "x = tf.placeholder(tf.float64, shape=[None,13])\n",
    "y_true = tf.placeholder(tf.float64, shape=[None])"
   ]
  },
  {
   "cell_type": "code",
   "execution_count": 5,
   "metadata": {},
   "outputs": [],
   "source": [
    "# 변수선언및 모델 정의\n",
    "with tf.name_scope(\"inference\") as scope:\n",
    "    w = tf.Variable(tf.zeros([1,13], dtype=tf.float64, name=\"weight\"))\n",
    "    b = tf.Variable(0, dtype = tf.float64, name=\"bias\")\n",
    "    y_pred = tf.matmul(w, tf.transpose(x)) + b"
   ]
  },
  {
   "cell_type": "code",
   "execution_count": 7,
   "metadata": {},
   "outputs": [],
   "source": [
    "# Loss함수 정의\n",
    "loss = tf.reduce_mean(tf.square(y_pred - y_true))\n",
    "# 학습 방법 정의\n",
    "learning_rate =0.1\n",
    "optimizer = tf.train.GradientDescentOptimizer(learning_rate)\n",
    "train = optimizer.minimize(loss)"
   ]
  },
  {
   "cell_type": "code",
   "execution_count": 12,
   "metadata": {},
   "outputs": [
    {
     "name": "stdout",
     "output_type": "stream",
     "text": [
      "10 >> Loss : 33.199461817021394\n",
      "20 >> Loss : 23.041529160174342\n",
      "30 >> Loss : 22.525390812906767\n",
      "40 >> Loss : 22.301918208344347\n",
      "50 >> Loss : 22.171898023011074\n",
      "60 >> Loss : 22.09114956677962\n",
      "70 >> Loss : 22.038254821260214\n",
      "80 >> Loss : 22.001998766551505\n",
      "90 >> Loss : 21.976232420374274\n",
      "100 >> Loss : 21.957417354074366\n",
      "110 >> Loss : 21.9434093959962\n",
      "120 >> Loss : 21.93284010906021\n",
      "130 >> Loss : 21.924793394091235\n",
      "140 >> Loss : 21.918630661280663\n",
      "150 >> Loss : 21.913892406412685\n",
      "160 >> Loss : 21.910240135584576\n",
      "170 >> Loss : 21.907420325543992\n",
      "180 >> Loss : 21.90524092441727\n",
      "190 >> Loss : 21.903555335172882\n",
      "200 >> Loss : 21.902251093308386\n"
     ]
    }
   ],
   "source": [
    "# Train\n",
    "with tf.Session() as sess:\n",
    "    sess.run(tf.global_variables_initializer())\n",
    "    for step in range(200):\n",
    "        _, out_loss = sess.run([train,loss], feed_dict={x:x_data, y_true:y_data})\n",
    "        if (step+1) % 10 == 0:\n",
    "            print('{} >> Loss : {}'.format(step+1, out_loss))"
   ]
  },
  {
   "cell_type": "code",
   "execution_count": null,
   "metadata": {},
   "outputs": [],
   "source": []
  }
 ],
 "metadata": {
  "kernelspec": {
   "display_name": "Python 3",
   "language": "python",
   "name": "python3"
  },
  "language_info": {
   "codemirror_mode": {
    "name": "ipython",
    "version": 3
   },
   "file_extension": ".py",
   "mimetype": "text/x-python",
   "name": "python",
   "nbconvert_exporter": "python",
   "pygments_lexer": "ipython3",
   "version": "3.6.5"
  }
 },
 "nbformat": 4,
 "nbformat_minor": 2
}
