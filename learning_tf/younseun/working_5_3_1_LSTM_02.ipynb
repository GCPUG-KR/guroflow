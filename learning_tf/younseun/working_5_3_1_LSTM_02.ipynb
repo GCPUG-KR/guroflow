{
 "cells": [
  {
   "cell_type": "code",
   "execution_count": 1,
   "metadata": {},
   "outputs": [],
   "source": [
    "import numpy as np\n",
    "import tensorflow as tf"
   ]
  },
  {
   "cell_type": "code",
   "execution_count": 2,
   "metadata": {},
   "outputs": [],
   "source": [
    "#Constant\n",
    "batch_size = 2;\n",
    "embedding_dimension = 64;\n",
    "num_classes = 2;\n",
    "hidden_layer_size = 32;\n",
    "times_steps = 6;\n",
    "element_size = 1;"
   ]
  },
  {
   "cell_type": "code",
   "execution_count": 4,
   "metadata": {},
   "outputs": [],
   "source": [
    "# map\n",
    "digit_to_word_map = {1:\"One\",2:\"Two\",3:\"Three\",4:\"Four\",5:\"Five\",\n",
    "                    6:\"Six\",7:\"Seven\",8:\"Eight\",9:\"Nine\",}\n",
    "digit_to_word_map[0]=\"PAD\""
   ]
  },
  {
   "cell_type": "code",
   "execution_count": 8,
   "metadata": {},
   "outputs": [
    {
     "data": {
      "text/plain": [
       "(['Three Nine Seven Nine PAD PAD',\n",
       "  'Five Nine One Nine PAD PAD',\n",
       "  'Nine Nine Five Five Three PAD',\n",
       "  'Seven Five Seven PAD PAD PAD',\n",
       "  'Five Three Five PAD PAD PAD'],\n",
       " ['Two Eight Six Six PAD PAD',\n",
       "  'Eight Two Two Eight PAD PAD',\n",
       "  'Two Eight Eight Eight Six PAD',\n",
       "  'Two Four Two PAD PAD PAD',\n",
       "  'Six Eight Six PAD PAD PAD'],\n",
       " [4, 4, 5, 3, 3])"
      ]
     },
     "execution_count": 8,
     "metadata": {},
     "output_type": "execute_result"
    }
   ],
   "source": [
    "# Train Data Create\n",
    "Sample_cnt = 10000\n",
    "odd_sentences=[]\n",
    "even_sentences=[]\n",
    "seqlens=[]\n",
    "for i in range(Sample_cnt):\n",
    "    rand_seq_len = np.random.choice(range(3,7))\n",
    "    seqlens.append(rand_seq_len)\n",
    "    rand_odd_ints = np.random.choice(range(1,10,2), rand_seq_len)\n",
    "    rand_even_ints = np.random.choice(range(2,10,2), rand_seq_len)\n",
    "    #print('rand_seq_len:{} rand_odd_ints:{} rand_even_ints:{}'.format(rand_seq_len, rand_odd_ints, rand_even_ints))\n",
    "\n",
    "    # 패딩\n",
    "    if rand_seq_len < 6:\n",
    "        #print(rand_odd_ints, np.append(rand_odd_ints, [0]*(6-rand_seq_len)))\n",
    "        rand_odd_ints = np.append(rand_odd_ints, [0]*(6-rand_seq_len))\n",
    "        rand_even_ints = np.append(rand_even_ints, [0]*(6-rand_seq_len))\n",
    "    #print('  >> rand_seq_len:{} rand_odd_ints:{} rand_even_ints:{}'.format(rand_seq_len, rand_odd_ints, rand_even_ints))\n",
    "    odd_sentences.append(\" \".join([digit_to_word_map[r] for r in rand_odd_ints]))\n",
    "    even_sentences.append(\" \".join([digit_to_word_map[r] for r in rand_even_ints]))\n",
    "    # print(\" \".join([digit_to_word_map[r] for r in rand_odd_ints]))\n",
    "    # print(\" \".join([digit_to_word_map[r] for r in rand_even_ints]))\n",
    "    # print('*'*100)\n",
    "data = odd_sentences + even_sentences\n",
    "len(odd_sentences),len(even_sentences),len(data)\n",
    "\n",
    "# 홀수, 짝수 시퀀스의 seq 길이(2배 증폭)\n",
    "seqlens*=2\n",
    "odd_sentences[:5], even_sentences[:5], seqlens[:5]"
   ]
  },
  {
   "cell_type": "code",
   "execution_count": 10,
   "metadata": {},
   "outputs": [
    {
     "name": "stdout",
     "output_type": "stream",
     "text": [
      "word2index_map :{'three': 0, 'nine': 1, 'seven': 2, 'pad': 3, 'five': 4, 'one': 5, 'two': 6, 'eight': 7, 'six': 8, 'four': 9}\n",
      "index2word_map :{0: 'three', 1: 'nine', 2: 'seven', 3: 'pad', 4: 'five', 5: 'one', 6: 'two', 7: 'eight', 8: 'six', 9: 'four'}\n",
      "vocabulary_size :10\n"
     ]
    }
   ],
   "source": [
    "# 단어를 인덱스에 매핑\n",
    "word2index_map = {}\n",
    "index = 0\n",
    "for sent in data:\n",
    "    #print(sent)\n",
    "    for word in sent.lower().split():\n",
    "        #print(word)\n",
    "        if word not in word2index_map:\n",
    "            word2index_map[word] = index\n",
    "            index += 1\n",
    "        #print(word2index_map)\n",
    "\n",
    "# 역방향 매핑\n",
    "index2word_map = {index: word for word, index in word2index_map.items()}\n",
    "vocabulary_size = len(index2word_map)\n",
    "\n",
    "print('word2index_map :{}'.format(word2index_map))\n",
    "print('index2word_map :{}'.format(index2word_map))\n",
    "print('vocabulary_size :{}'.format(vocabulary_size))\n"
   ]
  },
  {
   "cell_type": "code",
   "execution_count": 11,
   "metadata": {},
   "outputs": [
    {
     "name": "stdout",
     "output_type": "stream",
     "text": [
      "앞쪽\n",
      "   >>> date : ['Three Nine Seven Nine PAD PAD', 'Five Nine One Nine PAD PAD', 'Nine Nine Five Five Three PAD']\n",
      "   >>> one-hot-encoding : [[0, 1], [0, 1], [0, 1]]\n",
      "뒤쪽\n",
      "   >>> date : ['Six Eight Six PAD PAD PAD', 'Four Eight Eight Four Two PAD', 'Six Six Two Two PAD PAD']\n",
      "   >>> one-hot-encoding : [[1, 0], [1, 0], [1, 0]]\n"
     ]
    }
   ],
   "source": [
    "# one hot encoding : 짝수=[1,0], 홀수=[0,1]\n",
    "labels = [1]*Sample_cnt + [0]*Sample_cnt\n",
    "for i in range(len(labels)):\n",
    "    label = labels[i]\n",
    "    one_hot_encoding = [0]*2\n",
    "    one_hot_encoding[label] = 1\n",
    "    labels[i] = one_hot_encoding\n",
    "    #print(i, label, one_hot_encoding)\n",
    "print('앞쪽')\n",
    "print('   >>> date : {}'.format(data[:3]))\n",
    "print('   >>> one-hot-encoding : {}'.format(labels[:3]))\n",
    "print('뒤쪽')\n",
    "print('   >>> date : {}'.format(data[Sample_cnt*2-4:-1]))\n",
    "print('   >>> one-hot-encoding : {}'.format(labels[Sample_cnt*2-4:-1]))"
   ]
  },
  {
   "cell_type": "code",
   "execution_count": 14,
   "metadata": {},
   "outputs": [
    {
     "name": "stdout",
     "output_type": "stream",
     "text": [
      "Train Length : 10000(x) 10000(y) 10000(seqlen)\n",
      "Test  Length : 10000(x) 10000(y) 10000(seqlen)\n"
     ]
    }
   ],
   "source": [
    "# Train Set, Test Set 만들기\n",
    "data_indices = list(range(len(data)))\n",
    "np.random.shuffle(data_indices)\n",
    "data_shuffle = np.array(data)[data_indices]\n",
    "labels_shuffle = np.array(labels)[data_indices]\n",
    "seqlens_shuffle = np.array(seqlens)[data_indices]\n",
    "#print('data_shuffle : {}'.format(data_shuffle[:5]))\n",
    "#print('labels_shuffle : {}'.format(labels_shuffle[:5]))\n",
    "#print('seqlens_shuffle : {}'.format(seqlens_shuffle[:5]))\n",
    "\n",
    "train_x = data_shuffle[:Sample_cnt]\n",
    "train_y = labels_shuffle[:Sample_cnt]\n",
    "train_seqlens = seqlens_shuffle[:Sample_cnt]\n",
    "\n",
    "test_x = data_shuffle[Sample_cnt:]\n",
    "test_y = labels_shuffle[Sample_cnt:]\n",
    "test_seqlens = seqlens_shuffle[Sample_cnt:]\n",
    "\n",
    "print('Train Length : {}(x) {}(y) {}(seqlen)'.format(len(train_x),len(train_y),len(train_seqlens),))\n",
    "print('Test  Length : {}(x) {}(y) {}(seqlen)'.format(len(test_x),len(test_y),len(test_seqlens),))"
   ]
  },
  {
   "cell_type": "code",
   "execution_count": 15,
   "metadata": {},
   "outputs": [],
   "source": [
    "# bath_size만큼 데이터를 Random하게 제공\n",
    "def get_sentence_batch(batch_size, data_x,\n",
    "                       data_y, data_seqlens):\n",
    "    instance_indices = list(range(len(data_x)))\n",
    "    np.random.shuffle(instance_indices)\n",
    "    batch = instance_indices[:batch_size]\n",
    "    x = [[word2index_map[word] for word in data_x[i].lower().split()]\n",
    "         for i in batch]\n",
    "    y = [data_y[i] for i in batch]\n",
    "    seqlens = [data_seqlens[i] for i in batch]\n",
    "    return x, y, seqlens"
   ]
  },
  {
   "cell_type": "code",
   "execution_count": 17,
   "metadata": {},
   "outputs": [],
   "source": [
    "# train data의 placeholder\n",
    "_inputs = tf.placeholder(tf.int32, shape=[batch_size, times_steps])\n",
    "_labels = tf.placeholder(tf.int32, shape=[batch_size, num_classes])\n",
    "_seqlens = tf.placeholder(tf.int32, shape=[batch_size])"
   ]
  },
  {
   "cell_type": "code",
   "execution_count": 18,
   "metadata": {},
   "outputs": [],
   "source": [
    "# embedding\n",
    "# 고차원의 vocabulary Sequence를 저차원의 vector로 변형한다.\n",
    "with tf.name_scope(\"embeddings\"):\n",
    "    # embeddings : <tf.Variable 'embeddings/embedding:0' shape=(10, 64) dtype=float32_ref>\n",
    "    embeddings = tf.Variable(tf.random_uniform([vocabulary_size, embedding_dimension], -1.0, 1.0), name='embedding')\n",
    "    # embed : <tf.Tensor 'embeddings/embedding_lookup:0' shape=(2, 6, 64) dtype=float32>\n",
    "    embed = tf.nn.embedding_lookup(embeddings, _inputs)"
   ]
  },
  {
   "cell_type": "code",
   "execution_count": 19,
   "metadata": {},
   "outputs": [],
   "source": [
    "with tf.name_scope(\"lstm\"):\n",
    "    lstm_cell = tf.contrib.rnn.BasicLSTMCell(hidden_layer_size, forget_bias=1.0)\n",
    "    with tf.variable_scope(\"lstm_kernel\", reuse=tf.AUTO_REUSE):\n",
    "        outputs, states = tf.nn.dynamic_rnn(lstm_cell, embed, sequence_length = _seqlens, dtype=tf.float32)"
   ]
  },
  {
   "cell_type": "code",
   "execution_count": 21,
   "metadata": {},
   "outputs": [],
   "source": [
    "# 최종상태를 뽑아서 선형계측에 적용\n",
    "weights = {'linear_layer' : tf.Variable(tf.truncated_normal([hidden_layer_size, num_classes], mean=0, stddev=.01))}\n",
    "biases = {'linear_layer' : tf.Variable(tf.truncated_normal([num_classes], mean=0, stddev=.01))}\n",
    "final_output = tf.matmul(states[1], weights[\"linear_layer\"]) + biases[\"linear_layer\"]"
   ]
  },
  {
   "cell_type": "code",
   "execution_count": 23,
   "metadata": {},
   "outputs": [],
   "source": [
    "# Loss Function / Train\n",
    "cross_entropy = tf.reduce_mean(tf.nn.softmax_cross_entropy_with_logits(logits=final_output, labels=_labels))\n",
    "train_step = tf.train.RMSPropOptimizer(0.001, 0.9).minimize(cross_entropy)"
   ]
  },
  {
   "cell_type": "code",
   "execution_count": 24,
   "metadata": {},
   "outputs": [],
   "source": [
    "# Accuracy Define\n",
    "with tf.name_scope(\"accuracy\"):\n",
    "    correct_prediction = tf.equal(tf.argmax(_labels, 1), tf.argmax(final_output, 1))\n",
    "    accuracy = (tf.reduce_mean(tf.cast(correct_prediction, tf.float32)))*100"
   ]
  },
  {
   "cell_type": "code",
   "execution_count": 25,
   "metadata": {},
   "outputs": [
    {
     "name": "stdout",
     "output_type": "stream",
     "text": [
      "Iter 1, Minibatch Loss= 0.678877, Training Accuracy= 100.00000\n",
      "Iter 100, Minibatch Loss= 0.567000, Training Accuracy= 100.00000\n",
      "Iter 200, Minibatch Loss= 0.021101, Training Accuracy= 100.00000\n",
      "Iter 300, Minibatch Loss= 0.000472, Training Accuracy= 100.00000\n",
      "Iter 400, Minibatch Loss= 0.000031, Training Accuracy= 100.00000\n",
      "Iter 500, Minibatch Loss= 0.000003, Training Accuracy= 100.00000\n",
      "Iter 600, Minibatch Loss= 0.000001, Training Accuracy= 100.00000\n",
      "Iter 700, Minibatch Loss= 0.000001, Training Accuracy= 100.00000\n",
      "Iter 800, Minibatch Loss= 0.000001, Training Accuracy= 100.00000\n",
      "Iter 900, Minibatch Loss= 0.000000, Training Accuracy= 100.00000\n",
      "Iter 1000, Minibatch Loss= 0.000000, Training Accuracy= 100.00000\n",
      "Iter 1100, Minibatch Loss= 0.000000, Training Accuracy= 100.00000\n",
      "Iter 1200, Minibatch Loss= 0.000000, Training Accuracy= 100.00000\n",
      "Iter 1300, Minibatch Loss= 0.000000, Training Accuracy= 100.00000\n",
      "Iter 1400, Minibatch Loss= 0.000000, Training Accuracy= 100.00000\n",
      "Iter 1500, Minibatch Loss= 0.000000, Training Accuracy= 100.00000\n",
      "Iter 1600, Minibatch Loss= 0.000000, Training Accuracy= 100.00000\n",
      "Iter 1700, Minibatch Loss= 0.000000, Training Accuracy= 100.00000\n",
      "Iter 1800, Minibatch Loss= 0.000000, Training Accuracy= 100.00000\n",
      "Iter 1900, Minibatch Loss= 0.000000, Training Accuracy= 100.00000\n",
      "Iter 2000, Minibatch Loss= 0.000000, Training Accuracy= 100.00000\n",
      "Test batch accuracy 0: 100.00000\n",
      "Test batch accuracy 1: 100.00000\n",
      "Test batch accuracy 2: 100.00000\n",
      "Test batch accuracy 3: 100.00000\n",
      "Test batch accuracy 4: 100.00000\n",
      "Complete\n"
     ]
    }
   ],
   "source": [
    "with tf.Session() as sess:\n",
    "    sess.run(tf.global_variables_initializer())\n",
    "    for i in range(2000):\n",
    "        batch_x, batch_y, batch_seqlen = get_sentence_batch(batch_size, train_x, train_y, train_seqlens)\n",
    "        sess.run(train_step, feed_dict={_inputs: batch_x, _labels: batch_y, _seqlens: batch_seqlen})\n",
    "\n",
    "        if i == 0 or (i+1) % 100 == 0:\n",
    "            acc, loss, = sess.run([accuracy, cross_entropy], feed_dict={_inputs: batch_x, _labels: batch_y, _seqlens: batch_seqlen})\n",
    "            print(\"Iter \" + str(i+1) + \", Minibatch Loss= \" +\n",
    "                  \"{:.6f}\".format(loss) + \", Training Accuracy= \" +\n",
    "                  \"{:.5f}\".format(acc))\n",
    "    for test_batch in range(5):\n",
    "        x_test, y_test, seqlen_test = get_sentence_batch(batch_size,\n",
    "                                                         test_x, test_y,\n",
    "                                                         test_seqlens)\n",
    "        batch_pred, batch_acc = sess.run([tf.argmax(final_output, 1), accuracy],\n",
    "                                         feed_dict={_inputs: x_test,\n",
    "                                                    _labels: y_test,\n",
    "                                                    _seqlens: seqlen_test})\n",
    "        print(\"Test batch accuracy %d: %.5f\" % (test_batch, batch_acc))\n",
    "    output_example = sess.run([outputs], feed_dict={_inputs: x_test,\n",
    "                                                    _labels: y_test,\n",
    "                                                    _seqlens: seqlen_test})\n",
    "    states_example = sess.run([states[1]], feed_dict={_inputs: x_test,\n",
    "                                                      _labels: y_test,\n",
    "                                                      _seqlens: seqlen_test})\n",
    "print(\"Complete\")"
   ]
  },
  {
   "cell_type": "code",
   "execution_count": null,
   "metadata": {},
   "outputs": [],
   "source": []
  }
 ],
 "metadata": {
  "kernelspec": {
   "display_name": "Python 3",
   "language": "python",
   "name": "python3"
  },
  "language_info": {
   "codemirror_mode": {
    "name": "ipython",
    "version": 3
   },
   "file_extension": ".py",
   "mimetype": "text/x-python",
   "name": "python",
   "nbconvert_exporter": "python",
   "pygments_lexer": "ipython3",
   "version": "3.6.5"
  }
 },
 "nbformat": 4,
 "nbformat_minor": 2
}
