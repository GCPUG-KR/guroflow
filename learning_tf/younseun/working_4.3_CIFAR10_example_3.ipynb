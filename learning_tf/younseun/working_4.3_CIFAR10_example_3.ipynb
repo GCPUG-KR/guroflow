{
 "cells": [
  {
   "cell_type": "code",
   "execution_count": 1,
   "metadata": {},
   "outputs": [],
   "source": [
    "import pickle\n",
    "import os\n",
    "import numpy as np\n",
    "import matplotlib.pyplot as plt\n",
    "import tensorflow as tf\n",
    "from layers import conv_layer, max_pool_2x2, full_layer\n",
    "import datetime"
   ]
  },
  {
   "cell_type": "code",
   "execution_count": 2,
   "metadata": {},
   "outputs": [],
   "source": [
    "DATA_PATH = \"/home/younseun/columbus_study/04_learning_tensorflow/~envs/tensorflow/python_code/Oreilly-Learning-TensorFlow-master/04__convolutional_neural_networks/cifar-10-batches-py\"\n",
    "DATA_PATH = \"cifar-10-batches-py\"\n",
    "BATCH_SIZE = 50\n",
    "STEPS = 500000\n",
    "STEPS = 1000"
   ]
  },
  {
   "cell_type": "code",
   "execution_count": 3,
   "metadata": {},
   "outputs": [],
   "source": [
    "def one_hot(vec, vals=10):\n",
    "    n = len(vec)\n",
    "    out = np.zeros((n, vals))\n",
    "    out[range(n), vec] = 1\n",
    "    return out"
   ]
  },
  {
   "cell_type": "code",
   "execution_count": 4,
   "metadata": {},
   "outputs": [],
   "source": [
    "def unpickle(file):\n",
    "    with open(os.path.join(DATA_PATH, file), 'rb') as fo:\n",
    "        u = pickle._Unpickler(fo)\n",
    "        u.encoding = 'latin1'\n",
    "        dict = u.load()\n",
    "    return dict"
   ]
  },
  {
   "cell_type": "code",
   "execution_count": 5,
   "metadata": {},
   "outputs": [],
   "source": [
    "def display_cifar(images, size):\n",
    "    n = len(images)\n",
    "    plt.figure()\n",
    "    plt.gca().set_axis_off()\n",
    "    im = np.vstack([np.hstack([images[np.random.choice(n)] for i in range(size)])\n",
    "                    for i in range(size)])\n",
    "    plt.imshow(im)\n",
    "    plt.show()"
   ]
  },
  {
   "cell_type": "code",
   "execution_count": 6,
   "metadata": {},
   "outputs": [],
   "source": [
    "class CifarLoader(object):\n",
    "    \"\"\"\n",
    "    Load and mange the CIFAR dataset.\n",
    "    (for any practical use there is no reason not to use the built-in dataset handler instead)\n",
    "    \"\"\"\n",
    "    def __init__(self, source_files):\n",
    "        self._source = source_files\n",
    "        self._i = 0\n",
    "        self.images = None\n",
    "        self.labels = None\n",
    "\n",
    "    def load(self):\n",
    "        data = [unpickle(f) for f in self._source]\n",
    "        images = np.vstack([d[\"data\"] for d in data])\n",
    "        n = len(images)\n",
    "        self.images = images.reshape(n, 3, 32, 32).transpose(0, 2, 3, 1)\\\n",
    "            .astype(float) / 255\n",
    "        self.labels = one_hot(np.hstack([d[\"labels\"] for d in data]), 10)\n",
    "        return self\n",
    "\n",
    "    def next_batch(self, batch_size):\n",
    "        x, y = self.images[self._i:self._i+batch_size], \\\n",
    "               self.labels[self._i:self._i+batch_size]\n",
    "        self._i = (self._i + batch_size) % len(self.images)\n",
    "        return x, y\n",
    "\n",
    "    def random_batch(self, batch_size):\n",
    "        n = len(self.images)\n",
    "        ix = np.random.choice(n, batch_size)\n",
    "        return self.images[ix], self.labels[ix]"
   ]
  },
  {
   "cell_type": "code",
   "execution_count": 7,
   "metadata": {},
   "outputs": [],
   "source": [
    "class CifarDataManager(object):\n",
    "    def __init__(self):\n",
    "        self.train = CifarLoader([\"data_batch_{}\".format(i) for i in range(1, 6)])\\\n",
    "            .load()\n",
    "        self.test = CifarLoader([\"test_batch\"]).load()"
   ]
  },
  {
   "cell_type": "code",
   "execution_count": 8,
   "metadata": {},
   "outputs": [],
   "source": [
    "def create_cifar_image():\n",
    "    d = CifarDataManager()\n",
    "    print(\"Number of train images: {}\".format(len(d.train.images)))\n",
    "    print(\"Number of train labels: {}\".format(len(d.train.labels)))\n",
    "    print(\"Number of test images: {}\".format(len(d.test.images)))\n",
    "    print(\"Number of test labels: {}\".format(len(d.test.labels)))\n",
    "    images = d.train.images\n",
    "    display_cifar(images, 10)"
   ]
  },
  {
   "cell_type": "code",
   "execution_count": 16,
   "metadata": {},
   "outputs": [],
   "source": [
    "cifar = CifarDataManager()\n",
    "\n",
    "x = tf.placeholder(tf.float32, shape=[None, 32, 32, 3])\n",
    "y = tf.placeholder(tf.float32, shape=[None, 10])\n",
    "keep_prob = tf.placeholder(tf.float32)\n",
    "\n",
    "C1, C2, C3 = 30, 50, 70\n",
    "F1 = 500\n",
    "\n",
    "#x_placeholder = x\n",
    "conv1_1 = conv_layer(x, shape=[3,3,3,C1])\n",
    "conv1_2 = conv_layer(conv1_1, shape=[3,3,C1,C1])\n",
    "conv1_3 = conv_layer(conv1_2, shape=[3,3,C1,C1])\n",
    "conv1_pool = max_pool_2x2(conv1_3)\n",
    "conv1_drop = tf.nn.dropout(conv1_pool, keep_prob=keep_prob)\n",
    "\n",
    "conv2_1 = conv_layer(conv1_drop, shape=[3,3,C1,C2])\n",
    "conv2_2 = conv_layer(conv2_1, shape=[3,3,C2,C2])\n",
    "conv2_3 = conv_layer(conv2_2, shape=[3,3,C2,C2])\n",
    "conv2_pool = max_pool_2x2(conv2_3)\n",
    "conv2_drop = tf.nn.dropout(conv2_pool, keep_prob=keep_prob)\n",
    "\n",
    "conv3_1 = conv_layer(conv2_drop, shape=[3,3,C2,C3])\n",
    "conv3_2 = conv_layer(conv3_1, shape=[3,3,C3,C3])\n",
    "conv3_3 = conv_layer(conv3_2, shape=[3,3,C3,C3])\n",
    "conv3_pool = tf.nn.max_pool(conv3_3, ksize=[1,8,8,1], strides=[1,8,8,1], padding='SAME')\n",
    "\n",
    "conv3_flat = tf.reshape(conv3_pool, [-1, C3])\n",
    "conv3_drop = tf.nn.dropout(conv3_flat, keep_prob=keep_prob)\n",
    "\n",
    "full_1 = tf.nn.relu(full_layer(conv3_drop, F1))\n",
    "full_drop = tf.nn.dropout(full_1, keep_prob)\n",
    "\n",
    "y_conv = full_layer(full_drop, 10)\n",
    "\n",
    "# Loss Function\n",
    "cross_entropy = tf.reduce_mean(tf.nn.softmax_cross_entropy_with_logits(labels=y, logits=y_conv))\n",
    "train_step = tf.train.AdamOptimizer(1e-3).minimize(cross_entropy)\n",
    "\n",
    "correct_predict = tf.equal(tf.argmax(y_conv, 1), tf.argmax(y,1))\n",
    "accuracy = tf.reduce_mean(tf.cast(correct_predict, tf.float32))"
   ]
  },
  {
   "cell_type": "code",
   "execution_count": null,
   "metadata": {},
   "outputs": [],
   "source": [
    "STEPS = 1000\n",
    "X = cifar.test.images.reshape(10, 1000, 32, 32, 3)\n",
    "Y = cifar.test.labels.reshape(10, 1000, 10)\n",
    "\n",
    "with tf.Session() as sess:\n",
    "    sess.run(tf.global_variables_initializer())\n",
    "    for i in range(STEPS):\n",
    "        batch = cifar.train.next_batch(BATCH_SIZE)\n",
    "        outs = sess.run(train_step, feed_dict={x:batch[0],y:batch[1], keep_prob: 0.5})\n",
    "        if (i+1) % 100 == 0:   # 평가 실시\n",
    "            step_outs_accuracy = np.mean([sess.run([accuracy], feed_dict={x: X[j], y: Y[j], keep_prob: 1.0}) for j in range(10)])\n",
    "            print('{} : Accuraty : {}            {} '.format(i+1, step_outs_accuracy, datetime.datetime.now()))\n",
    "    print('Completed')"
   ]
  },
  {
   "cell_type": "code",
   "execution_count": null,
   "metadata": {},
   "outputs": [],
   "source": []
  },
  {
   "cell_type": "code",
   "execution_count": null,
   "metadata": {},
   "outputs": [],
   "source": []
  },
  {
   "cell_type": "code",
   "execution_count": 18,
   "metadata": {},
   "outputs": [],
   "source": [
    "cifar = CifarDataManager()\n",
    "\n",
    "x = tf.placeholder(tf.float32, shape=[None, 32, 32, 3])\n",
    "y_ = tf.placeholder(tf.float32, shape=[None, 10])\n",
    "keep_prob = tf.placeholder(tf.float32)\n",
    "\n",
    "C1, C2, C3 = 32, 64, 128\n",
    "F1 = 600\n",
    "\n",
    "conv1_1 = conv_layer(x, shape=[3, 3, 3, C1])\n",
    "conv1_2 = conv_layer(conv1_1, shape=[3, 3, C1, C1])\n",
    "conv1_3 = conv_layer(conv1_2, shape=[3, 3, C1, C1])\n",
    "conv1_pool = max_pool_2x2(conv1_3)\n",
    "conv1_drop = tf.nn.dropout(conv1_pool, keep_prob=keep_prob)\n",
    "\n",
    "conv2_1 = conv_layer(conv1_drop, shape=[3, 3, C1, C2])\n",
    "conv2_2 = conv_layer(conv2_1, shape=[3, 3, C2, C2])\n",
    "conv2_3 = conv_layer(conv2_2, shape=[3, 3, C2, C2])\n",
    "conv2_pool = max_pool_2x2(conv2_3)\n",
    "conv2_drop = tf.nn.dropout(conv2_pool, keep_prob=keep_prob)\n",
    "\n",
    "conv3_1 = conv_layer(conv2_drop, shape=[3, 3, C2, C3])\n",
    "conv3_2 = conv_layer(conv3_1, shape=[3, 3, C3, C3])\n",
    "conv3_3 = conv_layer(conv3_2, shape=[3, 3, C3, C3])\n",
    "conv3_pool = tf.nn.max_pool(conv3_3, ksize=[1, 8, 8, 1], strides=[1, 8, 8, 1], padding='SAME')\n",
    "conv3_flat = tf.reshape(conv3_pool, [-1, C3])\n",
    "conv3_drop = tf.nn.dropout(conv3_flat, keep_prob=keep_prob)\n",
    "\n",
    "full1 = tf.nn.relu(full_layer(conv3_drop, F1))\n",
    "full1_drop = tf.nn.dropout(full1, keep_prob=keep_prob)\n",
    "\n",
    "y_conv = full_layer(full1_drop, 10)\n",
    "\n",
    "cross_entropy = tf.reduce_mean(tf.nn.softmax_cross_entropy_with_logits(logits=y_conv,\n",
    "                                                                       labels=y_))\n",
    "train_step = tf.train.AdamOptimizer(5e-4).minimize(cross_entropy)  # noqa\n",
    "\n",
    "correct_prediction = tf.equal(tf.argmax(y_conv, 1), tf.argmax(y_, 1))\n",
    "accuracy = tf.reduce_mean(tf.cast(correct_prediction, tf.float32))  # noqa"
   ]
  },
  {
   "cell_type": "code",
   "execution_count": 21,
   "metadata": {},
   "outputs": [
    {
     "name": "stdout",
     "output_type": "stream",
     "text": [
      "500 Accuracy: 0.10000000149011612\n",
      "1000 Accuracy: 0.16590000689029694\n",
      "1500 Accuracy: 0.1777999997138977\n",
      "2000 Accuracy: 0.18969999253749847\n",
      "2500 Accuracy: 0.18639998137950897\n",
      "3000 Accuracy: 0.2542000114917755\n",
      "3500 Accuracy: 0.2859000265598297\n",
      "4000 Accuracy: 0.3188000023365021\n",
      "4500 Accuracy: 0.3412000238895416\n",
      "5000 Accuracy: 0.3514000177383423\n",
      "5000 Accuracy: 0.3514000177383423\n"
     ]
    }
   ],
   "source": [
    "STEPS = 5000\n",
    "def test(i, sess):\n",
    "    X = cifar.test.images.reshape(10, 1000, 32, 32, 3)\n",
    "    Y = cifar.test.labels.reshape(10, 1000, 10)\n",
    "    acc = np.mean([sess.run(accuracy, feed_dict={x: X[i], y_: Y[i], keep_prob: 1.0})\n",
    "                   for i in range(10)])\n",
    "    print(\"{} Accuracy: {}\".format(i+1, acc))\n",
    "\n",
    "with tf.Session() as sess:\n",
    "    sess.run(tf.global_variables_initializer())\n",
    "\n",
    "    for i in range(STEPS):\n",
    "        batch = cifar.train.next_batch(BATCH_SIZE)\n",
    "        sess.run(train_step, feed_dict={x: batch[0], y_: batch[1], keep_prob: 0.5})\n",
    "\n",
    "        if (i+1) % 500 == 0:\n",
    "            test(i, sess)\n",
    "\n",
    "    test(i, sess)\n",
    "\n"
   ]
  },
  {
   "cell_type": "code",
   "execution_count": null,
   "metadata": {},
   "outputs": [],
   "source": []
  }
 ],
 "metadata": {
  "kernelspec": {
   "display_name": "Python 3",
   "language": "python",
   "name": "python3"
  },
  "language_info": {
   "codemirror_mode": {
    "name": "ipython",
    "version": 3
   },
   "file_extension": ".py",
   "mimetype": "text/x-python",
   "name": "python",
   "nbconvert_exporter": "python",
   "pygments_lexer": "ipython3",
   "version": "3.6.5"
  }
 },
 "nbformat": 4,
 "nbformat_minor": 2
}
