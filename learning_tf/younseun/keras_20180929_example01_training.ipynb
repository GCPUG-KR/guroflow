{
 "cells": [
  {
   "cell_type": "code",
   "execution_count": 1,
   "metadata": {},
   "outputs": [
    {
     "name": "stderr",
     "output_type": "stream",
     "text": [
      "Using TensorFlow backend.\n"
     ]
    }
   ],
   "source": [
    "# 0. 사용할 패키지 불러오기\n",
    "from keras.utils import np_utils\n",
    "from keras.datasets import mnist\n",
    "from keras.models import Sequential\n",
    "from keras.layers import Dense, Activation\n",
    "import numpy as np\n",
    "from numpy import argmax"
   ]
  },
  {
   "cell_type": "code",
   "execution_count": 2,
   "metadata": {},
   "outputs": [
    {
     "name": "stdout",
     "output_type": "stream",
     "text": [
      "Reshape 이전 :  (60000, 28, 28) (60000,) (10000, 28, 28) (10000,)\n",
      "Reshape 이후 :  (60000, 784) (60000,) (10000, 784) (10000,)\n",
      "One-Hot Encoding :  (60000, 10) (10000, 10)\n",
      "Train / Validation 분리 :  (42000, 784) (18000, 784) (42000, 10) (18000, 10)\n"
     ]
    }
   ],
   "source": [
    "# 1. 데이터셋 생성하기\n",
    "\n",
    "# 훈련셋과 시험셋 불러오기\n",
    "(x_train, y_train), (x_test, y_test) = mnist.load_data()\n",
    "# Shape 확인\n",
    "print('Reshape 이전 : ',x_train.shape, y_train.shape, x_test.shape, y_test.shape)\n",
    "\n",
    "# 데이터셋 전처리\n",
    "x_train = x_train.reshape(60000, 784).astype('float32') / 255.0\n",
    "x_test = x_test.reshape(10000, 784).astype('float32') / 255.0\n",
    "print('Reshape 이후 : ', x_train.shape, y_train.shape, x_test.shape, y_test.shape)\n",
    "\n",
    "# 원핫인코딩 (one-hot encoding) 처리\n",
    "y_train = np_utils.to_categorical(y_train)\n",
    "y_test = np_utils.to_categorical(y_test)\n",
    "print('One-Hot Encoding : ',y_train.shape, y_test.shape)\n",
    "\n",
    "# 훈련셋과 검증셋 분리\n",
    "x_val = x_train[:42000] # 훈련셋의 30%를 검증셋으로 사용\n",
    "x_train = x_train[42000:]\n",
    "y_val = y_train[:42000] # 훈련셋의 30%를 검증셋으로 사용\n",
    "y_train = y_train[42000:]\n",
    "print('Train / Validation 분리 : ', x_val.shape, x_train.shape, y_val.shape, y_train.shape)\n"
   ]
  },
  {
   "cell_type": "code",
   "execution_count": 3,
   "metadata": {},
   "outputs": [
    {
     "name": "stdout",
     "output_type": "stream",
     "text": [
      "_________________________________________________________________\n",
      "Layer (type)                 Output Shape              Param #   \n",
      "=================================================================\n",
      "dense_1 (Dense)              (None, 64)                50240     \n",
      "_________________________________________________________________\n",
      "dense_2 (Dense)              (None, 10)                650       \n",
      "=================================================================\n",
      "Total params: 50,890\n",
      "Trainable params: 50,890\n",
      "Non-trainable params: 0\n",
      "_________________________________________________________________\n"
     ]
    }
   ],
   "source": [
    "# 2. 모델 구성하기\n",
    "model = Sequential()\n",
    "model.add(Dense(units=64, input_dim=28*28, activation='relu'))\n",
    "model.add(Dense(units=10, activation='softmax'))\n",
    "model.summary()"
   ]
  },
  {
   "cell_type": "code",
   "execution_count": 4,
   "metadata": {},
   "outputs": [],
   "source": [
    "# 3. 모델 학습과정 설정하기\n",
    "model.compile(loss='categorical_crossentropy', optimizer='sgd', metrics=['accuracy'])"
   ]
  },
  {
   "cell_type": "code",
   "execution_count": 5,
   "metadata": {},
   "outputs": [
    {
     "name": "stdout",
     "output_type": "stream",
     "text": [
      "Train on 18000 samples, validate on 42000 samples\n",
      "Epoch 1/5\n",
      "18000/18000 [==============================] - 2s 134us/step - loss: 1.1306 - acc: 0.7261 - val_loss: 0.6541 - val_acc: 0.8380\n",
      "Epoch 2/5\n",
      "18000/18000 [==============================] - 2s 124us/step - loss: 0.5200 - acc: 0.8683 - val_loss: 0.4857 - val_acc: 0.8699\n",
      "Epoch 3/5\n",
      "18000/18000 [==============================] - 2s 122us/step - loss: 0.4177 - acc: 0.8859 - val_loss: 0.4175 - val_acc: 0.8838\n",
      "Epoch 4/5\n",
      "18000/18000 [==============================] - 2s 123us/step - loss: 0.3706 - acc: 0.8973 - val_loss: 0.3862 - val_acc: 0.8904\n",
      "Epoch 5/5\n",
      "18000/18000 [==============================] - 2s 123us/step - loss: 0.3424 - acc: 0.9039 - val_loss: 0.3679 - val_acc: 0.8962\n"
     ]
    },
    {
     "data": {
      "text/plain": [
       "<keras.callbacks.History at 0x7f20e0f06588>"
      ]
     },
     "execution_count": 5,
     "metadata": {},
     "output_type": "execute_result"
    }
   ],
   "source": [
    "# 4. 모델 학습시키기\n",
    "model.fit(x_train, y_train, epochs=5, batch_size=32, validation_data=(x_val, y_val))"
   ]
  },
  {
   "cell_type": "code",
   "execution_count": 6,
   "metadata": {},
   "outputs": [
    {
     "name": "stdout",
     "output_type": "stream",
     "text": [
      "10000/10000 [==============================] - 0s 24us/step\n",
      "\n",
      "loss_and_metrics : [0.34018011765480044, 0.9038]\n"
     ]
    }
   ],
   "source": [
    "# 5. 모델 평가하기\n",
    "loss_and_metrics = model.evaluate(x_test, y_test, batch_size=32)\n",
    "print('')\n",
    "print('loss_and_metrics : ' + str(loss_and_metrics))"
   ]
  },
  {
   "cell_type": "code",
   "execution_count": 44,
   "metadata": {},
   "outputs": [
    {
     "name": "stdout",
     "output_type": "stream",
     "text": [
      "True : 0, Predict : 0\n",
      "Predict_array : [0.998 0.    0.    0.    0.    0.001 0.001 0.    0.    0.   ]\n",
      "****************************************************************************************************\n",
      "True : 4, Predict : 4\n",
      "Predict_array : [0.    0.    0.    0.    0.927 0.001 0.001 0.004 0.005 0.061]\n",
      "****************************************************************************************************\n",
      "True : 5, Predict : 5\n",
      "Predict_array : [0.008 0.    0.    0.001 0.    0.967 0.    0.004 0.017 0.003]\n",
      "****************************************************************************************************\n",
      "True : 2, Predict : 2\n",
      "Predict_array : [0. 0. 1. 0. 0. 0. 0. 0. 0. 0.]\n",
      "****************************************************************************************************\n",
      "True : 2, Predict : 2\n",
      "Predict_array : [0.    0.    0.996 0.    0.    0.    0.    0.    0.002 0.   ]\n",
      "****************************************************************************************************\n",
      "True : 9, Predict : 9\n",
      "Predict_array : [0.    0.    0.    0.001 0.011 0.001 0.    0.06  0.003 0.924]\n",
      "****************************************************************************************************\n",
      "True : 4, Predict : 4\n",
      "Predict_array : [0.    0.    0.    0.    0.997 0.    0.001 0.    0.    0.001]\n",
      "****************************************************************************************************\n",
      "True : 0, Predict : 0\n",
      "Predict_array : [0.998 0.    0.    0.001 0.    0.001 0.    0.    0.    0.   ]\n",
      "****************************************************************************************************\n",
      "True : 7, Predict : 7\n",
      "Predict_array : [0.003 0.    0.002 0.006 0.    0.001 0.    0.971 0.001 0.015]\n",
      "****************************************************************************************************\n",
      "True : 9, Predict : 9\n",
      "Predict_array : [0.    0.    0.001 0.001 0.016 0.002 0.001 0.014 0.003 0.962]\n",
      "****************************************************************************************************\n"
     ]
    }
   ],
   "source": [
    "# 6. 모델 사용하기\n",
    "xhat_idx = np.random.choice(x_test.shape[0], 10)\n",
    "xhat = x_test[xhat_idx]\n",
    "yhat = model.predict_classes(xhat)\n",
    "yhat_predict = model.predict(xhat).astype(np.float64)\n",
    "for i in range(len(xhat)):\n",
    "    print('True : ' + str(argmax(y_test[xhat_idx[i]])) + ', Predict : ' + str(yhat[i]))\n",
    "    print('Predict_array : {}'.format(np.around(yhat_predict[i], decimals = 3)))\n",
    "    print('*'*100)"
   ]
  },
  {
   "cell_type": "markdown",
   "metadata": {},
   "source": [
    "# Keras 모델 저장하기"
   ]
  },
  {
   "cell_type": "code",
   "execution_count": 8,
   "metadata": {},
   "outputs": [],
   "source": [
    "from keras.models import load_model\n",
    "model.save('mnist_mlp_model.h5')"
   ]
  },
  {
   "cell_type": "markdown",
   "metadata": {},
   "source": [
    "# 모델 아키텍쳐 확인하기"
   ]
  },
  {
   "cell_type": "code",
   "execution_count": 9,
   "metadata": {},
   "outputs": [
    {
     "data": {
      "image/svg+xml": [
       "<svg height=\"211pt\" viewBox=\"0.00 0.00 305.00 211.00\" width=\"305pt\" xmlns=\"http://www.w3.org/2000/svg\" xmlns:xlink=\"http://www.w3.org/1999/xlink\">\n",
       "<g class=\"graph\" id=\"graph0\" transform=\"scale(1 1) rotate(0) translate(4 207)\">\n",
       "<title>G</title>\n",
       "<polygon fill=\"#ffffff\" points=\"-4,4 -4,-207 301,-207 301,4 -4,4\" stroke=\"transparent\"/>\n",
       "<!-- 139772818380224 -->\n",
       "<g class=\"node\" id=\"node1\">\n",
       "<title>139772818380224</title>\n",
       "<polygon fill=\"none\" points=\"0,-83.5 0,-129.5 297,-129.5 297,-83.5 0,-83.5\" stroke=\"#000000\"/>\n",
       "<text fill=\"#000000\" font-family=\"Times,serif\" font-size=\"14.00\" text-anchor=\"middle\" x=\"64\" y=\"-102.8\">dense_1: Dense</text>\n",
       "<polyline fill=\"none\" points=\"128,-83.5 128,-129.5 \" stroke=\"#000000\"/>\n",
       "<text fill=\"#000000\" font-family=\"Times,serif\" font-size=\"14.00\" text-anchor=\"middle\" x=\"162\" y=\"-114.3\">input:</text>\n",
       "<polyline fill=\"none\" points=\"128,-106.5 196,-106.5 \" stroke=\"#000000\"/>\n",
       "<text fill=\"#000000\" font-family=\"Times,serif\" font-size=\"14.00\" text-anchor=\"middle\" x=\"162\" y=\"-91.3\">output:</text>\n",
       "<polyline fill=\"none\" points=\"196,-83.5 196,-129.5 \" stroke=\"#000000\"/>\n",
       "<text fill=\"#000000\" font-family=\"Times,serif\" font-size=\"14.00\" text-anchor=\"middle\" x=\"246.5\" y=\"-114.3\">(None, 784)</text>\n",
       "<polyline fill=\"none\" points=\"196,-106.5 297,-106.5 \" stroke=\"#000000\"/>\n",
       "<text fill=\"#000000\" font-family=\"Times,serif\" font-size=\"14.00\" text-anchor=\"middle\" x=\"246.5\" y=\"-91.3\">(None, 64)</text>\n",
       "</g>\n",
       "<!-- 139772818380336 -->\n",
       "<g class=\"node\" id=\"node2\">\n",
       "<title>139772818380336</title>\n",
       "<polygon fill=\"none\" points=\"4.5,-.5 4.5,-46.5 292.5,-46.5 292.5,-.5 4.5,-.5\" stroke=\"#000000\"/>\n",
       "<text fill=\"#000000\" font-family=\"Times,serif\" font-size=\"14.00\" text-anchor=\"middle\" x=\"68.5\" y=\"-19.8\">dense_2: Dense</text>\n",
       "<polyline fill=\"none\" points=\"132.5,-.5 132.5,-46.5 \" stroke=\"#000000\"/>\n",
       "<text fill=\"#000000\" font-family=\"Times,serif\" font-size=\"14.00\" text-anchor=\"middle\" x=\"166.5\" y=\"-31.3\">input:</text>\n",
       "<polyline fill=\"none\" points=\"132.5,-23.5 200.5,-23.5 \" stroke=\"#000000\"/>\n",
       "<text fill=\"#000000\" font-family=\"Times,serif\" font-size=\"14.00\" text-anchor=\"middle\" x=\"166.5\" y=\"-8.3\">output:</text>\n",
       "<polyline fill=\"none\" points=\"200.5,-.5 200.5,-46.5 \" stroke=\"#000000\"/>\n",
       "<text fill=\"#000000\" font-family=\"Times,serif\" font-size=\"14.00\" text-anchor=\"middle\" x=\"246.5\" y=\"-31.3\">(None, 64)</text>\n",
       "<polyline fill=\"none\" points=\"200.5,-23.5 292.5,-23.5 \" stroke=\"#000000\"/>\n",
       "<text fill=\"#000000\" font-family=\"Times,serif\" font-size=\"14.00\" text-anchor=\"middle\" x=\"246.5\" y=\"-8.3\">(None, 10)</text>\n",
       "</g>\n",
       "<!-- 139772818380224&#45;&gt;139772818380336 -->\n",
       "<g class=\"edge\" id=\"edge2\">\n",
       "<title>139772818380224-&gt;139772818380336</title>\n",
       "<path d=\"M148.5,-83.3799C148.5,-75.1745 148.5,-65.7679 148.5,-56.8786\" fill=\"none\" stroke=\"#000000\"/>\n",
       "<polygon fill=\"#000000\" points=\"152.0001,-56.784 148.5,-46.784 145.0001,-56.784 152.0001,-56.784\" stroke=\"#000000\"/>\n",
       "</g>\n",
       "<!-- 139772818381344 -->\n",
       "<g class=\"node\" id=\"node3\">\n",
       "<title>139772818381344</title>\n",
       "<polygon fill=\"none\" points=\"72.5,-166.5 72.5,-202.5 224.5,-202.5 224.5,-166.5 72.5,-166.5\" stroke=\"#000000\"/>\n",
       "<text fill=\"#000000\" font-family=\"Times,serif\" font-size=\"14.00\" text-anchor=\"middle\" x=\"148.5\" y=\"-180.8\">139772818381344</text>\n",
       "</g>\n",
       "<!-- 139772818381344&#45;&gt;139772818380224 -->\n",
       "<g class=\"edge\" id=\"edge1\">\n",
       "<title>139772818381344-&gt;139772818380224</title>\n",
       "<path d=\"M148.5,-166.4092C148.5,-158.4308 148.5,-148.795 148.5,-139.606\" fill=\"none\" stroke=\"#000000\"/>\n",
       "<polygon fill=\"#000000\" points=\"152.0001,-139.5333 148.5,-129.5333 145.0001,-139.5334 152.0001,-139.5333\" stroke=\"#000000\"/>\n",
       "</g>\n",
       "</g>\n",
       "</svg>"
      ],
      "text/plain": [
       "<IPython.core.display.SVG object>"
      ]
     },
     "execution_count": 9,
     "metadata": {},
     "output_type": "execute_result"
    }
   ],
   "source": [
    "from IPython.display import SVG\n",
    "from keras.utils.vis_utils import model_to_dot\n",
    "\n",
    "%matplotlib inline\n",
    "\n",
    "SVG(model_to_dot(model, show_shapes=True).create(prog='dot', format='svg'))\n",
    "\n",
    "# 에러가 날경우 sudo apt-get install graphviz 를 실행한다.ㄴ"
   ]
  },
  {
   "cell_type": "markdown",
   "metadata": {},
   "source": [
    "# 모델을 아키텍쳐와 Weight으로 분리해서 저장하기"
   ]
  },
  {
   "cell_type": "code",
   "execution_count": 10,
   "metadata": {},
   "outputs": [
    {
     "name": "stdout",
     "output_type": "stream",
     "text": [
      "Model Architecture : {\"class_name\": \"Sequential\", \"config\": [{\"class_name\": \"Dense\", \"config\": {\"name\": \"dense_1\", \"trainable\": true, \"batch_input_shape\": [null, 784], \"dtype\": \"float32\", \"units\": 64, \"activation\": \"relu\", \"use_bias\": true, \"kernel_initializer\": {\"class_name\": \"VarianceScaling\", \"config\": {\"scale\": 1.0, \"mode\": \"fan_avg\", \"distribution\": \"uniform\", \"seed\": null}}, \"bias_initializer\": {\"class_name\": \"Zeros\", \"config\": {}}, \"kernel_regularizer\": null, \"bias_regularizer\": null, \"activity_regularizer\": null, \"kernel_constraint\": null, \"bias_constraint\": null}}, {\"class_name\": \"Dense\", \"config\": {\"name\": \"dense_2\", \"trainable\": true, \"units\": 10, \"activation\": \"softmax\", \"use_bias\": true, \"kernel_initializer\": {\"class_name\": \"VarianceScaling\", \"config\": {\"scale\": 1.0, \"mode\": \"fan_avg\", \"distribution\": \"uniform\", \"seed\": null}}, \"bias_initializer\": {\"class_name\": \"Zeros\", \"config\": {}}, \"kernel_regularizer\": null, \"bias_regularizer\": null, \"activity_regularizer\": null, \"kernel_constraint\": null, \"bias_constraint\": null}}], \"keras_version\": \"2.2.0\", \"backend\": \"tensorflow\"}\n"
     ]
    }
   ],
   "source": [
    "# json 방식\n",
    "from keras.models import model_from_json\n",
    "json_string = model.to_json() # 모델 아키텍처를 json 형식으로 저장\n",
    "model = model_from_json(json_string) # json 파일에서 모델 아키텍처 재구성\n",
    "print('Model Architecture : {}'.format(json_string))"
   ]
  },
  {
   "cell_type": "code",
   "execution_count": 11,
   "metadata": {},
   "outputs": [
    {
     "name": "stdout",
     "output_type": "stream",
     "text": [
      "Model Architecture : backend: tensorflow\n",
      "class_name: Sequential\n",
      "config:\n",
      "- class_name: Dense\n",
      "  config:\n",
      "    activation: relu\n",
      "    activity_regularizer: null\n",
      "    batch_input_shape: !!python/tuple [null, 784]\n",
      "    bias_constraint: null\n",
      "    bias_initializer:\n",
      "      class_name: Zeros\n",
      "      config: {}\n",
      "    bias_regularizer: null\n",
      "    dtype: float32\n",
      "    kernel_constraint: null\n",
      "    kernel_initializer:\n",
      "      class_name: VarianceScaling\n",
      "      config: {distribution: uniform, mode: fan_avg, scale: 1.0, seed: null}\n",
      "    kernel_regularizer: null\n",
      "    name: dense_1\n",
      "    trainable: true\n",
      "    units: 64\n",
      "    use_bias: true\n",
      "- class_name: Dense\n",
      "  config:\n",
      "    activation: softmax\n",
      "    activity_regularizer: null\n",
      "    bias_constraint: null\n",
      "    bias_initializer:\n",
      "      class_name: Zeros\n",
      "      config: {}\n",
      "    bias_regularizer: null\n",
      "    kernel_constraint: null\n",
      "    kernel_initializer:\n",
      "      class_name: VarianceScaling\n",
      "      config: {distribution: uniform, mode: fan_avg, scale: 1.0, seed: null}\n",
      "    kernel_regularizer: null\n",
      "    name: dense_2\n",
      "    trainable: true\n",
      "    units: 10\n",
      "    use_bias: true\n",
      "keras_version: 2.2.0\n",
      "\n"
     ]
    }
   ],
   "source": [
    "# yaml 방식\n",
    "from keras.models import model_from_yaml\n",
    "yaml_string = model.to_yaml() # 모델 아키텍처를 yaml 형식으로 저장\n",
    "model = model_from_yaml(yaml_string) # yaml 파일에서 모델 아키텍처 재구성\n",
    "print('Model Architecture : {}'.format(yaml_string))"
   ]
  },
  {
   "cell_type": "markdown",
   "metadata": {},
   "source": [
    "# Weight만 따로 저장하기"
   ]
  },
  {
   "cell_type": "code",
   "execution_count": 12,
   "metadata": {},
   "outputs": [],
   "source": [
    "model.save_weights('keras_model_weight_save') "
   ]
  },
  {
   "cell_type": "code",
   "execution_count": null,
   "metadata": {},
   "outputs": [],
   "source": []
  }
 ],
 "metadata": {
  "kernelspec": {
   "display_name": "Python 3",
   "language": "python",
   "name": "python3"
  },
  "language_info": {
   "codemirror_mode": {
    "name": "ipython",
    "version": 3
   },
   "file_extension": ".py",
   "mimetype": "text/x-python",
   "name": "python",
   "nbconvert_exporter": "python",
   "pygments_lexer": "ipython3",
   "version": "3.6.5"
  }
 },
 "nbformat": 4,
 "nbformat_minor": 2
}
