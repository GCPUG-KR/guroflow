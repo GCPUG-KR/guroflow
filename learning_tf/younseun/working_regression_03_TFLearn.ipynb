{
 "cells": [
  {
   "cell_type": "code",
   "execution_count": 4,
   "metadata": {},
   "outputs": [],
   "source": [
    "import tflearn\n",
    "from sklearn import datasets, metrics, preprocessing"
   ]
  },
  {
   "cell_type": "code",
   "execution_count": 6,
   "metadata": {},
   "outputs": [],
   "source": [
    "boston = datasets.load_boston()\n",
    "x_data = preprocessing.StandardScaler().fit_transform(boston.data)\n",
    "y_data = boston.target"
   ]
  },
  {
   "cell_type": "code",
   "execution_count": 28,
   "metadata": {},
   "outputs": [
    {
     "data": {
      "text/plain": [
       "((506, 13), (506,))"
      ]
     },
     "execution_count": 28,
     "metadata": {},
     "output_type": "execute_result"
    }
   ],
   "source": [
    "x_data.shape, y_data.shape"
   ]
  },
  {
   "cell_type": "code",
   "execution_count": 26,
   "metadata": {},
   "outputs": [
    {
     "name": "stdout",
     "output_type": "stream",
     "text": [
      "Training Step: 1600  | total loss: \u001b[1m\u001b[32m25.30331\u001b[0m\u001b[0m | time: 0.020s\n",
      "\u001b[2K\r",
      "| SGD | epoch: 200 | loss: 25.30331 - R2: 0.9702 -- iter: 506/506\n"
     ]
    }
   ],
   "source": [
    "import tflearn\n",
    "import numpy as np\n",
    "from sklearn import datasets, metrics, preprocessing\n",
    "\n",
    "boston = datasets.load_boston()\n",
    "x_data = preprocessing.StandardScaler().fit_transform(boston.data)\n",
    "y_data = boston.target\n",
    "\n",
    "y_data = np.expand_dims (y_data, -1)\n",
    "print(x_data.shape)\n",
    "print(y_data.shape)\n",
    "\n",
    "with tf.Graph().as_default():\n",
    "    # Linear Regression graph\n",
    "    input_ = tflearn.input_data(shape=[None,13])\n",
    "    linear = tflearn.fully_connected(input_, 1, activation='linear')\n",
    "    regression = tflearn.regression(linear, optimizer='sgd', loss='mean_square',\n",
    "                                    metric='R2', learning_rate=0.01)\n",
    "\n",
    "    m = tflearn.DNN(regression)\n",
    "    m.fit(x_data, y_data, n_epoch=200, show_metric=True, snapshot_epoch=False)\n",
    "\n"
   ]
  },
  {
   "cell_type": "code",
   "execution_count": null,
   "metadata": {},
   "outputs": [],
   "source": []
  }
 ],
 "metadata": {
  "kernelspec": {
   "display_name": "Python 3",
   "language": "python",
   "name": "python3"
  },
  "language_info": {
   "codemirror_mode": {
    "name": "ipython",
    "version": 3
   },
   "file_extension": ".py",
   "mimetype": "text/x-python",
   "name": "python",
   "nbconvert_exporter": "python",
   "pygments_lexer": "ipython3",
   "version": "3.6.5"
  }
 },
 "nbformat": 4,
 "nbformat_minor": 2
}
