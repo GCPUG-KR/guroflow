{
 "cells": [
  {
   "cell_type": "code",
   "execution_count": 1,
   "metadata": {},
   "outputs": [],
   "source": [
    "import tensorflow as tf\n",
    "from tensorflow.contrib import learn\n",
    "import sys\n",
    "import numpy as np\n",
    "from tensorflow.examples.tutorials.mnist import input_data\n",
    "DATA_DIR = '/tmp/data' if not 'win32' in sys.platform else \"c:\\\\tmp\\\\data\""
   ]
  },
  {
   "cell_type": "code",
   "execution_count": 4,
   "metadata": {},
   "outputs": [
    {
     "name": "stdout",
     "output_type": "stream",
     "text": [
      "Extracting /tmp/data/train-images-idx3-ubyte.gz\n",
      "Extracting /tmp/data/train-labels-idx1-ubyte.gz\n",
      "Extracting /tmp/data/t10k-images-idx3-ubyte.gz\n",
      "Extracting /tmp/data/t10k-labels-idx1-ubyte.gz\n"
     ]
    }
   ],
   "source": [
    "data = input_data.read_data_sets(DATA_DIR, one_hot=False)"
   ]
  },
  {
   "cell_type": "code",
   "execution_count": 8,
   "metadata": {},
   "outputs": [],
   "source": [
    "x_data, y_data = data.train.images, data.train.labels.astype(np.int32)\n",
    "x_test, y_test = data.test.images, data.test.labels.astype(np.int32)"
   ]
  },
  {
   "cell_type": "code",
   "execution_count": 17,
   "metadata": {},
   "outputs": [],
   "source": [
    "NUM_STEPS = 2000\n",
    "MINIBATCH_SIZE = 128\n",
    "\n",
    "feature_columns = learn.infer_real_valued_columns_from_input(x_data)\n"
   ]
  },
  {
   "cell_type": "code",
   "execution_count": 51,
   "metadata": {},
   "outputs": [
    {
     "name": "stdout",
     "output_type": "stream",
     "text": [
      "[_RealValuedColumn(column_name='', dimension=784, default_value=None, dtype=tf.float32, normalizer=None)]\n",
      "INFO:tensorflow:Using default config.\n",
      "WARNING:tensorflow:Using temporary folder as model directory: /tmp/tmpjrpfy7h1\n",
      "INFO:tensorflow:Using config: {'_task_type': None, '_task_id': 0, '_cluster_spec': <tensorflow.python.training.server_lib.ClusterSpec object at 0x7f57dd10da58>, '_master': '', '_num_ps_replicas': 0, '_num_worker_replicas': 0, '_environment': 'local', '_is_chief': True, '_evaluation_master': '', '_train_distribute': None, '_device_fn': None, '_tf_config': gpu_options {\n",
      "  per_process_gpu_memory_fraction: 1.0\n",
      "}\n",
      ", '_tf_random_seed': None, '_save_summary_steps': 100, '_save_checkpoints_secs': 600, '_log_step_count_steps': 100, '_session_config': None, '_save_checkpoints_steps': None, '_keep_checkpoint_max': 5, '_keep_checkpoint_every_n_hours': 10000, '_model_dir': '/tmp/tmpjrpfy7h1'}\n",
      "INFO:tensorflow:Create CheckpointSaverHook.\n",
      "INFO:tensorflow:Graph was finalized.\n",
      "INFO:tensorflow:Running local_init_op.\n",
      "INFO:tensorflow:Done running local_init_op.\n",
      "INFO:tensorflow:Saving checkpoints for 0 into /tmp/tmpjrpfy7h1/model.ckpt.\n",
      "INFO:tensorflow:loss = 2.3806598, step = 1\n",
      "INFO:tensorflow:global_step/sec: 238.136\n",
      "INFO:tensorflow:loss = 0.17964554, step = 101 (0.421 sec)\n",
      "INFO:tensorflow:global_step/sec: 262.016\n",
      "INFO:tensorflow:loss = 0.1867984, step = 201 (0.382 sec)\n",
      "INFO:tensorflow:global_step/sec: 259.15\n",
      "INFO:tensorflow:loss = 0.110614546, step = 301 (0.386 sec)\n",
      "INFO:tensorflow:global_step/sec: 254.125\n",
      "INFO:tensorflow:loss = 0.1870576, step = 401 (0.394 sec)\n",
      "INFO:tensorflow:global_step/sec: 262.979\n",
      "INFO:tensorflow:loss = 0.21689281, step = 501 (0.380 sec)\n",
      "INFO:tensorflow:global_step/sec: 256.736\n",
      "INFO:tensorflow:loss = 0.08744191, step = 601 (0.389 sec)\n",
      "INFO:tensorflow:global_step/sec: 252.961\n",
      "INFO:tensorflow:loss = 0.049827777, step = 701 (0.396 sec)\n",
      "INFO:tensorflow:global_step/sec: 261.141\n",
      "INFO:tensorflow:loss = 0.21348552, step = 801 (0.383 sec)\n",
      "INFO:tensorflow:global_step/sec: 255.908\n",
      "INFO:tensorflow:loss = 0.07855247, step = 901 (0.391 sec)\n",
      "INFO:tensorflow:global_step/sec: 256.85\n",
      "INFO:tensorflow:loss = 0.1616841, step = 1001 (0.389 sec)\n",
      "INFO:tensorflow:global_step/sec: 263.561\n",
      "INFO:tensorflow:loss = 0.10310705, step = 1101 (0.380 sec)\n",
      "INFO:tensorflow:global_step/sec: 260.532\n",
      "INFO:tensorflow:loss = 0.023551004, step = 1201 (0.384 sec)\n",
      "INFO:tensorflow:global_step/sec: 251.859\n",
      "INFO:tensorflow:loss = 0.09110144, step = 1301 (0.397 sec)\n",
      "INFO:tensorflow:global_step/sec: 255.103\n",
      "INFO:tensorflow:loss = 0.027769454, step = 1401 (0.392 sec)\n",
      "INFO:tensorflow:global_step/sec: 254.419\n",
      "INFO:tensorflow:loss = 0.024718992, step = 1501 (0.393 sec)\n",
      "INFO:tensorflow:global_step/sec: 253.936\n",
      "INFO:tensorflow:loss = 0.08108045, step = 1601 (0.394 sec)\n",
      "INFO:tensorflow:global_step/sec: 217.607\n",
      "INFO:tensorflow:loss = 0.08645904, step = 1701 (0.459 sec)\n",
      "INFO:tensorflow:global_step/sec: 200.648\n",
      "INFO:tensorflow:loss = 0.036492303, step = 1801 (0.499 sec)\n",
      "INFO:tensorflow:global_step/sec: 196.509\n",
      "INFO:tensorflow:loss = 0.03942554, step = 1901 (0.508 sec)\n",
      "INFO:tensorflow:Saving checkpoints for 2000 into /tmp/tmpjrpfy7h1/model.ckpt.\n",
      "INFO:tensorflow:Loss for final step: 0.023346908.\n",
      "INFO:tensorflow:Starting evaluation at 2018-09-05-14:38:12\n",
      "INFO:tensorflow:Graph was finalized.\n",
      "INFO:tensorflow:Restoring parameters from /tmp/tmpjrpfy7h1/model.ckpt-2000\n",
      "INFO:tensorflow:Running local_init_op.\n",
      "INFO:tensorflow:Done running local_init_op.\n",
      "INFO:tensorflow:Evaluation [1/1]\n",
      "INFO:tensorflow:Finished evaluation at 2018-09-05-14:38:13\n",
      "INFO:tensorflow:Saving dict for global step 2000: accuracy = 0.9765, global_step = 2000, loss = 0.07581944\n",
      "test accuracy: 0.9764999747276306\n"
     ]
    }
   ],
   "source": [
    "NUM_STEPS = 2000\n",
    "MINIBATCH_SIZE = 128\n",
    "\n",
    "feature_columns = learn.infer_real_valued_columns_from_input(x_data)\n",
    "print(feature_columns)\n",
    "\n",
    "dnn = learn.DNNClassifier(\n",
    "    feature_columns=feature_columns,\n",
    "    hidden_units=[200],\n",
    "    n_classes=10,\n",
    "    optimizer=tf.train.ProximalAdagradOptimizer(\n",
    "    learning_rate=0.2)\n",
    "    )\n",
    "\n",
    "dnn.fit(x=x_data,y=y_data, steps=NUM_STEPS,\n",
    "        batch_size=MINIBATCH_SIZE)\n",
    "\n",
    "test_acc = dnn.evaluate(x=x_test,y=y_test, steps=1)[\"accuracy\"]\n",
    "print('test accuracy: {}'.format(test_acc))"
   ]
  },
  {
   "cell_type": "code",
   "execution_count": 25,
   "metadata": {},
   "outputs": [],
   "source": [
    "import matplotlib.pyplot as plt\n",
    "def plot_confusion_matrix(cm, classes,\n",
    "                          normalize=False,\n",
    "                          title='Confusion matrix',\n",
    "                          cmap=plt.cm.Blues):\n",
    "    \"\"\"\n",
    "    This function prints and plots the confusion matrix.\n",
    "    Normalization can be applied by setting `normalize=True`.\n",
    "    \"\"\"\n",
    "    plt.imshow(cm, interpolation='nearest', cmap=cmap,aspect='auto')\n",
    "    plt.title(title)\n",
    "    plt.colorbar()\n",
    "    tick_marks = np.arange(len(classes))\n",
    "    plt.xticks(tick_marks, classes, rotation=45)\n",
    "    plt.yticks(tick_marks, classes)\n",
    "\n",
    "    thresh = cm.max() / 2.\n",
    "    for i, j in itertools.product(range(cm.shape[0]), range(cm.shape[1])):\n",
    "        plt.text(j, i, cm[i, j],\n",
    "                 horizontalalignment=\"center\",\n",
    "                 color=\"white\" if cm[i, j] > thresh else \"black\")\n",
    "\n",
    "    plt.tight_layout()\n",
    "    plt.ylabel('True label')\n",
    "    plt.xlabel('Predicted label')\n",
    "    \n",
    "    \n",
    "    plt.savefig('confusion_mat.png', bbox_inches='tight', format='png', dpi=300, pad_inches=0,transparent=True)\n",
    "\n",
    "    \n",
    "    plt.show()"
   ]
  },
  {
   "cell_type": "code",
   "execution_count": 26,
   "metadata": {},
   "outputs": [
    {
     "name": "stdout",
     "output_type": "stream",
     "text": [
      "x_test shape(10000, 784)\n",
      "INFO:tensorflow:Graph was finalized.\n",
      "INFO:tensorflow:Restoring parameters from /tmp/tmpl2i5x_ql/model.ckpt-2000\n",
      "INFO:tensorflow:Running local_init_op.\n",
      "INFO:tensorflow:Done running local_init_op.\n"
     ]
    },
    {
     "data": {
      "image/png": "[encoded data removed]",
      "text/plain": [
       "<Figure size 432x288 with 2 Axes>"
      ]
     },
     "metadata": {},
     "output_type": "display_data"
    }
   ],
   "source": [
    "from sklearn.metrics import confusion_matrix\n",
    "import itertools\n",
    "\n",
    "print('x_test shape{}'.format(x_test.shape))\n",
    "y_pred = dnn.predict(x=x_test,as_iterable=False)\n",
    "class_names = ['0','1','2','3','4','5','6','7','8','9']    \n",
    "cnf_matrix = confusion_matrix(y_test, y_pred)\n",
    "\n",
    "plot_confusion_matrix(cnf_matrix, class_names)"
   ]
  },
  {
   "cell_type": "code",
   "execution_count": 42,
   "metadata": {},
   "outputs": [],
   "source": [
    "import pandas as pd\n",
    "N = 10000\n",
    "weight = np.random.randn(N)*5+70\n",
    "spec_id = np.random.randint(0,3,N)\n",
    "bias = [0.9, 1,1.1]\n",
    "height = np.array([weight[i]/100 + bias[b] for i,b in enumerate(spec_id)])\n",
    "spec_name = ['Goblin','Human','ManBears']\n",
    "spec = [spec_name[s] for s in spec_id]"
   ]
  },
  {
   "cell_type": "code",
   "execution_count": 104,
   "metadata": {},
   "outputs": [
    {
     "data": {
      "image/png": "[encoded data removed]",
      "text/plain": [
       "<Figure size 504x216 with 2 Axes>"
      ]
     },
     "metadata": {},
     "output_type": "display_data"
    }
   ],
   "source": [
    "colors = ['r','b','g']\n",
    "f,axarr = plt.subplots(1,2,figsize = [7,3])\n",
    "ax = axarr[0]\n",
    "for ii in range(3):\n",
    "    ax.hist(height[spec_id == ii],50,color=colors[ii],alpha=0.5)\n",
    "    ax.set_xlabel('Height')\n",
    "    ax.set_ylabel('Frequency')\n",
    "    ax.set_title('Heights distribution')\n",
    "# ax.legend(['Goblins','Humans','ManBears'],loc=2, shadow=True,prop={'size':6})\n",
    "height = height + np.random.randn(N)*0.015\n",
    "ax.text(1.42,150,'Goblins')\n",
    "ax.text(1.63,210,'Humans')\n",
    "ax.text(1.85,150,'ManBears')\n",
    "\n",
    "ax.set_ylim([0,260])\n",
    "ax.set_xlim([1.38,2.05])\n",
    "\n",
    "df = pd.DataFrame({'Species':spec,'Weight':weight,'Height':height})\n",
    "\n",
    "\n",
    "ax = axarr[1]\n",
    "\n",
    "ax.plot(df['Height'],df['Weight'],'o',alpha=0.3,mfc='w',mec='b')\n",
    "ax.set_xlabel('Weight')\n",
    "ax.set_ylabel('Height')\n",
    "ax.set_title('Heights vs. Weights')\n",
    "    \n",
    "plt.tight_layout()\n",
    "plt.savefig('test.png', bbox_inches='tight', format='png', dpi=300)\n",
    "\n",
    "plt.show()"
   ]
  },
  {
   "cell_type": "code",
   "execution_count": 105,
   "metadata": {},
   "outputs": [
    {
     "data": {
      "text/html": [
       "<div>\n",
       "<style scoped>\n",
       "    .dataframe tbody tr th:only-of-type {\n",
       "        vertical-align: middle;\n",
       "    }\n",
       "\n",
       "    .dataframe tbody tr th {\n",
       "        vertical-align: top;\n",
       "    }\n",
       "\n",
       "    .dataframe thead th {\n",
       "        text-align: right;\n",
       "    }\n",
       "</style>\n",
       "<table border=\"1\" class=\"dataframe\">\n",
       "  <thead>\n",
       "    <tr style=\"text-align: right;\">\n",
       "      <th></th>\n",
       "      <th>Species</th>\n",
       "      <th>Weight</th>\n",
       "      <th>Height</th>\n",
       "    </tr>\n",
       "  </thead>\n",
       "  <tbody>\n",
       "    <tr>\n",
       "      <th>0</th>\n",
       "      <td>ManBears</td>\n",
       "      <td>76.574871</td>\n",
       "      <td>1.887418</td>\n",
       "    </tr>\n",
       "    <tr>\n",
       "      <th>1</th>\n",
       "      <td>Human</td>\n",
       "      <td>73.640052</td>\n",
       "      <td>1.746223</td>\n",
       "    </tr>\n",
       "    <tr>\n",
       "      <th>2</th>\n",
       "      <td>Human</td>\n",
       "      <td>72.394294</td>\n",
       "      <td>1.720267</td>\n",
       "    </tr>\n",
       "    <tr>\n",
       "      <th>3</th>\n",
       "      <td>Goblin</td>\n",
       "      <td>67.390519</td>\n",
       "      <td>1.555232</td>\n",
       "    </tr>\n",
       "    <tr>\n",
       "      <th>4</th>\n",
       "      <td>ManBears</td>\n",
       "      <td>76.333328</td>\n",
       "      <td>1.880070</td>\n",
       "    </tr>\n",
       "  </tbody>\n",
       "</table>\n",
       "</div>"
      ],
      "text/plain": [
       "    Species     Weight    Height\n",
       "0  ManBears  76.574871  1.887418\n",
       "1     Human  73.640052  1.746223\n",
       "2     Human  72.394294  1.720267\n",
       "3    Goblin  67.390519  1.555232\n",
       "4  ManBears  76.333328  1.880070"
      ]
     },
     "execution_count": 105,
     "metadata": {},
     "output_type": "execute_result"
    }
   ],
   "source": [
    "df.head()"
   ]
  },
  {
   "cell_type": "code",
   "execution_count": 106,
   "metadata": {},
   "outputs": [
    {
     "name": "stdout",
     "output_type": "stream",
     "text": [
      "****************************************************************************************************\n",
      "_RealValuedColumn(column_name='Weight', dimension=1, default_value=None, dtype=tf.float32, normalizer=None)\n",
      "****************************************************************************************************\n",
      "_SparseColumnKeys(column_name='Species', is_integerized=False, bucket_size=None, lookup_config=_SparseIdLookupConfig(vocabulary_file=None, keys=('Goblin', 'Human', 'ManBears'), num_oov_buckets=0, vocab_size=3, default_value=-1), combiner='sum', dtype=tf.string)\n",
      "****************************************************************************************************\n",
      "INFO:tensorflow:Using default config.\n",
      "WARNING:tensorflow:Using temporary folder as model directory: /tmp/tmpv9qv8r_u\n",
      "INFO:tensorflow:Using config: {'_task_type': None, '_task_id': 0, '_cluster_spec': <tensorflow.python.training.server_lib.ClusterSpec object at 0x7f57b3df8908>, '_master': '', '_num_ps_replicas': 0, '_num_worker_replicas': 0, '_environment': 'local', '_is_chief': True, '_evaluation_master': '', '_train_distribute': None, '_device_fn': None, '_tf_config': gpu_options {\n",
      "  per_process_gpu_memory_fraction: 1.0\n",
      "}\n",
      ", '_tf_random_seed': None, '_save_summary_steps': 100, '_save_checkpoints_secs': 600, '_log_step_count_steps': 100, '_session_config': None, '_save_checkpoints_steps': None, '_keep_checkpoint_max': 5, '_keep_checkpoint_every_n_hours': 10000, '_model_dir': '/tmp/tmpv9qv8r_u'}\n",
      "****************************************************************************************************\n",
      "LinearRegressor(params={'head': <tensorflow.contrib.learn.python.learn.estimators.head._RegressionHead object at 0x7f57b3df84a8>, 'feature_columns': [_RealValuedColumn(column_name='Weight', dimension=1, default_value=None, dtype=tf.float32, normalizer=None), _SparseColumnKeys(column_name='Species', is_integerized=False, bucket_size=None, lookup_config=_SparseIdLookupConfig(vocabulary_file=None, keys=('Goblin', 'Human', 'ManBears'), num_oov_buckets=0, vocab_size=3, default_value=-1), combiner='sum', dtype=tf.string)], 'optimizer': None, 'gradient_clip_norm': None, 'joint_weights': False})\n"
     ]
    }
   ],
   "source": [
    "from tensorflow.contrib import layers\n",
    "Weight = layers.real_valued_column(\"Weight\")\n",
    "Species = layers.sparse_column_with_keys(column_name = \"Species\", keys=['Goblin','Human','ManBears'])\n",
    "print('*'*100)\n",
    "print(Weight)\n",
    "print('*'*100)\n",
    "print(Species)\n",
    "print('*'*100)\n",
    "\n",
    "reg = learn.LinearRegressor(feature_columns=[Weight, Species])\n",
    "print('*'*100)\n",
    "print(reg)"
   ]
  },
  {
   "cell_type": "code",
   "execution_count": 136,
   "metadata": {},
   "outputs": [],
   "source": [
    "def input_fn(df):\n",
    "    feature_cols = {}\n",
    "    feature_cols['Weight'] = tf.constant(df['Weight'].values)\n",
    "    \n",
    "    feature_cols['Species'] =  tf.SparseTensor(indices=[[i, 0] for i in range(df['Species'].size)],\n",
    "                                               values=df['Species'].values,\n",
    "                                               dense_shape=[df['Species'].size, 1])\n",
    "                    \n",
    "    labels = tf.constant(df['Height'].values)\n",
    "\n",
    "    return feature_cols, labels\n"
   ]
  },
  {
   "cell_type": "code",
   "execution_count": 138,
   "metadata": {},
   "outputs": [
    {
     "name": "stdout",
     "output_type": "stream",
     "text": [
      "INFO:tensorflow:Create CheckpointSaverHook.\n",
      "INFO:tensorflow:Graph was finalized.\n",
      "INFO:tensorflow:Restoring parameters from /tmp/tmpv9qv8r_u/model.ckpt-0\n",
      "INFO:tensorflow:Running local_init_op.\n",
      "INFO:tensorflow:Done running local_init_op.\n",
      "INFO:tensorflow:Saving checkpoints for 0 into /tmp/tmpv9qv8r_u/model.ckpt.\n",
      "INFO:tensorflow:loss = 2.896765, step = 1\n",
      "INFO:tensorflow:global_step/sec: 237.255\n",
      "INFO:tensorflow:loss = 0.0055037704, step = 101 (0.424 sec)\n",
      "INFO:tensorflow:global_step/sec: 315.455\n",
      "INFO:tensorflow:loss = 0.0050675585, step = 201 (0.317 sec)\n",
      "INFO:tensorflow:global_step/sec: 318.787\n",
      "INFO:tensorflow:loss = 0.0049220305, step = 301 (0.314 sec)\n",
      "INFO:tensorflow:global_step/sec: 313.312\n",
      "INFO:tensorflow:loss = 0.0047931084, step = 401 (0.319 sec)\n",
      "INFO:tensorflow:Saving checkpoints for 500 into /tmp/tmpv9qv8r_u/model.ckpt.\n",
      "INFO:tensorflow:Loss for final step: 0.004669837.\n"
     ]
    },
    {
     "data": {
      "text/plain": [
       "LinearRegressor(params={'head': <tensorflow.contrib.learn.python.learn.estimators.head._RegressionHead object at 0x7f57b3df84a8>, 'feature_columns': [_RealValuedColumn(column_name='Weight', dimension=1, default_value=None, dtype=tf.float32, normalizer=None), _SparseColumnKeys(column_name='Species', is_integerized=False, bucket_size=None, lookup_config=_SparseIdLookupConfig(vocabulary_file=None, keys=('Goblin', 'Human', 'ManBears'), num_oov_buckets=0, vocab_size=3, default_value=-1), combiner='sum', dtype=tf.string)], 'optimizer': None, 'gradient_clip_norm': None, 'joint_weights': False})"
      ]
     },
     "execution_count": 138,
     "metadata": {},
     "output_type": "execute_result"
    }
   ],
   "source": [
    "reg.fit(input_fn=lambda:input_fn(df), steps=500)"
   ]
  },
  {
   "cell_type": "code",
   "execution_count": 160,
   "metadata": {},
   "outputs": [
    {
     "name": "stdout",
     "output_type": "stream",
     "text": [
      "Estimation for Weight: [[0.02265642]]\n",
      "Estimation for Species: [[0.01024192]\n",
      " [0.11010086]\n",
      " [0.2119315 ]]\n",
      "['global_step', 'linear/Species/weights', 'linear/Species/weights/Species/weights/part_0/Ftrl', 'linear/Species/weights/Species/weights/part_0/Ftrl_1', 'linear/Weight/weight', 'linear/Weight/weight/r/Weight/weight/part_0/Ftrl', 'linear/Weight/weight/r/Weight/weight/part_0/Ftrl_1', 'linear/bias_weight', 'linear/bias_weight/ear/bias_weight/part_0/Ftrl', 'linear/bias_weight/ear/bias_weight/part_0/Ftrl_1']\n"
     ]
    }
   ],
   "source": [
    "w_w = reg.get_variable_value('linear/Weight/weight')\n",
    "print('Estimation for Weight: {}'.format(w_w))\n",
    "\n",
    "s_w = reg.get_variable_value('linear/Species/weights')\n",
    "b = reg.get_variable_value('linear/bias_weight')\n",
    "print('Estimation for Species: {}'.format(s_w + b))\n",
    "\n",
    "c = reg.get_variable_names()\n",
    "print(c)"
   ]
  },
  {
   "cell_type": "code",
   "execution_count": null,
   "metadata": {},
   "outputs": [],
   "source": []
  }
 ],
 "metadata": {
  "kernelspec": {
   "display_name": "Python 3",
   "language": "python",
   "name": "python3"
  },
  "language_info": {
   "codemirror_mode": {
    "name": "ipython",
    "version": 3
   },
   "file_extension": ".py",
   "mimetype": "text/x-python",
   "name": "python",
   "nbconvert_exporter": "python",
   "pygments_lexer": "ipython3",
   "version": "3.6.5"
  }
 },
 "nbformat": 4,
 "nbformat_minor": 2
}
