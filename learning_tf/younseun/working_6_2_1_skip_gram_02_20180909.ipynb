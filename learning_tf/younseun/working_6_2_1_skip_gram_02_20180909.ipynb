{
 "cells": [
  {
   "cell_type": "code",
   "execution_count": 1,
   "metadata": {},
   "outputs": [
    {
     "name": "stdout",
     "output_type": "stream",
     "text": [
      "(Nine Five One) (Two Two Four) (Five Five Seven) (Six Six Two)\n"
     ]
    }
   ],
   "source": [
    "import os\n",
    "import math\n",
    "import numpy as np\n",
    "import tensorflow as tf\n",
    "from tensorflow.contrib.tensorboard.plugins import projector\n",
    "from datetime import datetime, date, time\n",
    "\n",
    "batch_size = 64\n",
    "embedding_dimension = 5\n",
    "negative_samples = 8\n",
    "\n",
    "# 텐서보드 모델 요약을 저장할 위치\n",
    "LOG_DIR = \"/home/younseun/columbus_study/04_learning_tensorflow/06__word_embeddings_and_rnns/logs/word2vec_intro_\"+datetime.now().strftime('%Y%m%d%H%M%S')\n",
    "LOG_DIR = \"/tmp/logs/word2vec_intro_2\"\n",
    "\n",
    "digit_to_word_map = {1: \"One\", 2: \"Two\", 3: \"Three\", 4: \"Four\", 5: \"Five\",\n",
    "                     6: \"Six\", 7: \"Seven\", 8: \"Eight\", 9: \"Nine\"}\n",
    "sentences = []\n",
    "\n",
    "# Create two kinds of sentences - sequences of odd and even digits.\n",
    "for i in range(10000):\n",
    "    rand_odd_ints = np.random.choice(range(1, 10, 2), 3)\n",
    "    sentences.append(\" \".join([digit_to_word_map[r] for r in rand_odd_ints]))\n",
    "    rand_even_ints = np.random.choice(range(2, 10, 2), 3)\n",
    "    sentences.append(\" \".join([digit_to_word_map[r] for r in rand_even_ints]))\n",
    "\n",
    "# 하나만 테스트로 진행할때 사용\n",
    "# sentences = []\n",
    "# sentences.append(\"Eight Four Six\")\n",
    "print('({}) ({}) ({}) ({})'.format(sentences[0], sentences[1], sentences[2], sentences[3]))"
   ]
  },
  {
   "cell_type": "code",
   "execution_count": 2,
   "metadata": {},
   "outputs": [
    {
     "name": "stdout",
     "output_type": "stream",
     "text": [
      "word2index_map :{'nine': 0, 'five': 1, 'one': 2, 'two': 3, 'four': 4, 'seven': 5, 'six': 6, 'eight': 7, 'three': 8}\n",
      "index2word_map :{0: 'nine', 1: 'five', 2: 'one', 3: 'two', 4: 'four', 5: 'seven', 6: 'six', 7: 'eight', 8: 'three'}\n",
      "vocabulary_size :9\n"
     ]
    }
   ],
   "source": [
    "# 단어를 인덱스에 매핑\n",
    "word2index_map = {}\n",
    "index = 0\n",
    "for sent in sentences:\n",
    "    #print(sent)\n",
    "    for word in sent.lower().split():\n",
    "        #print(word)\n",
    "        if word not in word2index_map:\n",
    "            word2index_map[word] = index\n",
    "            index += 1\n",
    "        #print(word2index_map)\n",
    "\n",
    "# 역방향 매핑\n",
    "index2word_map = {index: word for word, index in word2index_map.items()}\n",
    "vocabulary_size = len(index2word_map)\n",
    "\n",
    "print('word2index_map :{}'.format(word2index_map))\n",
    "print('index2word_map :{}'.format(index2word_map))\n",
    "print('vocabulary_size :{}'.format(vocabulary_size))\n"
   ]
  },
  {
   "cell_type": "code",
   "execution_count": 3,
   "metadata": {},
   "outputs": [
    {
     "name": "stdout",
     "output_type": "stream",
     "text": [
      "['nine', 'five', 'one']\n",
      "[[4, 3], 7]\n",
      "[7, 4]\n",
      "[7, 3]\n"
     ]
    }
   ],
   "source": [
    "# Generate skip-gram pairs\n",
    "sample_seq = 0\n",
    "skip_gram_pairs = []\n",
    "for sent in sentences:\n",
    "    tokenized_sent = sent.lower().split()\n",
    "    sample_seq += 1\n",
    "    if sample_seq == 1:\n",
    "        print(tokenized_sent)\n",
    "    for i in range(1, len(tokenized_sent)-1):\n",
    "        word_context_pair = [[word2index_map[tokenized_sent[i-1]],\n",
    "                              word2index_map[tokenized_sent[i+1]]],\n",
    "                             word2index_map[tokenized_sent[i]]]\n",
    "        skip_gram_pairs.append([word_context_pair[1],\n",
    "                                word_context_pair[0][0]])\n",
    "        skip_gram_pairs.append([word_context_pair[1],\n",
    "                                word_context_pair[0][1]])\n",
    "        if sample_seq == 10:\n",
    "            print(word_context_pair)\n",
    "            print([word_context_pair[1], word_context_pair[0][0]])\n",
    "            print([word_context_pair[1], word_context_pair[0][1]])"
   ]
  },
  {
   "cell_type": "code",
   "execution_count": 4,
   "metadata": {},
   "outputs": [
    {
     "data": {
      "text/plain": [
       "(40000, [7, 4], [7, 6], [5, 8], [5, 5])"
      ]
     },
     "execution_count": 4,
     "metadata": {},
     "output_type": "execute_result"
    }
   ],
   "source": [
    "len(skip_gram_pairs), skip_gram_pairs[10],skip_gram_pairs[11],skip_gram_pairs[12],skip_gram_pairs[13]"
   ]
  },
  {
   "cell_type": "code",
   "execution_count": 5,
   "metadata": {},
   "outputs": [],
   "source": [
    "def get_skipgram_batch(batch_size):\n",
    "    instance_indices = list(range(len(skip_gram_pairs)))\n",
    "    np.random.shuffle(instance_indices)\n",
    "    batch = instance_indices[:batch_size]\n",
    "    x = [skip_gram_pairs[i][0] for i in batch]      # Target word\n",
    "    y = [[skip_gram_pairs[i][1]] for i in batch]    # 문맥 단어\n",
    "    return x, y"
   ]
  },
  {
   "cell_type": "code",
   "execution_count": 6,
   "metadata": {},
   "outputs": [
    {
     "name": "stdout",
     "output_type": "stream",
     "text": [
      "x:[8, 6, 6], y:[[8], [6], [4]]\n",
      "x(target word) :  ['three', 'six', 'six']\n",
      "y(context word) :  ['three', 'six', 'four']\n"
     ]
    }
   ],
   "source": [
    "#skip_gram_pairs 데이터 확인\n",
    "x, y = get_skipgram_batch(batch_size)\n",
    "print('x:{}, y:{}'.format(x[:3],y[:3]))\n",
    "print('x(target word) : ', [index2word_map[index] for index in x[:3]])\n",
    "print('y(context word) : ', [index2word_map[index[0]] for index in y[:3]])\n"
   ]
  },
  {
   "cell_type": "code",
   "execution_count": 7,
   "metadata": {},
   "outputs": [],
   "source": [
    "# Input data, labels\n",
    "train_inputs = tf.placeholder(tf.int32, shape=[batch_size])\n",
    "train_labels = tf.placeholder(tf.int32, shape=[batch_size, 1])"
   ]
  },
  {
   "cell_type": "code",
   "execution_count": 8,
   "metadata": {},
   "outputs": [
    {
     "data": {
      "text/plain": [
       "(<tf.Variable 'embeddings/embedding:0' shape=(9, 5) dtype=float32_ref>,\n",
       " <tf.Tensor 'Placeholder:0' shape=(64,) dtype=int32>,\n",
       " <tf.Tensor 'embeddings/embedding_lookup:0' shape=(64, 5) dtype=float32>)"
      ]
     },
     "execution_count": 8,
     "metadata": {},
     "output_type": "execute_result"
    }
   ],
   "source": [
    "# Embedding lookup table currently only implemented in CPU\n",
    "with tf.name_scope(\"embeddings\"):\n",
    "    embeddings = tf.Variable(tf.random_uniform([vocabulary_size, embedding_dimension],-1.0, 1.0), name='embedding')\n",
    "    # This is essentialy a lookup table\n",
    "    embed = tf.nn.embedding_lookup(embeddings, train_inputs)\n",
    "embeddings, train_inputs, embed"
   ]
  },
  {
   "cell_type": "code",
   "execution_count": 9,
   "metadata": {},
   "outputs": [
    {
     "data": {
      "text/plain": [
       "<tf.Tensor 'NCE_loss_1:0' shape=() dtype=string>"
      ]
     },
     "execution_count": 9,
     "metadata": {},
     "output_type": "execute_result"
    }
   ],
   "source": [
    "# Create variables for the NCE loss\n",
    "nce_weights = tf.Variable(\n",
    "        tf.truncated_normal([vocabulary_size, embedding_dimension],\n",
    "                            stddev=1.0 / math.sqrt(embedding_dimension)))\n",
    "nce_biases = tf.Variable(tf.zeros([vocabulary_size]))\n",
    "\n",
    "\n",
    "loss = tf.reduce_mean(tf.nn.nce_loss(weights=nce_weights, biases=nce_biases, inputs=embed, labels=train_labels,\n",
    "                      num_sampled=negative_samples, num_classes=vocabulary_size))\n",
    "tf.summary.scalar(\"NCE_loss\", loss)\n"
   ]
  },
  {
   "cell_type": "code",
   "execution_count": 14,
   "metadata": {},
   "outputs": [],
   "source": [
    "# Learning rate decay\n",
    "global_step = tf.Variable(0, trainable=False)\n",
    "learningRate = tf.train.exponential_decay(learning_rate=0.01,\n",
    "                                          global_step=global_step,\n",
    "                                          decay_steps=1000,\n",
    "                                          decay_rate=0.95,\n",
    "                                          staircase=True)\n",
    "train_step = tf.train.GradientDescentOptimizer(learningRate).minimize(loss)\n",
    "\n",
    "merged = tf.summary.merge_all()"
   ]
  },
  {
   "cell_type": "code",
   "execution_count": 30,
   "metadata": {},
   "outputs": [
    {
     "name": "stdout",
     "output_type": "stream",
     "text": [
      "[2, 7, 7, 4, 4, 4, 6, 5, 6, 3, 6, 4, 6, 2, 0, 7, 4, 3, 1, 2, 8, 0, 3, 6, 7, 5, 2, 2, 8, 4, 2, 7, 7, 4, 6, 6, 7, 6, 7, 3, 6, 8, 1, 3, 2, 0, 7, 0, 6, 5, 5, 4, 1, 1, 4, 6, 3, 7, 4, 0, 4, 6, 1, 8] [[2], [4], [3], [7], [6], [7], [7], [2], [4], [3], [6], [7], [6], [0], [1], [3], [6], [7], [1], [2], [0], [8], [6], [7], [7], [0], [2], [1], [2], [3], [0], [6], [4], [6], [3], [7], [6], [6], [6], [3], [7], [1], [1], [6], [2], [1], [4], [2], [3], [0], [8], [6], [8], [1], [4], [6], [7], [4], [4], [8], [6], [3], [2], [5]]\n",
      "Loss at 0: 7.68430\n",
      "Loss at 1000: 3.01388\n",
      "Loss at 2000: 2.83595\n",
      "Loss at 3000: 2.64399\n",
      "Loss at 4000: 2.58955\n",
      "Loss at 5000: 2.52692\n",
      "Loss at 6000: 2.49235\n",
      "Loss at 7000: 2.52326\n",
      "Loss at 8000: 2.55969\n",
      "Loss at 9000: 2.46295\n",
      "completed !!\n"
     ]
    }
   ],
   "source": [
    "first_onoff = 0\n",
    "with tf.Session() as sess:\n",
    "    train_writer = tf.summary.FileWriter(LOG_DIR,\n",
    "                                         graph=tf.get_default_graph())\n",
    "    saver = tf.train.Saver()\n",
    "\n",
    "    with open(os.path.join(LOG_DIR, 'metadata.tsv'), \"w\") as metadata:\n",
    "        metadata.write('Name\\tClass\\n')\n",
    "        for k, v in index2word_map.items():\n",
    "            metadata.write('%s\\t%d\\n' % (v, k))\n",
    "\n",
    "    config = projector.ProjectorConfig()\n",
    "    embedding = config.embeddings.add()\n",
    "    embedding.tensor_name = embeddings.name\n",
    "    # Link this tensor to its metadata file (e.g. labels).\n",
    "    embedding.metadata_path = os.path.join(LOG_DIR, 'metadata.tsv')\n",
    "    projector.visualize_embeddings(train_writer, config)\n",
    "\n",
    "    tf.global_variables_initializer().run()\n",
    "\n",
    "    for step in range(10000):\n",
    "        x_batch, y_batch = get_skipgram_batch(batch_size)\n",
    "        first_onoff += 1\n",
    "        if first_onoff == 1:\n",
    "            print(x_batch, y_batch)\n",
    "        summary, out_nce_weights, _ = sess.run([merged, nce_weights, train_step],\n",
    "                              feed_dict={train_inputs: x_batch,\n",
    "                                         train_labels: y_batch})\n",
    "        train_writer.add_summary(summary, step)\n",
    "\n",
    "        #if step % 1000 == 0:\n",
    "        #    print('nce_weights {}'.format(out_nce_weights))\n",
    "        if step % 1000 == 0:\n",
    "            saver.save(sess, os.path.join(LOG_DIR, \"w2v_model.ckpt\"), step)\n",
    "            loss_value = sess.run(loss,\n",
    "                                  feed_dict={train_inputs: x_batch,\n",
    "                                             train_labels: y_batch})\n",
    "            print(\"Loss at %d: %.5f\" % (step, loss_value))\n",
    "\n",
    "    # Normalize embeddings before using\n",
    "    norm = tf.sqrt(tf.reduce_sum(tf.square(embeddings), 1, keep_dims=True))\n",
    "    normalized_embeddings = embeddings / norm\n",
    "    normalized_embeddings_matrix = sess.run(normalized_embeddings)\n",
    "print(\"completed !!\")"
   ]
  },
  {
   "cell_type": "code",
   "execution_count": 20,
   "metadata": {},
   "outputs": [
    {
     "data": {
      "text/plain": [
       "(<tf.Tensor 'truediv_4:0' shape=(9, 5) dtype=float32>,\n",
       " <tf.Variable 'embeddings/embedding:0' shape=(9, 5) dtype=float32_ref>,\n",
       " <tf.Tensor 'Sqrt_4:0' shape=(9, 1) dtype=float32>)"
      ]
     },
     "execution_count": 20,
     "metadata": {},
     "output_type": "execute_result"
    }
   ],
   "source": [
    "normalized_embeddings, embeddings, norm"
   ]
  },
  {
   "cell_type": "code",
   "execution_count": 31,
   "metadata": {},
   "outputs": [
    {
     "data": {
      "text/plain": [
       "array([[ 0.01851027, -0.38256797, -0.69862163, -0.48257422, -0.3637981 ],\n",
       "       [ 0.15151925, -0.45563003, -0.63779   , -0.5848783 , -0.14347272],\n",
       "       [-0.02436541, -0.39945036, -0.6633278 , -0.5176547 , -0.36314663],\n",
       "       [-0.35064706,  0.64548475, -0.21336372, -0.37061203,  0.52680045],\n",
       "       [-0.52213836,  0.50760204, -0.4818405 ,  0.02821813,  0.48656473],\n",
       "       [ 0.1887003 , -0.14939962, -0.50887835, -0.714728  , -0.41506463],\n",
       "       [-0.46791896,  0.6075562 , -0.31650034, -0.23186843,  0.507929  ],\n",
       "       [-0.6220929 ,  0.58995175, -0.22646055, -0.28524277,  0.36374375],\n",
       "       [-0.11415682, -0.7390903 , -0.55131435, -0.3517108 ,  0.114306  ]],\n",
       "      dtype=float32)"
      ]
     },
     "execution_count": 31,
     "metadata": {},
     "output_type": "execute_result"
    }
   ],
   "source": [
    "normalized_embeddings_matrix"
   ]
  },
  {
   "cell_type": "code",
   "execution_count": 32,
   "metadata": {},
   "outputs": [],
   "source": [
    "ref_word = normalized_embeddings_matrix[2]"
   ]
  },
  {
   "cell_type": "code",
   "execution_count": 33,
   "metadata": {},
   "outputs": [
    {
     "name": "stdout",
     "output_type": "stream",
     "text": [
      "nine\n",
      "0.9977\n",
      "five\n",
      "0.95624024\n",
      "seven\n",
      "0.91334486\n",
      "three\n",
      "0.8042685\n",
      "eight\n",
      "-0.054716364\n",
      "four\n",
      "-0.0617231\n",
      "six\n",
      "-0.08576897\n",
      "two\n",
      "-0.107222125\n"
     ]
    }
   ],
   "source": [
    "cosine_dists = np.dot(normalized_embeddings_matrix, ref_word)\n",
    "ff = np.argsort(cosine_dists)[::-1][1:10]\n",
    "for f in ff:\n",
    "    print(index2word_map[f])\n",
    "    print(cosine_dists[f])"
   ]
  },
  {
   "cell_type": "code",
   "execution_count": 26,
   "metadata": {},
   "outputs": [
    {
     "data": {
      "text/plain": [
       "array([ 0.9731061 ,  0.8959499 ,  0.9999998 , -0.03284888, -0.03454876,\n",
       "        0.77516216, -0.03165343,  0.02024998,  0.79811215], dtype=float32)"
      ]
     },
     "execution_count": 26,
     "metadata": {},
     "output_type": "execute_result"
    }
   ],
   "source": [
    "cosine_dists"
   ]
  },
  {
   "cell_type": "code",
   "execution_count": null,
   "metadata": {},
   "outputs": [],
   "source": []
  }
 ],
 "metadata": {
  "kernelspec": {
   "display_name": "Python 3",
   "language": "python",
   "name": "python3"
  },
  "language_info": {
   "codemirror_mode": {
    "name": "ipython",
    "version": 3
   },
   "file_extension": ".py",
   "mimetype": "text/x-python",
   "name": "python",
   "nbconvert_exporter": "python",
   "pygments_lexer": "ipython3",
   "version": "3.6.5"
  }
 },
 "nbformat": 4,
 "nbformat_minor": 2
}
