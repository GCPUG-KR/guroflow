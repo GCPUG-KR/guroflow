{
 "cells": [
  {
   "cell_type": "code",
   "execution_count": 1,
   "metadata": {},
   "outputs": [],
   "source": [
    "import os\n",
    "import math\n",
    "import numpy as np\n",
    "import tensorflow as tf\n",
    "from tensorflow.contrib.tensorboard.plugins import projector\n",
    "from datetime import datetime, date, time\n",
    "\n",
    "batch_size = 64\n",
    "embedding_dimension = 5\n",
    "negative_samples = 8\n",
    "\n",
    "# 텐서보드 모델 요약을 저장할 위치\n",
    "LOG_DIR = \"/home/younseun/columbus_study/04_learning_tensorflow/06__word_embeddings_and_rnns/logs/word2vec_intro_\"+datetime.now().strftime('%Y%m%d%H%M%S')\n",
    "LOG_DIR = \"/tmp/logs/word2vec_intro\"\n",
    "\n",
    "digit_to_word_map = {1: \"One\", 2: \"Two\", 3: \"Three\", 4: \"Four\", 5: \"Five\",\n",
    "                     6: \"Six\", 7: \"Seven\", 8: \"Eight\", 9: \"Nine\"}\n",
    "sentences = []\n",
    "\n",
    "# Create two kinds of sentences - sequences of odd and even digits.\n",
    "for i in range(10000):\n",
    "    rand_odd_ints = np.random.choice(range(1, 10, 2), 3)\n",
    "    sentences.append(\" \".join([digit_to_word_map[r] for r in rand_odd_ints]))\n",
    "    rand_even_ints = np.random.choice(range(2, 10, 2), 3)\n",
    "    sentences.append(\" \".join([digit_to_word_map[r] for r in rand_even_ints]))\n",
    "\n",
    "# 하나만 테스트로 진행할때 사용\n",
    "# sentences = []\n",
    "# sentences.append(\"Eight Four Six\")"
   ]
  },
  {
   "cell_type": "code",
   "execution_count": 2,
   "metadata": {},
   "outputs": [
    {
     "data": {
      "text/plain": [
       "['Nine One Three',\n",
       " 'Eight Six Eight',\n",
       " 'One One Nine',\n",
       " 'Four Six Six',\n",
       " 'One Five Three',\n",
       " 'Eight Six Six',\n",
       " 'Nine Nine Nine',\n",
       " 'Four Two Two',\n",
       " 'Nine Seven Five',\n",
       " 'Four Two Six']"
      ]
     },
     "execution_count": 2,
     "metadata": {},
     "output_type": "execute_result"
    }
   ],
   "source": [
    "sentences[:10]"
   ]
  },
  {
   "cell_type": "code",
   "execution_count": 3,
   "metadata": {},
   "outputs": [
    {
     "name": "stdout",
     "output_type": "stream",
     "text": [
      "word2index_map :{'nine': 0, 'one': 1, 'three': 2, 'eight': 3, 'six': 4, 'four': 5, 'five': 6, 'two': 7, 'seven': 8}\n",
      "index2word_map :{0: 'nine', 1: 'one', 2: 'three', 3: 'eight', 4: 'six', 5: 'four', 6: 'five', 7: 'two', 8: 'seven'}\n",
      "vocabulary_size :9\n"
     ]
    }
   ],
   "source": [
    "# 단어를 인덱스에 매핑\n",
    "word2index_map = {}\n",
    "index = 0\n",
    "for sent in sentences:\n",
    "    #print(sent)\n",
    "    for word in sent.lower().split():\n",
    "        #print(word)\n",
    "        if word not in word2index_map:\n",
    "            word2index_map[word] = index\n",
    "            index += 1\n",
    "        #print(word2index_map)\n",
    "\n",
    "# 역방향 매핑\n",
    "index2word_map = {index: word for word, index in word2index_map.items()}\n",
    "vocabulary_size = len(index2word_map)\n",
    "\n",
    "print('word2index_map :{}'.format(word2index_map))\n",
    "print('index2word_map :{}'.format(index2word_map))\n",
    "print('vocabulary_size :{}'.format(vocabulary_size))\n"
   ]
  },
  {
   "cell_type": "code",
   "execution_count": 4,
   "metadata": {},
   "outputs": [
    {
     "name": "stdout",
     "output_type": "stream",
     "text": [
      "['nine', 'one', 'three']\n",
      "[[5, 4], 7]\n",
      "[7, 5]\n",
      "[7, 4]\n"
     ]
    }
   ],
   "source": [
    "# Generate skip-gram pairs\n",
    "sample_seq = 0\n",
    "skip_gram_pairs = []\n",
    "for sent in sentences:\n",
    "    tokenized_sent = sent.lower().split()\n",
    "    sample_seq += 1\n",
    "    if sample_seq == 1:\n",
    "        print(tokenized_sent)\n",
    "    for i in range(1, len(tokenized_sent)-1):\n",
    "        word_context_pair = [[word2index_map[tokenized_sent[i-1]],\n",
    "                              word2index_map[tokenized_sent[i+1]]],\n",
    "                             word2index_map[tokenized_sent[i]]]\n",
    "        skip_gram_pairs.append([word_context_pair[1],\n",
    "                                word_context_pair[0][0]])\n",
    "        skip_gram_pairs.append([word_context_pair[1],\n",
    "                                word_context_pair[0][1]])\n",
    "        if sample_seq == 10:\n",
    "            print(word_context_pair)\n",
    "            print([word_context_pair[1], word_context_pair[0][0]])\n",
    "            print([word_context_pair[1], word_context_pair[0][1]])\n",
    "    "
   ]
  },
  {
   "cell_type": "code",
   "execution_count": 5,
   "metadata": {},
   "outputs": [],
   "source": [
    "def get_skipgram_batch(batch_size):\n",
    "    instance_indices = list(range(len(skip_gram_pairs)))\n",
    "    np.random.shuffle(instance_indices)\n",
    "    batch = instance_indices[:batch_size]\n",
    "    x = [skip_gram_pairs[i][0] for i in batch]      # Target word\n",
    "    y = [[skip_gram_pairs[i][1]] for i in batch]    # 문맥 단어\n",
    "    return x, y"
   ]
  },
  {
   "cell_type": "code",
   "execution_count": 6,
   "metadata": {},
   "outputs": [
    {
     "name": "stdout",
     "output_type": "stream",
     "text": [
      "x:[8, 3, 2], y:[[1], [4], [0]]\n",
      "x(target word) :  ['seven', 'eight', 'three']\n",
      "y(context word) :  ['one', 'six', 'nine']\n"
     ]
    }
   ],
   "source": [
    "#skip_gram_pairs 데이터 확인\n",
    "x, y = get_skipgram_batch(batch_size)\n",
    "print('x:{}, y:{}'.format(x[:3],y[:3]))\n",
    "print('x(target word) : ', [index2word_map[index] for index in x[:3]])\n",
    "print('y(context word) : ', [index2word_map[index[0]] for index in y[:3]])\n"
   ]
  },
  {
   "cell_type": "code",
   "execution_count": 7,
   "metadata": {},
   "outputs": [],
   "source": [
    "# Input data, labels\n",
    "train_inputs = tf.placeholder(tf.int32, shape=[batch_size])\n",
    "train_labels = tf.placeholder(tf.int32, shape=[batch_size, 1])"
   ]
  },
  {
   "cell_type": "code",
   "execution_count": 8,
   "metadata": {},
   "outputs": [
    {
     "data": {
      "text/plain": [
       "(<tf.Variable 'embeddings/embedding:0' shape=(9, 5) dtype=float32_ref>,\n",
       " <tf.Tensor 'Placeholder:0' shape=(64,) dtype=int32>,\n",
       " <tf.Tensor 'embeddings/embedding_lookup:0' shape=(64, 5) dtype=float32>)"
      ]
     },
     "execution_count": 8,
     "metadata": {},
     "output_type": "execute_result"
    }
   ],
   "source": [
    "# Embedding lookup table currently only implemented in CPU\n",
    "with tf.name_scope(\"embeddings\"):\n",
    "    embeddings = tf.Variable(\n",
    "        tf.random_uniform([vocabulary_size, embedding_dimension],\n",
    "                          -1.0, 1.0), name='embedding')\n",
    "    # This is essentialy a lookup table\n",
    "    embed = tf.nn.embedding_lookup(embeddings, train_inputs)\n",
    "embeddings, train_inputs, embed"
   ]
  },
  {
   "cell_type": "code",
   "execution_count": 9,
   "metadata": {},
   "outputs": [
    {
     "data": {
      "text/plain": [
       "<tf.Tensor 'NCE_loss_1:0' shape=() dtype=string>"
      ]
     },
     "execution_count": 9,
     "metadata": {},
     "output_type": "execute_result"
    }
   ],
   "source": [
    "# Create variables for the NCE loss\n",
    "nce_weights = tf.Variable(\n",
    "        tf.truncated_normal([vocabulary_size, embedding_dimension],\n",
    "                            stddev=1.0 / math.sqrt(embedding_dimension)))\n",
    "nce_biases = tf.Variable(tf.zeros([vocabulary_size]))\n",
    "\n",
    "\n",
    "loss = tf.reduce_mean(tf.nn.nce_loss(weights=nce_weights, biases=nce_biases, inputs=embed, labels=train_labels,\n",
    "                      num_sampled=negative_samples, num_classes=vocabulary_size))\n",
    "tf.summary.scalar(\"NCE_loss\", loss)\n"
   ]
  },
  {
   "cell_type": "code",
   "execution_count": 10,
   "metadata": {},
   "outputs": [],
   "source": [
    "# Learning rate decay\n",
    "global_step = tf.Variable(0, trainable=False)\n",
    "learningRate = tf.train.exponential_decay(learning_rate=0.1,\n",
    "                                          global_step=global_step,\n",
    "                                          decay_steps=1000,\n",
    "                                          decay_rate=0.95,\n",
    "                                          staircase=True)\n",
    "train_step = tf.train.GradientDescentOptimizer(learningRate).minimize(loss)\n",
    "\n",
    "merged = tf.summary.merge_all()"
   ]
  },
  {
   "cell_type": "code",
   "execution_count": 11,
   "metadata": {},
   "outputs": [
    {
     "name": "stdout",
     "output_type": "stream",
     "text": [
      "[2, 1, 4, 5, 6, 3, 3, 3, 1, 6, 5, 5, 1, 2, 6, 2, 2, 7, 4, 4, 8, 4, 0, 5, 6, 4, 6, 7, 1, 8, 2, 8, 3, 7, 1, 8, 5, 8, 1, 6, 4, 0, 7, 0, 4, 1, 4, 7, 2, 3, 6, 5, 0, 3, 8, 0, 5, 8, 5, 1, 1, 3, 1, 1] [[0], [6], [5], [3], [0], [5], [4], [5], [2], [2], [7], [5], [8], [6], [2], [0], [6], [3], [7], [7], [2], [4], [8], [5], [6], [4], [8], [4], [0], [0], [6], [0], [5], [7], [6], [6], [4], [6], [2], [6], [3], [2], [5], [0], [7], [8], [3], [3], [6], [3], [2], [4], [8], [3], [1], [6], [3], [2], [3], [1], [1], [5], [2], [2]]\n",
      "Loss at 0: 6.64638\n",
      "Loss at 100: 3.12801\n",
      "Loss at 200: 2.77991\n",
      "Loss at 300: 2.62005\n",
      "Loss at 400: 2.59635\n",
      "Loss at 500: 2.58121\n",
      "Loss at 600: 2.51445\n",
      "Loss at 700: 2.54663\n",
      "Loss at 800: 2.53083\n",
      "Loss at 900: 2.52549\n",
      "WARNING:tensorflow:From <ipython-input-11-3f9768698026>:39: calling reduce_sum (from tensorflow.python.ops.math_ops) with keep_dims is deprecated and will be removed in a future version.\n",
      "Instructions for updating:\n",
      "keep_dims is deprecated, use keepdims instead\n",
      "completed !!\n"
     ]
    }
   ],
   "source": [
    "first_onoff = 0\n",
    "with tf.Session() as sess:\n",
    "    train_writer = tf.summary.FileWriter(LOG_DIR,\n",
    "                                         graph=tf.get_default_graph())\n",
    "    saver = tf.train.Saver()\n",
    "\n",
    "    with open(os.path.join(LOG_DIR, 'metadata.tsv'), \"w\") as metadata:\n",
    "        metadata.write('Name\\tClass\\n')\n",
    "        for k, v in index2word_map.items():\n",
    "            metadata.write('%s\\t%d\\n' % (v, k))\n",
    "\n",
    "    config = projector.ProjectorConfig()\n",
    "    embedding = config.embeddings.add()\n",
    "    embedding.tensor_name = embeddings.name\n",
    "    # Link this tensor to its metadata file (e.g. labels).\n",
    "    embedding.metadata_path = os.path.join(LOG_DIR, 'metadata.tsv')\n",
    "    projector.visualize_embeddings(train_writer, config)\n",
    "\n",
    "    tf.global_variables_initializer().run()\n",
    "\n",
    "    for step in range(1000):\n",
    "        x_batch, y_batch = get_skipgram_batch(batch_size)\n",
    "        first_onoff += 1\n",
    "        if first_onoff == 1:\n",
    "            print(x_batch, y_batch)\n",
    "        summary, _ = sess.run([merged, train_step],\n",
    "                              feed_dict={train_inputs: x_batch,\n",
    "                                         train_labels: y_batch})\n",
    "        train_writer.add_summary(summary, step)\n",
    "\n",
    "        if step % 100 == 0:\n",
    "            saver.save(sess, os.path.join(LOG_DIR, \"w2v_model.ckpt\"), step)\n",
    "            loss_value = sess.run(loss,\n",
    "                                  feed_dict={train_inputs: x_batch,\n",
    "                                             train_labels: y_batch})\n",
    "            print(\"Loss at %d: %.5f\" % (step, loss_value))\n",
    "\n",
    "    # Normalize embeddings before using\n",
    "    norm = tf.sqrt(tf.reduce_sum(tf.square(embeddings), 1, keep_dims=True))\n",
    "    normalized_embeddings = embeddings / norm\n",
    "    normalized_embeddings_matrix = sess.run(normalized_embeddings)\n",
    "print(\"completed !!\")"
   ]
  },
  {
   "cell_type": "code",
   "execution_count": 12,
   "metadata": {},
   "outputs": [
    {
     "name": "stdout",
     "output_type": "stream",
     "text": [
      "seven\n",
      "0.96873075\n",
      "five\n",
      "0.9580324\n",
      "three\n",
      "0.9303351\n",
      "nine\n",
      "0.8212328\n",
      "eight\n",
      "-0.055619687\n",
      "six\n",
      "-0.0755487\n",
      "two\n",
      "-0.09833431\n",
      "four\n",
      "-0.105676994\n"
     ]
    }
   ],
   "source": [
    "ref_word = normalized_embeddings_matrix[word2index_map[\"one\"]]\n",
    "\n",
    "cosine_dists = np.dot(normalized_embeddings_matrix, ref_word)\n",
    "ff = np.argsort(cosine_dists)[::-1][1:10]\n",
    "for f in ff:\n",
    "    print(index2word_map[f])\n",
    "    print(cosine_dists[f])\n"
   ]
  },
  {
   "cell_type": "code",
   "execution_count": 13,
   "metadata": {},
   "outputs": [
    {
     "data": {
      "text/plain": [
       "1"
      ]
     },
     "execution_count": 13,
     "metadata": {},
     "output_type": "execute_result"
    }
   ],
   "source": [
    "word2index_map[\"one\"]"
   ]
  },
  {
   "cell_type": "code",
   "execution_count": 14,
   "metadata": {},
   "outputs": [
    {
     "data": {
      "text/plain": [
       "array([ 0.14506422, -0.4546689 , -0.23660548,  0.17448369,  0.8281338 ],\n",
       "      dtype=float32)"
      ]
     },
     "execution_count": 14,
     "metadata": {},
     "output_type": "execute_result"
    }
   ],
   "source": [
    "ref_word"
   ]
  },
  {
   "cell_type": "code",
   "execution_count": 15,
   "metadata": {},
   "outputs": [
    {
     "data": {
      "text/plain": [
       "array([[ 0.25361255, -0.22201024,  0.21316423, -0.11294982,  0.9100525 ],\n",
       "       [ 0.14506422, -0.4546689 , -0.23660548,  0.17448369,  0.8281338 ],\n",
       "       [-0.02065117, -0.46379608, -0.2746809 ,  0.47800875,  0.6931989 ],\n",
       "       [-0.8430958 ,  0.1733758 , -0.318345  , -0.36302474,  0.16124405],\n",
       "       [-0.9168602 ,  0.22670692, -0.30922624,  0.06155199,  0.0925298 ],\n",
       "       [-0.6046285 ,  0.28968465, -0.05042597, -0.68991154,  0.26830304],\n",
       "       [ 0.28740245, -0.25902125, -0.27318826,  0.02839938,  0.8802667 ],\n",
       "       [-0.84565794,  0.27027208, -0.1637651 , -0.3753237 ,  0.21006854],\n",
       "       [ 0.24593292, -0.31342536, -0.12484634,  0.05732991,  0.90686727]],\n",
       "      dtype=float32)"
      ]
     },
     "execution_count": 15,
     "metadata": {},
     "output_type": "execute_result"
    }
   ],
   "source": [
    "normalized_embeddings_matrix"
   ]
  },
  {
   "cell_type": "code",
   "execution_count": 18,
   "metadata": {},
   "outputs": [
    {
     "name": "stdout",
     "output_type": "stream",
     "text": [
      "nine 0\n",
      "one 1\n",
      "three 2\n",
      "eight 3\n",
      "six 4\n",
      "four 5\n",
      "five 6\n",
      "two 7\n",
      "seven 8\n"
     ]
    }
   ],
   "source": [
    "for k, v in index2word_map.items():\n",
    "            print('{} {}'.format(v, k))"
   ]
  },
  {
   "cell_type": "code",
   "execution_count": 19,
   "metadata": {},
   "outputs": [
    {
     "data": {
      "text/plain": [
       "'embeddings/embedding:0'"
      ]
     },
     "execution_count": 19,
     "metadata": {},
     "output_type": "execute_result"
    }
   ],
   "source": [
    "embeddings.name"
   ]
  },
  {
   "cell_type": "code",
   "execution_count": null,
   "metadata": {},
   "outputs": [],
   "source": []
  }
 ],
 "metadata": {
  "kernelspec": {
   "display_name": "Python 3",
   "language": "python",
   "name": "python3"
  },
  "language_info": {
   "codemirror_mode": {
    "name": "ipython",
    "version": 3
   },
   "file_extension": ".py",
   "mimetype": "text/x-python",
   "name": "python",
   "nbconvert_exporter": "python",
   "pygments_lexer": "ipython3",
   "version": "3.6.5"
  }
 },
 "nbformat": 4,
 "nbformat_minor": 2
}
