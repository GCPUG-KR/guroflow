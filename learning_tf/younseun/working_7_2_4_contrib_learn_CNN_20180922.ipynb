{
 "cells": [
  {
   "cell_type": "code",
   "execution_count": 14,
   "metadata": {},
   "outputs": [
    {
     "name": "stdout",
     "output_type": "stream",
     "text": [
      "Extracting tmp/data/train-images-idx3-ubyte.gz\n",
      "Extracting tmp/data/train-labels-idx1-ubyte.gz\n",
      "Extracting tmp/data/t10k-images-idx3-ubyte.gz\n",
      "Extracting tmp/data/t10k-labels-idx1-ubyte.gz\n"
     ]
    }
   ],
   "source": [
    "from tensorflow.examples.tutorials.mnist import input_data\n",
    "from tensorflow.contrib import layers\n",
    "\n",
    "import tensorflow as tf\n",
    "import numpy as np\n",
    "import pandas as pd\n",
    "from layers import conv_layer, max_pool_2x2, full_layer\n",
    "import datetime\n",
    "\n"
   ]
  },
  {
   "cell_type": "code",
   "execution_count": 58,
   "metadata": {},
   "outputs": [],
   "source": [
    "def model_fn(x, target, mode, params):\n",
    "    y_ = tf.cast(target, tf.float32)\n",
    "    x_image = tf.reshape(x, [-1, 28, 28, 1])\n",
    "\n",
    "    # 합성곱 계층 1\n",
    "    conv1 = layers.convolution2d(x_image, 32, [5,5],\n",
    "                                activation_fn=tf.nn.relu,\n",
    "                                biases_initializer=tf.constant_initializer(0.1),\n",
    "                                weights_initializer=tf.truncated_normal_initializer(stddev=0.1))\n",
    "    pool1 = layers.max_pool2d(conv1, [2,2])\n",
    "\n",
    "    # 합성곱 계층 2\n",
    "    conv2 = layers.convolution2d(pool1, 64, [5,5],\n",
    "                                activation_fn=tf.nn.relu,\n",
    "                                biases_initializer=tf.constant_initializer(0.1),\n",
    "                                weights_initializer=tf.truncated_normal_initializer(stddev=0.1))\n",
    "    pool2 = layers.max_pool2d(conv2, [2,2])\n",
    "    print(pool2.get_shape())\n",
    "\n",
    "    # 완전연결계층\n",
    "    pool2_flat = tf.reshape(pool2, [-1, 7*7*64])\n",
    "    fc1 = layers.fully_connected(pool2_flat, 1024,\n",
    "                                activation_fn=tf.nn.relu,\n",
    "                                biases_initializer=tf.constant_initializer(0.1),\n",
    "                                weights_initializer=tf.truncated_normal_initializer(stddev=0.1))\n",
    "    fc1_drop = layers.dropout(fc1, keep_prob=model_params[\"dropout\"],\n",
    "                             is_training=(mode == 'train'))\n",
    "    print(fc1_drop)\n",
    "\n",
    "    # 판독 계층\n",
    "    y_conv = layers.fully_connected(fc1_drop, 10,\n",
    "                                activation_fn=None)\n",
    "    \n",
    "    cross_entropy = tf.reduce_mean(tf.nn.softmax_cross_entropy_with_logits(logits=y_conv, labels=y_))\n",
    "    train_op = tf.contrib.layers.optimize_loss(loss=cross_entropy,\n",
    "                                              global_step=tf.contrib.framework.get_global_step(),\n",
    "                                              learning_rate=params[\"learning_rate\"],\n",
    "                                              optimizer=\"Adam\")\n",
    "    predictions = tf.argmax(y_conv,1)\n",
    "    return predictions, cross_entropy, train_op"
   ]
  },
  {
   "cell_type": "code",
   "execution_count": 59,
   "metadata": {},
   "outputs": [
    {
     "name": "stdout",
     "output_type": "stream",
     "text": [
      "Extracting tmp/data/train-images-idx3-ubyte.gz\n",
      "Extracting tmp/data/train-labels-idx1-ubyte.gz\n",
      "Extracting tmp/data/t10k-images-idx3-ubyte.gz\n",
      "Extracting tmp/data/t10k-labels-idx1-ubyte.gz\n"
     ]
    }
   ],
   "source": [
    "DATA_DIR = 'tmp/data'\n",
    "MINIBATCH_SIZE = 50\n",
    "STEPS = 5000\n",
    "\n",
    "\n",
    "# mnist[0]은 이미지, mnist[1]은 숫자값 ont Hot\n",
    "mnist = input_data.read_data_sets(DATA_DIR, one_hot=True)"
   ]
  },
  {
   "cell_type": "code",
   "execution_count": 63,
   "metadata": {},
   "outputs": [
    {
     "name": "stdout",
     "output_type": "stream",
     "text": [
      "INFO:tensorflow:Using default config.\n",
      "WARNING:tensorflow:Using temporary folder as model directory: /tmp/tmpn2ul7z7e\n",
      "INFO:tensorflow:Using config: {'_task_type': None, '_task_id': 0, '_cluster_spec': <tensorflow.python.training.server_lib.ClusterSpec object at 0x7f7857b93d30>, '_master': '', '_num_ps_replicas': 0, '_num_worker_replicas': 0, '_environment': 'local', '_is_chief': True, '_evaluation_master': '', '_train_distribute': None, '_device_fn': None, '_tf_config': gpu_options {\n",
      "  per_process_gpu_memory_fraction: 1.0\n",
      "}\n",
      ", '_tf_random_seed': None, '_save_summary_steps': 100, '_save_checkpoints_secs': 600, '_log_step_count_steps': 100, '_session_config': None, '_save_checkpoints_steps': None, '_keep_checkpoint_max': 5, '_keep_checkpoint_every_n_hours': 10000, '_model_dir': '/tmp/tmpn2ul7z7e'}\n",
      "Starting training for 500 steps max\n",
      "WARNING:tensorflow:float64 is not supported by many models, consider casting to float32.\n",
      "(?, 7, 7, 64)\n",
      "Tensor(\"Dropout/dropout_1/mul:0\", shape=(?, 1024), dtype=float32)\n",
      "INFO:tensorflow:Create CheckpointSaverHook.\n",
      "INFO:tensorflow:Graph was finalized.\n",
      "INFO:tensorflow:Running local_init_op.\n",
      "INFO:tensorflow:Done running local_init_op.\n",
      "INFO:tensorflow:Saving checkpoints for 0 into /tmp/tmpn2ul7z7e/model.ckpt.\n",
      "INFO:tensorflow:loss = 7.3534455, step = 1\n",
      "INFO:tensorflow:global_step/sec: 7.35232\n",
      "INFO:tensorflow:loss = 0.9467848, step = 101 (13.603 sec)\n",
      "INFO:tensorflow:global_step/sec: 7.24297\n",
      "INFO:tensorflow:loss = 0.36088493, step = 201 (13.806 sec)\n",
      "INFO:tensorflow:global_step/sec: 7.00254\n",
      "INFO:tensorflow:loss = 0.6469465, step = 301 (14.281 sec)\n",
      "INFO:tensorflow:global_step/sec: 7.01813\n",
      "INFO:tensorflow:loss = 0.29072723, step = 401 (14.249 sec)\n",
      "INFO:tensorflow:Saving checkpoints for 500 into /tmp/tmpn2ul7z7e/model.ckpt.\n",
      "INFO:tensorflow:Loss for final step: 0.41335678.\n",
      "WARNING:tensorflow:From <ipython-input-63-f36874b7e9da>:20: calling BaseEstimator.predict (from tensorflow.contrib.learn.python.learn.estimators.estimator) with x is deprecated and will be removed after 2016-12-01.\n",
      "Instructions for updating:\n",
      "Estimator is decoupled from Scikit Learn interface by moving into\n",
      "separate class SKCompat. Arguments x, y and batch_size are only\n",
      "available in the SKCompat class, Estimator will only accept input_fn.\n",
      "Example conversion:\n",
      "  est = Estimator(...) -> est = SKCompat(Estimator(...))\n",
      "(?, 7, 7, 64)\n",
      "Tensor(\"Dropout/Identity:0\", shape=(?, 1024), dtype=float32)\n",
      "INFO:tensorflow:Graph was finalized.\n",
      "INFO:tensorflow:Restoring parameters from /tmp/tmpn2ul7z7e/model.ckpt-500\n",
      "INFO:tensorflow:Running local_init_op.\n",
      "INFO:tensorflow:Done running local_init_op.\n",
      "(?, 7, 7, 64)\n",
      "Tensor(\"Dropout/Identity:0\", shape=(?, 1024), dtype=float32)\n",
      "INFO:tensorflow:Graph was finalized.\n",
      "INFO:tensorflow:Restoring parameters from /tmp/tmpn2ul7z7e/model.ckpt-500\n",
      "INFO:tensorflow:Running local_init_op.\n",
      "INFO:tensorflow:Done running local_init_op.\n",
      "(?, 7, 7, 64)\n",
      "Tensor(\"Dropout/Identity:0\", shape=(?, 1024), dtype=float32)\n",
      "INFO:tensorflow:Graph was finalized.\n",
      "INFO:tensorflow:Restoring parameters from /tmp/tmpn2ul7z7e/model.ckpt-500\n",
      "INFO:tensorflow:Running local_init_op.\n",
      "INFO:tensorflow:Done running local_init_op.\n",
      "(?, 7, 7, 64)\n",
      "Tensor(\"Dropout/Identity:0\", shape=(?, 1024), dtype=float32)\n",
      "INFO:tensorflow:Graph was finalized.\n",
      "INFO:tensorflow:Restoring parameters from /tmp/tmpn2ul7z7e/model.ckpt-500\n",
      "INFO:tensorflow:Running local_init_op.\n",
      "INFO:tensorflow:Done running local_init_op.\n",
      "(?, 7, 7, 64)\n",
      "Tensor(\"Dropout/Identity:0\", shape=(?, 1024), dtype=float32)\n",
      "INFO:tensorflow:Graph was finalized.\n",
      "INFO:tensorflow:Restoring parameters from /tmp/tmpn2ul7z7e/model.ckpt-500\n",
      "INFO:tensorflow:Running local_init_op.\n",
      "INFO:tensorflow:Done running local_init_op.\n",
      "0.9472999999999999\n"
     ]
    }
   ],
   "source": [
    "x_data, y_data = mnist.train.images, np.int32(mnist.train.labels)\n",
    "tf.cast(x_data, tf.float32)\n",
    "tf.cast(y_data, tf.float32)\n",
    "\n",
    "model_params = {\"learning_rate\": 1e-4, \"dropout\": 0.5}\n",
    "\n",
    "CNN = tf.contrib.learn.Estimator(model_fn = model_fn,\n",
    "                                params = model_params)\n",
    "print(\"Starting training for %s steps max\"% 500)\n",
    "\n",
    "CNN.fit(x=mnist.train.images, \n",
    "        y=mnist.train.labels, \n",
    "        batch_size=50,\n",
    "        max_steps=500)\n",
    "\n",
    "test_acc = 0\n",
    "\n",
    "for ii in range(5):\n",
    "    batch = mnist.test.next_batch(2000)\n",
    "    predictions = list(CNN.predict(batch[0], as_iterable=True))\n",
    "    test_acc = test_acc + (np.argmax(batch[1],1) == predictions).mean()\n",
    "    \n",
    "print(test_acc/5)"
   ]
  },
  {
   "cell_type": "code",
   "execution_count": 42,
   "metadata": {},
   "outputs": [],
   "source": [
    "x_data, y_data = mnist.train.images, np.int32(mnist.train.labels)"
   ]
  },
  {
   "cell_type": "code",
   "execution_count": 43,
   "metadata": {},
   "outputs": [
    {
     "data": {
      "text/plain": [
       "array([[0., 0., 0., ..., 0., 0., 0.],\n",
       "       [0., 0., 0., ..., 0., 0., 0.],\n",
       "       [0., 0., 0., ..., 0., 0., 0.],\n",
       "       ...,\n",
       "       [0., 0., 0., ..., 0., 0., 0.],\n",
       "       [0., 0., 0., ..., 0., 0., 0.],\n",
       "       [0., 0., 0., ..., 0., 0., 0.]], dtype=float32)"
      ]
     },
     "execution_count": 43,
     "metadata": {},
     "output_type": "execute_result"
    }
   ],
   "source": [
    "x_data"
   ]
  },
  {
   "cell_type": "code",
   "execution_count": 45,
   "metadata": {},
   "outputs": [
    {
     "data": {
      "text/plain": [
       "<tf.Tensor 'Cast_8:0' shape=(55000, 10) dtype=float32>"
      ]
     },
     "execution_count": 45,
     "metadata": {},
     "output_type": "execute_result"
    }
   ],
   "source": [
    "y_data"
   ]
  },
  {
   "cell_type": "code",
   "execution_count": null,
   "metadata": {},
   "outputs": [],
   "source": []
  },
  {
   "cell_type": "code",
   "execution_count": null,
   "metadata": {},
   "outputs": [],
   "source": []
  }
 ],
 "metadata": {
  "kernelspec": {
   "display_name": "Python 3",
   "language": "python",
   "name": "python3"
  },
  "language_info": {
   "codemirror_mode": {
    "name": "ipython",
    "version": 3
   },
   "file_extension": ".py",
   "mimetype": "text/x-python",
   "name": "python",
   "nbconvert_exporter": "python",
   "pygments_lexer": "ipython3",
   "version": "3.6.5"
  }
 },
 "nbformat": 4,
 "nbformat_minor": 2
}
