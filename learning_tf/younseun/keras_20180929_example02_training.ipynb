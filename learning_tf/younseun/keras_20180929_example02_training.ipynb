{
 "cells": [
  {
   "cell_type": "code",
   "execution_count": 2,
   "metadata": {},
   "outputs": [
    {
     "name": "stderr",
     "output_type": "stream",
     "text": [
      "Using TensorFlow backend.\n"
     ]
    }
   ],
   "source": [
    "from keras.models import Sequential\n",
    "from keras.layers import Dense\n",
    "from keras.callbacks import ModelCheckpoint\n",
    "import matplotlib.pyplot as plt\n",
    "import numpy\n",
    "import pandas as pd"
   ]
  },
  {
   "cell_type": "code",
   "execution_count": 39,
   "metadata": {},
   "outputs": [
    {
     "name": "stdout",
     "output_type": "stream",
     "text": [
      ">>> 1 ~ 9행은 칼럼 설명이 있다. \n",
      "[['# 1. Number of times pregnant' nan nan nan nan nan nan nan nan]\n",
      " ['# 2. Plasma glucose concentration a 2 hours in an oral glucose tolerance test'\n",
      "  nan nan nan nan nan nan nan nan]\n",
      " ['# 3. Diastolic blood pressure (mm Hg)' nan nan nan nan nan nan nan nan]\n",
      " ['# 4. Triceps skin fold thickness (mm)' nan nan nan nan nan nan nan nan]\n",
      " ['# 5. 2-Hour serum insulin (mu U/ml)' nan nan nan nan nan nan nan nan]\n",
      " ['# 6. Body mass index (weight in kg/(height in m)^2)' nan nan nan nan\n",
      "  nan nan nan nan]\n",
      " ['# 7. Diabetes pedigree function' nan nan nan nan nan nan nan nan]\n",
      " ['# 8. Age (years)' nan nan nan nan nan nan nan nan]\n",
      " ['# 9. Class variable (0 or 1)' nan nan nan nan nan nan nan nan]\n",
      " ['6' 148.0 72.0 35.0 0.0 33.6 0.627 50.0 1.0]\n",
      " ['1' 85.0 66.0 29.0 0.0 26.6 0.35100000000000003 31.0 0.0]\n",
      " ['8' 183.0 64.0 0.0 0.0 23.3 0.672 32.0 1.0]]\n"
     ]
    }
   ],
   "source": [
    "url = \"/home/younseun/python_source/columbus_study/04_learning_tensorflow/11__Keras/data/pima-indians-diabetes.csv\"\n",
    "names = ['preg', 'plas', 'pres', 'skin', 'test', 'mass', 'pedi', 'age', 'class']\n",
    "\n",
    "dataframe = pd.read_csv(url, names=names)\n",
    "array = dataframe.values\n",
    "\n",
    "X = array[9:,0:8]\n",
    "Y = array[9:,8]\n",
    "\n",
    "print('>>> 1 ~ 9행은 칼럼 설명이 있다. \\n{}'.format(array[:12]))"
   ]
  },
  {
   "cell_type": "code",
   "execution_count": 20,
   "metadata": {},
   "outputs": [],
   "source": [
    "# create model\n",
    "model = Sequential()\n",
    "model.add(Dense(12, input_dim=8, kernel_initializer='uniform', activation='relu'))\n",
    "model.add(Dense(8, kernel_initializer='uniform', activation='relu'))\n",
    "model.add(Dense(1, kernel_initializer='uniform', activation='sigmoid'))\n",
    "\n",
    "# Compile model\n",
    "model.compile(loss='binary_crossentropy', optimizer='adam', metrics=['accuracy'])"
   ]
  },
  {
   "cell_type": "code",
   "execution_count": 45,
   "metadata": {},
   "outputs": [],
   "source": [
    "#모델을 JSON 파일 형식으로 만들어 저장하기\n",
    "model_json = model.to_json()\n",
    "with open(\"keras_20180929_example02_model_architecture.json\", \"w\") as json_file : \n",
    "    json_file.write(model_json)"
   ]
  },
  {
   "cell_type": "code",
   "execution_count": 47,
   "metadata": {},
   "outputs": [],
   "source": [
    "#모델을 YAML 파일 형식으로 만들어 저장하기\n",
    "model_yaml = model.to_yaml()\n",
    "with open(\"keras_20180929_example02_model_architecture.yaml\", \"w\") as yaml_file : \n",
    "    yaml_file.write(model_yaml)"
   ]
  },
  {
   "cell_type": "code",
   "execution_count": 44,
   "metadata": {},
   "outputs": [
    {
     "name": "stdout",
     "output_type": "stream",
     "text": [
      "Saved model to disk\n"
     ]
    }
   ],
   "source": [
    "# Weight를 h5 파일 포맷으로 만들어 저장하기\n",
    "model.save_weights(\"keras_20180929_example02_model_weight.h5\")\n",
    "print(\"Saved model to disk\")"
   ]
  },
  {
   "cell_type": "code",
   "execution_count": 49,
   "metadata": {},
   "outputs": [],
   "source": [
    "# 저장된 JSON 파일로 부터 모델 로드하기\n",
    "from keras.models import model_from_json\n",
    "json_file = open(\"keras_20180929_example02_model_architecture.json\", \"r\")\n",
    "loaded_model_json = json_file.read()\n",
    "json_file.close()\n",
    "loaded_model = model_from_json(loaded_model_json)"
   ]
  },
  {
   "cell_type": "code",
   "execution_count": 50,
   "metadata": {},
   "outputs": [],
   "source": [
    "# 저장된 JSON 파일로 부터 모델 로드하기\n",
    "from keras.models import model_from_yaml\n",
    "yaml_file = open(\"keras_20180929_example02_model_architecture.yaml\", \"r\")\n",
    "loaded_model_yaml = yaml_file.read()\n",
    "yaml_file.close()\n",
    "loaded_model = model_from_yaml(loaded_model_yaml)"
   ]
  },
  {
   "cell_type": "code",
   "execution_count": 51,
   "metadata": {},
   "outputs": [
    {
     "name": "stdout",
     "output_type": "stream",
     "text": [
      "Loaded model from disk\n"
     ]
    }
   ],
   "source": [
    "#로드한 모델에 Weight 로드하기\n",
    "loaded_model.load_weights(\"keras_20180929_example02_model_weight.h5\")\n",
    "print(\"Loaded model from disk\")"
   ]
  },
  {
   "cell_type": "code",
   "execution_count": 52,
   "metadata": {},
   "outputs": [
    {
     "name": "stdout",
     "output_type": "stream",
     "text": [
      "acc : 51.82%\n"
     ]
    }
   ],
   "source": [
    "#  모델 컴파일 후 Evaluation\n",
    "\n",
    "loaded_model.compile(loss=\"binary_crossentropy\", optimizer=\"rmsprop\", metrics=['accuracy'])\n",
    "\n",
    "# model evaluation\n",
    "score = loaded_model.evaluate(X,Y,verbose=0)\n",
    "\n",
    "print(\"%s : %.2f%%\" % (loaded_model.metrics_names[1], score[1]*100))"
   ]
  },
  {
   "cell_type": "code",
   "execution_count": 55,
   "metadata": {},
   "outputs": [
    {
     "name": "stdout",
     "output_type": "stream",
     "text": [
      "_________________________________________________________________\n",
      "Layer (type)                 Output Shape              Param #   \n",
      "=================================================================\n",
      "dense_4 (Dense)              (None, 12)                108       \n",
      "_________________________________________________________________\n",
      "dense_5 (Dense)              (None, 8)                 104       \n",
      "_________________________________________________________________\n",
      "dense_6 (Dense)              (None, 1)                 9         \n",
      "=================================================================\n",
      "Total params: 221\n",
      "Trainable params: 221\n",
      "Non-trainable params: 0\n",
      "_________________________________________________________________\n"
     ]
    },
    {
     "data": {
      "image/svg+xml": [
       "<svg height=\"294pt\" viewBox=\"0.00 0.00 296.00 294.00\" width=\"296pt\" xmlns=\"http://www.w3.org/2000/svg\" xmlns:xlink=\"http://www.w3.org/1999/xlink\">\n",
       "<g class=\"graph\" id=\"graph0\" transform=\"scale(1 1) rotate(0) translate(4 290)\">\n",
       "<title>G</title>\n",
       "<polygon fill=\"#ffffff\" points=\"-4,4 -4,-290 292,-290 292,4 -4,4\" stroke=\"transparent\"/>\n",
       "<!-- 140449943476600 -->\n",
       "<g class=\"node\" id=\"node1\">\n",
       "<title>140449943476600</title>\n",
       "<polygon fill=\"none\" points=\"0,-166.5 0,-212.5 288,-212.5 288,-166.5 0,-166.5\" stroke=\"#000000\"/>\n",
       "<text fill=\"#000000\" font-family=\"Times,serif\" font-size=\"14.00\" text-anchor=\"middle\" x=\"64\" y=\"-185.8\">dense_4: Dense</text>\n",
       "<polyline fill=\"none\" points=\"128,-166.5 128,-212.5 \" stroke=\"#000000\"/>\n",
       "<text fill=\"#000000\" font-family=\"Times,serif\" font-size=\"14.00\" text-anchor=\"middle\" x=\"162\" y=\"-197.3\">input:</text>\n",
       "<polyline fill=\"none\" points=\"128,-189.5 196,-189.5 \" stroke=\"#000000\"/>\n",
       "<text fill=\"#000000\" font-family=\"Times,serif\" font-size=\"14.00\" text-anchor=\"middle\" x=\"162\" y=\"-174.3\">output:</text>\n",
       "<polyline fill=\"none\" points=\"196,-166.5 196,-212.5 \" stroke=\"#000000\"/>\n",
       "<text fill=\"#000000\" font-family=\"Times,serif\" font-size=\"14.00\" text-anchor=\"middle\" x=\"242\" y=\"-197.3\">(None, 8)</text>\n",
       "<polyline fill=\"none\" points=\"196,-189.5 288,-189.5 \" stroke=\"#000000\"/>\n",
       "<text fill=\"#000000\" font-family=\"Times,serif\" font-size=\"14.00\" text-anchor=\"middle\" x=\"242\" y=\"-174.3\">(None, 12)</text>\n",
       "</g>\n",
       "<!-- 140449943265856 -->\n",
       "<g class=\"node\" id=\"node2\">\n",
       "<title>140449943265856</title>\n",
       "<polygon fill=\"none\" points=\"0,-83.5 0,-129.5 288,-129.5 288,-83.5 0,-83.5\" stroke=\"#000000\"/>\n",
       "<text fill=\"#000000\" font-family=\"Times,serif\" font-size=\"14.00\" text-anchor=\"middle\" x=\"64\" y=\"-102.8\">dense_5: Dense</text>\n",
       "<polyline fill=\"none\" points=\"128,-83.5 128,-129.5 \" stroke=\"#000000\"/>\n",
       "<text fill=\"#000000\" font-family=\"Times,serif\" font-size=\"14.00\" text-anchor=\"middle\" x=\"162\" y=\"-114.3\">input:</text>\n",
       "<polyline fill=\"none\" points=\"128,-106.5 196,-106.5 \" stroke=\"#000000\"/>\n",
       "<text fill=\"#000000\" font-family=\"Times,serif\" font-size=\"14.00\" text-anchor=\"middle\" x=\"162\" y=\"-91.3\">output:</text>\n",
       "<polyline fill=\"none\" points=\"196,-83.5 196,-129.5 \" stroke=\"#000000\"/>\n",
       "<text fill=\"#000000\" font-family=\"Times,serif\" font-size=\"14.00\" text-anchor=\"middle\" x=\"242\" y=\"-114.3\">(None, 12)</text>\n",
       "<polyline fill=\"none\" points=\"196,-106.5 288,-106.5 \" stroke=\"#000000\"/>\n",
       "<text fill=\"#000000\" font-family=\"Times,serif\" font-size=\"14.00\" text-anchor=\"middle\" x=\"242\" y=\"-91.3\">(None, 8)</text>\n",
       "</g>\n",
       "<!-- 140449943476600&#45;&gt;140449943265856 -->\n",
       "<g class=\"edge\" id=\"edge2\">\n",
       "<title>140449943476600-&gt;140449943265856</title>\n",
       "<path d=\"M144,-166.3799C144,-158.1745 144,-148.7679 144,-139.8786\" fill=\"none\" stroke=\"#000000\"/>\n",
       "<polygon fill=\"#000000\" points=\"147.5001,-139.784 144,-129.784 140.5001,-139.784 147.5001,-139.784\" stroke=\"#000000\"/>\n",
       "</g>\n",
       "<!-- 140449943266528 -->\n",
       "<g class=\"node\" id=\"node3\">\n",
       "<title>140449943266528</title>\n",
       "<polygon fill=\"none\" points=\"4.5,-.5 4.5,-46.5 283.5,-46.5 283.5,-.5 4.5,-.5\" stroke=\"#000000\"/>\n",
       "<text fill=\"#000000\" font-family=\"Times,serif\" font-size=\"14.00\" text-anchor=\"middle\" x=\"68.5\" y=\"-19.8\">dense_6: Dense</text>\n",
       "<polyline fill=\"none\" points=\"132.5,-.5 132.5,-46.5 \" stroke=\"#000000\"/>\n",
       "<text fill=\"#000000\" font-family=\"Times,serif\" font-size=\"14.00\" text-anchor=\"middle\" x=\"166.5\" y=\"-31.3\">input:</text>\n",
       "<polyline fill=\"none\" points=\"132.5,-23.5 200.5,-23.5 \" stroke=\"#000000\"/>\n",
       "<text fill=\"#000000\" font-family=\"Times,serif\" font-size=\"14.00\" text-anchor=\"middle\" x=\"166.5\" y=\"-8.3\">output:</text>\n",
       "<polyline fill=\"none\" points=\"200.5,-.5 200.5,-46.5 \" stroke=\"#000000\"/>\n",
       "<text fill=\"#000000\" font-family=\"Times,serif\" font-size=\"14.00\" text-anchor=\"middle\" x=\"242\" y=\"-31.3\">(None, 8)</text>\n",
       "<polyline fill=\"none\" points=\"200.5,-23.5 283.5,-23.5 \" stroke=\"#000000\"/>\n",
       "<text fill=\"#000000\" font-family=\"Times,serif\" font-size=\"14.00\" text-anchor=\"middle\" x=\"242\" y=\"-8.3\">(None, 1)</text>\n",
       "</g>\n",
       "<!-- 140449943265856&#45;&gt;140449943266528 -->\n",
       "<g class=\"edge\" id=\"edge3\">\n",
       "<title>140449943265856-&gt;140449943266528</title>\n",
       "<path d=\"M144,-83.3799C144,-75.1745 144,-65.7679 144,-56.8786\" fill=\"none\" stroke=\"#000000\"/>\n",
       "<polygon fill=\"#000000\" points=\"147.5001,-56.784 144,-46.784 140.5001,-56.784 147.5001,-56.784\" stroke=\"#000000\"/>\n",
       "</g>\n",
       "<!-- 140449943474584 -->\n",
       "<g class=\"node\" id=\"node4\">\n",
       "<title>140449943474584</title>\n",
       "<polygon fill=\"none\" points=\"68,-249.5 68,-285.5 220,-285.5 220,-249.5 68,-249.5\" stroke=\"#000000\"/>\n",
       "<text fill=\"#000000\" font-family=\"Times,serif\" font-size=\"14.00\" text-anchor=\"middle\" x=\"144\" y=\"-263.8\">140449943474584</text>\n",
       "</g>\n",
       "<!-- 140449943474584&#45;&gt;140449943476600 -->\n",
       "<g class=\"edge\" id=\"edge1\">\n",
       "<title>140449943474584-&gt;140449943476600</title>\n",
       "<path d=\"M144,-249.4092C144,-241.4308 144,-231.795 144,-222.606\" fill=\"none\" stroke=\"#000000\"/>\n",
       "<polygon fill=\"#000000\" points=\"147.5001,-222.5333 144,-212.5333 140.5001,-222.5334 147.5001,-222.5333\" stroke=\"#000000\"/>\n",
       "</g>\n",
       "</g>\n",
       "</svg>"
      ],
      "text/plain": [
       "<IPython.core.display.SVG object>"
      ]
     },
     "execution_count": 55,
     "metadata": {},
     "output_type": "execute_result"
    }
   ],
   "source": [
    "from IPython.display import SVG\n",
    "from keras.utils.vis_utils import model_to_dot\n",
    "\n",
    "%matplotlib inline\n",
    "\n",
    "loaded_model.summary()\n",
    "SVG(model_to_dot(loaded_model, show_shapes=True).create(prog='dot', format='svg'))\n",
    "\n",
    "# 에러가 날경우 sudo apt-get install graphviz 를 실행한다."
   ]
  },
  {
   "cell_type": "code",
   "execution_count": null,
   "metadata": {},
   "outputs": [],
   "source": []
  }
 ],
 "metadata": {
  "kernelspec": {
   "display_name": "Python 3",
   "language": "python",
   "name": "python3"
  },
  "language_info": {
   "codemirror_mode": {
    "name": "ipython",
    "version": 3
   },
   "file_extension": ".py",
   "mimetype": "text/x-python",
   "name": "python",
   "nbconvert_exporter": "python",
   "pygments_lexer": "ipython3",
   "version": "3.6.5"
  }
 },
 "nbformat": 4,
 "nbformat_minor": 2
}
