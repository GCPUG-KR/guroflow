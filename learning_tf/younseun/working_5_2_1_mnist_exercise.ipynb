{
 "cells": [
  {
   "cell_type": "code",
   "execution_count": 81,
   "metadata": {
    "scrolled": true
   },
   "outputs": [
    {
     "name": "stdout",
     "output_type": "stream",
     "text": [
      "CPython 3.6.5\n",
      "IPython 4.0.0\n",
      "\n",
      "numpy 1.14.5\n",
      "scipy 1.1.0\n",
      "sklearn 0.19.2\n",
      "pandas 0.23.3\n",
      "matplotlib 2.2.2\n"
     ]
    }
   ],
   "source": [
    "%load_ext watermark\n",
    "%watermark -v -p numpy,scipy,sklearn,pandas,matplotlib"
   ]
  },
  {
   "cell_type": "code",
   "execution_count": 82,
   "metadata": {},
   "outputs": [],
   "source": [
    "# 파이썬 2와 파이썬 3 지원\n",
    "from __future__ import division, print_function, unicode_literals\n",
    "\n",
    "# 공통\n",
    "import numpy as np\n",
    "import os\n",
    "\n",
    "# 일관된 출력을 위해 유사난수 초기화\n",
    "np.random.seed(42)\n",
    "\n",
    "# 맷플롯립 설정\n",
    "%matplotlib inline\n",
    "import matplotlib\n",
    "import matplotlib.pyplot as plt\n",
    "plt.rcParams['axes.labelsize'] = 14\n",
    "plt.rcParams['xtick.labelsize'] = 12\n",
    "plt.rcParams['ytick.labelsize'] = 12\n"
   ]
  },
  {
   "cell_type": "code",
   "execution_count": 71,
   "metadata": {},
   "outputs": [],
   "source": [
    "import tensorflow as tf\n",
    "import pandas as pd"
   ]
  },
  {
   "cell_type": "code",
   "execution_count": 3,
   "metadata": {},
   "outputs": [
    {
     "name": "stdout",
     "output_type": "stream",
     "text": [
      "Extracting /tmp/data/train-images-idx3-ubyte.gz\n",
      "Extracting /tmp/data/train-labels-idx1-ubyte.gz\n",
      "Extracting /tmp/data/t10k-images-idx3-ubyte.gz\n",
      "Extracting /tmp/data/t10k-labels-idx1-ubyte.gz\n"
     ]
    }
   ],
   "source": [
    "# MNIST 데이터 임포트\n",
    "from tensorflow.examples.tutorials.mnist import input_data\n",
    "mnist = input_data.read_data_sets(\"/tmp/data/\", one_hot=True)"
   ]
  },
  {
   "cell_type": "code",
   "execution_count": 41,
   "metadata": {},
   "outputs": [],
   "source": [
    "# 매개변수 정의\n",
    "element_size = 28\n",
    "time_steps = 28\n",
    "num_classess = 10\n",
    "batch_size =128\n",
    "hidden_layer_size = 128\n",
    "\n",
    "# 텐서보드 모델 요약을 저장할 위치\n",
    "LOG_DIR = \"logs/RNN_with_summaries\"\n",
    "\n",
    "# 입력과 레이블을 위한 플레이스홀더 생성\n",
    "_inputs = tf.placeholder(tf.float32, shape=[None, time_steps, element_size], name='inputs')\n",
    "y = tf.placeholder(tf.float32, shape=[None, num_classess], name='labels')\n"
   ]
  },
  {
   "cell_type": "code",
   "execution_count": 5,
   "metadata": {},
   "outputs": [],
   "source": [
    "batch_x, batch_y = mnist.train.next_batch(batch_size)\n",
    "# 28개의 시퀀스를 얻기 위해 각 데이터를 28필셀의 형태로 변환\n",
    "batch_x = batch_x.reshape((batch_size, time_steps, element_size))"
   ]
  },
  {
   "cell_type": "markdown",
   "metadata": {},
   "source": [
    "## RNN 단계"
   ]
  },
  {
   "cell_type": "code",
   "execution_count": 16,
   "metadata": {},
   "outputs": [],
   "source": [
    "# 요약을 로깅하는 몇몇 연산을 추가하는 헬퍼 함수(텐서플로 문서에서 발췌)\n",
    "def variable_summaries(var):\n",
    "    with tf.name_scope('summaries'):\n",
    "        mean = tf.reduce_mean(var)\n",
    "        tf.summary.scalar('mean', mean)\n",
    "        with tf.name_scope('stddev'):\n",
    "            stddev = tf.sqrt(tf.reduce_mean(tf.square(var - mean)))\n",
    "        tf.summary.scalar('stddev', stddev)\n",
    "        tf.summary.scalar('max', tf.reduce_max(var))\n",
    "        tf.summary.scalar('min', tf.reduce_min(var))\n",
    "        tf.summary.scalar('histogram', var)\n",
    "        "
   ]
  },
  {
   "cell_type": "code",
   "execution_count": 118,
   "metadata": {},
   "outputs": [],
   "source": [
    "def rnn_step(previous_hidden_state, x):\n",
    "    current_hidden_state = tf.tanh(tf.matmul(previous_hidden_state, Wh) + tf.matmul(x, Wx) + b_rnn)\n",
    "    print('previous_hidden_state {}'.format(previous_hidden_state))\n",
    "    print('Wh {}'.format(Wh))\n",
    "    print('x {}'.format(x))\n",
    "    print('Wx {}'.format(Wx))\n",
    "    print('b_rnn {}'.format(b_rnn))\n",
    "    hh = tf.matmul(previous_hidden_state, Wh)\n",
    "    print('hh {}'.format(hh))\n",
    "    xx = tf.matmul(x, Wx)\n",
    "    print('xx {}'.format(xx))\n",
    "    multi_1 = hh + xx\n",
    "    print('multi_1 {}'.format(multi_1))\n",
    "    \n",
    "    return current_hidden_state"
   ]
  },
  {
   "cell_type": "code",
   "execution_count": 48,
   "metadata": {},
   "outputs": [],
   "source": [
    "# Apply linear layer to state vector\n",
    "def get_linear_layer(hidden_state):\n",
    "\n",
    "    return tf.matmul(hidden_state, Wl) + bl"
   ]
  },
  {
   "cell_type": "code",
   "execution_count": 126,
   "metadata": {},
   "outputs": [],
   "source": [
    "# 입력 및 은닉 계층에 적용할 가중치와 편향값\n",
    "with tf.name_scope('rnn_weights'):\n",
    "    with tf.name_scope(\"W_x\"):\n",
    "        Wx = tf.Variable(tf.zeros([element_size, hidden_layer_size]))\n",
    "        variable_summaries(Wx)\n",
    "    with tf.name_scope(\"W_h\"):\n",
    "        Wh = tf.Variable(tf.zeros([hidden_layer_size,hidden_layer_size]))\n",
    "        variable_summaries(Wh)\n",
    "    with tf.name_scope(\"Bias\"):\n",
    "        b_rnn = tf.Variable(tf.zeros([hidden_layer_size]))\n",
    "        variable_summaries(b_rnn)\n",
    "\n",
    "        "
   ]
  },
  {
   "cell_type": "code",
   "execution_count": 120,
   "metadata": {},
   "outputs": [
    {
     "name": "stdout",
     "output_type": "stream",
     "text": [
      "previous_hidden_state Tensor(\"states_11/while/Identity_2:0\", shape=(2, 128), dtype=float32)\n",
      "Wh <tf.Variable 'rnn_weights_11/W_h/Variable:0' shape=(128, 128) dtype=float32_ref>\n",
      "x Tensor(\"states_11/while/TensorArrayReadV3:0\", shape=(?, 28), dtype=float32)\n",
      "Wx <tf.Variable 'rnn_weights_11/W_x/Variable:0' shape=(28, 128) dtype=float32_ref>\n",
      "b_rnn <tf.Variable 'rnn_weights_11/Bias/Variable:0' shape=(128,) dtype=float32_ref>\n",
      "hh Tensor(\"states_11/while/MatMul_2:0\", shape=(2, 128), dtype=float32)\n",
      "xx Tensor(\"states_11/while/MatMul_3:0\", shape=(?, 128), dtype=float32)\n",
      "multi_1 Tensor(\"states_11/while/add_3:0\", shape=(2, 128), dtype=float32)\n"
     ]
    }
   ],
   "source": [
    "# scan 함수로 입력값 처리\n",
    "# 입력의 형태 : (batch_size, time_steps, element_size)\n",
    "processed_input = tf.transpose(_inputs, perm=[1,0,2])\n",
    "# 변형된 입력의 형태 : (time_steps, batch_size, element_size)\n",
    "initial_hidden = tf.zeros([batch_size, hidden_layer_size])\n",
    "# 시간의 흐름에 따른 상태 백터 구하기\n",
    "all_hidden_states = tf.scan(rnn_step,\n",
    "                            processed_input, \n",
    "                           initializer=initial_hidden,\n",
    "                           name='states')"
   ]
  },
  {
   "cell_type": "code",
   "execution_count": 46,
   "metadata": {
    "scrolled": true
   },
   "outputs": [
    {
     "name": "stdout",
     "output_type": "stream",
     "text": [
      "Tensor(\"inputs_1:0\", shape=(?, 28, 28), dtype=float32)\n",
      "Tensor(\"transpose_11:0\", shape=(28, ?, 28), dtype=float32)\n",
      "Tensor(\"zeros_1:0\", shape=(128, 128), dtype=float32)\n",
      "Tensor(\"states_1/TensorArrayStack/TensorArrayGatherV3:0\", shape=(28, 128, 128), dtype=float32)\n"
     ]
    }
   ],
   "source": [
    "print(_inputs)\n",
    "print(processed_input)\n",
    "print(initial_hidden)\n",
    "print(all_hidden_states)"
   ]
  },
  {
   "cell_type": "code",
   "execution_count": 96,
   "metadata": {},
   "outputs": [],
   "source": [
    "#%matplotlib inline\n",
    "#import matplotlib\n",
    "#import matplotlib.pyplot as plt\n",
    "#batch_size = 2\n",
    "#batch_x, batch_y = mnist.train.next_batch(batch_size)\n",
    "\n",
    "#some_digit = batch_x[0]\n",
    "#some_digit_image = some_digit.reshape(28,28)\n",
    "#plt.imshow(some_digit_image, cmap = matplotlib.cm.binary, interpolation=\"nearest\")\n",
    "#plt.axis(\"off\")\n",
    "#plt.show()\n",
    "#some_digit = batch_x[1]\n",
    "#some_digit_image = some_digit.reshape(28,28)\n",
    "#plt.imshow(some_digit_image, cmap = matplotlib.cm.binary, interpolation=\"nearest\")\n",
    "#plt.axis(\"off\")\n",
    "#plt.show()"
   ]
  },
  {
   "cell_type": "code",
   "execution_count": 122,
   "metadata": {},
   "outputs": [],
   "source": [
    "batch_size=2\n",
    "sess = tf.Session()\n",
    "#batch_x, batch_y = mnist.train.next_batch(batch_size)\n",
    "\n",
    "batch_x = batch_x.reshape((batch_size, time_steps, element_size))\n",
    "out_inputs, out_y, out_processed_input = sess.run([_inputs, y, processed_input],feed_dict={_inputs: batch_x, y: batch_y})"
   ]
  },
  {
   "cell_type": "code",
   "execution_count": 100,
   "metadata": {},
   "outputs": [
    {
     "data": {
      "text/plain": [
       "(28, 2, 28)"
      ]
     },
     "execution_count": 100,
     "metadata": {},
     "output_type": "execute_result"
    }
   ],
   "source": [
    "out_processed_input.shape"
   ]
  },
  {
   "cell_type": "code",
   "execution_count": 111,
   "metadata": {},
   "outputs": [
    {
     "data": {
      "text/plain": [
       "array([[ 0,  2,  4,  6],\n",
       "       [ 4,  6,  8, 10]])"
      ]
     },
     "execution_count": 111,
     "metadata": {},
     "output_type": "execute_result"
    }
   ],
   "source": [
    "a = np.array([[0,1,2,3],[4,5,6,7]])\n",
    "b = np.array([0,1,2,3])\n",
    "c = a + b\n",
    "c"
   ]
  },
  {
   "cell_type": "code",
   "execution_count": null,
   "metadata": {},
   "outputs": [],
   "source": [
    "# Weights for output layers\n",
    "with tf.name_scope('linear_layer_weights') as scope:\n",
    "    with tf.name_scope(\"W_linear\"):\n",
    "        Wl = tf.Variable(tf.truncated_normal([hidden_layer_size, num_classes],\n",
    "                                             mean=0, stddev=.01))\n",
    "        variable_summaries(Wl)\n",
    "    with tf.name_scope(\"Bias_linear\"):\n",
    "        bl = tf.Variable(tf.truncated_normal([num_classes],\n",
    "                                             mean=0, stddev=.01))\n",
    "        variable_summaries(bl)\n"
   ]
  },
  {
   "cell_type": "code",
   "execution_count": null,
   "metadata": {},
   "outputs": [],
   "source": [
    "with tf.name_scope('linear_layer_weights') as scope:\n",
    "    # Iterate across time, apply linear layer to all RNN outputs\n",
    "    all_outputs = tf.map_fn(get_linear_layer, all_hidden_states)\n",
    "    # Get Last output -- h_28\n",
    "    output = all_outputs[-1]\n",
    "    tf.summary.histogram('outputs', output)\n",
    "\n",
    "with tf.name_scope('cross_entropy'):\n",
    "    cross_entropy = tf.reduce_mean(tf.nn.softmax_cross_entropy_with_logits(logits=output, labels=y))\n",
    "    tf.summary.scalar('cross_entropy', cross_entropy)\n",
    "\n",
    "with tf.name_scope('train'):\n",
    "    # Using RMSPropOptimizer\n",
    "    train_step = tf.train.RMSPropOptimizer(0.001, 0.9).minimize(cross_entropy)\n",
    "\n",
    "with tf.name_scope('accuracy'):\n",
    "    correct_prediction = tf.equal(tf.argmax(y, 1), tf.argmax(output, 1))\n",
    "\n",
    "    accuracy = (tf.reduce_mean(tf.cast(correct_prediction, tf.float32)))*100\n",
    "    tf.summary.scalar('accuracy', accuracy)\n",
    "\n",
    "# Merge all the summaries\n",
    "merged = tf.summary.merge_all()\n",
    "\n",
    "\n",
    "# Get a small test set\n",
    "test_data = mnist.test.images[:batch_size].reshape((-1, time_steps, element_size))\n",
    "test_label = mnist.test.labels[:batch_size]"
   ]
  },
  {
   "cell_type": "code",
   "execution_count": null,
   "metadata": {},
   "outputs": [],
   "source": [
    "with tf.Session() as sess:\n",
    "    # Write summaries to LOG_DIR -- used by TensorBoard\n",
    "    train_writer = tf.summary.FileWriter(LOG_DIR + '/train',\n",
    "                                         graph=tf.get_default_graph())\n",
    "    test_writer = tf.summary.FileWriter(LOG_DIR + '/test',\n",
    "                                        graph=tf.get_default_graph())\n",
    "\n",
    "    sess.run(tf.global_variables_initializer())\n",
    "\n",
    "    for i in range(10000):\n",
    "\n",
    "            batch_x, batch_y = mnist.train.next_batch(batch_size)\n",
    "            # Reshape data to get 28 sequences of 28 pixels\n",
    "            batch_x = batch_x.reshape((batch_size, time_steps, element_size))\n",
    "            summary, _ = sess.run([merged, train_step],\n",
    "                                  feed_dict={_inputs: batch_x, y: batch_y})\n",
    "            # Add to summaries\n",
    "            train_writer.add_summary(summary, i)\n",
    "\n",
    "            if i % 1000 == 0:\n",
    "                acc, loss, = sess.run([accuracy, cross_entropy],\n",
    "                                      feed_dict={_inputs: batch_x,\n",
    "                                                 y: batch_y})\n",
    "                print(\"Iter \" + str(i) + \", Minibatch Loss= \" +\n",
    "                      \"{:.6f}\".format(loss) + \", Training Accuracy= \" +\n",
    "                      \"{:.5f}\".format(acc))\n",
    "            if i % 100 == 0:\n",
    "                # Calculate accuracy for 128 mnist test images and\n",
    "                # add to summaries\n",
    "                summary, acc = sess.run([merged, accuracy],\n",
    "                                        feed_dict={_inputs: test_data,\n",
    "                                                   y: test_label})\n",
    "                test_writer.add_summary(summary, i)\n",
    "\n",
    "    test_acc = sess.run(accuracy, feed_dict={_inputs: test_data,\n",
    "                                             y: test_label})\n",
    "    print(\"Test Accuracy:\", test_acc)\n"
   ]
  },
  {
   "cell_type": "code",
   "execution_count": null,
   "metadata": {},
   "outputs": [],
   "source": []
  },
  {
   "cell_type": "code",
   "execution_count": null,
   "metadata": {},
   "outputs": [],
   "source": []
  },
  {
   "cell_type": "code",
   "execution_count": null,
   "metadata": {},
   "outputs": [],
   "source": []
  },
  {
   "cell_type": "code",
   "execution_count": null,
   "metadata": {},
   "outputs": [],
   "source": []
  },
  {
   "cell_type": "code",
   "execution_count": null,
   "metadata": {},
   "outputs": [],
   "source": []
  },
  {
   "cell_type": "code",
   "execution_count": 33,
   "metadata": {},
   "outputs": [
    {
     "name": "stdout",
     "output_type": "stream",
     "text": [
      "[[[ 1  2  3]\n",
      "  [ 7  8  9]\n",
      "  [13 14 15]]\n",
      "\n",
      " [[ 4  5  6]\n",
      "  [10 11 12]\n",
      "  [16 17 18]]]\n"
     ]
    }
   ],
   "source": [
    "x = tf.Variable([[[1,2,3],[4,5,6]],\n",
    "                [[7,8,9],[10,11,12]],\n",
    "                 [[13,14,15],[16,17,18]]\n",
    "                ], name='x')\n",
    "model = tf.initialize_all_variables()\n",
    "with tf.Session() as session:\n",
    "    # Array 위치가 축 (x,y,z), 거기에 입력하는 숫자가 바꾸고 싶은 차원\n",
    "    x = tf.transpose(x, perm=[1, 0, 2])\n",
    "    session.run(model)\n",
    "    print(session.run(x))\n"
   ]
  },
  {
   "cell_type": "code",
   "execution_count": 27,
   "metadata": {},
   "outputs": [
    {
     "data": {
      "text/plain": [
       "array([[[ 1,  4],\n",
       "        [ 2,  5],\n",
       "        [ 3,  6]],\n",
       "\n",
       "       [[ 7, 10],\n",
       "        [ 8, 11],\n",
       "        [ 9, 12]],\n",
       "\n",
       "       [[13, 16],\n",
       "        [14, 17],\n",
       "        [15, 18]]], dtype=int32)"
      ]
     },
     "execution_count": 27,
     "metadata": {},
     "output_type": "execute_result"
    }
   ],
   "source": [
    "result"
   ]
  },
  {
   "cell_type": "code",
   "execution_count": null,
   "metadata": {},
   "outputs": [],
   "source": []
  }
 ],
 "metadata": {
  "kernelspec": {
   "display_name": "Python 3",
   "language": "python",
   "name": "python3"
  },
  "language_info": {
   "codemirror_mode": {
    "name": "ipython",
    "version": 3
   },
   "file_extension": ".py",
   "mimetype": "text/x-python",
   "name": "python",
   "nbconvert_exporter": "python",
   "pygments_lexer": "ipython3",
   "version": "3.6.5"
  }
 },
 "nbformat": 4,
 "nbformat_minor": 2
}
