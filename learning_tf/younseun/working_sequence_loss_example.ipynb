{
 "cells": [
  {
   "cell_type": "code",
   "execution_count": 2,
   "metadata": {},
   "outputs": [],
   "source": [
    "import tensorflow as tf\n"
   ]
  },
  {
   "cell_type": "code",
   "execution_count": 13,
   "metadata": {},
   "outputs": [],
   "source": [
    "y_data = tf.constant([[1,1,1]])\n",
    "prediction1 = tf.constant([[[0.3, 0.7],[0.3, 0.7],[0.3, 0.7]]], dtype=tf.float32)\n",
    "prediction2 = tf.constant([[[0.1, 0.9],[0.1, 0.9],[0.1, 0.9]]], dtype=tf.float32)\n",
    "weights = tf.constant([[1,1,1]], dtype=tf.float32)\n",
    "\n",
    "sequence_loss1 = tf.contrib.seq2seq.sequence_loss(prediction1, y_data, weights)\n",
    "sequence_loss2 = tf.contrib.seq2seq.sequence_loss(prediction2, y_data, weights)"
   ]
  },
  {
   "cell_type": "code",
   "execution_count": 15,
   "metadata": {},
   "outputs": [
    {
     "name": "stdout",
     "output_type": "stream",
     "text": [
      "y_data: [[1 1 1]]\n",
      "prediction1: [[[0.3 0.7]\n",
      "  [0.3 0.7]\n",
      "  [0.3 0.7]]]\n",
      "prediction2: [[[0.1 0.9]\n",
      "  [0.1 0.9]\n",
      "  [0.1 0.9]]]\n",
      "weights: [[1. 1. 1.]]\n",
      "sequence_loss1: 0.5130153\n",
      "sequence_loss2: 0.37110072\n"
     ]
    }
   ],
   "source": [
    "with sess.as_default():\n",
    "    sess = tf.Session()\n",
    "    sess.run(tf.global_variables_initializer())\n",
    "    print('y_data:', y_data.eval())\n",
    "    print('prediction1:', prediction1.eval())\n",
    "    print('prediction2:', prediction2.eval())\n",
    "    print('weights:', weights.eval())\n",
    "    print('sequence_loss1:', sequence_loss1.eval())\n",
    "    print('sequence_loss2:', sequence_loss2.eval())"
   ]
  },
  {
   "cell_type": "code",
   "execution_count": null,
   "metadata": {},
   "outputs": [],
   "source": []
  }
 ],
 "metadata": {
  "kernelspec": {
   "display_name": "Python 3",
   "language": "python",
   "name": "python3"
  },
  "language_info": {
   "codemirror_mode": {
    "name": "ipython",
    "version": 3
   },
   "file_extension": ".py",
   "mimetype": "text/x-python",
   "name": "python",
   "nbconvert_exporter": "python",
   "pygments_lexer": "ipython3",
   "version": "3.6.5"
  }
 },
 "nbformat": 4,
 "nbformat_minor": 2
}
