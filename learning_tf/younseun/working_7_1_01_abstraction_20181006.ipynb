{
 "cells": [
  {
   "cell_type": "code",
   "execution_count": 2,
   "metadata": {},
   "outputs": [],
   "source": [
    "import tensorflow as tf"
   ]
  },
  {
   "cell_type": "code",
   "execution_count": 19,
   "metadata": {},
   "outputs": [],
   "source": [
    "x = tf.placeholder(tf.float32, shape=[None, 784])\n",
    "x_image = tf.reshape(x, [-1,28,28,1], name=\"x_image\")"
   ]
  },
  {
   "cell_type": "code",
   "execution_count": 25,
   "metadata": {},
   "outputs": [],
   "source": [
    "def weight_variable(shape):\n",
    "    initial = tf.truncated_normal(shape, stddev=0.1)\n",
    "    return tf.Variable(initial)"
   ]
  },
  {
   "cell_type": "code",
   "execution_count": 26,
   "metadata": {},
   "outputs": [],
   "source": [
    "def bias_variable(shape):\n",
    "    initial = tf.constant(0.1, shape=shape)\n",
    "    return tf.Variable(initial)"
   ]
  },
  {
   "cell_type": "markdown",
   "metadata": {},
   "source": [
    "###    \n",
    "tf.nn.conv2d(input, filter, strides, padding, use_cudnn_on_gpu=None, data_format=None, name=None)\n",
    "  - input : [batch, in_height, in_width, in_channels] 형식. 28x28x1 형식의 손글씨 이미지.\n",
    "  - filter : [filter_height, filter_width, in_channels, out_channels] 형식. 3, 3, 1, 32의 w.\n",
    "  - strides : 크기 4인 1차원 리스트. [0], [3]은 반드시 1. 일반적으로 [1], [2]는 같은 값 사용.\n",
    "  - padding : 'SAME' 또는 'VALID'. 패딩을 추가하는 공식의 차이. SAME은 출력 크기를 입력과 같게 유지.\n"
   ]
  },
  {
   "cell_type": "code",
   "execution_count": 27,
   "metadata": {},
   "outputs": [],
   "source": [
    "def conv2d(x,W):\n",
    "    return tf.nn.conv2d(x, W, strides=[1,1,1,1], padding=\"SAME\")   "
   ]
  },
  {
   "cell_type": "code",
   "execution_count": 28,
   "metadata": {},
   "outputs": [],
   "source": [
    "def max_pool_2x2(x):\n",
    "    return tf.nn.max_pool(x, ksize=[1,2,2,1], strides=[1,2,2,1], padding=\"SAME\")"
   ]
  },
  {
   "cell_type": "code",
   "execution_count": 54,
   "metadata": {},
   "outputs": [],
   "source": [
    "def conv_layer(input, shape):\n",
    "    print('input:',input)\n",
    "    W = weight_variable(shape)\n",
    "    print('W:',W)\n",
    "    b = bias_variable([shape[3]])\n",
    "    print('b:',b)\n",
    "    h = tf.nn.relu(conv2d(input, W)+b)\n",
    "    print('h:',h)\n",
    "    hp = max_pool_2x2(h)\n",
    "    print('hp:',hp)\n",
    "    return hp"
   ]
  },
  {
   "cell_type": "code",
   "execution_count": 55,
   "metadata": {},
   "outputs": [
    {
     "name": "stdout",
     "output_type": "stream",
     "text": [
      "input: Tensor(\"x_image_3:0\", shape=(?, 28, 28, 1), dtype=float32)\n",
      "W: <tf.Variable 'Variable_39:0' shape=(5, 5, 1, 32) dtype=float32_ref>\n",
      "b: <tf.Variable 'Variable_40:0' shape=(32,) dtype=float32_ref>\n",
      "h: Tensor(\"Relu_16:0\", shape=(?, 28, 28, 32), dtype=float32)\n",
      "hp: Tensor(\"MaxPool_15:0\", shape=(?, 14, 14, 32), dtype=float32)\n",
      "input: Tensor(\"MaxPool_15:0\", shape=(?, 14, 14, 32), dtype=float32)\n",
      "W: <tf.Variable 'Variable_41:0' shape=(5, 5, 32, 64) dtype=float32_ref>\n",
      "b: <tf.Variable 'Variable_42:0' shape=(64,) dtype=float32_ref>\n",
      "h: Tensor(\"Relu_17:0\", shape=(?, 14, 14, 64), dtype=float32)\n",
      "hp: Tensor(\"MaxPool_16:0\", shape=(?, 7, 7, 64), dtype=float32)\n",
      "input: Tensor(\"MaxPool_16:0\", shape=(?, 7, 7, 64), dtype=float32)\n",
      "W: <tf.Variable 'Variable_43:0' shape=(5, 5, 64, 32) dtype=float32_ref>\n",
      "b: <tf.Variable 'Variable_44:0' shape=(32,) dtype=float32_ref>\n",
      "h: Tensor(\"Relu_18:0\", shape=(?, 7, 7, 32), dtype=float32)\n",
      "hp: Tensor(\"MaxPool_17:0\", shape=(?, 4, 4, 32), dtype=float32)\n"
     ]
    }
   ],
   "source": [
    "h1 = conv_layer(x_image, shape=[5,5,1,32])\n",
    "h2 = conv_layer(h1, shape=[5,5,32,64])\n",
    "h3 = conv_layer(h2, shape=[5,5,64,32])\n"
   ]
  },
  {
   "cell_type": "code",
   "execution_count": 41,
   "metadata": {},
   "outputs": [
    {
     "data": {
      "text/plain": [
       "<tf.Tensor 'x_image_3:0' shape=(?, 28, 28, 1) dtype=float32>"
      ]
     },
     "execution_count": 41,
     "metadata": {},
     "output_type": "execute_result"
    }
   ],
   "source": [
    "x_image"
   ]
  },
  {
   "cell_type": "code",
   "execution_count": null,
   "metadata": {},
   "outputs": [],
   "source": []
  }
 ],
 "metadata": {
  "kernelspec": {
   "display_name": "Python 3",
   "language": "python",
   "name": "python3"
  },
  "language_info": {
   "codemirror_mode": {
    "name": "ipython",
    "version": 3
   },
   "file_extension": ".py",
   "mimetype": "text/x-python",
   "name": "python",
   "nbconvert_exporter": "python",
   "pygments_lexer": "ipython3",
   "version": "3.6.5"
  }
 },
 "nbformat": 4,
 "nbformat_minor": 2
}
