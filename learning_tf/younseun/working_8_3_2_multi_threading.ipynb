{
 "cells": [
  {
   "cell_type": "code",
   "execution_count": 10,
   "metadata": {},
   "outputs": [],
   "source": [
    "import tensorflow as tf\n",
    "import threading\n",
    "import time"
   ]
  },
  {
   "cell_type": "code",
   "execution_count": 14,
   "metadata": {},
   "outputs": [],
   "source": [
    "def add():\n",
    "    for i in range(10):\n",
    "        sess.run(enque)"
   ]
  },
  {
   "cell_type": "code",
   "execution_count": 15,
   "metadata": {},
   "outputs": [
    {
     "name": "stdout",
     "output_type": "stream",
     "text": [
      "(0) <Thread(Thread-24, initial)>\n",
      "(1) <Thread(Thread-25, initial)>\n",
      "(2) <Thread(Thread-26, initial)>\n",
      "(3) <Thread(Thread-27, initial)>\n",
      "(4) <Thread(Thread-28, initial)>\n",
      "(5) <Thread(Thread-29, initial)>\n",
      "(6) <Thread(Thread-30, initial)>\n",
      "(7) <Thread(Thread-31, initial)>\n",
      "(8) <Thread(Thread-32, initial)>\n",
      "(9) <Thread(Thread-33, initial)>\n",
      "queue size : 89\n",
      "queue size : 97\n",
      "queue size : 100\n"
     ]
    }
   ],
   "source": [
    "gen_random_normal = tf.random_normal(shape=())\n",
    "queue = tf.FIFOQueue(capacity=100, dtypes=[tf.float32], shapes=())\n",
    "enque = queue.enqueue(gen_random_normal)\n",
    "\n",
    "threads = [threading.Thread(target=add, args=()) for i in range(10)]\n",
    "\n",
    "for i in range(len(threads)):\n",
    "    print('({}) {}'.format(i, threads[i]))\n",
    "    \n",
    "for t in threads:\n",
    "    t.start()\n",
    "print('queue size : {}'.format(sess.run(queue.size())))\n",
    "time.sleep(0.001)\n",
    "print('queue size : {}'.format(sess.run(queue.size())))\n",
    "time.sleep(0.001)\n",
    "print('queue size : {}'.format(sess.run(queue.size())))\n",
    "\n"
   ]
  },
  {
   "cell_type": "code",
   "execution_count": 16,
   "metadata": {},
   "outputs": [
    {
     "name": "stdout",
     "output_type": "stream",
     "text": [
      "Before Queue Count : 100\n",
      "x.eval() : [ 0.44646832 -0.4903016  -0.9770843  -1.218079   -0.23483959  1.2403052\n",
      "  0.48639086 -0.44121316 -0.30725187 -0.3748127 ]\n",
      "After  Queue Count : 90\n"
     ]
    }
   ],
   "source": [
    "print('Before Queue Count : {}'.format(sess.run(queue.size())))\n",
    "x = queue.dequeue_many(10)\n",
    "print('x.eval() : {}'.format(x.eval()))\n",
    "print('After  Queue Count : {}'.format(sess.run(queue.size())))"
   ]
  },
  {
   "cell_type": "code",
   "execution_count": null,
   "metadata": {},
   "outputs": [],
   "source": []
  },
  {
   "cell_type": "code",
   "execution_count": null,
   "metadata": {},
   "outputs": [],
   "source": []
  },
  {
   "cell_type": "code",
   "execution_count": null,
   "metadata": {},
   "outputs": [],
   "source": []
  },
  {
   "cell_type": "code",
   "execution_count": null,
   "metadata": {},
   "outputs": [],
   "source": []
  },
  {
   "cell_type": "code",
   "execution_count": null,
   "metadata": {},
   "outputs": [],
   "source": []
  },
  {
   "cell_type": "code",
   "execution_count": null,
   "metadata": {},
   "outputs": [],
   "source": []
  },
  {
   "cell_type": "code",
   "execution_count": null,
   "metadata": {},
   "outputs": [],
   "source": []
  },
  {
   "cell_type": "code",
   "execution_count": null,
   "metadata": {},
   "outputs": [],
   "source": []
  }
 ],
 "metadata": {
  "kernelspec": {
   "display_name": "Python 3",
   "language": "python",
   "name": "python3"
  },
  "language_info": {
   "codemirror_mode": {
    "name": "ipython",
    "version": 3
   },
   "file_extension": ".py",
   "mimetype": "text/x-python",
   "name": "python",
   "nbconvert_exporter": "python",
   "pygments_lexer": "ipython3",
   "version": "3.6.5"
  }
 },
 "nbformat": 4,
 "nbformat_minor": 2
}
