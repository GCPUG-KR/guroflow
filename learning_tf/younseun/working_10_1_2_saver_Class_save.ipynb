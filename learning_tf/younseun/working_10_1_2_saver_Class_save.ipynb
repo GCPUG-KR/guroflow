{
 "cells": [
  {
   "cell_type": "code",
   "execution_count": 3,
   "metadata": {},
   "outputs": [
    {
     "name": "stdout",
     "output_type": "stream",
     "text": [
      "Extracting /tmp/data/train-images-idx3-ubyte.gz\n",
      "Extracting /tmp/data/train-labels-idx1-ubyte.gz\n",
      "Extracting /tmp/data/t10k-images-idx3-ubyte.gz\n",
      "Extracting /tmp/data/t10k-labels-idx1-ubyte.gz\n"
     ]
    }
   ],
   "source": [
    "import tensorflow as tf\n",
    "import numpy as np\n",
    "import os \n",
    "from tensorflow.examples.tutorials.mnist import input_data\n",
    "\n",
    "DATA_DIR = '/tmp/data'\n",
    "SAVER_DIR = 'saved_model1'\n",
    "DIR = 'saved_model1'\n",
    "NUM_STEPS = 1000\n",
    "MINIBATCH_SIZE = 100\n",
    "\n",
    "data = input_data.read_data_sets(DATA_DIR, one_hot=True)"
   ]
  },
  {
   "cell_type": "markdown",
   "metadata": {},
   "source": [
    "# Saver 저장 "
   ]
  },
  {
   "cell_type": "code",
   "execution_count": 2,
   "metadata": {},
   "outputs": [
    {
     "name": "stdout",
     "output_type": "stream",
     "text": [
      "WARNING:tensorflow:From <ipython-input-2-a02a2a693acb>:9: softmax_cross_entropy_with_logits (from tensorflow.python.ops.nn_ops) is deprecated and will be removed in a future version.\n",
      "Instructions for updating:\n",
      "\n",
      "Future major versions of TensorFlow will allow gradients to flow\n",
      "into the labels input on backprop by default.\n",
      "\n",
      "See @{tf.nn.softmax_cross_entropy_with_logits_v2}.\n",
      "\n",
      "step(   50) Accuracy: 0.7300000190734863\n",
      "step(  100) Accuracy: 0.7699999809265137\n",
      "step(  150) Accuracy: 0.7799999713897705\n",
      "step(  200) Accuracy: 0.7900000214576721\n",
      "step(  250) Accuracy: 0.8500000238418579\n",
      "step(  300) Accuracy: 0.8999999761581421\n",
      "step(  350) Accuracy: 0.8399999737739563\n",
      "step(  400) Accuracy: 0.7200000286102295\n",
      "step(  450) Accuracy: 0.8299999833106995\n",
      "step(  500) Accuracy: 0.8700000047683716\n",
      "step(  550) Accuracy: 0.8199999928474426\n",
      "step(  600) Accuracy: 0.8399999737739563\n",
      "step(  650) Accuracy: 0.8700000047683716\n",
      "step(  700) Accuracy: 0.8600000143051147\n",
      "step(  750) Accuracy: 0.8600000143051147\n",
      "step(  800) Accuracy: 0.9399999976158142\n",
      "step(  850) Accuracy: 0.7900000214576721\n",
      "step(  900) Accuracy: 0.8700000047683716\n",
      "step(  950) Accuracy: 0.8799999952316284\n",
      "step( 1000) Accuracy: 0.8799999952316284\n",
      "Accuracy: 87.11%\n",
      "Complete !!!\n"
     ]
    }
   ],
   "source": [
    "x = tf.placeholder(tf.float32, [None, 784])\n",
    "W = tf.Variable(tf.zeros([784, 10]), name='W')\n",
    "\n",
    "y_true = tf.placeholder(tf.float32, [None, 10])\n",
    "y_pred = tf.matmul(x, W)\n",
    "\n",
    "cross_entropy = tf.reduce_mean(tf.nn.softmax_cross_entropy_with_logits(logits=y_pred, labels=y_true))\n",
    "gd_step = tf.train.GradientDescentOptimizer(0.01).minimize(cross_entropy)\n",
    "correct_mask = tf.equal(tf.argmax(y_pred, 1), tf.argmax(y_true, 1))\n",
    "accuracy = tf.reduce_mean(tf.cast(correct_mask, tf.float32))\n",
    "\n",
    "saver = tf.train.Saver(max_to_keep=7, keep_checkpoint_every_n_hours=1)   # Saver Define\n",
    "\n",
    "with tf.Session() as sess:\n",
    "\n",
    "    # Train\n",
    "    sess.run(tf.global_variables_initializer())\n",
    "    for step in range(1,NUM_STEPS+1):\n",
    "        batch_xs, batch_ys = data.train.next_batch(MINIBATCH_SIZE)\n",
    "        _, accuracy_out = sess.run([gd_step, accuracy], feed_dict={x: batch_xs, y_true: batch_ys})\n",
    "        if step % 50 == 0:\n",
    "            print('step({:5}) Accuracy: {}'.format(step, accuracy_out))\n",
    "            saver.save(sess, os.path.join(SAVER_DIR, \"model_ckpt\"), global_step=step)  # Saver 저장\n",
    "\n",
    "    ans = sess.run(accuracy, feed_dict={x: data.test.images, y_true: data.test.labels})\n",
    "    print(\"Accuracy: {:.4}%\".format(ans*100))\n",
    "\n",
    "print(\"Complete !!!\")"
   ]
  },
  {
   "cell_type": "markdown",
   "metadata": {},
   "source": [
    "# Restore"
   ]
  },
  {
   "cell_type": "code",
   "execution_count": 6,
   "metadata": {},
   "outputs": [
    {
     "name": "stdout",
     "output_type": "stream",
     "text": [
      "INFO:tensorflow:Restoring parameters from saved_model1/model_ckpt-1000\n",
      "테스트 데이터 정확도 (Restored) : 0.098000\n",
      "Accuracy: 9.8%\n"
     ]
    }
   ],
   "source": [
    "tf.reset_default_graph() \n",
    "x      = tf.placeholder(tf.float32, [None, 784],name='x')\n",
    "y_true = tf.placeholder(tf.float32, [None, 10])\n",
    "W = tf.Variable(tf.zeros([784, 10]),name='W')\n",
    "y_pred = tf.matmul(x, W)\n",
    "cross_entropy = tf.reduce_mean(\n",
    "             tf.nn.softmax_cross_entropy_with_logits(logits=y_pred,labels=y_true))\n",
    "gd_step = tf.train.GradientDescentOptimizer(0.5).minimize(cross_entropy)\n",
    "correct_mask = tf.equal(tf.argmax(y_pred, 1), tf.argmax(y_true, 1))\n",
    "accuracy = tf.reduce_mean(tf.cast(correct_mask, tf.float32))\n",
    "saver = tf.train.Saver()\n",
    "with tf.Session() as sess:\n",
    "    sess.run(tf.global_variables_initializer())    \n",
    "    saver.restore(sess, os.path.join(SAVER_DIR,\"model_ckpt-1000\")) \n",
    "    ans, pred, out_w = sess.run([accuracy, y_pred, W], feed_dict={x: data.test.images, y_true: data.test.labels})\n",
    "    print(\"테스트 데이터 정확도 (Restored) : %f\" % accuracy.eval(feed_dict={x: data.test.images, y_true: data.test.labels}))\n",
    "    print(\"Accuracy: {:.4}%\".format(ans*100))"
   ]
  },
  {
   "cell_type": "code",
   "execution_count": 7,
   "metadata": {},
   "outputs": [
    {
     "name": "stdout",
     "output_type": "stream",
     "text": [
      "INFO:tensorflow:Restoring parameters from saved_model1/model_ckpt-1000\n",
      "Accuracy: 9.8%\n"
     ]
    }
   ],
   "source": [
    "tf.reset_default_graph() \n",
    "x = tf.placeholder(tf.float32, [None, 784],name='x')\n",
    "W = tf.Variable(tf.zeros([784, 10]),name='W')\n",
    "y_true = tf.placeholder(tf.float32, [None, 10])\n",
    "y_pred = tf.matmul(x, W)\n",
    "cross_entropy = tf.reduce_mean(\n",
    "             tf.nn.softmax_cross_entropy_with_logits(logits=y_pred,labels=y_true))\n",
    "gd_step = tf.train.GradientDescentOptimizer(0.5).minimize(cross_entropy)\n",
    "correct_mask = tf.equal(tf.argmax(y_pred, 1), tf.argmax(y_true, 1))\n",
    "accuracy = tf.reduce_mean(tf.cast(correct_mask, tf.float32))\n",
    "\n",
    "saver = tf.train.Saver()\n",
    "\n",
    "with tf.Session() as sess:\n",
    "    sess.run(tf.global_variables_initializer())\n",
    "    saver.restore(sess, os.path.join(DIR,\"model_ckpt-1000\"))\n",
    "    ans = sess.run(accuracy, feed_dict={x: data.test.images, \n",
    "                                        y_true: data.test.labels})\n",
    "\n",
    "print(\"Accuracy: {:.4}%\".format(ans*100))"
   ]
  },
  {
   "cell_type": "code",
   "execution_count": 4,
   "metadata": {},
   "outputs": [
    {
     "name": "stdout",
     "output_type": "stream",
     "text": [
      "true:[0. 0. 0. 0. 0. 0. 0. 1. 0. 0.]  pred:[-0.2997764  -2.396625   -0.55709255  0.14885554 -0.3006323  -0.6809314\n",
      " -1.9654436   4.9229593  -0.36305875  1.4917457 ]\n",
      "true:[0. 0. 1. 0. 0. 0. 0. 0. 0. 0.]  pred:[ 0.8274702  -0.41580135  3.0696874   1.6521825  -3.380368    1.3781973\n",
      "  2.1888726  -3.367156    0.85198987 -2.8050747 ]\n",
      "true:[0. 1. 0. 0. 0. 0. 0. 0. 0. 0.]  pred:[-1.5278001   3.4892929   0.38342446  0.16641429 -1.1307375  -0.5344057\n",
      " -0.2316672  -0.3421754   0.33610243 -0.60844857]\n",
      "true:[1. 0. 0. 0. 0. 0. 0. 0. 0. 0.]  pred:[ 4.873728   -4.3641305  -0.02257991 -0.59475064 -2.1310449   1.2108917\n",
      "  1.7043753   0.5620216  -0.7776005  -0.4609098 ]\n",
      "true:[0. 0. 0. 0. 1. 0. 0. 0. 0. 0.]  pred:[-0.2912239  -3.3865573   0.59476346 -1.2455342   2.8272822  -0.78046924\n",
      "  0.1962466   0.61305845  0.21885556  1.2535785 ]\n"
     ]
    }
   ],
   "source": [
    "print('true:{}  pred:{}'.format(data.test.labels[0], pred[0]))\n",
    "print('true:{}  pred:{}'.format(data.test.labels[1], pred[1]))\n",
    "print('true:{}  pred:{}'.format(data.test.labels[2], pred[2]))\n",
    "print('true:{}  pred:{}'.format(data.test.labels[3], pred[3]))\n",
    "print('true:{}  pred:{}'.format(data.test.labels[4], pred[4]))\n"
   ]
  },
  {
   "cell_type": "code",
   "execution_count": 120,
   "metadata": {},
   "outputs": [
    {
     "ename": "TypeError",
     "evalue": "'Saver' object does not support indexing",
     "output_type": "error",
     "traceback": [
      "\u001b[1;31m---------------------------------------------------------------------------\u001b[0m",
      "\u001b[1;31mTypeError\u001b[0m                                 Traceback (most recent call last)",
      "\u001b[1;32m<ipython-input-120-1046523825f7>\u001b[0m in \u001b[0;36m<module>\u001b[1;34m()\u001b[0m\n\u001b[1;32m----> 1\u001b[1;33m \u001b[0msaver\u001b[0m\u001b[1;33m[\u001b[0m\u001b[1;36m0\u001b[0m\u001b[1;33m]\u001b[0m\u001b[1;33m\u001b[0m\u001b[0m\n\u001b[0m",
      "\u001b[1;31mTypeError\u001b[0m: 'Saver' object does not support indexing"
     ]
    }
   ],
   "source": [
    "saver[0]"
   ]
  },
  {
   "cell_type": "code",
   "execution_count": null,
   "metadata": {},
   "outputs": [],
   "source": []
  }
 ],
 "metadata": {
  "kernelspec": {
   "display_name": "Python 3",
   "language": "python",
   "name": "python3"
  },
  "language_info": {
   "codemirror_mode": {
    "name": "ipython",
    "version": 3
   },
   "file_extension": ".py",
   "mimetype": "text/x-python",
   "name": "python",
   "nbconvert_exporter": "python",
   "pygments_lexer": "ipython3",
   "version": "3.6.5"
  }
 },
 "nbformat": 4,
 "nbformat_minor": 2
}
