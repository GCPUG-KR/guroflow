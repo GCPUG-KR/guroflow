{
 "cells": [
  {
   "cell_type": "code",
   "execution_count": 1,
   "metadata": {},
   "outputs": [],
   "source": [
    "import tensorflow as tf\n",
    "import threading\n",
    "import time"
   ]
  },
  {
   "cell_type": "code",
   "execution_count": 2,
   "metadata": {},
   "outputs": [],
   "source": [
    "sess = tf.InteractiveSession()"
   ]
  },
  {
   "cell_type": "code",
   "execution_count": 3,
   "metadata": {},
   "outputs": [],
   "source": [
    "def add(coord, i):\n",
    "    while not coord.should_stop():\n",
    "        sess.run(enque)\n",
    "        if i == 1:\n",
    "            coord.request_stop()"
   ]
  },
  {
   "cell_type": "markdown",
   "metadata": {},
   "source": [
    "# Coordinator"
   ]
  },
  {
   "cell_type": "code",
   "execution_count": 4,
   "metadata": {},
   "outputs": [
    {
     "name": "stdout",
     "output_type": "stream",
     "text": [
      "9\n",
      "9\n",
      "9\n"
     ]
    }
   ],
   "source": [
    "gen_random_normal = tf.random_normal(shape=())\n",
    "queue = tf.FIFOQueue(capacity=100, dtypes=[tf.float32], shapes=())\n",
    "enque = queue.enqueue(gen_random_normal)\n",
    "\n",
    "coord = tf.train.Coordinator()\n",
    "threads = [threading.Thread(target=add, args=(coord, i)) for i in range(10)]\n",
    "coord.join(threads)\n",
    "\n",
    "for t in threads:\n",
    "    t.start()\n",
    "print(sess.run(queue.size()))\n",
    "time.sleep(0.001)\n",
    "print(sess.run(queue.size()))\n",
    "time.sleep(0.001)\n",
    "print(sess.run(queue.size()))"
   ]
  },
  {
   "cell_type": "markdown",
   "metadata": {},
   "source": [
    "# QueueRunner와 RandomShuffleQueue"
   ]
  },
  {
   "cell_type": "code",
   "execution_count": 18,
   "metadata": {},
   "outputs": [
    {
     "name": "stdout",
     "output_type": "stream",
     "text": [
      "0\n"
     ]
    }
   ],
   "source": [
    "gen_random_normal = tf.random_normal(shape=())\n",
    "queue = tf.RandomShuffleQueue(capacity=100, dtypes=[tf.float32],\n",
    "                              min_after_dequeue=1)\n",
    "enqueue_op = queue.enqueue(gen_random_normal)\n",
    "\n",
    "qr = tf.train.QueueRunner(queue, [enqueue_op] * 4)\n",
    "coord = tf.train.Coordinator()\n",
    "enqueue_threads = qr.create_threads(sess, coord=coord, start=True)\n",
    "coord.request_stop()\n",
    "coord.join(enqueue_threads)\n",
    "\n",
    "print(sess.run(queue.size()))"
   ]
  },
  {
   "cell_type": "code",
   "execution_count": null,
   "metadata": {},
   "outputs": [],
   "source": []
  },
  {
   "cell_type": "code",
   "execution_count": null,
   "metadata": {},
   "outputs": [],
   "source": []
  }
 ],
 "metadata": {
  "kernelspec": {
   "display_name": "Python 3",
   "language": "python",
   "name": "python3"
  },
  "language_info": {
   "codemirror_mode": {
    "name": "ipython",
    "version": 3
   },
   "file_extension": ".py",
   "mimetype": "text/x-python",
   "name": "python",
   "nbconvert_exporter": "python",
   "pygments_lexer": "ipython3",
   "version": "3.6.5"
  }
 },
 "nbformat": 4,
 "nbformat_minor": 2
}
