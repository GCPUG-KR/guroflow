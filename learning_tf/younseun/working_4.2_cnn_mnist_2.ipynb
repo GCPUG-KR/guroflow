{
 "cells": [
  {
   "cell_type": "code",
   "execution_count": 1,
   "metadata": {},
   "outputs": [],
   "source": [
    "from tensorflow.examples.tutorials.mnist import input_data\n",
    "import tensorflow as tf\n",
    "import numpy as np\n",
    "import pandas as pd\n",
    "from layers import conv_layer, max_pool_2x2, full_layer\n",
    "from layers_0 import conv_layer_0, max_pool_2x2_0, full_layer_0\n",
    "import datetime"
   ]
  },
  {
   "cell_type": "code",
   "execution_count": 2,
   "metadata": {},
   "outputs": [],
   "source": [
    "DATA_DIR = '/tmp/data'\n",
    "MINIBATCH_SIZE = 50\n",
    "STEPS = 5000"
   ]
  },
  {
   "cell_type": "code",
   "execution_count": 3,
   "metadata": {},
   "outputs": [
    {
     "name": "stdout",
     "output_type": "stream",
     "text": [
      "WARNING:tensorflow:From <ipython-input-3-263d54db0205>:2: read_data_sets (from tensorflow.contrib.learn.python.learn.datasets.mnist) is deprecated and will be removed in a future version.\n",
      "Instructions for updating:\n",
      "Please use alternatives such as official/mnist/dataset.py from tensorflow/models.\n",
      "WARNING:tensorflow:From /usr/local/lib/python3.6/dist-packages/tensorflow/contrib/learn/python/learn/datasets/mnist.py:260: maybe_download (from tensorflow.contrib.learn.python.learn.datasets.base) is deprecated and will be removed in a future version.\n",
      "Instructions for updating:\n",
      "Please write your own downloading logic.\n",
      "WARNING:tensorflow:From /usr/local/lib/python3.6/dist-packages/tensorflow/contrib/learn/python/learn/datasets/mnist.py:262: extract_images (from tensorflow.contrib.learn.python.learn.datasets.mnist) is deprecated and will be removed in a future version.\n",
      "Instructions for updating:\n",
      "Please use tf.data to implement this functionality.\n",
      "Extracting /tmp/data/train-images-idx3-ubyte.gz\n",
      "WARNING:tensorflow:From /usr/local/lib/python3.6/dist-packages/tensorflow/contrib/learn/python/learn/datasets/mnist.py:267: extract_labels (from tensorflow.contrib.learn.python.learn.datasets.mnist) is deprecated and will be removed in a future version.\n",
      "Instructions for updating:\n",
      "Please use tf.data to implement this functionality.\n",
      "Extracting /tmp/data/train-labels-idx1-ubyte.gz\n",
      "WARNING:tensorflow:From /usr/local/lib/python3.6/dist-packages/tensorflow/contrib/learn/python/learn/datasets/mnist.py:110: dense_to_one_hot (from tensorflow.contrib.learn.python.learn.datasets.mnist) is deprecated and will be removed in a future version.\n",
      "Instructions for updating:\n",
      "Please use tf.one_hot on tensors.\n",
      "Extracting /tmp/data/t10k-images-idx3-ubyte.gz\n",
      "Extracting /tmp/data/t10k-labels-idx1-ubyte.gz\n",
      "WARNING:tensorflow:From /usr/local/lib/python3.6/dist-packages/tensorflow/contrib/learn/python/learn/datasets/mnist.py:290: DataSet.__init__ (from tensorflow.contrib.learn.python.learn.datasets.mnist) is deprecated and will be removed in a future version.\n",
      "Instructions for updating:\n",
      "Please use alternatives such as official/mnist/dataset.py from tensorflow/models.\n"
     ]
    }
   ],
   "source": [
    "# mnist[0]은 이미지, mnist[1]은 숫자값 ont Hot\n",
    "mnist = input_data.read_data_sets(DATA_DIR, one_hot=True)"
   ]
  },
  {
   "cell_type": "code",
   "execution_count": 5,
   "metadata": {},
   "outputs": [
    {
     "name": "stdout",
     "output_type": "stream",
     "text": [
      "WARNING:tensorflow:From <ipython-input-5-c29a1d767259>:20: softmax_cross_entropy_with_logits (from tensorflow.python.ops.nn_ops) is deprecated and will be removed in a future version.\n",
      "Instructions for updating:\n",
      "\n",
      "Future major versions of TensorFlow will allow gradients to flow\n",
      "into the labels input on backprop by default.\n",
      "\n",
      "See @{tf.nn.softmax_cross_entropy_with_logits_v2}.\n",
      "\n"
     ]
    }
   ],
   "source": [
    "x = tf.placeholder(tf.float32, shape=[None, 784])\n",
    "y_ = tf.placeholder(tf.float32, shape=[None, 10])\n",
    "x_image = tf.reshape(x, [-1, 28, 28, 1])\n",
    "\n",
    "conv1 = conv_layer_0(x_image, shape=[5, 5, 1, 32])\n",
    "conv1_pool = max_pool_2x2_0(conv1)\n",
    "\n",
    "conv2 = conv_layer_0(conv1_pool, shape=[5, 5, 32, 64])\n",
    "conv2_pool = max_pool_2x2_0(conv2)\n",
    "\n",
    "conv2_flat = tf.reshape(conv2_pool, [-1, 7*7*64])\n",
    "full_1 = tf.nn.relu(full_layer_0(conv2_flat, 1024))\n",
    "\n",
    "keep_prob = tf.placeholder(tf.float32)\n",
    "full1_drop = tf.nn.dropout(full_1, keep_prob=keep_prob)\n",
    "\n",
    "y_conv = full_layer_0(full1_drop, 10)\n",
    "\n",
    "# Loss Function과 Train\n",
    "cross_entropy = tf.reduce_mean(tf.nn.softmax_cross_entropy_with_logits(logits=y_conv, labels=y_))\n",
    "train_step = tf.train.AdamOptimizer(1e-4).minimize(cross_entropy)\n",
    "\n",
    "# Accuracy 평가\n",
    "correct_prediction = tf.equal(tf.argmax(y_conv, 1), tf.argmax(y_, 1))\n",
    "accuracy = tf.reduce_mean(tf.cast(correct_prediction, tf.float32))"
   ]
  },
  {
   "cell_type": "code",
   "execution_count": 7,
   "metadata": {},
   "outputs": [
    {
     "name": "stdout",
     "output_type": "stream",
     "text": [
      "100 [2018-08-26 16:24:51.689487][0:00:04.886958] : Accuracy : 0.8767000436782837 \n",
      "200 [2018-08-26 16:25:08.115614][0:00:04.748500] : Accuracy : 0.9196999669075012 \n",
      "300 [2018-08-26 16:25:23.657607][0:00:04.576018] : Accuracy : 0.9371000528335571 \n",
      "400 [2018-08-26 16:25:38.897857][0:00:04.554964] : Accuracy : 0.9472000002861023 \n",
      "500 [2018-08-26 16:25:54.369087][0:00:04.623077] : Accuracy : 0.9539999961853027 \n",
      "600 [2018-08-26 16:26:09.852923][0:00:04.633371] : Accuracy : 0.9593000411987305 \n",
      "700 [2018-08-26 16:26:25.343528][0:00:04.612111] : Accuracy : 0.9607999920845032 \n",
      "800 [2018-08-26 16:26:40.986603][0:00:04.924829] : Accuracy : 0.9628999829292297 \n",
      "900 [2018-08-26 16:26:56.519605][0:00:05.028974] : Accuracy : 0.9671000242233276 \n",
      "1000 [2018-08-26 16:27:12.481090][0:00:05.374953] : Accuracy : 0.9687999486923218 \n",
      "1100 [2018-08-26 16:27:28.417785][0:00:05.496143] : Accuracy : 0.9701000452041626 \n",
      "1200 [2018-08-26 16:27:44.395906][0:00:05.696085] : Accuracy : 0.9713000059127808 \n",
      "1300 [2018-08-26 16:28:00.371579][0:00:05.622851] : Accuracy : 0.9729000329971313 \n",
      "1400 [2018-08-26 16:28:16.531816][0:00:05.830979] : Accuracy : 0.9756000638008118 \n",
      "1500 [2018-08-26 16:28:32.611503][0:00:05.843083] : Accuracy : 0.9750999212265015 \n",
      "1600 [2018-08-26 16:28:48.694573][0:00:05.619028] : Accuracy : 0.9741999506950378 \n",
      "1700 [2018-08-26 16:29:04.877783][0:00:05.761211] : Accuracy : 0.9786999821662903 \n",
      "1800 [2018-08-26 16:29:21.223215][0:00:05.669333] : Accuracy : 0.9786999821662903 \n",
      "1900 [2018-08-26 16:29:37.442724][0:00:05.744157] : Accuracy : 0.9793999791145325 \n",
      "2000 [2018-08-26 16:29:53.697618][0:00:05.555073] : Accuracy : 0.9781999588012695 \n",
      "2100 [2018-08-26 16:30:10.499434][0:00:05.693829] : Accuracy : 0.98089998960495 \n",
      "2200 [2018-08-26 16:30:26.547992][0:00:05.500591] : Accuracy : 0.9793000221252441 \n",
      "2300 [2018-08-26 16:30:42.993613][0:00:05.507500] : Accuracy : 0.9821000099182129 \n",
      "2400 [2018-08-26 16:30:59.163910][0:00:05.532134] : Accuracy : 0.9810999631881714 \n",
      "2500 [2018-08-26 16:31:15.607872][0:00:05.523543] : Accuracy : 0.9817999601364136 \n",
      "2600 [2018-08-26 16:31:31.624460][0:00:05.399418] : Accuracy : 0.983199954032898 \n",
      "2700 [2018-08-26 16:31:47.797991][0:00:05.461866] : Accuracy : 0.9803999662399292 \n",
      "2800 [2018-08-26 16:32:04.326704][0:00:05.541679] : Accuracy : 0.9837000966072083 \n",
      "2900 [2018-08-26 16:32:20.862443][0:00:05.536076] : Accuracy : 0.9847000241279602 \n",
      "3000 [2018-08-26 16:32:37.108194][0:00:05.504744] : Accuracy : 0.9844999313354492 \n",
      "3100 [2018-08-26 16:32:53.265425][0:00:05.572502] : Accuracy : 0.9855999946594238 \n",
      "3200 [2018-08-26 16:33:09.544289][0:00:05.591983] : Accuracy : 0.9848000407218933 \n",
      "3300 [2018-08-26 16:33:25.831938][0:00:05.537064] : Accuracy : 0.9857999682426453 \n",
      "3400 [2018-08-26 16:33:42.061107][0:00:05.627571] : Accuracy : 0.9855000376701355 \n",
      "3500 [2018-08-26 16:33:58.391862][0:00:05.720862] : Accuracy : 0.9873999357223511 \n",
      "3600 [2018-08-26 16:34:14.391726][0:00:05.544549] : Accuracy : 0.9854999780654907 \n",
      "3700 [2018-08-26 16:34:30.114444][0:00:05.305055] : Accuracy : 0.9848999977111816 \n",
      "3800 [2018-08-26 16:34:46.095777][0:00:05.470324] : Accuracy : 0.9852999448776245 \n",
      "3900 [2018-08-26 16:35:02.021837][0:00:05.436079] : Accuracy : 0.9857999682426453 \n",
      "4000 [2018-08-26 16:35:19.175217][0:00:05.668677] : Accuracy : 0.9878000020980835 \n",
      "4100 [2018-08-26 16:35:35.228447][0:00:05.317455] : Accuracy : 0.9876000285148621 \n",
      "4200 [2018-08-26 16:35:50.672691][0:00:04.956974] : Accuracy : 0.9890999794006348 \n",
      "4300 [2018-08-26 16:36:06.408197][0:00:05.013231] : Accuracy : 0.9882000088691711 \n",
      "4400 [2018-08-26 16:36:22.206214][0:00:04.932272] : Accuracy : 0.9882999658584595 \n",
      "4500 [2018-08-26 16:36:37.807830][0:00:04.740799] : Accuracy : 0.987299919128418 \n",
      "4600 [2018-08-26 16:36:53.100071][0:00:04.661703] : Accuracy : 0.9886000752449036 \n",
      "4700 [2018-08-26 16:37:08.939533][0:00:04.876526] : Accuracy : 0.9887999296188354 \n",
      "4800 [2018-08-26 16:37:24.665080][0:00:04.755566] : Accuracy : 0.9859000444412231 \n",
      "4900 [2018-08-26 16:37:40.328315][0:00:04.668579] : Accuracy : 0.9884001016616821 \n",
      "5000 [2018-08-26 16:37:55.930978][0:00:04.707838] : Accuracy : 0.9890000224113464 \n",
      "Completed !!\n"
     ]
    }
   ],
   "source": [
    "# 완전 연결 계측에서 편향을 적용하지 않은 결과\n",
    "STEPS = 5000\n",
    "X = mnist.test.images.reshape(10, 1000, 784)\n",
    "Y = mnist.test.labels.reshape(10, 1000, 10)\n",
    "\n",
    "with tf.Session() as sess:\n",
    "    sess.run(tf.global_variables_initializer())\n",
    "    \n",
    "    for i in range(STEPS):\n",
    "        batch = mnist.train.next_batch(MINIBATCH_SIZE)\n",
    "        train = sess.run([x,y_, x_image, conv1, conv1_pool, conv2, conv2_pool, conv2_flat, full_1, train_step], feed_dict={x: batch[0], y_: batch[1], keep_prob:0.5})\n",
    "        if (i+1) % 100 == 0:\n",
    "            accuracy_datetime = datetime.datetime.now()\n",
    "            #print('{}[{}] : Accuracy Start '.format(i, datetime.datetime.now()))\n",
    "            train_accuracy = np.mean([sess.run([accuracy], feed_dict={x: X[j], y_: Y[j], keep_prob: 1.0}) for j in range(10)])\n",
    "            print('{} [{}][{}] : Accuracy : {} '.format(i+1, datetime.datetime.now(), datetime.datetime.now() - accuracy_datetime, train_accuracy))\n",
    "    print('Completed !!')"
   ]
  },
  {
   "cell_type": "code",
   "execution_count": null,
   "metadata": {},
   "outputs": [],
   "source": []
  }
 ],
 "metadata": {
  "kernelspec": {
   "display_name": "Python 3",
   "language": "python",
   "name": "python3"
  },
  "language_info": {
   "codemirror_mode": {
    "name": "ipython",
    "version": 3
   },
   "file_extension": ".py",
   "mimetype": "text/x-python",
   "name": "python",
   "nbconvert_exporter": "python",
   "pygments_lexer": "ipython3",
   "version": "3.6.5"
  }
 },
 "nbformat": 4,
 "nbformat_minor": 2
}
