{
 "cells": [
  {
   "cell_type": "code",
   "execution_count": 1,
   "metadata": {},
   "outputs": [
    {
     "name": "stderr",
     "output_type": "stream",
     "text": [
      "/Users/OG/Desktop/Study/jupyter/env/lib/python3.6/importlib/_bootstrap.py:219: RuntimeWarning: numpy.dtype size changed, may indicate binary incompatibility. Expected 96, got 88\n",
      "  return f(*args, **kwds)\n",
      "/Users/OG/Desktop/Study/jupyter/env/lib/python3.6/importlib/_bootstrap.py:219: RuntimeWarning: numpy.dtype size changed, may indicate binary incompatibility. Expected 96, got 88\n",
      "  return f(*args, **kwds)\n"
     ]
    }
   ],
   "source": [
    "import zipfile\n",
    "import numpy as np\n",
    "import tensorflow as tf"
   ]
  },
  {
   "cell_type": "markdown",
   "metadata": {},
   "source": [
    "# 입력 데이터 정의"
   ]
  },
  {
   "cell_type": "code",
   "execution_count": 2,
   "metadata": {},
   "outputs": [],
   "source": [
    "LOG_DIR='logs'\n",
    "\n",
    "path_to_glove = \"glove.840B.300d.zip\"\n",
    "PRE_TRAINED = True\n",
    "GLOVE_SIZE = 300\n",
    "batch_size = 128\n",
    "embedding_dimension = 64\n",
    "num_classes = 2\n",
    "hidden_layer_size = 32\n",
    "times_steps = 6\n",
    "\n",
    "digit_to_word_map = {1: \"One\", 2: \"Two\", 3: \"Three\", 4: \"Four\", 5: \"Five\",\n",
    "                     6: \"Six\", 7: \"Seven\", 8: \"Eight\", 9: \"Nine\"}\n",
    "digit_to_word_map[0] = \"PAD_TOKEN\"\n",
    "even_sentences = []\n",
    "odd_sentences = []\n",
    "seqlens = []"
   ]
  },
  {
   "cell_type": "code",
   "execution_count": 3,
   "metadata": {},
   "outputs": [],
   "source": [
    "for i in range(10000):\n",
    "    rand_seq_len = np.random.choice(range(3, 7))\n",
    "    seqlens.append(rand_seq_len)\n",
    "    rand_odd_ints = np.random.choice(range(1, 10, 2),\n",
    "                                     rand_seq_len)\n",
    "    rand_even_ints = np.random.choice(range(2, 10, 2),\n",
    "                                      rand_seq_len)\n",
    "\n",
    "    if rand_seq_len < 6:\n",
    "        rand_odd_ints = np.append(rand_odd_ints,\n",
    "                                  [0]*(6-rand_seq_len))\n",
    "        rand_even_ints = np.append(rand_even_ints,\n",
    "                                   [0]*(6-rand_seq_len))\n",
    "\n",
    "    even_sentences.append(\" \".join([digit_to_word_map[r]\n",
    "                          for r in rand_odd_ints]))\n",
    "    odd_sentences.append(\" \".join([digit_to_word_map[r]\n",
    "                         for r in rand_even_ints]))"
   ]
  },
  {
   "cell_type": "code",
   "execution_count": 4,
   "metadata": {},
   "outputs": [
    {
     "data": {
      "text/plain": [
       "['Nine Five Nine One PAD_TOKEN PAD_TOKEN',\n",
       " 'Three Seven One One PAD_TOKEN PAD_TOKEN',\n",
       " 'Five One Nine Five PAD_TOKEN PAD_TOKEN',\n",
       " 'One Three Three PAD_TOKEN PAD_TOKEN PAD_TOKEN',\n",
       " 'Five Seven Three Seven Three Three']"
      ]
     },
     "execution_count": 4,
     "metadata": {},
     "output_type": "execute_result"
    }
   ],
   "source": [
    "even_sentences[:5]"
   ]
  },
  {
   "cell_type": "code",
   "execution_count": 5,
   "metadata": {},
   "outputs": [
    {
     "data": {
      "text/plain": [
       "['Six Four Six Four PAD_TOKEN PAD_TOKEN',\n",
       " 'Two Two Four Four PAD_TOKEN PAD_TOKEN',\n",
       " 'Six Four Eight Four PAD_TOKEN PAD_TOKEN',\n",
       " 'Four Six Four PAD_TOKEN PAD_TOKEN PAD_TOKEN',\n",
       " 'Eight Four Six Four Two Eight']"
      ]
     },
     "execution_count": 5,
     "metadata": {},
     "output_type": "execute_result"
    }
   ],
   "source": [
    "odd_sentences[:5]"
   ]
  },
  {
   "cell_type": "code",
   "execution_count": 6,
   "metadata": {},
   "outputs": [],
   "source": [
    "data = even_sentences+odd_sentences\n",
    "# same seq lengths for even, odd sentences\n",
    "seqlens *= 2\n",
    "labels = [1]*10000 + [0]*10000\n",
    "for i in range(len(labels)):\n",
    "    label = labels[i]\n",
    "    one_hot_encoding = [0]*2\n",
    "    one_hot_encoding[label] = 1\n",
    "    labels[i] = one_hot_encoding"
   ]
  },
  {
   "cell_type": "code",
   "execution_count": 7,
   "metadata": {},
   "outputs": [
    {
     "data": {
      "text/plain": [
       "[[0, 1], [0, 1], [0, 1], [0, 1], [0, 1]]"
      ]
     },
     "execution_count": 7,
     "metadata": {},
     "output_type": "execute_result"
    }
   ],
   "source": [
    "labels[:5]"
   ]
  },
  {
   "cell_type": "code",
   "execution_count": 8,
   "metadata": {},
   "outputs": [],
   "source": [
    "word2index_map = {}\n",
    "index = 0\n",
    "for sent in data:\n",
    "    for word in sent.split():\n",
    "        if word not in word2index_map:\n",
    "            word2index_map[word] = index\n",
    "            index += 1"
   ]
  },
  {
   "cell_type": "code",
   "execution_count": 9,
   "metadata": {},
   "outputs": [],
   "source": [
    "index2word_map = {index: word for word, index in word2index_map.items()}\n",
    "\n",
    "vocabulary_size = len(index2word_map)"
   ]
  },
  {
   "cell_type": "code",
   "execution_count": 10,
   "metadata": {},
   "outputs": [
    {
     "data": {
      "text/plain": [
       "{0: 'Nine',\n",
       " 1: 'Five',\n",
       " 2: 'One',\n",
       " 3: 'PAD_TOKEN',\n",
       " 4: 'Three',\n",
       " 5: 'Seven',\n",
       " 6: 'Six',\n",
       " 7: 'Four',\n",
       " 8: 'Two',\n",
       " 9: 'Eight'}"
      ]
     },
     "execution_count": 10,
     "metadata": {},
     "output_type": "execute_result"
    }
   ],
   "source": [
    "index2word_map"
   ]
  },
  {
   "cell_type": "markdown",
   "metadata": {},
   "source": [
    "# 모델 학습 전 함수 및 변수 정의"
   ]
  },
  {
   "cell_type": "code",
   "execution_count": 11,
   "metadata": {},
   "outputs": [],
   "source": [
    "def get_glove(path_to_glove, word2index_map):\n",
    "\n",
    "    embedding_weights = {}\n",
    "    count_all_words = 0\n",
    "    with zipfile.ZipFile(path_to_glove) as z:\n",
    "        with z.open(\"glove.840B.300d.txt\") as f:\n",
    "            for line in f:\n",
    "                vals = line.split()\n",
    "                word = str(vals[0].decode(\"utf-8\"))\n",
    "                if word in word2index_map:\n",
    "                    print(word)\n",
    "                    count_all_words += 1\n",
    "                    coefs = np.asarray(vals[1:], dtype='float32')\n",
    "                    coefs /= np.linalg.norm(coefs)\n",
    "                    embedding_weights[word] = coefs\n",
    "                if count_all_words == len(word2index_map) - 1:\n",
    "                    break\n",
    "    return embedding_weights"
   ]
  },
  {
   "cell_type": "code",
   "execution_count": 12,
   "metadata": {},
   "outputs": [
    {
     "name": "stdout",
     "output_type": "stream",
     "text": [
      "One\n",
      "Two\n",
      "Three\n",
      "Four\n",
      "Five\n",
      "Six\n",
      "Seven\n",
      "Nine\n",
      "Eight\n"
     ]
    }
   ],
   "source": [
    "word2embedding_dict = get_glove(path_to_glove, word2index_map)\n",
    "embedding_matrix = np.zeros((vocabulary_size, GLOVE_SIZE))\n",
    "\n",
    "for word, index in word2index_map.items():\n",
    "    if not word == \"PAD_TOKEN\":\n",
    "        word_embedding = word2embedding_dict[word]\n",
    "        embedding_matrix[index, :] = word_embedding"
   ]
  },
  {
   "cell_type": "code",
   "execution_count": 13,
   "metadata": {},
   "outputs": [],
   "source": [
    "data_indices = list(range(len(data)))\n",
    "np.random.shuffle(data_indices)\n",
    "data = np.array(data)[data_indices]\n",
    "labels = np.array(labels)[data_indices]\n",
    "seqlens = np.array(seqlens)[data_indices]\n",
    "train_x = data[:10000]\n",
    "train_y = labels[:10000]\n",
    "train_seqlens = seqlens[:10000]\n",
    "\n",
    "test_x = data[10000:]\n",
    "test_y = labels[10000:]\n",
    "test_seqlens = seqlens[10000:]"
   ]
  },
  {
   "cell_type": "code",
   "execution_count": 14,
   "metadata": {},
   "outputs": [],
   "source": [
    "def get_sentence_batch(batch_size, data_x,\n",
    "                       data_y, data_seqlens):\n",
    "    instance_indices = list(range(len(data_x)))\n",
    "    np.random.shuffle(instance_indices)\n",
    "    batch = instance_indices[:batch_size]\n",
    "    x = [[word2index_map[word] for word in data_x[i].split()]\n",
    "         for i in batch]\n",
    "    y = [data_y[i] for i in batch]\n",
    "    seqlens = [data_seqlens[i] for i in batch]\n",
    "    return x, y, seqlens\n"
   ]
  },
  {
   "cell_type": "code",
   "execution_count": 15,
   "metadata": {},
   "outputs": [],
   "source": [
    "_inputs = tf.placeholder(tf.int32, shape=[batch_size, times_steps])\n",
    "embedding_placeholder = tf.placeholder(tf.float32, [vocabulary_size,\n",
    "                                                    GLOVE_SIZE])\n",
    "\n",
    "_labels = tf.placeholder(tf.float32, shape=[batch_size, num_classes])\n",
    "_seqlens = tf.placeholder(tf.int32, shape=[batch_size])"
   ]
  },
  {
   "cell_type": "code",
   "execution_count": 16,
   "metadata": {},
   "outputs": [],
   "source": [
    "if PRE_TRAINED:\n",
    "        embeddings = tf.Variable(tf.constant(0.0, shape=[vocabulary_size, GLOVE_SIZE]),\n",
    "                                 trainable=True)\n",
    "        # if using pre-trained embeddings, assign them to the embeddings variable\n",
    "        embedding_init = embeddings.assign(embedding_placeholder)\n",
    "        embed = tf.nn.embedding_lookup(embeddings, _inputs)\n",
    "\n",
    "else:\n",
    "        embeddings = tf.Variable(\n",
    "            tf.random_uniform([vocabulary_size,\n",
    "                               embedding_dimension],\n",
    "                              -1.0, 1.0))\n",
    "        embed = tf.nn.embedding_lookup(embeddings, _inputs)"
   ]
  },
  {
   "cell_type": "code",
   "execution_count": 17,
   "metadata": {},
   "outputs": [],
   "source": [
    "with tf.name_scope(\"biGRU\"):\n",
    "    with tf.variable_scope('forward'):\n",
    "        gru_fw_cell = tf.contrib.rnn.GRUCell(hidden_layer_size)\n",
    "        gru_fw_cell = tf.contrib.rnn.DropoutWrapper(gru_fw_cell)\n",
    "\n",
    "    with tf.variable_scope('backward'):\n",
    "        gru_bw_cell = tf.contrib.rnn.GRUCell(hidden_layer_size)\n",
    "        gru_bw_cell = tf.contrib.rnn.DropoutWrapper(gru_bw_cell)\n",
    "\n",
    "        outputs, states = tf.nn.bidirectional_dynamic_rnn(cell_fw=gru_fw_cell,\n",
    "                                                          cell_bw=gru_bw_cell,\n",
    "                                                          inputs=embed,\n",
    "                                                          sequence_length=_seqlens,\n",
    "                                                          dtype=tf.float32,\n",
    "                                                          scope=\"biGRU\")\n",
    "states = tf.concat(values=states, axis=1)"
   ]
  },
  {
   "cell_type": "code",
   "execution_count": 18,
   "metadata": {},
   "outputs": [],
   "source": [
    "# This helper function taken from official TensorFlow documentation,\n",
    "# simply add some ops that take care of logging summaries\n",
    "# for tensorboard graph\n",
    "def variable_summaries(scope_name,var):\n",
    "    with tf.name_scope(scope_name):\n",
    "        mean = tf.reduce_mean(var)\n",
    "        tf.summary.scalar('mean', mean)\n",
    "        with tf.name_scope('stddev'):\n",
    "            stddev = tf.sqrt(tf.reduce_mean(tf.square(var - mean)))\n",
    "        tf.summary.scalar('stddev', stddev)\n",
    "        tf.summary.scalar('max', tf.reduce_max(var))\n",
    "        tf.summary.scalar('min', tf.reduce_min(var))\n",
    "        tf.summary.histogram('histogram', var)\n"
   ]
  },
  {
   "cell_type": "code",
   "execution_count": 19,
   "metadata": {},
   "outputs": [],
   "source": [
    "weights = {\n",
    "    'linear_layer': tf.Variable(tf.truncated_normal([2*hidden_layer_size,\n",
    "                                                    num_classes],\n",
    "                                                    mean=0, stddev=.01))\n",
    "}\n",
    "variable_summaries('W_linear',weights.get('linear_layer'))\n",
    "biases = {\n",
    "    'linear_layer': tf.Variable(tf.truncated_normal([num_classes],\n",
    "                                                    mean=0, stddev=.01))\n",
    "}\n",
    "variable_summaries('B_linear',biases.get('linear_layer'))"
   ]
  },
  {
   "cell_type": "code",
   "execution_count": 20,
   "metadata": {},
   "outputs": [
    {
     "name": "stdout",
     "output_type": "stream",
     "text": [
      "<tf.Variable 'Variable_1:0' shape=(64, 2) dtype=float32_ref>\n"
     ]
    }
   ],
   "source": [
    "print(weights.get('linear_layer'))"
   ]
  },
  {
   "cell_type": "code",
   "execution_count": 21,
   "metadata": {},
   "outputs": [
    {
     "name": "stdout",
     "output_type": "stream",
     "text": [
      "WARNING:tensorflow:From <ipython-input-21-1797b68f15ac>:6: softmax_cross_entropy_with_logits (from tensorflow.python.ops.nn_ops) is deprecated and will be removed in a future version.\n",
      "Instructions for updating:\n",
      "\n",
      "Future major versions of TensorFlow will allow gradients to flow\n",
      "into the labels input on backprop by default.\n",
      "\n",
      "See @{tf.nn.softmax_cross_entropy_with_logits_v2}.\n",
      "\n"
     ]
    }
   ],
   "source": [
    "# extract the final state and use in a linear layer\n",
    "final_output = tf.matmul(states,\n",
    "                         weights[\"linear_layer\"]) + biases[\"linear_layer\"]\n",
    "\n",
    "softmax = tf.nn.softmax_cross_entropy_with_logits(logits=final_output,\n",
    "                                                  labels=_labels)\n",
    "cross_entropy = tf.reduce_mean(softmax)\n",
    "tf.summary.scalar('cross_entropy', cross_entropy)\n",
    "\n",
    "train_step = tf.train.RMSPropOptimizer(0.001, 0.9).minimize(cross_entropy)\n",
    "correct_prediction = tf.equal(tf.argmax(_labels, 1),\n",
    "                              tf.argmax(final_output, 1))\n",
    "accuracy = tf.reduce_mean(tf.cast(correct_prediction,\n",
    "                                   tf.float32))\n",
    "tf.summary.scalar('accuracy', accuracy)\n",
    "\n",
    "merged = tf.summary.merge_all()"
   ]
  },
  {
   "cell_type": "markdown",
   "metadata": {},
   "source": [
    "# 모델 학습"
   ]
  },
  {
   "cell_type": "code",
   "execution_count": 22,
   "metadata": {},
   "outputs": [
    {
     "name": "stdout",
     "output_type": "stream",
     "text": [
      "Accuracy at 0: 0.50781\n",
      "Accuracy at 100: 1.00000\n",
      "Accuracy at 200: 1.00000\n",
      "Accuracy at 300: 1.00000\n",
      "Accuracy at 400: 1.00000\n",
      "Accuracy at 500: 1.00000\n",
      "Accuracy at 600: 1.00000\n",
      "Accuracy at 700: 1.00000\n",
      "Accuracy at 800: 1.00000\n",
      "Accuracy at 900: 1.00000\n",
      "Test batch accuracy 0: 1.00000\n",
      "Test batch accuracy 1: 1.00000\n",
      "Test batch accuracy 2: 1.00000\n",
      "Test batch accuracy 3: 1.00000\n",
      "Test batch accuracy 4: 1.00000\n",
      "Three\n",
      "1.0\n",
      "Five\n",
      "0.95007575\n",
      "Seven\n",
      "0.9058734\n",
      "Nine\n",
      "0.8764322\n",
      "One\n",
      "0.8663273\n",
      "Four\n",
      "-0.08899117\n",
      "Two\n",
      "-0.0921309\n",
      "Six\n",
      "-0.12420682\n",
      "Eight\n",
      "-0.13784575\n"
     ]
    }
   ],
   "source": [
    "step=1000\n",
    "\n",
    "with tf.Session() as sess:\n",
    "    train_writer = tf.summary.FileWriter(LOG_DIR + '/train',\n",
    "                                         graph=tf.get_default_graph())\n",
    "    test_writer = tf.summary.FileWriter(LOG_DIR + '/test',\n",
    "                                        graph=tf.get_default_graph())\n",
    "    \n",
    "    sess.run(tf.global_variables_initializer())\n",
    "    sess.run(embedding_init,\n",
    "             feed_dict={embedding_placeholder: embedding_matrix})\n",
    "    for step in range(step):\n",
    "        x_batch, y_batch, seqlen_batch = get_sentence_batch(batch_size,\n",
    "                                                            train_x, train_y,\n",
    "                                                            train_seqlens)\n",
    "        summary,_ = sess.run([merged,train_step], feed_dict={_inputs: x_batch, _labels: y_batch,\n",
    "                                        _seqlens: seqlen_batch})\n",
    "        train_writer.add_summary(summary, step)\n",
    "\n",
    "        if step % 100 == 0:\n",
    "            summary, acc = sess.run([merged, accuracy], feed_dict={_inputs: x_batch, _labels: y_batch, _seqlens: seqlen_batch})\n",
    "\n",
    "            train_writer.add_summary(summary, step)\n",
    "            print(\"Accuracy at %d: %.5f\" % (step, acc))\n",
    "\n",
    "    norm = tf.sqrt(tf.reduce_sum(tf.square(embeddings),\n",
    "                                 1, keepdims=True))\n",
    "    normalized_embeddings = embeddings / norm\n",
    "    normalized_embeddings_matrix = sess.run(normalized_embeddings)\n",
    "\n",
    "    for test_batch in range(5):\n",
    "        x_test, y_test, seqlen_test = get_sentence_batch(batch_size,\n",
    "                                                         test_x, test_y,\n",
    "                                                         test_seqlens)\n",
    "        batch_pred, batch_acc = sess.run([tf.argmax(final_output, 1), accuracy],\n",
    "                                         feed_dict={_inputs: x_test,\n",
    "                                                    _labels: y_test,\n",
    "                                                    _seqlens: seqlen_test})\n",
    "        print(\"Test batch accuracy %d: %.5f\" % (test_batch, batch_acc))\n",
    "\n",
    "ref_word = normalized_embeddings_matrix[word2index_map[\"Three\"]]\n",
    "\n",
    "cosine_dists = np.dot(normalized_embeddings_matrix, ref_word)\n",
    "ff = np.argsort(cosine_dists)[::-1][1:10]\n",
    "for f in ff:\n",
    "    print(index2word_map[f])\n",
    "    print(cosine_dists[f])\n"
   ]
  },
  {
   "cell_type": "code",
   "execution_count": null,
   "metadata": {},
   "outputs": [],
   "source": []
  },
  {
   "cell_type": "code",
   "execution_count": null,
   "metadata": {},
   "outputs": [],
   "source": []
  }
 ],
 "metadata": {
  "kernelspec": {
   "display_name": "Python 3",
   "language": "python",
   "name": "python3"
  },
  "language_info": {
   "codemirror_mode": {
    "name": "ipython",
    "version": 3
   },
   "file_extension": ".py",
   "mimetype": "text/x-python",
   "name": "python",
   "nbconvert_exporter": "python",
   "pygments_lexer": "ipython3",
   "version": "3.6.5"
  }
 },
 "nbformat": 4,
 "nbformat_minor": 2
}
