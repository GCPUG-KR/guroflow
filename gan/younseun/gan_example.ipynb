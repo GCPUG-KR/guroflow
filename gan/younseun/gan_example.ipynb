{
 "cells": [
  {
   "cell_type": "code",
   "execution_count": 1,
   "metadata": {},
   "outputs": [
    {
     "name": "stdout",
     "output_type": "stream",
     "text": [
      "Populating the interactive namespace from numpy and matplotlib\n"
     ]
    }
   ],
   "source": [
    "%pylab inline\n",
    "import numpy as np\n",
    "import torch\n",
    "\n",
    "from torch import nn\n",
    "from torch import optim\n",
    "from torch.nn import functional as F\n",
    "from torch.autograd import Variable\n",
    "from torch.utils.data import dataloader\n",
    "\n",
    "from torchvision import transforms\n",
    "from torchvision.datasets import MNIST\n",
    "\n",
    "from sklearn.metrics import accuracy_score\n",
    "\n",
    "from graphviz import Digraph"
   ]
  },
  {
   "cell_type": "code",
   "execution_count": 2,
   "metadata": {},
   "outputs": [],
   "source": [
    "BATCH_SIZE = 32"
   ]
  },
  {
   "cell_type": "code",
   "execution_count": 3,
   "metadata": {},
   "outputs": [],
   "source": [
    "train = MNIST('./data', train=True, download=True, transform=transforms.Compose([\n",
    "    transforms.ToTensor(), # ToTensor does min-max normalization. \n",
    "]), )\n",
    "\n",
    "test = MNIST('./data', train=False, download=True, transform=transforms.Compose([\n",
    "    transforms.ToTensor(), # ToTensor does min-max normalization. \n",
    "    \n",
    "]), )\n",
    "\n",
    "# Create DataLoader\n",
    "dataloader_args = dict(shuffle=True, batch_size=BATCH_SIZE ,num_workers=1, pin_memory=True)\n",
    "train_loader = dataloader.DataLoader(train, **dataloader_args)\n",
    "test_loader = dataloader.DataLoader(test, **dataloader_args)"
   ]
  },
  {
   "cell_type": "code",
   "execution_count": 4,
   "metadata": {},
   "outputs": [
    {
     "name": "stdout",
     "output_type": "stream",
     "text": [
      "Discriminator(\n",
      "  (fc1): Linear(in_features=784, out_features=441, bias=True)\n",
      "  (fc2): Linear(in_features=441, out_features=256, bias=True)\n",
      "  (fc3): Linear(in_features=256, out_features=32, bias=True)\n",
      "  (fc4): Linear(in_features=32, out_features=1, bias=True)\n",
      "  (bc1): BatchNorm1d(441, eps=1e-05, momentum=0.1, affine=True, track_running_stats=True)\n",
      "  (bc2): BatchNorm1d(256, eps=1e-05, momentum=0.1, affine=True, track_running_stats=True)\n",
      ")\n"
     ]
    }
   ],
   "source": [
    "class Discriminator(nn.Module):\n",
    "    def __init__(self):\n",
    "        super(Discriminator, self).__init__()\n",
    "        \n",
    "        self.fc1 = nn.Linear(784, 441)\n",
    "        self.fc2 = nn.Linear(441, 256)\n",
    "        self.fc3 = nn.Linear(256, 32)\n",
    "        self.fc4 = nn.Linear(32, 1)\n",
    "        \n",
    "        self.bc1 = nn.BatchNorm1d(441)\n",
    "        self.bc2 = nn.BatchNorm1d(256)\n",
    "                \n",
    "    def forward(self, x):\n",
    "        x = x.view((-1, 784))\n",
    "        h = self.fc1(x)\n",
    "#         h = self.bc1(h)\n",
    "        h = F.leaky_relu(h)\n",
    "        h = F.dropout(h, p=0.2, training=self.training)\n",
    "        \n",
    "        h = self.fc2(h)\n",
    "#         h = self.bc2(h)\n",
    "        h = F.leaky_relu(h)\n",
    "        h = F.dropout(h, p=0.2, training=self.training)\n",
    "        \n",
    "        h = self.fc3(h)\n",
    "        h = F.leaky_relu(h)\n",
    "        \n",
    "        h = self.fc4(h)\n",
    "        out = F.sigmoid(h)\n",
    "        return out\n",
    "\n",
    "D = Discriminator()\n",
    "print(D.cuda()) # CUDA!\n",
    "d_optimizer = optim.Adam(D.parameters(), lr=0.001)"
   ]
  },
  {
   "cell_type": "code",
   "execution_count": 5,
   "metadata": {},
   "outputs": [
    {
     "name": "stdout",
     "output_type": "stream",
     "text": [
      "Generator(\n",
      "  (fc1): Linear(in_features=100, out_features=196, bias=True)\n",
      "  (fc2): Linear(in_features=196, out_features=289, bias=True)\n",
      "  (fc3): Linear(in_features=289, out_features=361, bias=True)\n",
      "  (fc4): Linear(in_features=361, out_features=400, bias=True)\n",
      "  (fc5): Linear(in_features=400, out_features=512, bias=True)\n",
      "  (fc6): Linear(in_features=512, out_features=625, bias=True)\n",
      "  (fc7): Linear(in_features=625, out_features=784, bias=True)\n",
      "  (fc8): Linear(in_features=784, out_features=784, bias=True)\n",
      "  (bc1): BatchNorm1d(196, eps=1e-05, momentum=0.1, affine=True, track_running_stats=True)\n",
      "  (bc2): BatchNorm1d(289, eps=1e-05, momentum=0.1, affine=True, track_running_stats=True)\n",
      "  (bc3): BatchNorm1d(361, eps=1e-05, momentum=0.1, affine=True, track_running_stats=True)\n",
      "  (bc4): BatchNorm1d(400, eps=1e-05, momentum=0.1, affine=True, track_running_stats=True)\n",
      "  (bc5): BatchNorm1d(512, eps=1e-05, momentum=0.1, affine=True, track_running_stats=True)\n",
      "  (bc6): BatchNorm1d(625, eps=1e-05, momentum=0.1, affine=True, track_running_stats=True)\n",
      "  (bc7): BatchNorm1d(784, eps=1e-05, momentum=0.1, affine=True, track_running_stats=True)\n",
      ")\n"
     ]
    }
   ],
   "source": [
    "class Generator(nn.Module):\n",
    "    def __init__(self):\n",
    "        super(Generator, self).__init__()\n",
    "        \n",
    "        self.fc1 = nn.Linear(100, 196)\n",
    "        self.fc2 = nn.Linear(196, 289)\n",
    "        self.fc3 = nn.Linear(289, 361)\n",
    "        self.fc4 = nn.Linear(361, 400)\n",
    "        self.fc5 = nn.Linear(400, 512)\n",
    "        self.fc6 = nn.Linear(512, 625)\n",
    "        self.fc7 = nn.Linear(625, 784)\n",
    "        self.fc8 = nn.Linear(784, 784)\n",
    "        \n",
    "        self.bc1 = nn.BatchNorm1d(196)\n",
    "        self.bc2 = nn.BatchNorm1d(289)\n",
    "        self.bc3 = nn.BatchNorm1d(361)\n",
    "        self.bc4 = nn.BatchNorm1d(400)\n",
    "        self.bc5 = nn.BatchNorm1d(512)\n",
    "        self.bc6 = nn.BatchNorm1d(625)\n",
    "        self.bc7 = nn.BatchNorm1d(784)\n",
    "    \n",
    "    def forward(self, x):\n",
    "        h = self.fc1(x)\n",
    "        h = self.bc1(h)\n",
    "        h = F.leaky_relu(h)\n",
    "        h = F.dropout(h, p=0.5, training=self.training)\n",
    "        \n",
    "        h = self.fc2(h)\n",
    "        h = self.bc2(h)\n",
    "        h = F.leaky_relu(h)\n",
    "        h = F.dropout(h, p=0.5, training=self.training)\n",
    "        \n",
    "        h = self.fc3(h)\n",
    "        h = self.bc3(h)\n",
    "        h = F.leaky_relu(h)\n",
    "        h = F.dropout(h, p=0.5, training=self.training)\n",
    "        \n",
    "        h = self.fc4(h)\n",
    "        h = self.bc4(h)\n",
    "        h = F.leaky_relu(h)\n",
    "        h = F.dropout(h, p=0.4, training=self.training)\n",
    "        \n",
    "        h = self.fc5(h)\n",
    "        h = self.bc5(h)\n",
    "        h = F.leaky_relu(h)\n",
    "        h = F.dropout(h, p=0.4, training=self.training)\n",
    "        \n",
    "        h = self.fc6(h)\n",
    "        h = self.bc6(h)\n",
    "        h = F.leaky_relu(h)\n",
    "        h = F.dropout(h, p=0.4, training=self.training)\n",
    "        \n",
    "        h = self.fc7(h)\n",
    "        h = self.bc7(h)\n",
    "        h = F.leaky_relu(h)\n",
    "        h = F.dropout(h, p=0.4, training=self.training)\n",
    "        \n",
    "        h = self.fc8(h)\n",
    "        out = F.sigmoid(h)\n",
    "        return out\n",
    "\n",
    "G = Generator()\n",
    "print(G.cuda())\n",
    "g_optimizer = optim.Adam(G.parameters(), lr=0.001)"
   ]
  },
  {
   "cell_type": "code",
   "execution_count": 6,
   "metadata": {},
   "outputs": [],
   "source": [
    "def make_dot(var):\n",
    "    node_attr = dict(style='filled',\n",
    "                     shape='box',\n",
    "                     align='left',\n",
    "                     fontsize='12',\n",
    "                     ranksep='0.1',\n",
    "                     height='0.2')\n",
    "    dot = Digraph(node_attr=node_attr, graph_attr=dict(size=\"12,12\"))\n",
    "    seen = set()\n",
    "\n",
    "    def add_nodes(var):\n",
    "        if var not in seen:\n",
    "            if isinstance(var, Variable):\n",
    "                value = '('+(', ').join(['%d'% v for v in var.size()])+')'\n",
    "                dot.node(str(id(var)), str(value), fillcolor='lightblue')\n",
    "            else:\n",
    "                dot.node(str(id(var)), str(type(var).__name__))\n",
    "            seen.add(var)\n",
    "            if hasattr(var, 'previous_functions'):\n",
    "                for u in var.previous_functions:\n",
    "                    dot.edge(str(id(u[0])), str(id(var)))\n",
    "                    add_nodes(u[0])\n",
    "    add_nodes(var.grad_fn)\n",
    "    return dot"
   ]
  },
  {
   "cell_type": "code",
   "execution_count": 7,
   "metadata": {},
   "outputs": [
    {
     "name": "stderr",
     "output_type": "stream",
     "text": [
      "/usr/local/lib/python3.6/dist-packages/torch/nn/functional.py:1006: UserWarning: nn.functional.sigmoid is deprecated. Use torch.sigmoid instead.\n",
      "  warnings.warn(\"nn.functional.sigmoid is deprecated. Use torch.sigmoid instead.\")\n"
     ]
    },
    {
     "data": {
      "image/svg+xml": [
       "<?xml version=\"1.0\" encoding=\"UTF-8\" standalone=\"no\"?>\n",
       "<!DOCTYPE svg PUBLIC \"-//W3C//DTD SVG 1.1//EN\"\n",
       " \"http://www.w3.org/Graphics/SVG/1.1/DTD/svg11.dtd\">\n",
       "<!-- Generated by graphviz version 2.40.1 (20161225.0304)\n",
       " -->\n",
       "<!-- Title: %3 Pages: 1 -->\n",
       "<svg width=\"136pt\" height=\"29pt\"\n",
       " viewBox=\"0.00 0.00 136.00 29.00\" xmlns=\"http://www.w3.org/2000/svg\" xmlns:xlink=\"http://www.w3.org/1999/xlink\">\n",
       "<g id=\"graph0\" class=\"graph\" transform=\"scale(1 1) rotate(0) translate(4 25)\">\n",
       "<title>%3</title>\n",
       "<polygon fill=\"#ffffff\" stroke=\"transparent\" points=\"-4,4 -4,-25 132,-25 132,4 -4,4\"/>\n",
       "<!-- 139898845768112 -->\n",
       "<g id=\"node1\" class=\"node\">\n",
       "<title>139898845768112</title>\n",
       "<polygon fill=\"#d3d3d3\" stroke=\"#000000\" points=\"128,-21 0,-21 0,0 128,0 128,-21\"/>\n",
       "<text text-anchor=\"middle\" x=\"64\" y=\"-7.4\" font-family=\"Times,serif\" font-size=\"12.00\" fill=\"#000000\">SigmoidBackward</text>\n",
       "</g>\n",
       "</g>\n",
       "</svg>\n"
      ],
      "text/plain": [
       "<graphviz.dot.Digraph at 0x7f3cbd01a8d0>"
      ]
     },
     "execution_count": 7,
     "metadata": {},
     "output_type": "execute_result"
    }
   ],
   "source": [
    "real_image = train[0][0].cuda()\n",
    "real_image = Variable(real_image)\n",
    "make_dot(D(real_image))"
   ]
  },
  {
   "cell_type": "code",
   "execution_count": 8,
   "metadata": {},
   "outputs": [
    {
     "name": "stderr",
     "output_type": "stream",
     "text": [
      "/usr/local/lib/python3.6/dist-packages/torch/nn/functional.py:1006: UserWarning: nn.functional.sigmoid is deprecated. Use torch.sigmoid instead.\n",
      "  warnings.warn(\"nn.functional.sigmoid is deprecated. Use torch.sigmoid instead.\")\n"
     ]
    },
    {
     "data": {
      "image/svg+xml": [
       "<?xml version=\"1.0\" encoding=\"UTF-8\" standalone=\"no\"?>\n",
       "<!DOCTYPE svg PUBLIC \"-//W3C//DTD SVG 1.1//EN\"\n",
       " \"http://www.w3.org/Graphics/SVG/1.1/DTD/svg11.dtd\">\n",
       "<!-- Generated by graphviz version 2.40.1 (20161225.0304)\n",
       " -->\n",
       "<!-- Title: %3 Pages: 1 -->\n",
       "<svg width=\"136pt\" height=\"29pt\"\n",
       " viewBox=\"0.00 0.00 136.00 29.00\" xmlns=\"http://www.w3.org/2000/svg\" xmlns:xlink=\"http://www.w3.org/1999/xlink\">\n",
       "<g id=\"graph0\" class=\"graph\" transform=\"scale(1 1) rotate(0) translate(4 25)\">\n",
       "<title>%3</title>\n",
       "<polygon fill=\"#ffffff\" stroke=\"transparent\" points=\"-4,4 -4,-25 132,-25 132,4 -4,4\"/>\n",
       "<!-- 139898902334992 -->\n",
       "<g id=\"node1\" class=\"node\">\n",
       "<title>139898902334992</title>\n",
       "<polygon fill=\"#d3d3d3\" stroke=\"#000000\" points=\"128,-21 0,-21 0,0 128,0 128,-21\"/>\n",
       "<text text-anchor=\"middle\" x=\"64\" y=\"-7.4\" font-family=\"Times,serif\" font-size=\"12.00\" fill=\"#000000\">SigmoidBackward</text>\n",
       "</g>\n",
       "</g>\n",
       "</svg>\n"
      ],
      "text/plain": [
       "<graphviz.dot.Digraph at 0x7f3cc060ce80>"
      ]
     },
     "execution_count": 8,
     "metadata": {},
     "output_type": "execute_result"
    }
   ],
   "source": [
    "fake_distributions = Variable(torch.randn((BATCH_SIZE, 100)).cuda())\n",
    "images = G(fake_distributions)\n",
    "make_dot(images)"
   ]
  },
  {
   "cell_type": "code",
   "execution_count": 9,
   "metadata": {},
   "outputs": [],
   "source": [
    "N_EPOCH = 10\n",
    "\n",
    "real_y = Variable(torch.ones((BATCH_SIZE, 1)).cuda())\n",
    "fake_y = Variable(torch.zeros((BATCH_SIZE, 1)).cuda())\n",
    "loss_f = nn.BCELoss()\n",
    "\n",
    "d_real_losses = list()\n",
    "d_fake_losses = list()\n",
    "d_losses = list()\n",
    "g_losses = list()\n",
    "divergences = list()"
   ]
  },
  {
   "cell_type": "code",
   "execution_count": 10,
   "metadata": {},
   "outputs": [
    {
     "name": "stderr",
     "output_type": "stream",
     "text": [
      "/usr/local/lib/python3.6/dist-packages/torch/nn/functional.py:1006: UserWarning: nn.functional.sigmoid is deprecated. Use torch.sigmoid instead.\n",
      "  warnings.warn(\"nn.functional.sigmoid is deprecated. Use torch.sigmoid instead.\")\n",
      "/usr/local/lib/python3.6/dist-packages/ipykernel_launcher.py:52: UserWarning: invalid index of a 0-dim tensor. This will be an error in PyTorch 0.5. Use tensor.item() to convert a 0-dim tensor to a Python number\n",
      "/usr/local/lib/python3.6/dist-packages/ipykernel_launcher.py:53: UserWarning: invalid index of a 0-dim tensor. This will be an error in PyTorch 0.5. Use tensor.item() to convert a 0-dim tensor to a Python number\n",
      "/usr/local/lib/python3.6/dist-packages/ipykernel_launcher.py:54: UserWarning: invalid index of a 0-dim tensor. This will be an error in PyTorch 0.5. Use tensor.item() to convert a 0-dim tensor to a Python number\n",
      "/usr/local/lib/python3.6/dist-packages/ipykernel_launcher.py:57: UserWarning: invalid index of a 0-dim tensor. This will be an error in PyTorch 0.5. Use tensor.item() to convert a 0-dim tensor to a Python number\n"
     ]
    },
    {
     "name": "stdout",
     "output_type": "stream",
     "text": [
      "[1/10] divergence: 0.972    D: 0.0478   D_real: 0.0652   D_fake: 0.0478   G:5.74    \n",
      "[2/10] divergence: 0.899    D: 0.157    D_real: 0.209    D_fake: 0.157    G:3.49    \n",
      "[3/10] divergence: 0.839    D: 0.249    D_real: 0.3      D_fake: 0.249    G:2.59    \n",
      "[4/10] divergence: 0.802    D: 0.306    D_real: 0.336    D_fake: 0.306    G:2.25    \n",
      "[5/10] divergence: 0.781    D: 0.314    D_real: 0.39     D_fake: 0.314    G:2.04    \n",
      "[6/10] divergence: 0.75     D: 0.355    D_real: 0.425    D_fake: 0.355    G:1.77    \n",
      "[7/10] divergence: 0.739    D: 0.382    D_real: 0.419    D_fake: 0.382    G:1.72    \n",
      "[8/10] divergence: 0.712    D: 0.409    D_real: 0.467    D_fake: 0.409    G:1.61    \n",
      "[9/10] divergence: 0.709    D: 0.416    D_real: 0.455    D_fake: 0.416    G:1.53    \n",
      "[10/10] divergence: 0.712    D: 0.404    D_real: 0.453    D_fake: 0.404    G:1.53    \n"
     ]
    }
   ],
   "source": [
    "# Train Discriminator with Generator not being trained\n",
    "# 먼저 Discriminator를 학습시킵니다.\n",
    "# 이때 real image와 fake이미지 두개의 데이터를 사용하여 학습합니다. \n",
    "# Discriminator를 학습시킬때는 Generator는 학습시키면 안됩니다.\n",
    "for epoch in range(N_EPOCH):\n",
    "    for step, (real_images, _) in enumerate(train_loader):\n",
    "        # Samples\n",
    "        real_images = Variable(real_images.cuda())\n",
    "        z = Variable(torch.randn((BATCH_SIZE, 100)).cuda())\n",
    "                \n",
    "        ###############################################\n",
    "        # Train D (But do not train G)\n",
    "        ###############################################\n",
    "        # Init D\n",
    "        d_optimizer.zero_grad()\n",
    "        \n",
    "        # Calculate the loss with real images\n",
    "        y_real_pred = D(real_images)\n",
    "        d_real_loss = loss_f(y_real_pred, real_y)\n",
    "#         d_real_loss.backward()\n",
    "#         d_optimizer.step()\n",
    "        \n",
    "        # Calculate the loss with fake images\n",
    "        fake_distributions = Variable(torch.randn((BATCH_SIZE, 100)).cuda())\n",
    "        fake_images = G(fake_distributions).detach()\n",
    "        y_fake_pred = D(fake_images)\n",
    "        d_fake_loss = loss_f(y_fake_pred, fake_y)\n",
    "#         d_fake_loss.backward()\n",
    "#         d_optimizer.step()\n",
    "        \n",
    "        # Update D with G not being updated        \n",
    "        d_loss = d_real_loss + d_fake_loss\n",
    "        d_loss.backward()\n",
    "        d_optimizer.step()\n",
    "\n",
    "        ###############################################\n",
    "        # Train G with fake images but do not train G\n",
    "        ###############################################\n",
    "        g_optimizer.zero_grad()\n",
    "        \n",
    "        fake_distributions = Variable(torch.randn((BATCH_SIZE, 100)).cuda())\n",
    "        fake_images = G(fake_distributions)\n",
    "        y_pred = D(fake_images)\n",
    "        g_loss = loss_f(y_pred, real_y)\n",
    "        g_loss.backward()\n",
    "        g_optimizer.step()\n",
    "        \n",
    "        ###############################################\n",
    "        # Visualization\n",
    "        ###############################################\n",
    "        if step%5 == 0:\n",
    "            d_real_losses.append(d_real_loss.data[0])\n",
    "            d_fake_losses.append(d_fake_loss.data[0])\n",
    "            d_losses.append(d_loss.data[0])\n",
    "            g_losses.append(g_loss.data.cpu().numpy())\n",
    "\n",
    "            divergences.append(torch.mean(y_real_pred/(y_real_pred+y_fake_pred)).data[0])\n",
    "        \n",
    "        if step % 50 == 0:\n",
    "            print(f'\\r[{epoch+1}/{N_EPOCH}]',\n",
    "                  # '{:.3}'.format(torch.mean(params[0]).data[0]),\n",
    "                  'divergence: {:<8.3}'.format(np.mean(divergences[-100:])),\n",
    "                  'D: {:<8.3}'.format(np.mean(d_fake_losses[-100:])), \n",
    "                  'D_real: {:<8.3}'.format(np.mean(d_real_losses[-100:])),\n",
    "                  'D_fake: {:<8.3}'.format(np.mean(d_fake_losses[-100:])), \n",
    "                  'G:{:<8.3}'.format(np.mean(g_losses[-100:])), end='')\n",
    "    print()"
   ]
  },
  {
   "cell_type": "code",
   "execution_count": 11,
   "metadata": {},
   "outputs": [],
   "source": [
    "def smooth(x,window_len=100,window='hanning'):\n",
    "    x = np.array(x)\n",
    "    \n",
    "    if x.ndim != 1:\n",
    "        raise ValueError(\"smooth only accepts 1 dimension arrays.\")\n",
    "\n",
    "    if x.size < window_len:\n",
    "        raise ValueError(\"Input vector needs to be bigger than window size.\")\n",
    "\n",
    "    if window_len<3:\n",
    "        return x\n",
    "\n",
    "    if not window in ['flat', 'hanning', 'hamming', 'bartlett', 'blackman']:\n",
    "        raise ValueError(\"Window is on of 'flat', 'hanning', 'hamming', 'bartlett', 'blackman'\")\n",
    "\n",
    "    s=numpy.r_[x[window_len-1:0:-1],x,x[-1:-window_len:-1]]\n",
    "    \n",
    "    if window == 'flat': #moving average\n",
    "        w=numpy.ones(window_len,'d')\n",
    "    else:\n",
    "        w=eval('numpy.'+window+'(window_len)')\n",
    "\n",
    "    y=numpy.convolve(w/w.sum(),s,mode='valid')\n",
    "    return y"
   ]
  },
  {
   "cell_type": "code",
   "execution_count": 12,
   "metadata": {},
   "outputs": [
    {
     "data": {
      "text/plain": [
       "<matplotlib.legend.Legend at 0x7f3cbd161b00>"
      ]
     },
     "execution_count": 12,
     "metadata": {},
     "output_type": "execute_result"
    },
    {
     "data": {
      "image/png": "[encoded data removed]",
      "text/plain": [
       "<Figure size 1152x432 with 1 Axes>"
      ]
     },
     "metadata": {},
     "output_type": "display_data"
    }
   ],
   "source": [
    "figsize(16, 6)\n",
    "plot(smooth(d_real_losses), label='D(x) Loss')\n",
    "plot(smooth(d_fake_losses), label='D(G(z)) Loss')\n",
    "plot(smooth(g_losses), label='G(z) loss')\n",
    "plot(smooth(divergences), label='divergences')\n",
    "\n",
    "grid()\n",
    "legend()"
   ]
  },
  {
   "cell_type": "code",
   "execution_count": null,
   "metadata": {},
   "outputs": [],
   "source": []
  }
 ],
 "metadata": {
  "kernelspec": {
   "display_name": "Python 3",
   "language": "python",
   "name": "python3"
  },
  "language_info": {
   "codemirror_mode": {
    "name": "ipython",
    "version": 3
   },
   "file_extension": ".py",
   "mimetype": "text/x-python",
   "name": "python",
   "nbconvert_exporter": "python",
   "pygments_lexer": "ipython3",
   "version": "3.6.5"
  }
 },
 "nbformat": 4,
 "nbformat_minor": 2
}
